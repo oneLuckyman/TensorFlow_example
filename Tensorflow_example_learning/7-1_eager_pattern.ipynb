{
 "cells": [
  {
   "cell_type": "code",
   "execution_count": 1,
   "id": "psychological-reproduction",
   "metadata": {
    "ExecuteTime": {
     "end_time": "2022-08-09T12:21:27.338237Z",
     "start_time": "2022-08-09T12:21:25.222392Z"
    }
   },
   "outputs": [],
   "source": [
    "import tensorflow as tf\n",
    "import numpy as np"
   ]
  },
  {
   "cell_type": "code",
   "execution_count": 2,
   "id": "pediatric-modification",
   "metadata": {
    "ExecuteTime": {
     "end_time": "2022-08-09T12:21:27.354119Z",
     "start_time": "2022-08-09T12:21:27.339159Z"
    }
   },
   "outputs": [
    {
     "data": {
      "text/plain": [
       "'2.3.0'"
      ]
     },
     "execution_count": 2,
     "metadata": {},
     "output_type": "execute_result"
    }
   ],
   "source": [
    "tf.__version__"
   ]
  },
  {
   "cell_type": "code",
   "execution_count": 3,
   "id": "variable-customer",
   "metadata": {
    "ExecuteTime": {
     "end_time": "2022-08-09T12:21:27.370113Z",
     "start_time": "2022-08-09T12:21:27.355117Z"
    }
   },
   "outputs": [
    {
     "data": {
      "text/plain": [
       "True"
      ]
     },
     "execution_count": 3,
     "metadata": {},
     "output_type": "execute_result"
    }
   ],
   "source": [
    "tf.executing_eagerly()"
   ]
  },
  {
   "cell_type": "code",
   "execution_count": 4,
   "id": "fatal-consumption",
   "metadata": {
    "ExecuteTime": {
     "end_time": "2022-08-09T12:21:27.385871Z",
     "start_time": "2022-08-09T12:21:27.371141Z"
    }
   },
   "outputs": [],
   "source": [
    "x = [[2,]]"
   ]
  },
  {
   "cell_type": "code",
   "execution_count": 5,
   "id": "powerful-opposition",
   "metadata": {
    "ExecuteTime": {
     "end_time": "2022-08-09T12:21:27.400865Z",
     "start_time": "2022-08-09T12:21:27.388630Z"
    }
   },
   "outputs": [],
   "source": [
    "m = tf.matmul(x, x)"
   ]
  },
  {
   "cell_type": "code",
   "execution_count": 6,
   "id": "worldwide-pencil",
   "metadata": {
    "ExecuteTime": {
     "end_time": "2022-08-09T12:21:27.416202Z",
     "start_time": "2022-08-09T12:21:27.404579Z"
    }
   },
   "outputs": [
    {
     "data": {
      "text/plain": [
       "<tf.Tensor: shape=(1, 1), dtype=int32, numpy=array([[4]])>"
      ]
     },
     "execution_count": 6,
     "metadata": {},
     "output_type": "execute_result"
    }
   ],
   "source": [
    "m"
   ]
  },
  {
   "cell_type": "code",
   "execution_count": 7,
   "id": "normal-shooting",
   "metadata": {
    "ExecuteTime": {
     "end_time": "2022-08-09T12:21:27.431498Z",
     "start_time": "2022-08-09T12:21:27.417536Z"
    }
   },
   "outputs": [
    {
     "data": {
      "text/plain": [
       "array([[4]])"
      ]
     },
     "execution_count": 7,
     "metadata": {},
     "output_type": "execute_result"
    }
   ],
   "source": [
    "m.numpy()"
   ]
  },
  {
   "cell_type": "code",
   "execution_count": 8,
   "id": "particular-drain",
   "metadata": {
    "ExecuteTime": {
     "end_time": "2022-08-09T12:21:27.447500Z",
     "start_time": "2022-08-09T12:21:27.433515Z"
    }
   },
   "outputs": [],
   "source": [
    "a = tf.constant([[1, 2],\n",
    "                [3, 4]])"
   ]
  },
  {
   "cell_type": "code",
   "execution_count": 9,
   "id": "taken-overhead",
   "metadata": {
    "ExecuteTime": {
     "end_time": "2022-08-09T12:21:27.462980Z",
     "start_time": "2022-08-09T12:21:27.450524Z"
    }
   },
   "outputs": [
    {
     "data": {
      "text/plain": [
       "<tf.Tensor: shape=(2, 2), dtype=int32, numpy=\n",
       "array([[1, 2],\n",
       "       [3, 4]])>"
      ]
     },
     "execution_count": 9,
     "metadata": {},
     "output_type": "execute_result"
    }
   ],
   "source": [
    "a"
   ]
  },
  {
   "cell_type": "code",
   "execution_count": 10,
   "id": "still-share",
   "metadata": {
    "ExecuteTime": {
     "end_time": "2022-08-09T12:21:27.478989Z",
     "start_time": "2022-08-09T12:21:27.464974Z"
    }
   },
   "outputs": [
    {
     "data": {
      "text/plain": [
       "array([[1, 2],\n",
       "       [3, 4]])"
      ]
     },
     "execution_count": 10,
     "metadata": {},
     "output_type": "execute_result"
    }
   ],
   "source": [
    "a.numpy()"
   ]
  },
  {
   "cell_type": "code",
   "execution_count": 11,
   "id": "nuclear-mills",
   "metadata": {
    "ExecuteTime": {
     "end_time": "2022-08-09T12:21:27.494250Z",
     "start_time": "2022-08-09T12:21:27.480932Z"
    }
   },
   "outputs": [],
   "source": [
    "b = tf.add(a, 1)"
   ]
  },
  {
   "cell_type": "code",
   "execution_count": 12,
   "id": "metropolitan-prefix",
   "metadata": {
    "ExecuteTime": {
     "end_time": "2022-08-09T12:21:27.509883Z",
     "start_time": "2022-08-09T12:21:27.496893Z"
    }
   },
   "outputs": [
    {
     "data": {
      "text/plain": [
       "<tf.Tensor: shape=(2, 2), dtype=int32, numpy=\n",
       "array([[2, 3],\n",
       "       [4, 5]])>"
      ]
     },
     "execution_count": 12,
     "metadata": {},
     "output_type": "execute_result"
    }
   ],
   "source": [
    "b"
   ]
  },
  {
   "cell_type": "code",
   "execution_count": 13,
   "id": "pretty-martin",
   "metadata": {
    "ExecuteTime": {
     "end_time": "2022-08-09T12:21:27.525900Z",
     "start_time": "2022-08-09T12:21:27.511850Z"
    }
   },
   "outputs": [],
   "source": [
    "c = tf.multiply(a, b)"
   ]
  },
  {
   "cell_type": "code",
   "execution_count": 14,
   "id": "foster-board",
   "metadata": {
    "ExecuteTime": {
     "end_time": "2022-08-09T12:21:27.541927Z",
     "start_time": "2022-08-09T12:21:27.527807Z"
    }
   },
   "outputs": [
    {
     "data": {
      "text/plain": [
       "<tf.Tensor: shape=(2, 2), dtype=int32, numpy=\n",
       "array([[ 2,  6],\n",
       "       [12, 20]])>"
      ]
     },
     "execution_count": 14,
     "metadata": {},
     "output_type": "execute_result"
    }
   ],
   "source": [
    "c"
   ]
  },
  {
   "cell_type": "code",
   "execution_count": 15,
   "id": "wrapped-testimony",
   "metadata": {
    "ExecuteTime": {
     "end_time": "2022-08-09T12:21:27.557726Z",
     "start_time": "2022-08-09T12:21:27.543764Z"
    }
   },
   "outputs": [],
   "source": [
    "d = np.array([[5, 6],\n",
    "             [7, 8]])"
   ]
  },
  {
   "cell_type": "code",
   "execution_count": 16,
   "id": "monthly-geneva",
   "metadata": {
    "ExecuteTime": {
     "end_time": "2022-08-09T12:21:27.573707Z",
     "start_time": "2022-08-09T12:21:27.558724Z"
    }
   },
   "outputs": [
    {
     "data": {
      "text/plain": [
       "array([[5, 6],\n",
       "       [7, 8]])"
      ]
     },
     "execution_count": 16,
     "metadata": {},
     "output_type": "execute_result"
    }
   ],
   "source": [
    "d"
   ]
  },
  {
   "cell_type": "code",
   "execution_count": 17,
   "id": "later-russian",
   "metadata": {
    "ExecuteTime": {
     "end_time": "2022-08-09T12:21:27.589661Z",
     "start_time": "2022-08-09T12:21:27.575700Z"
    }
   },
   "outputs": [
    {
     "data": {
      "text/plain": [
       "<tf.Tensor: shape=(2, 2), dtype=int32, numpy=\n",
       "array([[ 6,  8],\n",
       "       [10, 12]])>"
      ]
     },
     "execution_count": 17,
     "metadata": {},
     "output_type": "execute_result"
    }
   ],
   "source": [
    "a + d"
   ]
  },
  {
   "cell_type": "code",
   "execution_count": 18,
   "id": "polyphonic-meditation",
   "metadata": {
    "ExecuteTime": {
     "end_time": "2022-08-09T12:21:27.605624Z",
     "start_time": "2022-08-09T12:21:27.591658Z"
    }
   },
   "outputs": [],
   "source": [
    "g = tf.convert_to_tensor(10)"
   ]
  },
  {
   "cell_type": "code",
   "execution_count": 19,
   "id": "adjacent-capture",
   "metadata": {
    "ExecuteTime": {
     "end_time": "2022-08-09T12:21:27.621664Z",
     "start_time": "2022-08-09T12:21:27.606615Z"
    }
   },
   "outputs": [
    {
     "data": {
      "text/plain": [
       "10.0"
      ]
     },
     "execution_count": 19,
     "metadata": {},
     "output_type": "execute_result"
    }
   ],
   "source": [
    "float(g)"
   ]
  },
  {
   "cell_type": "code",
   "execution_count": 20,
   "id": "accepting-wound",
   "metadata": {
    "ExecuteTime": {
     "end_time": "2022-08-09T12:21:27.637868Z",
     "start_time": "2022-08-09T12:21:27.622575Z"
    }
   },
   "outputs": [],
   "source": [
    "num = tf.convert_to_tensor(10)"
   ]
  },
  {
   "cell_type": "code",
   "execution_count": 21,
   "id": "secondary-marijuana",
   "metadata": {
    "ExecuteTime": {
     "end_time": "2022-08-09T12:21:27.653021Z",
     "start_time": "2022-08-09T12:21:27.639528Z"
    }
   },
   "outputs": [
    {
     "data": {
      "text/plain": [
       "<tf.Tensor: shape=(), dtype=int32, numpy=10>"
      ]
     },
     "execution_count": 21,
     "metadata": {},
     "output_type": "execute_result"
    }
   ],
   "source": [
    "num"
   ]
  },
  {
   "cell_type": "code",
   "execution_count": 22,
   "id": "taken-sight",
   "metadata": {
    "ExecuteTime": {
     "end_time": "2022-08-09T12:21:27.668592Z",
     "start_time": "2022-08-09T12:21:27.655485Z"
    }
   },
   "outputs": [
    {
     "name": "stdout",
     "output_type": "stream",
     "text": [
      "even\n",
      "odd\n",
      "even\n",
      "odd\n",
      "even\n",
      "odd\n",
      "even\n",
      "odd\n",
      "even\n",
      "odd\n"
     ]
    }
   ],
   "source": [
    "for i in range(num.numpy()):\n",
    "    i = tf.constant(i)\n",
    "    if int(i%2) == 0:\n",
    "        print('even')\n",
    "    else:\n",
    "        print('odd')"
   ]
  },
  {
   "cell_type": "code",
   "execution_count": null,
   "id": "serious-winning",
   "metadata": {},
   "outputs": [],
   "source": []
  }
 ],
 "metadata": {
  "kernelspec": {
   "display_name": "Python 3",
   "language": "python",
   "name": "python3"
  },
  "language_info": {
   "codemirror_mode": {
    "name": "ipython",
    "version": 3
   },
   "file_extension": ".py",
   "mimetype": "text/x-python",
   "name": "python",
   "nbconvert_exporter": "python",
   "pygments_lexer": "ipython3",
   "version": "3.8.8"
  },
  "latex_envs": {
   "LaTeX_envs_menu_present": true,
   "autoclose": false,
   "autocomplete": true,
   "bibliofile": "biblio.bib",
   "cite_by": "apalike",
   "current_citInitial": 1,
   "eqLabelWithNumbers": true,
   "eqNumInitial": 1,
   "hotkeys": {
    "equation": "Ctrl-E",
    "itemize": "Ctrl-I"
   },
   "labels_anchors": false,
   "latex_user_defs": false,
   "report_style_numbering": false,
   "user_envs_cfg": false
  },
  "toc": {
   "base_numbering": 1,
   "nav_menu": {},
   "number_sections": true,
   "sideBar": true,
   "skip_h1_title": false,
   "title_cell": "Table of Contents",
   "title_sidebar": "Contents",
   "toc_cell": false,
   "toc_position": {},
   "toc_section_display": true,
   "toc_window_display": false
  },
  "varInspector": {
   "cols": {
    "lenName": 16,
    "lenType": 16,
    "lenVar": 40
   },
   "kernels_config": {
    "python": {
     "delete_cmd_postfix": "",
     "delete_cmd_prefix": "del ",
     "library": "var_list.py",
     "varRefreshCmd": "print(var_dic_list())"
    },
    "r": {
     "delete_cmd_postfix": ") ",
     "delete_cmd_prefix": "rm(",
     "library": "var_list.r",
     "varRefreshCmd": "cat(var_dic_list()) "
    }
   },
   "types_to_exclude": [
    "module",
    "function",
    "builtin_function_or_method",
    "instance",
    "_Feature"
   ],
   "window_display": false
  }
 },
 "nbformat": 4,
 "nbformat_minor": 5
}
