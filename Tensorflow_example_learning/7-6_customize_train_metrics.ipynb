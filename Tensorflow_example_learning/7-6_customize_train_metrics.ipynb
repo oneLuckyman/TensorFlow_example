{
 "cells": [
  {
   "cell_type": "code",
   "execution_count": 1,
   "id": "thorough-theorem",
   "metadata": {
    "ExecuteTime": {
     "end_time": "2022-08-15T13:44:49.372848Z",
     "start_time": "2022-08-15T13:44:41.989150Z"
    }
   },
   "outputs": [],
   "source": [
    "import tensorflow as tf "
   ]
  },
  {
   "cell_type": "code",
   "execution_count": 2,
   "id": "statistical-response",
   "metadata": {
    "ExecuteTime": {
     "end_time": "2022-08-15T13:44:49.403799Z",
     "start_time": "2022-08-15T13:44:49.377704Z"
    }
   },
   "outputs": [
    {
     "data": {
      "text/plain": [
       "'2.3.0'"
      ]
     },
     "execution_count": 2,
     "metadata": {},
     "output_type": "execute_result"
    }
   ],
   "source": [
    "tf.__version__"
   ]
  },
  {
   "cell_type": "code",
   "execution_count": 3,
   "id": "extra-netherlands",
   "metadata": {
    "ExecuteTime": {
     "end_time": "2022-08-15T13:44:49.765042Z",
     "start_time": "2022-08-15T13:44:49.406761Z"
    }
   },
   "outputs": [],
   "source": [
    "(train_images, train_labels), (test_images, test_labels) = tf.keras.datasets.mnist.load_data()"
   ]
  },
  {
   "cell_type": "code",
   "execution_count": 4,
   "id": "verbal-transaction",
   "metadata": {
    "ExecuteTime": {
     "end_time": "2022-08-15T13:44:49.780282Z",
     "start_time": "2022-08-15T13:44:49.767731Z"
    }
   },
   "outputs": [],
   "source": [
    "train_images = tf.expand_dims(train_images, -1)\n",
    "test_images = tf.expand_dims(test_images, -1)"
   ]
  },
  {
   "cell_type": "code",
   "execution_count": 5,
   "id": "opening-capture",
   "metadata": {
    "ExecuteTime": {
     "end_time": "2022-08-15T13:44:49.936922Z",
     "start_time": "2022-08-15T13:44:49.781280Z"
    }
   },
   "outputs": [],
   "source": [
    "train_images = tf.cast(train_images/255, tf.float32)\n",
    "test_images = tf.cast(test_images/255, tf.float32)"
   ]
  },
  {
   "cell_type": "code",
   "execution_count": 6,
   "id": "cardiac-martial",
   "metadata": {
    "ExecuteTime": {
     "end_time": "2022-08-15T13:44:49.969241Z",
     "start_time": "2022-08-15T13:44:49.944031Z"
    }
   },
   "outputs": [],
   "source": [
    "train_labels = tf.cast(train_labels, tf.int64)\n",
    "test_labels = tf.cast(test_labels, tf.int64)"
   ]
  },
  {
   "cell_type": "code",
   "execution_count": 7,
   "id": "supreme-contents",
   "metadata": {
    "ExecuteTime": {
     "end_time": "2022-08-15T13:44:49.999495Z",
     "start_time": "2022-08-15T13:44:49.975930Z"
    }
   },
   "outputs": [],
   "source": [
    "dataset = tf.data.Dataset.from_tensor_slices((train_images, train_labels))\n",
    "test_dataset = tf.data.Dataset.from_tensor_slices((test_images, test_labels))"
   ]
  },
  {
   "cell_type": "code",
   "execution_count": 8,
   "id": "conservative-charger",
   "metadata": {
    "ExecuteTime": {
     "end_time": "2022-08-15T13:44:50.029402Z",
     "start_time": "2022-08-15T13:44:50.006002Z"
    }
   },
   "outputs": [],
   "source": [
    "dataset = dataset.shuffle(10000).batch(32)\n",
    "test_dataset = test_dataset.batch(32)"
   ]
  },
  {
   "cell_type": "code",
   "execution_count": 9,
   "id": "republican-lover",
   "metadata": {
    "ExecuteTime": {
     "end_time": "2022-08-15T13:44:50.059878Z",
     "start_time": "2022-08-15T13:44:50.042273Z"
    }
   },
   "outputs": [
    {
     "data": {
      "text/plain": [
       "<BatchDataset shapes: ((None, 28, 28, 1), (None,)), types: (tf.float32, tf.int64)>"
      ]
     },
     "execution_count": 9,
     "metadata": {},
     "output_type": "execute_result"
    }
   ],
   "source": [
    "dataset"
   ]
  },
  {
   "cell_type": "code",
   "execution_count": 10,
   "id": "silver-loading",
   "metadata": {
    "ExecuteTime": {
     "end_time": "2022-08-15T13:44:50.213825Z",
     "start_time": "2022-08-15T13:44:50.067852Z"
    }
   },
   "outputs": [],
   "source": [
    "model = tf.keras.Sequential([\n",
    "    tf.keras.layers.Conv2D(16, [3, 3], activation='relu', input_shape=(None, None, 1)),\n",
    "    tf.keras.layers.Conv2D(32, [3, 3], activation='relu'),\n",
    "    tf.keras.layers.GlobalMaxPooling2D(),\n",
    "    tf.keras.layers.Dense(10)\n",
    "])"
   ]
  },
  {
   "cell_type": "code",
   "execution_count": 11,
   "id": "caring-omaha",
   "metadata": {
    "ExecuteTime": {
     "end_time": "2022-08-15T13:44:50.228855Z",
     "start_time": "2022-08-15T13:44:50.215953Z"
    }
   },
   "outputs": [],
   "source": [
    "optimizer = tf.keras.optimizers.Adam()"
   ]
  },
  {
   "cell_type": "code",
   "execution_count": 12,
   "id": "british-proposal",
   "metadata": {
    "ExecuteTime": {
     "end_time": "2022-08-15T13:44:50.243863Z",
     "start_time": "2022-08-15T13:44:50.231898Z"
    }
   },
   "outputs": [],
   "source": [
    "loss_func = tf.keras.losses.SparseCategoricalCrossentropy(from_logits=True)"
   ]
  },
  {
   "cell_type": "code",
   "execution_count": 13,
   "id": "attached-mortgage",
   "metadata": {
    "ExecuteTime": {
     "end_time": "2022-08-15T13:44:50.486076Z",
     "start_time": "2022-08-15T13:44:50.246885Z"
    }
   },
   "outputs": [],
   "source": [
    "features, labels = next(iter(dataset))"
   ]
  },
  {
   "cell_type": "code",
   "execution_count": 14,
   "id": "alert-ability",
   "metadata": {
    "ExecuteTime": {
     "end_time": "2022-08-15T13:44:50.501728Z",
     "start_time": "2022-08-15T13:44:50.489036Z"
    }
   },
   "outputs": [
    {
     "data": {
      "text/plain": [
       "TensorShape([32, 28, 28, 1])"
      ]
     },
     "execution_count": 14,
     "metadata": {},
     "output_type": "execute_result"
    }
   ],
   "source": [
    "features.shape"
   ]
  },
  {
   "cell_type": "code",
   "execution_count": 15,
   "id": "lonely-columbus",
   "metadata": {
    "ExecuteTime": {
     "end_time": "2022-08-15T13:44:50.516889Z",
     "start_time": "2022-08-15T13:44:50.503796Z"
    }
   },
   "outputs": [
    {
     "data": {
      "text/plain": [
       "TensorShape([32])"
      ]
     },
     "execution_count": 15,
     "metadata": {},
     "output_type": "execute_result"
    }
   ],
   "source": [
    "labels.shape"
   ]
  },
  {
   "cell_type": "code",
   "execution_count": 16,
   "id": "numeric-enhancement",
   "metadata": {
    "ExecuteTime": {
     "end_time": "2022-08-15T13:44:50.747393Z",
     "start_time": "2022-08-15T13:44:50.518835Z"
    }
   },
   "outputs": [],
   "source": [
    "predictions = model(features)"
   ]
  },
  {
   "cell_type": "code",
   "execution_count": 17,
   "id": "comparable-opposition",
   "metadata": {
    "ExecuteTime": {
     "end_time": "2022-08-15T13:44:50.793719Z",
     "start_time": "2022-08-15T13:44:50.763909Z"
    }
   },
   "outputs": [
    {
     "data": {
      "text/plain": [
       "TensorShape([32, 10])"
      ]
     },
     "execution_count": 17,
     "metadata": {},
     "output_type": "execute_result"
    }
   ],
   "source": [
    "predictions.shape"
   ]
  },
  {
   "cell_type": "code",
   "execution_count": 18,
   "id": "expressed-threshold",
   "metadata": {
    "ExecuteTime": {
     "end_time": "2022-08-15T13:44:50.810293Z",
     "start_time": "2022-08-15T13:44:50.796711Z"
    }
   },
   "outputs": [
    {
     "data": {
      "text/plain": [
       "<tf.Tensor: shape=(32,), dtype=int64, numpy=\n",
       "array([3, 3, 0, 0, 3, 3, 3, 0, 0, 3, 3, 0, 3, 3, 0, 0, 3, 3, 3, 3, 3, 3,\n",
       "       0, 3, 0, 3, 0, 3, 3, 3, 3, 0], dtype=int64)>"
      ]
     },
     "execution_count": 18,
     "metadata": {},
     "output_type": "execute_result"
    }
   ],
   "source": [
    "tf.argmax(predictions, axis=1)"
   ]
  },
  {
   "cell_type": "code",
   "execution_count": 19,
   "id": "judicial-stream",
   "metadata": {
    "ExecuteTime": {
     "end_time": "2022-08-15T13:44:50.825344Z",
     "start_time": "2022-08-15T13:44:50.813480Z"
    }
   },
   "outputs": [
    {
     "data": {
      "text/plain": [
       "<tf.Tensor: shape=(32,), dtype=int64, numpy=\n",
       "array([5, 7, 4, 4, 4, 7, 8, 9, 5, 5, 5, 5, 5, 8, 9, 6, 4, 6, 3, 3, 0, 9,\n",
       "       0, 8, 1, 4, 6, 6, 7, 3, 6, 6], dtype=int64)>"
      ]
     },
     "execution_count": 19,
     "metadata": {},
     "output_type": "execute_result"
    }
   ],
   "source": [
    "labels"
   ]
  },
  {
   "cell_type": "code",
   "execution_count": 20,
   "id": "minute-preparation",
   "metadata": {
    "ExecuteTime": {
     "end_time": "2022-08-15T13:44:50.840742Z",
     "start_time": "2022-08-15T13:44:50.827589Z"
    }
   },
   "outputs": [],
   "source": [
    "def cal_loss(model, x, y):\n",
    "    y_ = model(x)\n",
    "    return loss_func(y, y_)"
   ]
  },
  {
   "cell_type": "code",
   "execution_count": 21,
   "id": "rising-reality",
   "metadata": {
    "ExecuteTime": {
     "end_time": "2022-08-15T13:44:50.886703Z",
     "start_time": "2022-08-15T13:44:50.843799Z"
    }
   },
   "outputs": [],
   "source": [
    "train_loss = tf.keras.metrics.Mean('train_loss')\n",
    "train_accuracy = tf.keras.metrics.SparseCategoricalAccuracy('train_accuracy')\n",
    "\n",
    "test_loss = tf.keras.metrics.Mean('test_loss')\n",
    "test_accuracy = tf.keras.metrics.SparseCategoricalAccuracy('test_accuracy')"
   ]
  },
  {
   "cell_type": "code",
   "execution_count": 22,
   "id": "virgin-danger",
   "metadata": {
    "ExecuteTime": {
     "end_time": "2022-08-15T13:44:50.902014Z",
     "start_time": "2022-08-15T13:44:50.892687Z"
    }
   },
   "outputs": [],
   "source": [
    "def train_step(model, optimizer, images, labels):\n",
    "    with tf.GradientTape() as tape:\n",
    "        pred = model(images)\n",
    "        loss_step = loss_func(labels, pred)\n",
    "    grads = tape.gradient(loss_step, model.trainable_variables)\n",
    "    optimizer.apply_gradients(zip(grads, model.trainable_variables))\n",
    "    train_loss(loss_step)\n",
    "    train_accuracy(labels, pred)"
   ]
  },
  {
   "cell_type": "code",
   "execution_count": 23,
   "id": "radio-parish",
   "metadata": {
    "ExecuteTime": {
     "end_time": "2022-08-15T13:44:50.918040Z",
     "start_time": "2022-08-15T13:44:50.906004Z"
    }
   },
   "outputs": [],
   "source": [
    "def test_step(model, images, labels):\n",
    "    pred = model(images)\n",
    "    loss_step = loss_func(labels, pred)\n",
    "    test_loss(loss_step)\n",
    "    test_accuracy(labels, pred)"
   ]
  },
  {
   "cell_type": "code",
   "execution_count": 24,
   "id": "tracked-blake",
   "metadata": {
    "ExecuteTime": {
     "end_time": "2022-08-15T13:44:50.933586Z",
     "start_time": "2022-08-15T13:44:50.919967Z"
    }
   },
   "outputs": [],
   "source": [
    "def train(epochs, model, optimizer, dataset):\n",
    "    for epoch in range(epochs):\n",
    "        for (batch_index, (images, labels)) in enumerate(dataset):\n",
    "            train_step(model, optimizer, images, labels)\n",
    "        print('Epoch{} loss is {}, accuracy is {}'.format(epoch, train_loss.result(), train_accuracy.result()))\n",
    "        \n",
    "        for (batch_index, (images, labels)) in enumerate(test_dataset):\n",
    "            test_step(model, optimizer, images, labels)\n",
    "        print('Epoch{} test_loss is {}, test_accuracy is {}'.format(epoch, test_loss.result(), test_accuracy.result()))\n",
    "        \n",
    "        train_loss.reset_states()\n",
    "        train_accuracy.reset_states()\n",
    "        test_loss.reset_states()\n",
    "        test_accuracy.reset_states()"
   ]
  },
  {
   "cell_type": "code",
   "execution_count": 25,
   "id": "incorporated-mathematics",
   "metadata": {
    "ExecuteTime": {
     "end_time": "2022-08-15T13:44:50.949082Z",
     "start_time": "2022-08-15T13:44:50.935092Z"
    }
   },
   "outputs": [],
   "source": [
    "# train(10, model, optimizer, dataset)"
   ]
  }
 ],
 "metadata": {
  "kernelspec": {
   "display_name": "Python 3",
   "language": "python",
   "name": "python3"
  },
  "language_info": {
   "codemirror_mode": {
    "name": "ipython",
    "version": 3
   },
   "file_extension": ".py",
   "mimetype": "text/x-python",
   "name": "python",
   "nbconvert_exporter": "python",
   "pygments_lexer": "ipython3",
   "version": "3.8.8"
  },
  "latex_envs": {
   "LaTeX_envs_menu_present": true,
   "autoclose": false,
   "autocomplete": true,
   "bibliofile": "biblio.bib",
   "cite_by": "apalike",
   "current_citInitial": 1,
   "eqLabelWithNumbers": true,
   "eqNumInitial": 1,
   "hotkeys": {
    "equation": "Ctrl-E",
    "itemize": "Ctrl-I"
   },
   "labels_anchors": false,
   "latex_user_defs": false,
   "report_style_numbering": false,
   "user_envs_cfg": false
  },
  "toc": {
   "base_numbering": 1,
   "nav_menu": {},
   "number_sections": true,
   "sideBar": true,
   "skip_h1_title": false,
   "title_cell": "Table of Contents",
   "title_sidebar": "Contents",
   "toc_cell": false,
   "toc_position": {},
   "toc_section_display": true,
   "toc_window_display": false
  },
  "varInspector": {
   "cols": {
    "lenName": 16,
    "lenType": 16,
    "lenVar": 40
   },
   "kernels_config": {
    "python": {
     "delete_cmd_postfix": "",
     "delete_cmd_prefix": "del ",
     "library": "var_list.py",
     "varRefreshCmd": "print(var_dic_list())"
    },
    "r": {
     "delete_cmd_postfix": ") ",
     "delete_cmd_prefix": "rm(",
     "library": "var_list.r",
     "varRefreshCmd": "cat(var_dic_list()) "
    }
   },
   "types_to_exclude": [
    "module",
    "function",
    "builtin_function_or_method",
    "instance",
    "_Feature"
   ],
   "window_display": false
  }
 },
 "nbformat": 4,
 "nbformat_minor": 5
}
