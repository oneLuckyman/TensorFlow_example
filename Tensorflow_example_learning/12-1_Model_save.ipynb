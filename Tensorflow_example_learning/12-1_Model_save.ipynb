{
 "cells": [
  {
   "cell_type": "code",
   "execution_count": 1,
   "id": "realistic-swift",
   "metadata": {
    "ExecuteTime": {
     "end_time": "2022-08-18T14:13:18.432754Z",
     "start_time": "2022-08-18T14:13:16.157591Z"
    }
   },
   "outputs": [],
   "source": [
    "import tensorflow as tf \n",
    "import pandas as pd \n",
    "import numpy as np \n",
    "import matplotlib.pyplot as plt\n",
    "%matplotlib inline "
   ]
  },
  {
   "cell_type": "code",
   "execution_count": 2,
   "id": "residential-communication",
   "metadata": {
    "ExecuteTime": {
     "end_time": "2022-08-18T14:13:18.448833Z",
     "start_time": "2022-08-18T14:13:18.434788Z"
    }
   },
   "outputs": [
    {
     "data": {
      "text/plain": [
       "'2.3.0'"
      ]
     },
     "execution_count": 2,
     "metadata": {},
     "output_type": "execute_result"
    }
   ],
   "source": [
    "tf.__version__"
   ]
  },
  {
   "cell_type": "code",
   "execution_count": 3,
   "id": "vocational-moderator",
   "metadata": {
    "ExecuteTime": {
     "end_time": "2022-08-18T14:13:18.819826Z",
     "start_time": "2022-08-18T14:13:18.450710Z"
    }
   },
   "outputs": [],
   "source": [
    "(train_image, train_label), (test_image, test_label) = tf.keras.datasets.fashion_mnist.load_data()"
   ]
  },
  {
   "cell_type": "code",
   "execution_count": 4,
   "id": "together-comparison",
   "metadata": {
    "ExecuteTime": {
     "end_time": "2022-08-18T14:13:18.946597Z",
     "start_time": "2022-08-18T14:13:18.821083Z"
    }
   },
   "outputs": [],
   "source": [
    "train_image = train_image/255\n",
    "test_image = test_image/255"
   ]
  },
  {
   "cell_type": "code",
   "execution_count": 5,
   "id": "difficult-thailand",
   "metadata": {
    "ExecuteTime": {
     "end_time": "2022-08-18T14:13:18.991675Z",
     "start_time": "2022-08-18T14:13:18.947785Z"
    }
   },
   "outputs": [],
   "source": [
    "model = tf.keras.Sequential()\n",
    "model.add(tf.keras.layers.Flatten(input_shape=(28,28)))\n",
    "model.add(tf.keras.layers.Dense(128, activation='relu'))\n",
    "model.add(tf.keras.layers.Dense(10, activation='softmax'))"
   ]
  },
  {
   "cell_type": "code",
   "execution_count": 6,
   "id": "virgin-northwest",
   "metadata": {
    "ExecuteTime": {
     "end_time": "2022-08-18T14:13:19.007644Z",
     "start_time": "2022-08-18T14:13:18.992704Z"
    }
   },
   "outputs": [
    {
     "name": "stdout",
     "output_type": "stream",
     "text": [
      "Model: \"sequential\"\n",
      "_________________________________________________________________\n",
      "Layer (type)                 Output Shape              Param #   \n",
      "=================================================================\n",
      "flatten (Flatten)            (None, 784)               0         \n",
      "_________________________________________________________________\n",
      "dense (Dense)                (None, 128)               100480    \n",
      "_________________________________________________________________\n",
      "dense_1 (Dense)              (None, 10)                1290      \n",
      "=================================================================\n",
      "Total params: 101,770\n",
      "Trainable params: 101,770\n",
      "Non-trainable params: 0\n",
      "_________________________________________________________________\n"
     ]
    }
   ],
   "source": [
    "model.summary()"
   ]
  },
  {
   "cell_type": "code",
   "execution_count": 7,
   "id": "norwegian-brain",
   "metadata": {
    "ExecuteTime": {
     "end_time": "2022-08-18T14:13:19.022679Z",
     "start_time": "2022-08-18T14:13:19.008871Z"
    }
   },
   "outputs": [],
   "source": [
    "model.compile(optimizer='Adam',\n",
    "             loss='sparse_categorical_crossentropy',\n",
    "             metrics=['sparse_categorical_accuracy'])"
   ]
  },
  {
   "cell_type": "code",
   "execution_count": 8,
   "id": "dried-emerald",
   "metadata": {
    "ExecuteTime": {
     "end_time": "2022-08-18T14:13:29.032689Z",
     "start_time": "2022-08-18T14:13:19.026202Z"
    }
   },
   "outputs": [
    {
     "name": "stdout",
     "output_type": "stream",
     "text": [
      "Epoch 1/5\n",
      "1875/1875 [==============================] - 1s 698us/step - loss: 0.5016 - sparse_categorical_accuracy: 0.8235\n",
      "Epoch 2/5\n",
      "1875/1875 [==============================] - 1s 744us/step - loss: 0.3767 - sparse_categorical_accuracy: 0.8651\n",
      "Epoch 3/5\n",
      "1875/1875 [==============================] - 2s 1ms/step - loss: 0.3381 - sparse_categorical_accuracy: 0.8773\n",
      "Epoch 4/5\n",
      "1875/1875 [==============================] - 2s 1ms/step - loss: 0.3152 - sparse_categorical_accuracy: 0.8846\n",
      "Epoch 5/5\n",
      "1875/1875 [==============================] - 2s 1ms/step - loss: 0.2960 - sparse_categorical_accuracy: 0.8917\n"
     ]
    },
    {
     "data": {
      "text/plain": [
       "<tensorflow.python.keras.callbacks.History at 0x24eda4418e0>"
      ]
     },
     "execution_count": 8,
     "metadata": {},
     "output_type": "execute_result"
    }
   ],
   "source": [
    "model.fit(train_image, train_label, epochs=5)"
   ]
  },
  {
   "cell_type": "code",
   "execution_count": 9,
   "id": "premier-apple",
   "metadata": {
    "ExecuteTime": {
     "end_time": "2022-08-18T14:13:29.425729Z",
     "start_time": "2022-08-18T14:13:29.034685Z"
    }
   },
   "outputs": [
    {
     "name": "stdout",
     "output_type": "stream",
     "text": [
      "313/313 [==============================] - 0s 601us/step - loss: 0.3494 - sparse_categorical_accuracy: 0.8739\n"
     ]
    },
    {
     "data": {
      "text/plain": [
       "[0.3494408428668976, 0.8738999962806702]"
      ]
     },
     "execution_count": 9,
     "metadata": {},
     "output_type": "execute_result"
    }
   ],
   "source": [
    "model.evaluate(test_image, test_label)"
   ]
  },
  {
   "cell_type": "code",
   "execution_count": 10,
   "id": "freelance-behavior",
   "metadata": {
    "ExecuteTime": {
     "end_time": "2022-08-18T14:13:29.440889Z",
     "start_time": "2022-08-18T14:13:29.427730Z"
    }
   },
   "outputs": [],
   "source": [
    "# 保存完整的模型：包括权重，结构，优化器"
   ]
  },
  {
   "cell_type": "code",
   "execution_count": 11,
   "id": "controversial-jaguar",
   "metadata": {
    "ExecuteTime": {
     "end_time": "2022-08-18T14:13:29.472089Z",
     "start_time": "2022-08-18T14:13:29.441745Z"
    }
   },
   "outputs": [],
   "source": [
    "model.save('12-1_Model_save.h5')"
   ]
  },
  {
   "cell_type": "code",
   "execution_count": 12,
   "id": "light-intellectual",
   "metadata": {
    "ExecuteTime": {
     "end_time": "2022-08-18T14:13:29.535823Z",
     "start_time": "2022-08-18T14:13:29.473092Z"
    }
   },
   "outputs": [],
   "source": [
    "new_model = tf.keras.models.load_model('12-1_Model_save.h5')"
   ]
  },
  {
   "cell_type": "code",
   "execution_count": 13,
   "id": "requested-music",
   "metadata": {
    "ExecuteTime": {
     "end_time": "2022-08-18T14:13:29.551628Z",
     "start_time": "2022-08-18T14:13:29.536589Z"
    }
   },
   "outputs": [
    {
     "name": "stdout",
     "output_type": "stream",
     "text": [
      "Model: \"sequential\"\n",
      "_________________________________________________________________\n",
      "Layer (type)                 Output Shape              Param #   \n",
      "=================================================================\n",
      "flatten (Flatten)            (None, 784)               0         \n",
      "_________________________________________________________________\n",
      "dense (Dense)                (None, 128)               100480    \n",
      "_________________________________________________________________\n",
      "dense_1 (Dense)              (None, 10)                1290      \n",
      "=================================================================\n",
      "Total params: 101,770\n",
      "Trainable params: 101,770\n",
      "Non-trainable params: 0\n",
      "_________________________________________________________________\n"
     ]
    }
   ],
   "source": [
    "new_model.summary()"
   ]
  },
  {
   "cell_type": "code",
   "execution_count": 14,
   "id": "wicked-discussion",
   "metadata": {
    "ExecuteTime": {
     "end_time": "2022-08-18T14:13:29.893263Z",
     "start_time": "2022-08-18T14:13:29.552518Z"
    }
   },
   "outputs": [
    {
     "name": "stdout",
     "output_type": "stream",
     "text": [
      "313/313 [==============================] - 0s 863us/step - loss: 0.3494 - sparse_categorical_accuracy: 0.8739\n"
     ]
    },
    {
     "data": {
      "text/plain": [
       "[0.3494408428668976, 0.8738999962806702]"
      ]
     },
     "execution_count": 14,
     "metadata": {},
     "output_type": "execute_result"
    }
   ],
   "source": [
    "model.evaluate(test_image, test_label)"
   ]
  },
  {
   "cell_type": "code",
   "execution_count": 15,
   "id": "presidential-birmingham",
   "metadata": {
    "ExecuteTime": {
     "end_time": "2022-08-18T14:13:30.304356Z",
     "start_time": "2022-08-18T14:13:29.895263Z"
    }
   },
   "outputs": [
    {
     "name": "stdout",
     "output_type": "stream",
     "text": [
      "313/313 [==============================] - 0s 705us/step - loss: 0.3494 - sparse_categorical_accuracy: 0.8739\n"
     ]
    },
    {
     "data": {
      "text/plain": [
       "[0.3494408428668976, 0.8738999962806702]"
      ]
     },
     "execution_count": 15,
     "metadata": {},
     "output_type": "execute_result"
    }
   ],
   "source": [
    "new_model.evaluate(test_image, test_label)"
   ]
  },
  {
   "cell_type": "code",
   "execution_count": null,
   "id": "boolean-roads",
   "metadata": {},
   "outputs": [],
   "source": []
  }
 ],
 "metadata": {
  "kernelspec": {
   "display_name": "Python 3",
   "language": "python",
   "name": "python3"
  },
  "language_info": {
   "codemirror_mode": {
    "name": "ipython",
    "version": 3
   },
   "file_extension": ".py",
   "mimetype": "text/x-python",
   "name": "python",
   "nbconvert_exporter": "python",
   "pygments_lexer": "ipython3",
   "version": "3.8.8"
  },
  "latex_envs": {
   "LaTeX_envs_menu_present": true,
   "autoclose": false,
   "autocomplete": true,
   "bibliofile": "biblio.bib",
   "cite_by": "apalike",
   "current_citInitial": 1,
   "eqLabelWithNumbers": true,
   "eqNumInitial": 1,
   "hotkeys": {
    "equation": "Ctrl-E",
    "itemize": "Ctrl-I"
   },
   "labels_anchors": false,
   "latex_user_defs": false,
   "report_style_numbering": false,
   "user_envs_cfg": false
  },
  "toc": {
   "base_numbering": 1,
   "nav_menu": {},
   "number_sections": true,
   "sideBar": true,
   "skip_h1_title": false,
   "title_cell": "Table of Contents",
   "title_sidebar": "Contents",
   "toc_cell": false,
   "toc_position": {},
   "toc_section_display": true,
   "toc_window_display": false
  },
  "varInspector": {
   "cols": {
    "lenName": 16,
    "lenType": 16,
    "lenVar": 40
   },
   "kernels_config": {
    "python": {
     "delete_cmd_postfix": "",
     "delete_cmd_prefix": "del ",
     "library": "var_list.py",
     "varRefreshCmd": "print(var_dic_list())"
    },
    "r": {
     "delete_cmd_postfix": ") ",
     "delete_cmd_prefix": "rm(",
     "library": "var_list.r",
     "varRefreshCmd": "cat(var_dic_list()) "
    }
   },
   "types_to_exclude": [
    "module",
    "function",
    "builtin_function_or_method",
    "instance",
    "_Feature"
   ],
   "window_display": false
  }
 },
 "nbformat": 4,
 "nbformat_minor": 5
}
