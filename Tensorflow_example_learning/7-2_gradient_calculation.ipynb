{
 "cells": [
  {
   "cell_type": "code",
   "execution_count": 1,
   "id": "thorough-theorem",
   "metadata": {
    "ExecuteTime": {
     "end_time": "2022-08-10T13:54:39.225662Z",
     "start_time": "2022-08-10T13:54:36.535880Z"
    }
   },
   "outputs": [],
   "source": [
    "import tensorflow as tf "
   ]
  },
  {
   "cell_type": "code",
   "execution_count": 2,
   "id": "statistical-response",
   "metadata": {
    "ExecuteTime": {
     "end_time": "2022-08-10T13:54:39.241248Z",
     "start_time": "2022-08-10T13:54:39.227191Z"
    }
   },
   "outputs": [
    {
     "data": {
      "text/plain": [
       "'2.3.0'"
      ]
     },
     "execution_count": 2,
     "metadata": {},
     "output_type": "execute_result"
    }
   ],
   "source": [
    "tf.__version__"
   ]
  },
  {
   "cell_type": "code",
   "execution_count": 3,
   "id": "bigger-marketplace",
   "metadata": {
    "ExecuteTime": {
     "end_time": "2022-08-10T13:54:39.256135Z",
     "start_time": "2022-08-10T13:54:39.244164Z"
    }
   },
   "outputs": [],
   "source": [
    "v = tf.Variable(0.0)"
   ]
  },
  {
   "cell_type": "code",
   "execution_count": 4,
   "id": "rotary-argentina",
   "metadata": {
    "ExecuteTime": {
     "end_time": "2022-08-10T13:54:39.271091Z",
     "start_time": "2022-08-10T13:54:39.258123Z"
    }
   },
   "outputs": [
    {
     "data": {
      "text/plain": [
       "<tf.Tensor: shape=(), dtype=float32, numpy=1.0>"
      ]
     },
     "execution_count": 4,
     "metadata": {},
     "output_type": "execute_result"
    }
   ],
   "source": [
    "v + 1"
   ]
  },
  {
   "cell_type": "code",
   "execution_count": 5,
   "id": "through-headset",
   "metadata": {
    "ExecuteTime": {
     "end_time": "2022-08-10T13:54:39.287097Z",
     "start_time": "2022-08-10T13:54:39.273090Z"
    }
   },
   "outputs": [
    {
     "data": {
      "text/plain": [
       "1.0"
      ]
     },
     "execution_count": 5,
     "metadata": {},
     "output_type": "execute_result"
    }
   ],
   "source": [
    "(v + 1).numpy()"
   ]
  },
  {
   "cell_type": "code",
   "execution_count": 6,
   "id": "posted-abortion",
   "metadata": {
    "ExecuteTime": {
     "end_time": "2022-08-10T13:54:39.303017Z",
     "start_time": "2022-08-10T13:54:39.290046Z"
    }
   },
   "outputs": [
    {
     "data": {
      "text/plain": [
       "<tf.Variable 'UnreadVariable' shape=() dtype=float32, numpy=5.0>"
      ]
     },
     "execution_count": 6,
     "metadata": {},
     "output_type": "execute_result"
    }
   ],
   "source": [
    "v.assign(5)"
   ]
  },
  {
   "cell_type": "code",
   "execution_count": 7,
   "id": "downtown-atmosphere",
   "metadata": {
    "ExecuteTime": {
     "end_time": "2022-08-10T13:54:39.318975Z",
     "start_time": "2022-08-10T13:54:39.304006Z"
    }
   },
   "outputs": [
    {
     "data": {
      "text/plain": [
       "<tf.Variable 'Variable:0' shape=() dtype=float32, numpy=5.0>"
      ]
     },
     "execution_count": 7,
     "metadata": {},
     "output_type": "execute_result"
    }
   ],
   "source": [
    "v"
   ]
  },
  {
   "cell_type": "code",
   "execution_count": 8,
   "id": "alive-murder",
   "metadata": {
    "ExecuteTime": {
     "end_time": "2022-08-10T13:54:39.334925Z",
     "start_time": "2022-08-10T13:54:39.320043Z"
    }
   },
   "outputs": [
    {
     "data": {
      "text/plain": [
       "<tf.Variable 'UnreadVariable' shape=() dtype=float32, numpy=6.0>"
      ]
     },
     "execution_count": 8,
     "metadata": {},
     "output_type": "execute_result"
    }
   ],
   "source": [
    "v.assign_add(1)"
   ]
  },
  {
   "cell_type": "code",
   "execution_count": 9,
   "id": "living-sheep",
   "metadata": {
    "ExecuteTime": {
     "end_time": "2022-08-10T13:54:39.350899Z",
     "start_time": "2022-08-10T13:54:39.337916Z"
    }
   },
   "outputs": [
    {
     "data": {
      "text/plain": [
       "<tf.Variable 'Variable:0' shape=() dtype=float32, numpy=6.0>"
      ]
     },
     "execution_count": 9,
     "metadata": {},
     "output_type": "execute_result"
    }
   ],
   "source": [
    "v"
   ]
  },
  {
   "cell_type": "code",
   "execution_count": 10,
   "id": "atmospheric-alloy",
   "metadata": {
    "ExecuteTime": {
     "end_time": "2022-08-10T13:54:39.366198Z",
     "start_time": "2022-08-10T13:54:39.352894Z"
    }
   },
   "outputs": [
    {
     "data": {
      "text/plain": [
       "<tf.Tensor: shape=(), dtype=float32, numpy=6.0>"
      ]
     },
     "execution_count": 10,
     "metadata": {},
     "output_type": "execute_result"
    }
   ],
   "source": [
    "v.read_value()"
   ]
  },
  {
   "cell_type": "code",
   "execution_count": 11,
   "id": "legislative-guarantee",
   "metadata": {
    "ExecuteTime": {
     "end_time": "2022-08-10T13:54:39.381677Z",
     "start_time": "2022-08-10T13:54:39.368712Z"
    }
   },
   "outputs": [],
   "source": [
    "w = tf.Variable([[1.0]])\n",
    "with tf.GradientTape() as tape:\n",
    "    loss = w * w"
   ]
  },
  {
   "cell_type": "code",
   "execution_count": 12,
   "id": "mysterious-puzzle",
   "metadata": {
    "ExecuteTime": {
     "end_time": "2022-08-10T13:54:39.413442Z",
     "start_time": "2022-08-10T13:54:39.383671Z"
    }
   },
   "outputs": [],
   "source": [
    "grad = tape.gradient(loss, w)"
   ]
  },
  {
   "cell_type": "code",
   "execution_count": 13,
   "id": "informal-release",
   "metadata": {
    "ExecuteTime": {
     "end_time": "2022-08-10T13:54:39.428927Z",
     "start_time": "2022-08-10T13:54:39.414445Z"
    }
   },
   "outputs": [
    {
     "data": {
      "text/plain": [
       "<tf.Tensor: shape=(1, 1), dtype=float32, numpy=array([[2.]], dtype=float32)>"
      ]
     },
     "execution_count": 13,
     "metadata": {},
     "output_type": "execute_result"
    }
   ],
   "source": [
    "grad"
   ]
  },
  {
   "cell_type": "code",
   "execution_count": 14,
   "id": "liable-smile",
   "metadata": {
    "ExecuteTime": {
     "end_time": "2022-08-10T13:54:39.444141Z",
     "start_time": "2022-08-10T13:54:39.430926Z"
    }
   },
   "outputs": [],
   "source": [
    "c = tf.constant(3.0)\n",
    "with tf.GradientTape() as t:\n",
    "    t.watch(c)\n",
    "    c_loss = c * c"
   ]
  },
  {
   "cell_type": "code",
   "execution_count": 15,
   "id": "contained-arthur",
   "metadata": {
    "ExecuteTime": {
     "end_time": "2022-08-10T13:54:39.459401Z",
     "start_time": "2022-08-10T13:54:39.445882Z"
    }
   },
   "outputs": [],
   "source": [
    "c_grad = t.gradient(c_loss, c)"
   ]
  },
  {
   "cell_type": "code",
   "execution_count": 16,
   "id": "private-helena",
   "metadata": {
    "ExecuteTime": {
     "end_time": "2022-08-10T13:54:39.475426Z",
     "start_time": "2022-08-10T13:54:39.460356Z"
    }
   },
   "outputs": [
    {
     "data": {
      "text/plain": [
       "<tf.Tensor: shape=(), dtype=float32, numpy=6.0>"
      ]
     },
     "execution_count": 16,
     "metadata": {},
     "output_type": "execute_result"
    }
   ],
   "source": [
    "c_grad"
   ]
  },
  {
   "cell_type": "code",
   "execution_count": null,
   "id": "rising-eating",
   "metadata": {},
   "outputs": [],
   "source": []
  }
 ],
 "metadata": {
  "kernelspec": {
   "display_name": "Python 3",
   "language": "python",
   "name": "python3"
  },
  "language_info": {
   "codemirror_mode": {
    "name": "ipython",
    "version": 3
   },
   "file_extension": ".py",
   "mimetype": "text/x-python",
   "name": "python",
   "nbconvert_exporter": "python",
   "pygments_lexer": "ipython3",
   "version": "3.8.8"
  },
  "latex_envs": {
   "LaTeX_envs_menu_present": true,
   "autoclose": false,
   "autocomplete": true,
   "bibliofile": "biblio.bib",
   "cite_by": "apalike",
   "current_citInitial": 1,
   "eqLabelWithNumbers": true,
   "eqNumInitial": 1,
   "hotkeys": {
    "equation": "Ctrl-E",
    "itemize": "Ctrl-I"
   },
   "labels_anchors": false,
   "latex_user_defs": false,
   "report_style_numbering": false,
   "user_envs_cfg": false
  },
  "toc": {
   "base_numbering": 1,
   "nav_menu": {},
   "number_sections": true,
   "sideBar": true,
   "skip_h1_title": false,
   "title_cell": "Table of Contents",
   "title_sidebar": "Contents",
   "toc_cell": false,
   "toc_position": {},
   "toc_section_display": true,
   "toc_window_display": false
  },
  "varInspector": {
   "cols": {
    "lenName": 16,
    "lenType": 16,
    "lenVar": 40
   },
   "kernels_config": {
    "python": {
     "delete_cmd_postfix": "",
     "delete_cmd_prefix": "del ",
     "library": "var_list.py",
     "varRefreshCmd": "print(var_dic_list())"
    },
    "r": {
     "delete_cmd_postfix": ") ",
     "delete_cmd_prefix": "rm(",
     "library": "var_list.r",
     "varRefreshCmd": "cat(var_dic_list()) "
    }
   },
   "types_to_exclude": [
    "module",
    "function",
    "builtin_function_or_method",
    "instance",
    "_Feature"
   ],
   "window_display": false
  }
 },
 "nbformat": 4,
 "nbformat_minor": 5
}
