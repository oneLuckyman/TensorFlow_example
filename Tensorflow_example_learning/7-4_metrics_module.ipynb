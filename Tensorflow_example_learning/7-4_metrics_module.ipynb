{
 "cells": [
  {
   "cell_type": "code",
   "execution_count": 1,
   "id": "thorough-theorem",
   "metadata": {
    "ExecuteTime": {
     "end_time": "2022-08-13T12:25:15.766391Z",
     "start_time": "2022-08-13T12:25:13.031501Z"
    }
   },
   "outputs": [],
   "source": [
    "import tensorflow as tf "
   ]
  },
  {
   "cell_type": "code",
   "execution_count": 2,
   "id": "statistical-response",
   "metadata": {
    "ExecuteTime": {
     "end_time": "2022-08-13T12:25:15.782171Z",
     "start_time": "2022-08-13T12:25:15.768276Z"
    }
   },
   "outputs": [
    {
     "data": {
      "text/plain": [
       "'2.3.0'"
      ]
     },
     "execution_count": 2,
     "metadata": {},
     "output_type": "execute_result"
    }
   ],
   "source": [
    "tf.__version__"
   ]
  },
  {
   "cell_type": "markdown",
   "id": "valuable-bachelor",
   "metadata": {},
   "source": [
    "# 对一个网络进行自定义的训练"
   ]
  },
  {
   "cell_type": "code",
   "execution_count": 3,
   "id": "extra-netherlands",
   "metadata": {
    "ExecuteTime": {
     "end_time": "2022-08-13T12:25:16.078142Z",
     "start_time": "2022-08-13T12:25:15.783063Z"
    }
   },
   "outputs": [],
   "source": [
    "(train_images, train_labels), _ = tf.keras.datasets.mnist.load_data()"
   ]
  },
  {
   "cell_type": "code",
   "execution_count": 4,
   "id": "bronze-politics",
   "metadata": {
    "ExecuteTime": {
     "end_time": "2022-08-13T12:25:16.093243Z",
     "start_time": "2022-08-13T12:25:16.079925Z"
    }
   },
   "outputs": [
    {
     "data": {
      "text/plain": [
       "(60000, 28, 28)"
      ]
     },
     "execution_count": 4,
     "metadata": {},
     "output_type": "execute_result"
    }
   ],
   "source": [
    "train_images.shape"
   ]
  },
  {
   "cell_type": "code",
   "execution_count": 5,
   "id": "fifty-benjamin",
   "metadata": {
    "ExecuteTime": {
     "end_time": "2022-08-13T12:25:16.108321Z",
     "start_time": "2022-08-13T12:25:16.094137Z"
    }
   },
   "outputs": [
    {
     "data": {
      "text/plain": [
       "array([5, 0, 4, ..., 5, 6, 8], dtype=uint8)"
      ]
     },
     "execution_count": 5,
     "metadata": {},
     "output_type": "execute_result"
    }
   ],
   "source": [
    "train_labels"
   ]
  },
  {
   "cell_type": "code",
   "execution_count": 6,
   "id": "verbal-transaction",
   "metadata": {
    "ExecuteTime": {
     "end_time": "2022-08-13T12:25:16.123384Z",
     "start_time": "2022-08-13T12:25:16.109294Z"
    }
   },
   "outputs": [],
   "source": [
    "train_images = tf.expand_dims(train_images, -1)"
   ]
  },
  {
   "cell_type": "code",
   "execution_count": 7,
   "id": "stretch-requirement",
   "metadata": {
    "ExecuteTime": {
     "end_time": "2022-08-13T12:25:16.138621Z",
     "start_time": "2022-08-13T12:25:16.124674Z"
    }
   },
   "outputs": [
    {
     "data": {
      "text/plain": [
       "TensorShape([60000, 28, 28, 1])"
      ]
     },
     "execution_count": 7,
     "metadata": {},
     "output_type": "execute_result"
    }
   ],
   "source": [
    "train_images.shape"
   ]
  },
  {
   "cell_type": "code",
   "execution_count": 8,
   "id": "opening-capture",
   "metadata": {
    "ExecuteTime": {
     "end_time": "2022-08-13T12:25:16.247140Z",
     "start_time": "2022-08-13T12:25:16.139883Z"
    }
   },
   "outputs": [],
   "source": [
    "train_images = tf.cast(train_images/255, tf.float32)"
   ]
  },
  {
   "cell_type": "code",
   "execution_count": 9,
   "id": "cardiac-martial",
   "metadata": {
    "ExecuteTime": {
     "end_time": "2022-08-13T12:25:16.262494Z",
     "start_time": "2022-08-13T12:25:16.253519Z"
    }
   },
   "outputs": [],
   "source": [
    "train_labels = tf.cast(train_labels, tf.int64)"
   ]
  },
  {
   "cell_type": "code",
   "execution_count": 10,
   "id": "supreme-contents",
   "metadata": {
    "ExecuteTime": {
     "end_time": "2022-08-13T12:25:16.278480Z",
     "start_time": "2022-08-13T12:25:16.265979Z"
    }
   },
   "outputs": [],
   "source": [
    "dataset = tf.data.Dataset.from_tensor_slices((train_images, train_labels))"
   ]
  },
  {
   "cell_type": "code",
   "execution_count": 11,
   "id": "finite-pursuit",
   "metadata": {
    "ExecuteTime": {
     "end_time": "2022-08-13T12:25:16.294221Z",
     "start_time": "2022-08-13T12:25:16.279449Z"
    }
   },
   "outputs": [
    {
     "data": {
      "text/plain": [
       "<TensorSliceDataset shapes: ((28, 28, 1), ()), types: (tf.float32, tf.int64)>"
      ]
     },
     "execution_count": 11,
     "metadata": {},
     "output_type": "execute_result"
    }
   ],
   "source": [
    "dataset"
   ]
  },
  {
   "cell_type": "code",
   "execution_count": 12,
   "id": "conservative-charger",
   "metadata": {
    "ExecuteTime": {
     "end_time": "2022-08-13T12:25:16.310177Z",
     "start_time": "2022-08-13T12:25:16.296215Z"
    }
   },
   "outputs": [],
   "source": [
    "dataset = dataset.shuffle(10000).batch(32)"
   ]
  },
  {
   "cell_type": "code",
   "execution_count": 13,
   "id": "republican-lover",
   "metadata": {
    "ExecuteTime": {
     "end_time": "2022-08-13T12:25:16.326206Z",
     "start_time": "2022-08-13T12:25:16.311175Z"
    }
   },
   "outputs": [
    {
     "data": {
      "text/plain": [
       "<BatchDataset shapes: ((None, 28, 28, 1), (None,)), types: (tf.float32, tf.int64)>"
      ]
     },
     "execution_count": 13,
     "metadata": {},
     "output_type": "execute_result"
    }
   ],
   "source": [
    "dataset"
   ]
  },
  {
   "cell_type": "code",
   "execution_count": 14,
   "id": "silver-loading",
   "metadata": {
    "ExecuteTime": {
     "end_time": "2022-08-13T12:25:16.388154Z",
     "start_time": "2022-08-13T12:25:16.327205Z"
    }
   },
   "outputs": [],
   "source": [
    "model = tf.keras.Sequential([\n",
    "    tf.keras.layers.Conv2D(16, [3, 3], activation='relu', input_shape=(None, None, 1)),\n",
    "    tf.keras.layers.Conv2D(32, [3, 3], activation='relu'),\n",
    "    tf.keras.layers.GlobalMaxPooling2D(),\n",
    "    tf.keras.layers.Dense(10)\n",
    "])"
   ]
  },
  {
   "cell_type": "code",
   "execution_count": 15,
   "id": "caring-omaha",
   "metadata": {
    "ExecuteTime": {
     "end_time": "2022-08-13T12:25:16.403259Z",
     "start_time": "2022-08-13T12:25:16.396425Z"
    }
   },
   "outputs": [],
   "source": [
    "optimizer = tf.keras.optimizers.Adam()"
   ]
  },
  {
   "cell_type": "code",
   "execution_count": 16,
   "id": "british-proposal",
   "metadata": {
    "ExecuteTime": {
     "end_time": "2022-08-13T12:25:16.418218Z",
     "start_time": "2022-08-13T12:25:16.410241Z"
    }
   },
   "outputs": [],
   "source": [
    "loss_func = tf.keras.losses.SparseCategoricalCrossentropy(from_logits=True)"
   ]
  },
  {
   "cell_type": "code",
   "execution_count": 17,
   "id": "attached-mortgage",
   "metadata": {
    "ExecuteTime": {
     "end_time": "2022-08-13T12:25:16.622349Z",
     "start_time": "2022-08-13T12:25:16.421247Z"
    }
   },
   "outputs": [],
   "source": [
    "features, labels = next(iter(dataset))"
   ]
  },
  {
   "cell_type": "code",
   "execution_count": 18,
   "id": "alert-ability",
   "metadata": {
    "ExecuteTime": {
     "end_time": "2022-08-13T12:25:16.637108Z",
     "start_time": "2022-08-13T12:25:16.626144Z"
    }
   },
   "outputs": [
    {
     "data": {
      "text/plain": [
       "TensorShape([32, 28, 28, 1])"
      ]
     },
     "execution_count": 18,
     "metadata": {},
     "output_type": "execute_result"
    }
   ],
   "source": [
    "features.shape"
   ]
  },
  {
   "cell_type": "code",
   "execution_count": 19,
   "id": "lonely-columbus",
   "metadata": {
    "ExecuteTime": {
     "end_time": "2022-08-13T12:25:16.652185Z",
     "start_time": "2022-08-13T12:25:16.642094Z"
    }
   },
   "outputs": [
    {
     "data": {
      "text/plain": [
       "TensorShape([32])"
      ]
     },
     "execution_count": 19,
     "metadata": {},
     "output_type": "execute_result"
    }
   ],
   "source": [
    "labels.shape"
   ]
  },
  {
   "cell_type": "code",
   "execution_count": 20,
   "id": "numeric-enhancement",
   "metadata": {
    "ExecuteTime": {
     "end_time": "2022-08-13T12:25:16.699955Z",
     "start_time": "2022-08-13T12:25:16.655169Z"
    }
   },
   "outputs": [],
   "source": [
    "predictions = model(features)"
   ]
  },
  {
   "cell_type": "code",
   "execution_count": 21,
   "id": "comparable-opposition",
   "metadata": {
    "ExecuteTime": {
     "end_time": "2022-08-13T12:25:16.730372Z",
     "start_time": "2022-08-13T12:25:16.707262Z"
    }
   },
   "outputs": [
    {
     "data": {
      "text/plain": [
       "TensorShape([32, 10])"
      ]
     },
     "execution_count": 21,
     "metadata": {},
     "output_type": "execute_result"
    }
   ],
   "source": [
    "predictions.shape"
   ]
  },
  {
   "cell_type": "code",
   "execution_count": 22,
   "id": "expressed-threshold",
   "metadata": {
    "ExecuteTime": {
     "end_time": "2022-08-13T12:25:16.745220Z",
     "start_time": "2022-08-13T12:25:16.733185Z"
    }
   },
   "outputs": [
    {
     "data": {
      "text/plain": [
       "<tf.Tensor: shape=(32,), dtype=int64, numpy=\n",
       "array([8, 8, 8, 8, 8, 8, 8, 8, 8, 8, 8, 8, 8, 8, 8, 8, 8, 8, 8, 8, 8, 8,\n",
       "       8, 8, 8, 8, 8, 8, 8, 8, 8, 8], dtype=int64)>"
      ]
     },
     "execution_count": 22,
     "metadata": {},
     "output_type": "execute_result"
    }
   ],
   "source": [
    "tf.argmax(predictions, axis=1)"
   ]
  },
  {
   "cell_type": "code",
   "execution_count": 23,
   "id": "judicial-stream",
   "metadata": {
    "ExecuteTime": {
     "end_time": "2022-08-13T12:25:16.760754Z",
     "start_time": "2022-08-13T12:25:16.746151Z"
    }
   },
   "outputs": [
    {
     "data": {
      "text/plain": [
       "<tf.Tensor: shape=(32,), dtype=int64, numpy=\n",
       "array([5, 9, 1, 7, 7, 3, 9, 6, 4, 3, 8, 9, 2, 7, 7, 5, 5, 7, 6, 0, 2, 2,\n",
       "       2, 4, 7, 0, 3, 4, 8, 7, 7, 6], dtype=int64)>"
      ]
     },
     "execution_count": 23,
     "metadata": {},
     "output_type": "execute_result"
    }
   ],
   "source": [
    "labels"
   ]
  },
  {
   "cell_type": "code",
   "execution_count": 24,
   "id": "minute-preparation",
   "metadata": {
    "ExecuteTime": {
     "end_time": "2022-08-13T12:25:16.775958Z",
     "start_time": "2022-08-13T12:25:16.762469Z"
    }
   },
   "outputs": [],
   "source": [
    "def cal_loss(model, x, y):\n",
    "    y_ = model(x)\n",
    "    return loss_func(y, y_)"
   ]
  },
  {
   "cell_type": "code",
   "execution_count": 25,
   "id": "virgin-danger",
   "metadata": {
    "ExecuteTime": {
     "end_time": "2022-08-13T12:25:16.791497Z",
     "start_time": "2022-08-13T12:25:16.777854Z"
    }
   },
   "outputs": [],
   "source": [
    "def train_step(model, optimizer, images, labels):\n",
    "    with tf.GradientTape() as tape:\n",
    "        loss_step = cal_loss(model, images, labels)\n",
    "    grads = tape.gradient(loss_step, model.trainable_variables)\n",
    "    optimizer.apply_gradients(zip(grads, model.trainable_variables))"
   ]
  },
  {
   "cell_type": "code",
   "execution_count": 26,
   "id": "tracked-blake",
   "metadata": {
    "ExecuteTime": {
     "end_time": "2022-08-13T12:25:16.807415Z",
     "start_time": "2022-08-13T12:25:16.792399Z"
    }
   },
   "outputs": [],
   "source": [
    "def train(epochs, model, optimizer, dataset):\n",
    "    for epoch in range(epochs):\n",
    "        for (batch_index, (images, labels)) in enumerate(dataset):\n",
    "            train_step(model, optimizer, images, labels)\n",
    "        print('Epoch{} is finshed'.format(epoch))"
   ]
  },
  {
   "cell_type": "code",
   "execution_count": 27,
   "id": "incorporated-mathematics",
   "metadata": {
    "ExecuteTime": {
     "end_time": "2022-08-13T12:25:16.822156Z",
     "start_time": "2022-08-13T12:25:16.811826Z"
    }
   },
   "outputs": [],
   "source": [
    "# train(10, model, optimizer, dataset)"
   ]
  },
  {
   "cell_type": "markdown",
   "id": "viral-scott",
   "metadata": {},
   "source": [
    "# tf.metrics 模块的使用"
   ]
  },
  {
   "cell_type": "code",
   "execution_count": 28,
   "id": "balanced-botswana",
   "metadata": {
    "ExecuteTime": {
     "end_time": "2022-08-13T12:25:16.837115Z",
     "start_time": "2022-08-13T12:25:16.825151Z"
    }
   },
   "outputs": [],
   "source": [
    "m = tf.keras.metrics.Mean('acc')"
   ]
  },
  {
   "cell_type": "code",
   "execution_count": 29,
   "id": "smaller-story",
   "metadata": {
    "ExecuteTime": {
     "end_time": "2022-08-13T12:25:16.852617Z",
     "start_time": "2022-08-13T12:25:16.838113Z"
    }
   },
   "outputs": [
    {
     "data": {
      "text/plain": [
       "<tf.Tensor: shape=(), dtype=float32, numpy=10.0>"
      ]
     },
     "execution_count": 29,
     "metadata": {},
     "output_type": "execute_result"
    }
   ],
   "source": [
    "m(10)"
   ]
  },
  {
   "cell_type": "code",
   "execution_count": 30,
   "id": "empirical-small",
   "metadata": {
    "ExecuteTime": {
     "end_time": "2022-08-13T12:25:16.867784Z",
     "start_time": "2022-08-13T12:25:16.854613Z"
    }
   },
   "outputs": [
    {
     "data": {
      "text/plain": [
       "<tf.Tensor: shape=(), dtype=float32, numpy=15.0>"
      ]
     },
     "execution_count": 30,
     "metadata": {},
     "output_type": "execute_result"
    }
   ],
   "source": [
    "m(20)"
   ]
  },
  {
   "cell_type": "code",
   "execution_count": 31,
   "id": "cathedral-diagram",
   "metadata": {
    "ExecuteTime": {
     "end_time": "2022-08-13T12:25:16.882962Z",
     "start_time": "2022-08-13T12:25:16.869783Z"
    }
   },
   "outputs": [
    {
     "data": {
      "text/plain": [
       "15.0"
      ]
     },
     "execution_count": 31,
     "metadata": {},
     "output_type": "execute_result"
    }
   ],
   "source": [
    "m.result().numpy()"
   ]
  },
  {
   "cell_type": "code",
   "execution_count": 32,
   "id": "ethical-cardiff",
   "metadata": {
    "ExecuteTime": {
     "end_time": "2022-08-13T12:25:16.898044Z",
     "start_time": "2022-08-13T12:25:16.884245Z"
    }
   },
   "outputs": [
    {
     "data": {
      "text/plain": [
       "<tf.Tensor: shape=(), dtype=float32, numpy=25.0>"
      ]
     },
     "execution_count": 32,
     "metadata": {},
     "output_type": "execute_result"
    }
   ],
   "source": [
    "m([30, 40])"
   ]
  },
  {
   "cell_type": "code",
   "execution_count": 33,
   "id": "handed-uncle",
   "metadata": {
    "ExecuteTime": {
     "end_time": "2022-08-13T12:25:16.913242Z",
     "start_time": "2022-08-13T12:25:16.899727Z"
    }
   },
   "outputs": [
    {
     "data": {
      "text/plain": [
       "<tf.Tensor: shape=(), dtype=float32, numpy=25.0>"
      ]
     },
     "execution_count": 33,
     "metadata": {},
     "output_type": "execute_result"
    }
   ],
   "source": [
    "m.result()"
   ]
  },
  {
   "cell_type": "code",
   "execution_count": 34,
   "id": "adapted-freeze",
   "metadata": {
    "ExecuteTime": {
     "end_time": "2022-08-13T12:25:16.928824Z",
     "start_time": "2022-08-13T12:25:16.914167Z"
    }
   },
   "outputs": [],
   "source": [
    "m.reset_states()"
   ]
  },
  {
   "cell_type": "code",
   "execution_count": 35,
   "id": "static-victorian",
   "metadata": {
    "ExecuteTime": {
     "end_time": "2022-08-13T12:25:16.944175Z",
     "start_time": "2022-08-13T12:25:16.930771Z"
    }
   },
   "outputs": [
    {
     "data": {
      "text/plain": [
       "<tf.Tensor: shape=(), dtype=float32, numpy=1.0>"
      ]
     },
     "execution_count": 35,
     "metadata": {},
     "output_type": "execute_result"
    }
   ],
   "source": [
    "m(1)"
   ]
  },
  {
   "cell_type": "code",
   "execution_count": 36,
   "id": "accomplished-estonia",
   "metadata": {
    "ExecuteTime": {
     "end_time": "2022-08-13T12:25:16.959843Z",
     "start_time": "2022-08-13T12:25:16.946105Z"
    }
   },
   "outputs": [
    {
     "data": {
      "text/plain": [
       "<tf.Tensor: shape=(), dtype=float32, numpy=1.5>"
      ]
     },
     "execution_count": 36,
     "metadata": {},
     "output_type": "execute_result"
    }
   ],
   "source": [
    "m(2)"
   ]
  },
  {
   "cell_type": "code",
   "execution_count": 37,
   "id": "binding-defendant",
   "metadata": {
    "ExecuteTime": {
     "end_time": "2022-08-13T12:25:16.975154Z",
     "start_time": "2022-08-13T12:25:16.961067Z"
    }
   },
   "outputs": [],
   "source": [
    "a = tf.keras.metrics.SparseCategoricalAccuracy('acc')"
   ]
  },
  {
   "cell_type": "code",
   "execution_count": 38,
   "id": "forward-sweden",
   "metadata": {
    "ExecuteTime": {
     "end_time": "2022-08-13T12:25:17.006377Z",
     "start_time": "2022-08-13T12:25:16.976147Z"
    }
   },
   "outputs": [
    {
     "data": {
      "text/plain": [
       "<tf.Tensor: shape=(), dtype=float32, numpy=0.0625>"
      ]
     },
     "execution_count": 38,
     "metadata": {},
     "output_type": "execute_result"
    }
   ],
   "source": [
    "a(labels, model(features))"
   ]
  },
  {
   "cell_type": "code",
   "execution_count": 39,
   "id": "constant-adobe",
   "metadata": {
    "ExecuteTime": {
     "end_time": "2022-08-13T12:25:17.021265Z",
     "start_time": "2022-08-13T12:25:17.008268Z"
    }
   },
   "outputs": [
    {
     "data": {
      "text/plain": [
       "0.0625"
      ]
     },
     "execution_count": 39,
     "metadata": {},
     "output_type": "execute_result"
    }
   ],
   "source": [
    "acc = 0\n",
    "for i, j in zip(tf.argmax(predictions, axis=1), labels):\n",
    "    if i==j:\n",
    "       acc +=1\n",
    "acc/(predictions.shape[0])"
   ]
  },
  {
   "cell_type": "code",
   "execution_count": null,
   "id": "threatened-fruit",
   "metadata": {},
   "outputs": [],
   "source": []
  }
 ],
 "metadata": {
  "kernelspec": {
   "display_name": "Python 3",
   "language": "python",
   "name": "python3"
  },
  "language_info": {
   "codemirror_mode": {
    "name": "ipython",
    "version": 3
   },
   "file_extension": ".py",
   "mimetype": "text/x-python",
   "name": "python",
   "nbconvert_exporter": "python",
   "pygments_lexer": "ipython3",
   "version": "3.8.8"
  },
  "latex_envs": {
   "LaTeX_envs_menu_present": true,
   "autoclose": false,
   "autocomplete": true,
   "bibliofile": "biblio.bib",
   "cite_by": "apalike",
   "current_citInitial": 1,
   "eqLabelWithNumbers": true,
   "eqNumInitial": 1,
   "hotkeys": {
    "equation": "Ctrl-E",
    "itemize": "Ctrl-I"
   },
   "labels_anchors": false,
   "latex_user_defs": false,
   "report_style_numbering": false,
   "user_envs_cfg": false
  },
  "toc": {
   "base_numbering": 1,
   "nav_menu": {},
   "number_sections": true,
   "sideBar": true,
   "skip_h1_title": false,
   "title_cell": "Table of Contents",
   "title_sidebar": "Contents",
   "toc_cell": false,
   "toc_position": {},
   "toc_section_display": true,
   "toc_window_display": false
  },
  "varInspector": {
   "cols": {
    "lenName": 16,
    "lenType": 16,
    "lenVar": 40
   },
   "kernels_config": {
    "python": {
     "delete_cmd_postfix": "",
     "delete_cmd_prefix": "del ",
     "library": "var_list.py",
     "varRefreshCmd": "print(var_dic_list())"
    },
    "r": {
     "delete_cmd_postfix": ") ",
     "delete_cmd_prefix": "rm(",
     "library": "var_list.r",
     "varRefreshCmd": "cat(var_dic_list()) "
    }
   },
   "types_to_exclude": [
    "module",
    "function",
    "builtin_function_or_method",
    "instance",
    "_Feature"
   ],
   "window_display": false
  }
 },
 "nbformat": 4,
 "nbformat_minor": 5
}
