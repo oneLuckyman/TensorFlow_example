{
 "cells": [
  {
   "cell_type": "code",
   "execution_count": 1,
   "id": "cloudy-response",
   "metadata": {
    "ExecuteTime": {
     "end_time": "2022-07-22T11:36:45.196929Z",
     "start_time": "2022-07-22T11:36:42.222656Z"
    }
   },
   "outputs": [],
   "source": [
    "import tensorflow as tf \n",
    "import pandas as pd \n",
    "import numpy as py \n",
    "import matplotlib.pyplot as plt \n",
    "%matplotlib inline "
   ]
  },
  {
   "cell_type": "code",
   "execution_count": 2,
   "id": "worst-carpet",
   "metadata": {
    "ExecuteTime": {
     "end_time": "2022-07-22T11:36:45.211806Z",
     "start_time": "2022-07-22T11:36:45.197755Z"
    }
   },
   "outputs": [
    {
     "data": {
      "text/plain": [
       "'2.3.0'"
      ]
     },
     "execution_count": 2,
     "metadata": {},
     "output_type": "execute_result"
    }
   ],
   "source": [
    "tf.__version__"
   ]
  },
  {
   "cell_type": "code",
   "execution_count": 3,
   "id": "changed-coordinator",
   "metadata": {
    "ExecuteTime": {
     "end_time": "2022-07-22T11:36:45.227923Z",
     "start_time": "2022-07-22T11:36:45.213698Z"
    }
   },
   "outputs": [],
   "source": [
    "data = pd.read_csv('../../Tensorflow_course/dataset/small_CSV/credit-a.csv', header=None)"
   ]
  },
  {
   "cell_type": "code",
   "execution_count": 4,
   "id": "alone-highlight",
   "metadata": {
    "ExecuteTime": {
     "end_time": "2022-07-22T11:36:45.259586Z",
     "start_time": "2022-07-22T11:36:45.229658Z"
    }
   },
   "outputs": [
    {
     "data": {
      "text/html": [
       "<div>\n",
       "<style scoped>\n",
       "    .dataframe tbody tr th:only-of-type {\n",
       "        vertical-align: middle;\n",
       "    }\n",
       "\n",
       "    .dataframe tbody tr th {\n",
       "        vertical-align: top;\n",
       "    }\n",
       "\n",
       "    .dataframe thead th {\n",
       "        text-align: right;\n",
       "    }\n",
       "</style>\n",
       "<table border=\"1\" class=\"dataframe\">\n",
       "  <thead>\n",
       "    <tr style=\"text-align: right;\">\n",
       "      <th></th>\n",
       "      <th>0</th>\n",
       "      <th>1</th>\n",
       "      <th>2</th>\n",
       "      <th>3</th>\n",
       "      <th>4</th>\n",
       "      <th>5</th>\n",
       "      <th>6</th>\n",
       "      <th>7</th>\n",
       "      <th>8</th>\n",
       "      <th>9</th>\n",
       "      <th>10</th>\n",
       "      <th>11</th>\n",
       "      <th>12</th>\n",
       "      <th>13</th>\n",
       "      <th>14</th>\n",
       "      <th>15</th>\n",
       "    </tr>\n",
       "  </thead>\n",
       "  <tbody>\n",
       "    <tr>\n",
       "      <th>0</th>\n",
       "      <td>0</td>\n",
       "      <td>30.83</td>\n",
       "      <td>0.000</td>\n",
       "      <td>0</td>\n",
       "      <td>0</td>\n",
       "      <td>9</td>\n",
       "      <td>0</td>\n",
       "      <td>1.25</td>\n",
       "      <td>0</td>\n",
       "      <td>0</td>\n",
       "      <td>1</td>\n",
       "      <td>1</td>\n",
       "      <td>0</td>\n",
       "      <td>202</td>\n",
       "      <td>0.0</td>\n",
       "      <td>-1</td>\n",
       "    </tr>\n",
       "    <tr>\n",
       "      <th>1</th>\n",
       "      <td>1</td>\n",
       "      <td>58.67</td>\n",
       "      <td>4.460</td>\n",
       "      <td>0</td>\n",
       "      <td>0</td>\n",
       "      <td>8</td>\n",
       "      <td>1</td>\n",
       "      <td>3.04</td>\n",
       "      <td>0</td>\n",
       "      <td>0</td>\n",
       "      <td>6</td>\n",
       "      <td>1</td>\n",
       "      <td>0</td>\n",
       "      <td>43</td>\n",
       "      <td>560.0</td>\n",
       "      <td>-1</td>\n",
       "    </tr>\n",
       "    <tr>\n",
       "      <th>2</th>\n",
       "      <td>1</td>\n",
       "      <td>24.50</td>\n",
       "      <td>0.500</td>\n",
       "      <td>0</td>\n",
       "      <td>0</td>\n",
       "      <td>8</td>\n",
       "      <td>1</td>\n",
       "      <td>1.50</td>\n",
       "      <td>0</td>\n",
       "      <td>1</td>\n",
       "      <td>0</td>\n",
       "      <td>1</td>\n",
       "      <td>0</td>\n",
       "      <td>280</td>\n",
       "      <td>824.0</td>\n",
       "      <td>-1</td>\n",
       "    </tr>\n",
       "    <tr>\n",
       "      <th>3</th>\n",
       "      <td>0</td>\n",
       "      <td>27.83</td>\n",
       "      <td>1.540</td>\n",
       "      <td>0</td>\n",
       "      <td>0</td>\n",
       "      <td>9</td>\n",
       "      <td>0</td>\n",
       "      <td>3.75</td>\n",
       "      <td>0</td>\n",
       "      <td>0</td>\n",
       "      <td>5</td>\n",
       "      <td>0</td>\n",
       "      <td>0</td>\n",
       "      <td>100</td>\n",
       "      <td>3.0</td>\n",
       "      <td>-1</td>\n",
       "    </tr>\n",
       "    <tr>\n",
       "      <th>4</th>\n",
       "      <td>0</td>\n",
       "      <td>20.17</td>\n",
       "      <td>5.625</td>\n",
       "      <td>0</td>\n",
       "      <td>0</td>\n",
       "      <td>9</td>\n",
       "      <td>0</td>\n",
       "      <td>1.71</td>\n",
       "      <td>0</td>\n",
       "      <td>1</td>\n",
       "      <td>0</td>\n",
       "      <td>1</td>\n",
       "      <td>2</td>\n",
       "      <td>120</td>\n",
       "      <td>0.0</td>\n",
       "      <td>-1</td>\n",
       "    </tr>\n",
       "  </tbody>\n",
       "</table>\n",
       "</div>"
      ],
      "text/plain": [
       "   0      1      2   3   4   5   6     7   8   9   10  11  12   13     14  15\n",
       "0   0  30.83  0.000   0   0   9   0  1.25   0   0   1   1   0  202    0.0  -1\n",
       "1   1  58.67  4.460   0   0   8   1  3.04   0   0   6   1   0   43  560.0  -1\n",
       "2   1  24.50  0.500   0   0   8   1  1.50   0   1   0   1   0  280  824.0  -1\n",
       "3   0  27.83  1.540   0   0   9   0  3.75   0   0   5   0   0  100    3.0  -1\n",
       "4   0  20.17  5.625   0   0   9   0  1.71   0   1   0   1   2  120    0.0  -1"
      ]
     },
     "execution_count": 4,
     "metadata": {},
     "output_type": "execute_result"
    }
   ],
   "source": [
    "data.head()"
   ]
  },
  {
   "cell_type": "code",
   "execution_count": 5,
   "id": "accompanied-exploration",
   "metadata": {
    "ExecuteTime": {
     "end_time": "2022-07-22T11:36:45.275578Z",
     "start_time": "2022-07-22T11:36:45.260574Z"
    }
   },
   "outputs": [
    {
     "data": {
      "text/plain": [
       " 1    357\n",
       "-1    296\n",
       "Name: 15, dtype: int64"
      ]
     },
     "execution_count": 5,
     "metadata": {},
     "output_type": "execute_result"
    }
   ],
   "source": [
    "data.iloc[:,-1].value_counts()"
   ]
  },
  {
   "cell_type": "code",
   "execution_count": 6,
   "id": "thorough-processing",
   "metadata": {
    "ExecuteTime": {
     "end_time": "2022-07-22T11:36:45.291321Z",
     "start_time": "2022-07-22T11:36:45.278525Z"
    }
   },
   "outputs": [],
   "source": [
    "x = data.iloc[:,:-1]\n",
    "y = data.iloc[:,-1].replace(-1, 0)"
   ]
  },
  {
   "cell_type": "code",
   "execution_count": 7,
   "id": "ruled-ordinance",
   "metadata": {
    "ExecuteTime": {
     "end_time": "2022-07-22T11:36:45.322519Z",
     "start_time": "2022-07-22T11:36:45.292552Z"
    }
   },
   "outputs": [],
   "source": [
    "model = tf.keras.Sequential()"
   ]
  },
  {
   "cell_type": "code",
   "execution_count": 8,
   "id": "comic-quality",
   "metadata": {
    "ExecuteTime": {
     "end_time": "2022-07-22T11:36:45.368287Z",
     "start_time": "2022-07-22T11:36:45.323407Z"
    }
   },
   "outputs": [],
   "source": [
    "model.add(tf.keras.layers.Dense(4, input_shape=(15,), activation='relu'))\n",
    "model.add(tf.keras.layers.Dense(4, activation='relu'))\n",
    "model.add(tf.keras.layers.Dense(1, activation='sigmoid'))"
   ]
  },
  {
   "cell_type": "code",
   "execution_count": 9,
   "id": "stock-color",
   "metadata": {
    "ExecuteTime": {
     "end_time": "2022-07-22T11:36:45.384375Z",
     "start_time": "2022-07-22T11:36:45.371280Z"
    }
   },
   "outputs": [
    {
     "name": "stdout",
     "output_type": "stream",
     "text": [
      "Model: \"sequential\"\n",
      "_________________________________________________________________\n",
      "Layer (type)                 Output Shape              Param #   \n",
      "=================================================================\n",
      "dense (Dense)                (None, 4)                 64        \n",
      "_________________________________________________________________\n",
      "dense_1 (Dense)              (None, 4)                 20        \n",
      "_________________________________________________________________\n",
      "dense_2 (Dense)              (None, 1)                 5         \n",
      "=================================================================\n",
      "Total params: 89\n",
      "Trainable params: 89\n",
      "Non-trainable params: 0\n",
      "_________________________________________________________________\n"
     ]
    }
   ],
   "source": [
    "model.summary()"
   ]
  },
  {
   "cell_type": "code",
   "execution_count": 10,
   "id": "exceptional-middle",
   "metadata": {
    "ExecuteTime": {
     "end_time": "2022-07-22T11:36:45.400407Z",
     "start_time": "2022-07-22T11:36:45.386237Z"
    }
   },
   "outputs": [],
   "source": [
    "model.compile(optimizer='Adam',\n",
    "             loss='binary_crossentropy',\n",
    "             metrics=['acc'])"
   ]
  },
  {
   "cell_type": "code",
   "execution_count": 11,
   "id": "great-cartoon",
   "metadata": {
    "ExecuteTime": {
     "end_time": "2022-07-22T11:36:47.959085Z",
     "start_time": "2022-07-22T11:36:45.401198Z"
    }
   },
   "outputs": [
    {
     "name": "stdout",
     "output_type": "stream",
     "text": [
      "Epoch 1/100\n",
      "21/21 [==============================] - 0s 641us/step - loss: 14.1173 - acc: 0.5513\n",
      "Epoch 2/100\n",
      "21/21 [==============================] - 0s 617us/step - loss: 6.1917 - acc: 0.5620\n",
      "Epoch 3/100\n",
      "21/21 [==============================] - 0s 864us/step - loss: 1.1967 - acc: 0.6570\n",
      "Epoch 4/100\n",
      "21/21 [==============================] - 0s 762us/step - loss: 0.9711 - acc: 0.6738\n",
      "Epoch 5/100\n",
      "21/21 [==============================] - 0s 759us/step - loss: 0.8730 - acc: 0.6815\n",
      "Epoch 6/100\n",
      "21/21 [==============================] - 0s 712us/step - loss: 0.8179 - acc: 0.6799\n",
      "Epoch 7/100\n",
      "21/21 [==============================] - 0s 712us/step - loss: 0.7808 - acc: 0.6769\n",
      "Epoch 8/100\n",
      "21/21 [==============================] - 0s 757us/step - loss: 0.7490 - acc: 0.6815\n",
      "Epoch 9/100\n",
      "21/21 [==============================] - 0s 760us/step - loss: 0.7239 - acc: 0.6876\n",
      "Epoch 10/100\n",
      "21/21 [==============================] - 0s 1ms/step - loss: 0.7064 - acc: 0.6891\n",
      "Epoch 11/100\n",
      "21/21 [==============================] - 0s 617us/step - loss: 0.6919 - acc: 0.6953\n",
      "Epoch 12/100\n",
      "21/21 [==============================] - 0s 712us/step - loss: 0.6818 - acc: 0.6953\n",
      "Epoch 13/100\n",
      "21/21 [==============================] - 0s 807us/step - loss: 0.6748 - acc: 0.6937\n",
      "Epoch 14/100\n",
      "21/21 [==============================] - 0s 665us/step - loss: 0.6707 - acc: 0.6861\n",
      "Epoch 15/100\n",
      "21/21 [==============================] - 0s 711us/step - loss: 0.6623 - acc: 0.6861\n",
      "Epoch 16/100\n",
      "21/21 [==============================] - 0s 853us/step - loss: 0.6570 - acc: 0.6876\n",
      "Epoch 17/100\n",
      "21/21 [==============================] - 0s 712us/step - loss: 0.6510 - acc: 0.6799\n",
      "Epoch 18/100\n",
      "21/21 [==============================] - 0s 712us/step - loss: 0.6482 - acc: 0.6769\n",
      "Epoch 19/100\n",
      "21/21 [==============================] - 0s 759us/step - loss: 0.6438 - acc: 0.6830\n",
      "Epoch 20/100\n",
      "21/21 [==============================] - 0s 760us/step - loss: 0.6425 - acc: 0.6830\n",
      "Epoch 21/100\n",
      "21/21 [==============================] - 0s 714us/step - loss: 0.6384 - acc: 0.6799\n",
      "Epoch 22/100\n",
      "21/21 [==============================] - 0s 807us/step - loss: 0.6352 - acc: 0.6937\n",
      "Epoch 23/100\n",
      "21/21 [==============================] - 0s 807us/step - loss: 0.6319 - acc: 0.6937\n",
      "Epoch 24/100\n",
      "21/21 [==============================] - 0s 760us/step - loss: 0.6271 - acc: 0.6891\n",
      "Epoch 25/100\n",
      "21/21 [==============================] - 0s 712us/step - loss: 0.6254 - acc: 0.6784\n",
      "Epoch 26/100\n",
      "21/21 [==============================] - 0s 760us/step - loss: 0.6198 - acc: 0.6891\n",
      "Epoch 27/100\n",
      "21/21 [==============================] - 0s 760us/step - loss: 0.6234 - acc: 0.6937\n",
      "Epoch 28/100\n",
      "21/21 [==============================] - 0s 760us/step - loss: 0.6170 - acc: 0.6922\n",
      "Epoch 29/100\n",
      "21/21 [==============================] - 0s 760us/step - loss: 0.6121 - acc: 0.6968\n",
      "Epoch 30/100\n",
      "21/21 [==============================] - 0s 855us/step - loss: 0.6091 - acc: 0.6953\n",
      "Epoch 31/100\n",
      "21/21 [==============================] - 0s 808us/step - loss: 0.6078 - acc: 0.6922\n",
      "Epoch 32/100\n",
      "21/21 [==============================] - 0s 712us/step - loss: 0.6059 - acc: 0.6922\n",
      "Epoch 33/100\n",
      "21/21 [==============================] - 0s 807us/step - loss: 0.6057 - acc: 0.6953\n",
      "Epoch 34/100\n",
      "21/21 [==============================] - 0s 760us/step - loss: 0.6025 - acc: 0.6937\n",
      "Epoch 35/100\n",
      "21/21 [==============================] - 0s 760us/step - loss: 0.5999 - acc: 0.6937\n",
      "Epoch 36/100\n",
      "21/21 [==============================] - 0s 712us/step - loss: 0.6009 - acc: 0.6953\n",
      "Epoch 37/100\n",
      "21/21 [==============================] - 0s 807us/step - loss: 0.5996 - acc: 0.6968\n",
      "Epoch 38/100\n",
      "21/21 [==============================] - 0s 873us/step - loss: 0.5969 - acc: 0.6968\n",
      "Epoch 39/100\n",
      "21/21 [==============================] - 0s 855us/step - loss: 0.5937 - acc: 0.6983\n",
      "Epoch 40/100\n",
      "21/21 [==============================] - 0s 760us/step - loss: 0.5922 - acc: 0.6998\n",
      "Epoch 41/100\n",
      "21/21 [==============================] - 0s 761us/step - loss: 0.5901 - acc: 0.7029\n",
      "Epoch 42/100\n",
      "21/21 [==============================] - 0s 739us/step - loss: 0.5883 - acc: 0.7060\n",
      "Epoch 43/100\n",
      "21/21 [==============================] - 0s 807us/step - loss: 0.5867 - acc: 0.7044\n",
      "Epoch 44/100\n",
      "21/21 [==============================] - 0s 807us/step - loss: 0.5860 - acc: 0.7075\n",
      "Epoch 45/100\n",
      "21/21 [==============================] - 0s 760us/step - loss: 0.5841 - acc: 0.7060\n",
      "Epoch 46/100\n",
      "21/21 [==============================] - 0s 760us/step - loss: 0.5826 - acc: 0.7182\n",
      "Epoch 47/100\n",
      "21/21 [==============================] - 0s 760us/step - loss: 0.5820 - acc: 0.7243\n",
      "Epoch 48/100\n",
      "21/21 [==============================] - 0s 807us/step - loss: 0.5809 - acc: 0.7198\n",
      "Epoch 49/100\n",
      "21/21 [==============================] - 0s 855us/step - loss: 0.5784 - acc: 0.7274\n",
      "Epoch 50/100\n",
      "21/21 [==============================] - 0s 760us/step - loss: 0.5823 - acc: 0.7182\n",
      "Epoch 51/100\n",
      "21/21 [==============================] - 0s 713us/step - loss: 0.5757 - acc: 0.7259\n",
      "Epoch 52/100\n",
      "21/21 [==============================] - 0s 755us/step - loss: 0.5742 - acc: 0.7412\n",
      "Epoch 53/100\n",
      "21/21 [==============================] - 0s 665us/step - loss: 0.5692 - acc: 0.7381\n",
      "Epoch 54/100\n",
      "21/21 [==============================] - 0s 713us/step - loss: 0.5683 - acc: 0.7366\n",
      "Epoch 55/100\n",
      "21/21 [==============================] - 0s 712us/step - loss: 0.5696 - acc: 0.7443\n",
      "Epoch 56/100\n",
      "21/21 [==============================] - 0s 712us/step - loss: 0.5713 - acc: 0.7243\n",
      "Epoch 57/100\n",
      "21/21 [==============================] - 0s 788us/step - loss: 0.5674 - acc: 0.7412\n",
      "Epoch 58/100\n",
      "21/21 [==============================] - 0s 569us/step - loss: 0.5621 - acc: 0.7366\n",
      "Epoch 59/100\n",
      "21/21 [==============================] - 0s 570us/step - loss: 0.5593 - acc: 0.7427\n",
      "Epoch 60/100\n",
      "21/21 [==============================] - 0s 712us/step - loss: 0.5575 - acc: 0.7397\n",
      "Epoch 61/100\n",
      "21/21 [==============================] - 0s 665us/step - loss: 0.5553 - acc: 0.7335\n",
      "Epoch 62/100\n",
      "21/21 [==============================] - 0s 712us/step - loss: 0.5525 - acc: 0.7381\n",
      "Epoch 63/100\n",
      "21/21 [==============================] - 0s 760us/step - loss: 0.5513 - acc: 0.7381\n",
      "Epoch 64/100\n",
      "21/21 [==============================] - 0s 617us/step - loss: 0.5501 - acc: 0.7427\n",
      "Epoch 65/100\n",
      "21/21 [==============================] - 0s 665us/step - loss: 0.5501 - acc: 0.7489\n",
      "Epoch 66/100\n",
      "21/21 [==============================] - 0s 665us/step - loss: 0.5487 - acc: 0.7489\n",
      "Epoch 67/100\n",
      "21/21 [==============================] - 0s 807us/step - loss: 0.5454 - acc: 0.7473\n",
      "Epoch 68/100\n",
      "21/21 [==============================] - 0s 1ms/step - loss: 0.5459 - acc: 0.7550\n",
      "Epoch 69/100\n",
      "21/21 [==============================] - 0s 760us/step - loss: 0.5434 - acc: 0.7489\n",
      "Epoch 70/100\n",
      "21/21 [==============================] - 0s 664us/step - loss: 0.5425 - acc: 0.7534\n",
      "Epoch 71/100\n",
      "21/21 [==============================] - 0s 617us/step - loss: 0.5416 - acc: 0.7534\n",
      "Epoch 72/100\n",
      "21/21 [==============================] - 0s 630us/step - loss: 0.5423 - acc: 0.7397\n",
      "Epoch 73/100\n",
      "21/21 [==============================] - 0s 665us/step - loss: 0.5386 - acc: 0.7519\n",
      "Epoch 74/100\n",
      "21/21 [==============================] - 0s 665us/step - loss: 0.5370 - acc: 0.7519\n",
      "Epoch 75/100\n",
      "21/21 [==============================] - 0s 618us/step - loss: 0.5346 - acc: 0.7565\n",
      "Epoch 76/100\n",
      "21/21 [==============================] - 0s 4ms/step - loss: 0.5313 - acc: 0.7550\n",
      "Epoch 77/100\n",
      "21/21 [==============================] - 0s 4ms/step - loss: 0.5323 - acc: 0.7580A: 0s - loss: 0.5321 - acc: 0.759\n",
      "Epoch 78/100\n",
      "21/21 [==============================] - 0s 780us/step - loss: 0.5252 - acc: 0.7565\n",
      "Epoch 79/100\n",
      "21/21 [==============================] - 0s 584us/step - loss: 0.5343 - acc: 0.7504\n",
      "Epoch 80/100\n",
      "21/21 [==============================] - 0s 522us/step - loss: 0.5240 - acc: 0.7565\n",
      "Epoch 81/100\n",
      "21/21 [==============================] - 0s 617us/step - loss: 0.5233 - acc: 0.7672\n",
      "Epoch 82/100\n",
      "21/21 [==============================] - 0s 522us/step - loss: 0.5292 - acc: 0.7504\n",
      "Epoch 83/100\n",
      "21/21 [==============================] - 0s 475us/step - loss: 0.5191 - acc: 0.7611\n",
      "Epoch 84/100\n",
      "21/21 [==============================] - 0s 522us/step - loss: 0.5206 - acc: 0.7642\n",
      "Epoch 85/100\n"
     ]
    },
    {
     "name": "stdout",
     "output_type": "stream",
     "text": [
      "21/21 [==============================] - 0s 474us/step - loss: 0.5162 - acc: 0.7642\n",
      "Epoch 86/100\n",
      "21/21 [==============================] - 0s 475us/step - loss: 0.5154 - acc: 0.7657\n",
      "Epoch 87/100\n",
      "21/21 [==============================] - 0s 475us/step - loss: 0.5136 - acc: 0.7688\n",
      "Epoch 88/100\n",
      "21/21 [==============================] - 0s 523us/step - loss: 0.5122 - acc: 0.7688\n",
      "Epoch 89/100\n",
      "21/21 [==============================] - 0s 474us/step - loss: 0.5129 - acc: 0.7657\n",
      "Epoch 90/100\n",
      "21/21 [==============================] - 0s 502us/step - loss: 0.5113 - acc: 0.7672\n",
      "Epoch 91/100\n",
      "21/21 [==============================] - 0s 475us/step - loss: 0.5081 - acc: 0.7657\n",
      "Epoch 92/100\n",
      "21/21 [==============================] - 0s 473us/step - loss: 0.5119 - acc: 0.7718\n",
      "Epoch 93/100\n",
      "21/21 [==============================] - 0s 522us/step - loss: 0.5164 - acc: 0.7657\n",
      "Epoch 94/100\n",
      "21/21 [==============================] - 0s 521us/step - loss: 0.5103 - acc: 0.7657\n",
      "Epoch 95/100\n",
      "21/21 [==============================] - 0s 522us/step - loss: 0.5087 - acc: 0.7596\n",
      "Epoch 96/100\n",
      "21/21 [==============================] - 0s 475us/step - loss: 0.5070 - acc: 0.7611\n",
      "Epoch 97/100\n",
      "21/21 [==============================] - 0s 475us/step - loss: 0.5093 - acc: 0.7611\n",
      "Epoch 98/100\n",
      "21/21 [==============================] - 0s 475us/step - loss: 0.5059 - acc: 0.7642\n",
      "Epoch 99/100\n",
      "21/21 [==============================] - 0s 522us/step - loss: 0.5051 - acc: 0.7611\n",
      "Epoch 100/100\n",
      "21/21 [==============================] - 0s 475us/step - loss: 0.5056 - acc: 0.7672\n"
     ]
    }
   ],
   "source": [
    "history = model.fit(x, y, epochs=100)"
   ]
  },
  {
   "cell_type": "code",
   "execution_count": 12,
   "id": "broken-denial",
   "metadata": {
    "ExecuteTime": {
     "end_time": "2022-07-22T11:36:47.975123Z",
     "start_time": "2022-07-22T11:36:47.960938Z"
    }
   },
   "outputs": [
    {
     "data": {
      "text/plain": [
       "dict_keys(['loss', 'acc'])"
      ]
     },
     "execution_count": 12,
     "metadata": {},
     "output_type": "execute_result"
    }
   ],
   "source": [
    "history.history.keys()"
   ]
  },
  {
   "cell_type": "code",
   "execution_count": 13,
   "id": "numerous-deviation",
   "metadata": {
    "ExecuteTime": {
     "end_time": "2022-07-22T11:36:48.101553Z",
     "start_time": "2022-07-22T11:36:47.977884Z"
    }
   },
   "outputs": [
    {
     "data": {
      "text/plain": [
       "[<matplotlib.lines.Line2D at 0x26e2d6d4430>]"
      ]
     },
     "execution_count": 13,
     "metadata": {},
     "output_type": "execute_result"
    },
    {
     "data": {
      "image/png": "[encoded data removed]",
      "text/plain": [
       "<Figure size 432x288 with 1 Axes>"
      ]
     },
     "metadata": {
      "needs_background": "light"
     },
     "output_type": "display_data"
    }
   ],
   "source": [
    "plt.plot(history.epoch, history.history.get('loss'))"
   ]
  },
  {
   "cell_type": "code",
   "execution_count": 14,
   "id": "stunning-valuable",
   "metadata": {
    "ExecuteTime": {
     "end_time": "2022-07-22T11:36:48.208539Z",
     "start_time": "2022-07-22T11:36:48.103560Z"
    }
   },
   "outputs": [
    {
     "data": {
      "text/plain": [
       "[<matplotlib.lines.Line2D at 0x26e2d79ed60>]"
      ]
     },
     "execution_count": 14,
     "metadata": {},
     "output_type": "execute_result"
    },
    {
     "data": {
      "image/png": "[encoded data removed]",
      "text/plain": [
       "<Figure size 432x288 with 1 Axes>"
      ]
     },
     "metadata": {
      "needs_background": "light"
     },
     "output_type": "display_data"
    }
   ],
   "source": [
    "plt.plot(history.epoch, history.history.get('acc'))"
   ]
  },
  {
   "cell_type": "code",
   "execution_count": null,
   "id": "strange-function",
   "metadata": {},
   "outputs": [],
   "source": []
  }
 ],
 "metadata": {
  "kernelspec": {
   "display_name": "Python 3",
   "language": "python",
   "name": "python3"
  },
  "language_info": {
   "codemirror_mode": {
    "name": "ipython",
    "version": 3
   },
   "file_extension": ".py",
   "mimetype": "text/x-python",
   "name": "python",
   "nbconvert_exporter": "python",
   "pygments_lexer": "ipython3",
   "version": "3.8.8"
  },
  "latex_envs": {
   "LaTeX_envs_menu_present": true,
   "autoclose": false,
   "autocomplete": true,
   "bibliofile": "biblio.bib",
   "cite_by": "apalike",
   "current_citInitial": 1,
   "eqLabelWithNumbers": true,
   "eqNumInitial": 1,
   "hotkeys": {
    "equation": "Ctrl-E",
    "itemize": "Ctrl-I"
   },
   "labels_anchors": false,
   "latex_user_defs": false,
   "report_style_numbering": false,
   "user_envs_cfg": false
  },
  "toc": {
   "base_numbering": 1,
   "nav_menu": {},
   "number_sections": true,
   "sideBar": true,
   "skip_h1_title": false,
   "title_cell": "Table of Contents",
   "title_sidebar": "Contents",
   "toc_cell": false,
   "toc_position": {},
   "toc_section_display": true,
   "toc_window_display": false
  },
  "varInspector": {
   "cols": {
    "lenName": 16,
    "lenType": 16,
    "lenVar": 40
   },
   "kernels_config": {
    "python": {
     "delete_cmd_postfix": "",
     "delete_cmd_prefix": "del ",
     "library": "var_list.py",
     "varRefreshCmd": "print(var_dic_list())"
    },
    "r": {
     "delete_cmd_postfix": ") ",
     "delete_cmd_prefix": "rm(",
     "library": "var_list.r",
     "varRefreshCmd": "cat(var_dic_list()) "
    }
   },
   "types_to_exclude": [
    "module",
    "function",
    "builtin_function_or_method",
    "instance",
    "_Feature"
   ],
   "window_display": false
  }
 },
 "nbformat": 4,
 "nbformat_minor": 5
}
