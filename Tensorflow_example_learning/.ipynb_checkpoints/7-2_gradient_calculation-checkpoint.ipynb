{
 "cells": [
  {
   "cell_type": "code",
   "execution_count": 1,
   "id": "thorough-theorem",
   "metadata": {
    "ExecuteTime": {
     "end_time": "2022-08-11T13:26:19.704522Z",
     "start_time": "2022-08-11T13:26:17.141141Z"
    }
   },
   "outputs": [],
   "source": [
    "import tensorflow as tf "
   ]
  },
  {
   "cell_type": "code",
   "execution_count": 2,
   "id": "statistical-response",
   "metadata": {
    "ExecuteTime": {
     "end_time": "2022-08-11T13:26:19.720477Z",
     "start_time": "2022-08-11T13:26:19.705430Z"
    }
   },
   "outputs": [
    {
     "data": {
      "text/plain": [
       "'2.3.0'"
      ]
     },
     "execution_count": 2,
     "metadata": {},
     "output_type": "execute_result"
    }
   ],
   "source": [
    "tf.__version__"
   ]
  },
  {
   "cell_type": "code",
   "execution_count": 3,
   "id": "bigger-marketplace",
   "metadata": {
    "ExecuteTime": {
     "end_time": "2022-08-11T13:26:19.736427Z",
     "start_time": "2022-08-11T13:26:19.722384Z"
    }
   },
   "outputs": [],
   "source": [
    "v = tf.Variable(0.0)"
   ]
  },
  {
   "cell_type": "code",
   "execution_count": 4,
   "id": "rotary-argentina",
   "metadata": {
    "ExecuteTime": {
     "end_time": "2022-08-11T13:26:19.751384Z",
     "start_time": "2022-08-11T13:26:19.738343Z"
    }
   },
   "outputs": [
    {
     "data": {
      "text/plain": [
       "<tf.Tensor: shape=(), dtype=float32, numpy=1.0>"
      ]
     },
     "execution_count": 4,
     "metadata": {},
     "output_type": "execute_result"
    }
   ],
   "source": [
    "v + 1"
   ]
  },
  {
   "cell_type": "code",
   "execution_count": 5,
   "id": "through-headset",
   "metadata": {
    "ExecuteTime": {
     "end_time": "2022-08-11T13:26:19.766471Z",
     "start_time": "2022-08-11T13:26:19.753340Z"
    }
   },
   "outputs": [
    {
     "data": {
      "text/plain": [
       "1.0"
      ]
     },
     "execution_count": 5,
     "metadata": {},
     "output_type": "execute_result"
    }
   ],
   "source": [
    "(v + 1).numpy()"
   ]
  },
  {
   "cell_type": "code",
   "execution_count": 6,
   "id": "posted-abortion",
   "metadata": {
    "ExecuteTime": {
     "end_time": "2022-08-11T13:26:19.782355Z",
     "start_time": "2022-08-11T13:26:19.769260Z"
    }
   },
   "outputs": [
    {
     "data": {
      "text/plain": [
       "<tf.Variable 'UnreadVariable' shape=() dtype=float32, numpy=5.0>"
      ]
     },
     "execution_count": 6,
     "metadata": {},
     "output_type": "execute_result"
    }
   ],
   "source": [
    "v.assign(5)"
   ]
  },
  {
   "cell_type": "code",
   "execution_count": 7,
   "id": "downtown-atmosphere",
   "metadata": {
    "ExecuteTime": {
     "end_time": "2022-08-11T13:26:19.798263Z",
     "start_time": "2022-08-11T13:26:19.784237Z"
    }
   },
   "outputs": [
    {
     "data": {
      "text/plain": [
       "<tf.Variable 'Variable:0' shape=() dtype=float32, numpy=5.0>"
      ]
     },
     "execution_count": 7,
     "metadata": {},
     "output_type": "execute_result"
    }
   ],
   "source": [
    "v"
   ]
  },
  {
   "cell_type": "code",
   "execution_count": 8,
   "id": "alive-murder",
   "metadata": {
    "ExecuteTime": {
     "end_time": "2022-08-11T13:26:19.814241Z",
     "start_time": "2022-08-11T13:26:19.801234Z"
    }
   },
   "outputs": [
    {
     "data": {
      "text/plain": [
       "<tf.Variable 'UnreadVariable' shape=() dtype=float32, numpy=6.0>"
      ]
     },
     "execution_count": 8,
     "metadata": {},
     "output_type": "execute_result"
    }
   ],
   "source": [
    "v.assign_add(1)"
   ]
  },
  {
   "cell_type": "code",
   "execution_count": 9,
   "id": "living-sheep",
   "metadata": {
    "ExecuteTime": {
     "end_time": "2022-08-11T13:26:19.830232Z",
     "start_time": "2022-08-11T13:26:19.816153Z"
    }
   },
   "outputs": [
    {
     "data": {
      "text/plain": [
       "<tf.Variable 'Variable:0' shape=() dtype=float32, numpy=6.0>"
      ]
     },
     "execution_count": 9,
     "metadata": {},
     "output_type": "execute_result"
    }
   ],
   "source": [
    "v"
   ]
  },
  {
   "cell_type": "code",
   "execution_count": 10,
   "id": "atmospheric-alloy",
   "metadata": {
    "ExecuteTime": {
     "end_time": "2022-08-11T13:26:19.846195Z",
     "start_time": "2022-08-11T13:26:19.831112Z"
    }
   },
   "outputs": [
    {
     "data": {
      "text/plain": [
       "<tf.Tensor: shape=(), dtype=float32, numpy=6.0>"
      ]
     },
     "execution_count": 10,
     "metadata": {},
     "output_type": "execute_result"
    }
   ],
   "source": [
    "v.read_value()"
   ]
  },
  {
   "cell_type": "code",
   "execution_count": 11,
   "id": "legislative-guarantee",
   "metadata": {
    "ExecuteTime": {
     "end_time": "2022-08-11T13:26:19.862059Z",
     "start_time": "2022-08-11T13:26:19.847069Z"
    }
   },
   "outputs": [],
   "source": [
    "w = tf.Variable([[1.0]])\n",
    "with tf.GradientTape() as tape:\n",
    "    loss = w * w"
   ]
  },
  {
   "cell_type": "code",
   "execution_count": 12,
   "id": "mysterious-puzzle",
   "metadata": {
    "ExecuteTime": {
     "end_time": "2022-08-11T13:26:19.893325Z",
     "start_time": "2022-08-11T13:26:19.863026Z"
    }
   },
   "outputs": [],
   "source": [
    "grad = tape.gradient(loss, w)"
   ]
  },
  {
   "cell_type": "code",
   "execution_count": 13,
   "id": "informal-release",
   "metadata": {
    "ExecuteTime": {
     "end_time": "2022-08-11T13:26:19.908251Z",
     "start_time": "2022-08-11T13:26:19.895286Z"
    }
   },
   "outputs": [
    {
     "data": {
      "text/plain": [
       "<tf.Tensor: shape=(1, 1), dtype=float32, numpy=array([[2.]], dtype=float32)>"
      ]
     },
     "execution_count": 13,
     "metadata": {},
     "output_type": "execute_result"
    }
   ],
   "source": [
    "grad"
   ]
  },
  {
   "cell_type": "code",
   "execution_count": 14,
   "id": "liable-smile",
   "metadata": {
    "ExecuteTime": {
     "end_time": "2022-08-11T13:26:19.923335Z",
     "start_time": "2022-08-11T13:26:19.910245Z"
    }
   },
   "outputs": [],
   "source": [
    "c = tf.constant(3.0)\n",
    "with tf.GradientTape() as t:\n",
    "    t.watch(c)\n",
    "    c_loss = c * c"
   ]
  },
  {
   "cell_type": "code",
   "execution_count": 15,
   "id": "contained-arthur",
   "metadata": {
    "ExecuteTime": {
     "end_time": "2022-08-11T13:26:19.939302Z",
     "start_time": "2022-08-11T13:26:19.926203Z"
    }
   },
   "outputs": [],
   "source": [
    "c_grad = t.gradient(c_loss, c)"
   ]
  },
  {
   "cell_type": "code",
   "execution_count": 16,
   "id": "private-helena",
   "metadata": {
    "ExecuteTime": {
     "end_time": "2022-08-11T13:26:19.955246Z",
     "start_time": "2022-08-11T13:26:19.941199Z"
    }
   },
   "outputs": [
    {
     "data": {
      "text/plain": [
       "<tf.Tensor: shape=(), dtype=float32, numpy=6.0>"
      ]
     },
     "execution_count": 16,
     "metadata": {},
     "output_type": "execute_result"
    }
   ],
   "source": [
    "c_grad"
   ]
  },
  {
   "cell_type": "code",
   "execution_count": 17,
   "id": "rising-eating",
   "metadata": {
    "ExecuteTime": {
     "end_time": "2022-08-11T13:26:19.971082Z",
     "start_time": "2022-08-11T13:26:19.958118Z"
    }
   },
   "outputs": [],
   "source": [
    "x = tf.constant(3.0)\n",
    "with tf.GradientTape(persistent=True) as tp:\n",
    "    tp.watch(x)\n",
    "    y = x * x\n",
    "    z = y * y"
   ]
  },
  {
   "cell_type": "code",
   "execution_count": 18,
   "id": "otherwise-meeting",
   "metadata": {
    "ExecuteTime": {
     "end_time": "2022-08-11T13:26:19.987116Z",
     "start_time": "2022-08-11T13:26:19.972080Z"
    }
   },
   "outputs": [],
   "source": [
    "dy_dx = tp.gradient(y, x)"
   ]
  },
  {
   "cell_type": "code",
   "execution_count": 19,
   "id": "super-clearance",
   "metadata": {
    "ExecuteTime": {
     "end_time": "2022-08-11T13:26:20.003089Z",
     "start_time": "2022-08-11T13:26:19.988193Z"
    }
   },
   "outputs": [
    {
     "data": {
      "text/plain": [
       "<tf.Tensor: shape=(), dtype=float32, numpy=6.0>"
      ]
     },
     "execution_count": 19,
     "metadata": {},
     "output_type": "execute_result"
    }
   ],
   "source": [
    "dy_dx"
   ]
  },
  {
   "cell_type": "code",
   "execution_count": 20,
   "id": "about-savannah",
   "metadata": {
    "ExecuteTime": {
     "end_time": "2022-08-11T13:26:20.019068Z",
     "start_time": "2022-08-11T13:26:20.004992Z"
    }
   },
   "outputs": [],
   "source": [
    "dz_dy = tp.gradient(z, y)"
   ]
  },
  {
   "cell_type": "code",
   "execution_count": 21,
   "id": "conservative-focus",
   "metadata": {
    "ExecuteTime": {
     "end_time": "2022-08-11T13:26:20.033982Z",
     "start_time": "2022-08-11T13:26:20.019952Z"
    }
   },
   "outputs": [
    {
     "data": {
      "text/plain": [
       "<tf.Tensor: shape=(), dtype=float32, numpy=18.0>"
      ]
     },
     "execution_count": 21,
     "metadata": {},
     "output_type": "execute_result"
    }
   ],
   "source": [
    "dz_dy"
   ]
  },
  {
   "cell_type": "code",
   "execution_count": 22,
   "id": "false-residence",
   "metadata": {
    "ExecuteTime": {
     "end_time": "2022-08-11T13:26:20.048997Z",
     "start_time": "2022-08-11T13:26:20.034912Z"
    }
   },
   "outputs": [],
   "source": [
    "dz_dx = tp.gradient(z, x)"
   ]
  },
  {
   "cell_type": "code",
   "execution_count": 23,
   "id": "grateful-contrary",
   "metadata": {
    "ExecuteTime": {
     "end_time": "2022-08-11T13:26:20.063912Z",
     "start_time": "2022-08-11T13:26:20.052864Z"
    }
   },
   "outputs": [
    {
     "data": {
      "text/plain": [
       "<tf.Tensor: shape=(), dtype=float32, numpy=108.0>"
      ]
     },
     "execution_count": 23,
     "metadata": {},
     "output_type": "execute_result"
    }
   ],
   "source": [
    "dz_dx"
   ]
  },
  {
   "cell_type": "code",
   "execution_count": null,
   "id": "separate-chester",
   "metadata": {},
   "outputs": [],
   "source": []
  }
 ],
 "metadata": {
  "kernelspec": {
   "display_name": "Python 3",
   "language": "python",
   "name": "python3"
  },
  "language_info": {
   "codemirror_mode": {
    "name": "ipython",
    "version": 3
   },
   "file_extension": ".py",
   "mimetype": "text/x-python",
   "name": "python",
   "nbconvert_exporter": "python",
   "pygments_lexer": "ipython3",
   "version": "3.8.8"
  },
  "latex_envs": {
   "LaTeX_envs_menu_present": true,
   "autoclose": false,
   "autocomplete": true,
   "bibliofile": "biblio.bib",
   "cite_by": "apalike",
   "current_citInitial": 1,
   "eqLabelWithNumbers": true,
   "eqNumInitial": 1,
   "hotkeys": {
    "equation": "Ctrl-E",
    "itemize": "Ctrl-I"
   },
   "labels_anchors": false,
   "latex_user_defs": false,
   "report_style_numbering": false,
   "user_envs_cfg": false
  },
  "toc": {
   "base_numbering": 1,
   "nav_menu": {},
   "number_sections": true,
   "sideBar": true,
   "skip_h1_title": false,
   "title_cell": "Table of Contents",
   "title_sidebar": "Contents",
   "toc_cell": false,
   "toc_position": {},
   "toc_section_display": true,
   "toc_window_display": false
  },
  "varInspector": {
   "cols": {
    "lenName": 16,
    "lenType": 16,
    "lenVar": 40
   },
   "kernels_config": {
    "python": {
     "delete_cmd_postfix": "",
     "delete_cmd_prefix": "del ",
     "library": "var_list.py",
     "varRefreshCmd": "print(var_dic_list())"
    },
    "r": {
     "delete_cmd_postfix": ") ",
     "delete_cmd_prefix": "rm(",
     "library": "var_list.r",
     "varRefreshCmd": "cat(var_dic_list()) "
    }
   },
   "types_to_exclude": [
    "module",
    "function",
    "builtin_function_or_method",
    "instance",
    "_Feature"
   ],
   "window_display": false
  }
 },
 "nbformat": 4,
 "nbformat_minor": 5
}
