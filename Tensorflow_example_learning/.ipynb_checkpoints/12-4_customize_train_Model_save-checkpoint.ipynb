{
 "cells": [
  {
   "cell_type": "code",
   "execution_count": 1,
   "id": "realistic-swift",
   "metadata": {
    "ExecuteTime": {
     "end_time": "2022-08-21T14:31:09.653024Z",
     "start_time": "2022-08-21T14:31:07.349684Z"
    }
   },
   "outputs": [],
   "source": [
    "import tensorflow as tf \n",
    "import pandas as pd \n",
    "import numpy as np \n",
    "import os \n",
    "import matplotlib.pyplot as plt\n",
    "%matplotlib inline "
   ]
  },
  {
   "cell_type": "code",
   "execution_count": 2,
   "id": "residential-communication",
   "metadata": {
    "ExecuteTime": {
     "end_time": "2022-08-21T14:31:09.684513Z",
     "start_time": "2022-08-21T14:31:09.658836Z"
    }
   },
   "outputs": [
    {
     "data": {
      "text/plain": [
       "'2.3.0'"
      ]
     },
     "execution_count": 2,
     "metadata": {},
     "output_type": "execute_result"
    }
   ],
   "source": [
    "tf.__version__"
   ]
  },
  {
   "cell_type": "code",
   "execution_count": 3,
   "id": "vocational-moderator",
   "metadata": {
    "ExecuteTime": {
     "end_time": "2022-08-21T14:31:10.043903Z",
     "start_time": "2022-08-21T14:31:09.686505Z"
    }
   },
   "outputs": [],
   "source": [
    "(train_image, train_label), (test_image, test_label) = tf.keras.datasets.fashion_mnist.load_data()"
   ]
  },
  {
   "cell_type": "code",
   "execution_count": 4,
   "id": "together-comparison",
   "metadata": {
    "ExecuteTime": {
     "end_time": "2022-08-21T14:31:10.184586Z",
     "start_time": "2022-08-21T14:31:10.045761Z"
    }
   },
   "outputs": [],
   "source": [
    "train_image = train_image/255\n",
    "test_image = test_image/255"
   ]
  },
  {
   "cell_type": "markdown",
   "id": "contrary-gentleman",
   "metadata": {
    "ExecuteTime": {
     "end_time": "2022-08-21T14:24:08.702869Z",
     "start_time": "2022-08-21T14:24:08.694797Z"
    }
   },
   "source": [
    "# train model"
   ]
  },
  {
   "cell_type": "code",
   "execution_count": 5,
   "id": "difficult-thailand",
   "metadata": {
    "ExecuteTime": {
     "end_time": "2022-08-21T14:31:10.215668Z",
     "start_time": "2022-08-21T14:31:10.185514Z"
    }
   },
   "outputs": [],
   "source": [
    "model = tf.keras.Sequential()\n",
    "model.add(tf.keras.layers.Flatten(input_shape=(28,28)))\n",
    "model.add(tf.keras.layers.Dense(128, activation='relu'))\n",
    "model.add(tf.keras.layers.Dense(10, activation='softmax'))"
   ]
  },
  {
   "cell_type": "code",
   "execution_count": 6,
   "id": "virgin-northwest",
   "metadata": {
    "ExecuteTime": {
     "end_time": "2022-08-21T14:31:10.230690Z",
     "start_time": "2022-08-21T14:31:10.217406Z"
    }
   },
   "outputs": [
    {
     "name": "stdout",
     "output_type": "stream",
     "text": [
      "Model: \"sequential\"\n",
      "_________________________________________________________________\n",
      "Layer (type)                 Output Shape              Param #   \n",
      "=================================================================\n",
      "flatten (Flatten)            (None, 784)               0         \n",
      "_________________________________________________________________\n",
      "dense (Dense)                (None, 128)               100480    \n",
      "_________________________________________________________________\n",
      "dense_1 (Dense)              (None, 10)                1290      \n",
      "=================================================================\n",
      "Total params: 101,770\n",
      "Trainable params: 101,770\n",
      "Non-trainable params: 0\n",
      "_________________________________________________________________\n"
     ]
    }
   ],
   "source": [
    "model.summary()"
   ]
  },
  {
   "cell_type": "code",
   "execution_count": 7,
   "id": "boolean-roads",
   "metadata": {
    "ExecuteTime": {
     "end_time": "2022-08-21T14:31:10.245811Z",
     "start_time": "2022-08-21T14:31:10.231402Z"
    }
   },
   "outputs": [],
   "source": [
    "optimizer = tf.keras.optimizers.Adam()"
   ]
  },
  {
   "cell_type": "code",
   "execution_count": 8,
   "id": "673a335f",
   "metadata": {
    "ExecuteTime": {
     "end_time": "2022-08-21T14:31:10.261898Z",
     "start_time": "2022-08-21T14:31:10.246813Z"
    }
   },
   "outputs": [],
   "source": [
    "loss_func = tf.keras.losses.SparseCategoricalCrossentropy(from_logits=True)"
   ]
  },
  {
   "cell_type": "code",
   "execution_count": 9,
   "id": "9946a4ba",
   "metadata": {
    "ExecuteTime": {
     "end_time": "2022-08-21T14:31:10.293111Z",
     "start_time": "2022-08-21T14:31:10.263769Z"
    }
   },
   "outputs": [],
   "source": [
    "train_loss = tf.keras.metrics.Mean('train_loss', dtype=tf.float32)\n",
    "train_accuracy = tf.keras.metrics.SparseCategoricalAccuracy('train_accuracy')\n",
    "test_loss = tf.keras.metrics.Mean('test_loss', dtype=tf.float32)\n",
    "test_accuracy = tf.keras.metrics.SparseCategoricalAccuracy('test_accuracy')"
   ]
  },
  {
   "cell_type": "code",
   "execution_count": 10,
   "id": "6efcf1b2",
   "metadata": {
    "ExecuteTime": {
     "end_time": "2022-08-21T14:31:10.308390Z",
     "start_time": "2022-08-21T14:31:10.295109Z"
    }
   },
   "outputs": [],
   "source": [
    "def train_step(model, images, labels):\n",
    "    with tf.GradientTape() as tape:\n",
    "        pred = model(images)\n",
    "        loss_step = loss_func(labels, pred)\n",
    "    grads = tape.gradient(loss_step, model.trainable_variables)\n",
    "    optimizer.apply_gradients(zip(grads, model.trainable_variables))\n",
    "    train_loss(loss_step)\n",
    "    train_accuracy(labels, pred)"
   ]
  },
  {
   "cell_type": "code",
   "execution_count": 11,
   "id": "f24107d2",
   "metadata": {
    "ExecuteTime": {
     "end_time": "2022-08-21T14:31:10.324248Z",
     "start_time": "2022-08-21T14:31:10.309396Z"
    }
   },
   "outputs": [],
   "source": [
    "dataset = tf.data.Dataset.from_tensor_slices((train_image, train_label))"
   ]
  },
  {
   "cell_type": "code",
   "execution_count": 12,
   "id": "2460f3e5",
   "metadata": {
    "ExecuteTime": {
     "end_time": "2022-08-21T14:31:10.340265Z",
     "start_time": "2022-08-21T14:31:10.325236Z"
    }
   },
   "outputs": [],
   "source": [
    "dataset = dataset.shuffle(10000).batch(32)"
   ]
  },
  {
   "cell_type": "code",
   "execution_count": 13,
   "id": "15c69425",
   "metadata": {
    "ExecuteTime": {
     "end_time": "2022-08-21T14:31:10.356326Z",
     "start_time": "2022-08-21T14:31:10.341405Z"
    }
   },
   "outputs": [],
   "source": [
    "cp_dir = './customize_train_cp'\n",
    "cp_prefix = os.path.join(cp_dir, 'ckpt')"
   ]
  },
  {
   "cell_type": "code",
   "execution_count": 14,
   "id": "d489e6e0",
   "metadata": {
    "ExecuteTime": {
     "end_time": "2022-08-21T14:31:10.372288Z",
     "start_time": "2022-08-21T14:31:10.357189Z"
    }
   },
   "outputs": [],
   "source": [
    "checkpoint = tf.train.Checkpoint(optimizer=optimizer,\n",
    "                                model=model)"
   ]
  },
  {
   "cell_type": "code",
   "execution_count": 15,
   "id": "dd17eba6",
   "metadata": {
    "ExecuteTime": {
     "end_time": "2022-08-21T14:31:10.387564Z",
     "start_time": "2022-08-21T14:31:10.373216Z"
    }
   },
   "outputs": [],
   "source": [
    "def train(epochs):\n",
    "    for epoch in range(epochs):\n",
    "        for (batch_index, (images, labels)) in enumerate(dataset):\n",
    "            train_step(model, images, labels)\n",
    "        print('Epoch{} loss is {}'.format(epoch, train_loss.result()))\n",
    "        print('Epoch{} Accuracy is {}'.format(epoch, train_accuracy.result()))\n",
    "        train_loss.reset_states()\n",
    "        train_accuracy.reset_states()\n",
    "        if (epoch + 1) % 2 == 0:\n",
    "            checkpoint.save(file_prefix = cp_prefix)"
   ]
  },
  {
   "cell_type": "code",
   "execution_count": 16,
   "id": "960953da",
   "metadata": {
    "ExecuteTime": {
     "end_time": "2022-08-21T14:31:59.350025Z",
     "start_time": "2022-08-21T14:31:10.389206Z"
    },
    "scrolled": false
   },
   "outputs": [
    {
     "name": "stdout",
     "output_type": "stream",
     "text": [
      "Epoch0 loss is 1.7492755651474\n",
      "Epoch0 Accuracy is 0.7183666825294495\n",
      "Epoch1 loss is 1.7082139253616333\n",
      "Epoch1 Accuracy is 0.7535833120346069\n",
      "Epoch2 loss is 1.6982461214065552\n",
      "Epoch2 Accuracy is 0.7616000175476074\n",
      "Epoch3 loss is 1.6113578081130981\n",
      "Epoch3 Accuracy is 0.8507333397865295\n",
      "Epoch4 loss is 1.5954569578170776\n",
      "Epoch4 Accuracy is 0.8668666481971741\n"
     ]
    }
   ],
   "source": [
    "train(5)"
   ]
  },
  {
   "cell_type": "markdown",
   "id": "northern-safety",
   "metadata": {
    "ExecuteTime": {
     "end_time": "2022-08-21T14:20:53.058250Z",
     "start_time": "2022-08-21T14:20:53.053263Z"
    }
   },
   "source": [
    "# load model"
   ]
  },
  {
   "cell_type": "code",
   "execution_count": 17,
   "id": "corrected-henry",
   "metadata": {
    "ExecuteTime": {
     "end_time": "2022-08-21T14:31:59.380207Z",
     "start_time": "2022-08-21T14:31:59.352022Z"
    }
   },
   "outputs": [],
   "source": [
    "load_model = tf.keras.Sequential()\n",
    "load_model.add(tf.keras.layers.Flatten(input_shape=(28,28)))\n",
    "load_model.add(tf.keras.layers.Dense(128, activation='relu'))\n",
    "load_model.add(tf.keras.layers.Dense(10, activation='softmax'))"
   ]
  },
  {
   "cell_type": "code",
   "execution_count": 18,
   "id": "acknowledged-possibility",
   "metadata": {
    "ExecuteTime": {
     "end_time": "2022-08-21T14:31:59.395409Z",
     "start_time": "2022-08-21T14:31:59.381120Z"
    }
   },
   "outputs": [],
   "source": [
    "load_checkpoint = tf.train.Checkpoint(optimizer=optimizer,\n",
    "                                model=load_model)"
   ]
  },
  {
   "cell_type": "code",
   "execution_count": 19,
   "id": "characteristic-tomato",
   "metadata": {
    "ExecuteTime": {
     "end_time": "2022-08-21T14:31:59.411390Z",
     "start_time": "2022-08-21T14:31:59.396299Z"
    }
   },
   "outputs": [
    {
     "data": {
      "text/plain": [
       "'./customize_train_cp\\\\ckpt-2'"
      ]
     },
     "execution_count": 19,
     "metadata": {},
     "output_type": "execute_result"
    }
   ],
   "source": [
    "tf.train.latest_checkpoint(cp_dir)"
   ]
  },
  {
   "cell_type": "code",
   "execution_count": 20,
   "id": "finite-tennessee",
   "metadata": {
    "ExecuteTime": {
     "end_time": "2022-08-21T14:31:59.490387Z",
     "start_time": "2022-08-21T14:31:59.412298Z"
    }
   },
   "outputs": [
    {
     "data": {
      "text/plain": [
       "<tensorflow.python.training.tracking.util.CheckpointLoadStatus at 0x1981306ef10>"
      ]
     },
     "execution_count": 20,
     "metadata": {},
     "output_type": "execute_result"
    }
   ],
   "source": [
    "load_checkpoint.restore(tf.train.latest_checkpoint(cp_dir))"
   ]
  },
  {
   "cell_type": "code",
   "execution_count": 21,
   "id": "vocal-equity",
   "metadata": {
    "ExecuteTime": {
     "end_time": "2022-08-21T14:31:59.662594Z",
     "start_time": "2022-08-21T14:31:59.492299Z"
    }
   },
   "outputs": [
    {
     "data": {
      "text/plain": [
       "array([9, 0, 0, ..., 3, 0, 5], dtype=int64)"
      ]
     },
     "execution_count": 21,
     "metadata": {},
     "output_type": "execute_result"
    }
   ],
   "source": [
    "tf.argmax(load_model(train_image, training=False), axis=-1).numpy()"
   ]
  },
  {
   "cell_type": "code",
   "execution_count": 22,
   "id": "legal-bidder",
   "metadata": {
    "ExecuteTime": {
     "end_time": "2022-08-21T14:31:59.677386Z",
     "start_time": "2022-08-21T14:31:59.666415Z"
    }
   },
   "outputs": [
    {
     "data": {
      "text/plain": [
       "array([9, 0, 0, ..., 3, 0, 5], dtype=uint8)"
      ]
     },
     "execution_count": 22,
     "metadata": {},
     "output_type": "execute_result"
    }
   ],
   "source": [
    "train_label"
   ]
  },
  {
   "cell_type": "code",
   "execution_count": 23,
   "id": "economic-shipping",
   "metadata": {
    "ExecuteTime": {
     "end_time": "2022-08-21T14:31:59.893592Z",
     "start_time": "2022-08-21T14:31:59.680376Z"
    }
   },
   "outputs": [
    {
     "data": {
      "text/plain": [
       "0.8601333333333333"
      ]
     },
     "execution_count": 23,
     "metadata": {},
     "output_type": "execute_result"
    }
   ],
   "source": [
    "(tf.argmax(load_model(train_image, training=False), axis=-1).numpy() == train_label).sum()/len(train_label)"
   ]
  },
  {
   "cell_type": "code",
   "execution_count": null,
   "id": "handed-delight",
   "metadata": {},
   "outputs": [],
   "source": []
  }
 ],
 "metadata": {
  "kernelspec": {
   "display_name": "Python 3",
   "language": "python",
   "name": "python3"
  },
  "language_info": {
   "codemirror_mode": {
    "name": "ipython",
    "version": 3
   },
   "file_extension": ".py",
   "mimetype": "text/x-python",
   "name": "python",
   "nbconvert_exporter": "python",
   "pygments_lexer": "ipython3",
   "version": "3.8.8"
  },
  "latex_envs": {
   "LaTeX_envs_menu_present": true,
   "autoclose": false,
   "autocomplete": true,
   "bibliofile": "biblio.bib",
   "cite_by": "apalike",
   "current_citInitial": 1,
   "eqLabelWithNumbers": true,
   "eqNumInitial": 1,
   "hotkeys": {
    "equation": "Ctrl-E",
    "itemize": "Ctrl-I"
   },
   "labels_anchors": false,
   "latex_user_defs": false,
   "report_style_numbering": false,
   "user_envs_cfg": false
  },
  "toc": {
   "base_numbering": 1,
   "nav_menu": {},
   "number_sections": true,
   "sideBar": true,
   "skip_h1_title": false,
   "title_cell": "Table of Contents",
   "title_sidebar": "Contents",
   "toc_cell": false,
   "toc_position": {},
   "toc_section_display": true,
   "toc_window_display": false
  },
  "varInspector": {
   "cols": {
    "lenName": 16,
    "lenType": 16,
    "lenVar": 40
   },
   "kernels_config": {
    "python": {
     "delete_cmd_postfix": "",
     "delete_cmd_prefix": "del ",
     "library": "var_list.py",
     "varRefreshCmd": "print(var_dic_list())"
    },
    "r": {
     "delete_cmd_postfix": ") ",
     "delete_cmd_prefix": "rm(",
     "library": "var_list.r",
     "varRefreshCmd": "cat(var_dic_list()) "
    }
   },
   "types_to_exclude": [
    "module",
    "function",
    "builtin_function_or_method",
    "instance",
    "_Feature"
   ],
   "window_display": false
  }
 },
 "nbformat": 4,
 "nbformat_minor": 5
}
