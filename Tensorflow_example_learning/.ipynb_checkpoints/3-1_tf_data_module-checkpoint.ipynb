{
 "cells": [
  {
   "cell_type": "code",
   "execution_count": 1,
   "id": "iraqi-nepal",
   "metadata": {
    "ExecuteTime": {
     "end_time": "2022-08-01T14:05:23.627340Z",
     "start_time": "2022-08-01T14:05:21.488128Z"
    }
   },
   "outputs": [],
   "source": [
    "import tensorflow as tf "
   ]
  },
  {
   "cell_type": "code",
   "execution_count": 2,
   "id": "divine-preliminary",
   "metadata": {
    "ExecuteTime": {
     "end_time": "2022-08-01T14:05:23.643140Z",
     "start_time": "2022-08-01T14:05:23.628208Z"
    }
   },
   "outputs": [
    {
     "data": {
      "text/plain": [
       "'2.3.0'"
      ]
     },
     "execution_count": 2,
     "metadata": {},
     "output_type": "execute_result"
    }
   ],
   "source": [
    "tf.__version__"
   ]
  },
  {
   "cell_type": "code",
   "execution_count": 3,
   "id": "usual-orbit",
   "metadata": {
    "ExecuteTime": {
     "end_time": "2022-08-01T14:05:23.658614Z",
     "start_time": "2022-08-01T14:05:23.644137Z"
    }
   },
   "outputs": [],
   "source": [
    "dataset = tf.data.Dataset.from_tensor_slices([1, 2, 3, 4, 5, 6, 7])"
   ]
  },
  {
   "cell_type": "code",
   "execution_count": 4,
   "id": "theoretical-sellers",
   "metadata": {
    "ExecuteTime": {
     "end_time": "2022-08-01T14:05:23.674253Z",
     "start_time": "2022-08-01T14:05:23.662141Z"
    }
   },
   "outputs": [
    {
     "data": {
      "text/plain": [
       "<TensorSliceDataset shapes: (), types: tf.int32>"
      ]
     },
     "execution_count": 4,
     "metadata": {},
     "output_type": "execute_result"
    }
   ],
   "source": [
    "dataset"
   ]
  },
  {
   "cell_type": "code",
   "execution_count": 5,
   "id": "qualified-helmet",
   "metadata": {
    "ExecuteTime": {
     "end_time": "2022-08-01T14:05:23.689917Z",
     "start_time": "2022-08-01T14:05:23.675955Z"
    }
   },
   "outputs": [
    {
     "name": "stdout",
     "output_type": "stream",
     "text": [
      "tf.Tensor(1, shape=(), dtype=int32)\n",
      "1\n",
      "tf.Tensor(2, shape=(), dtype=int32)\n",
      "2\n",
      "tf.Tensor(3, shape=(), dtype=int32)\n",
      "3\n",
      "tf.Tensor(4, shape=(), dtype=int32)\n",
      "4\n",
      "tf.Tensor(5, shape=(), dtype=int32)\n",
      "5\n",
      "tf.Tensor(6, shape=(), dtype=int32)\n",
      "6\n",
      "tf.Tensor(7, shape=(), dtype=int32)\n",
      "7\n"
     ]
    }
   ],
   "source": [
    "for ele in dataset:\n",
    "    print(ele)\n",
    "    print(ele.numpy())"
   ]
  },
  {
   "cell_type": "code",
   "execution_count": 6,
   "id": "natural-circulation",
   "metadata": {
    "ExecuteTime": {
     "end_time": "2022-08-01T14:05:23.705224Z",
     "start_time": "2022-08-01T14:05:23.690914Z"
    }
   },
   "outputs": [],
   "source": [
    "dataset = tf.data.Dataset.from_tensor_slices([[1, 2], [3, 4], [5, 6]])"
   ]
  },
  {
   "cell_type": "code",
   "execution_count": 7,
   "id": "recent-shareware",
   "metadata": {
    "ExecuteTime": {
     "end_time": "2022-08-01T14:05:23.720836Z",
     "start_time": "2022-08-01T14:05:23.707683Z"
    }
   },
   "outputs": [
    {
     "data": {
      "text/plain": [
       "<TensorSliceDataset shapes: (2,), types: tf.int32>"
      ]
     },
     "execution_count": 7,
     "metadata": {},
     "output_type": "execute_result"
    }
   ],
   "source": [
    "dataset"
   ]
  },
  {
   "cell_type": "code",
   "execution_count": 8,
   "id": "other-identifier",
   "metadata": {
    "ExecuteTime": {
     "end_time": "2022-08-01T14:05:23.736769Z",
     "start_time": "2022-08-01T14:05:23.721805Z"
    }
   },
   "outputs": [
    {
     "name": "stdout",
     "output_type": "stream",
     "text": [
      "tf.Tensor([1 2], shape=(2,), dtype=int32)\n",
      "[1 2]\n",
      "tf.Tensor([3 4], shape=(2,), dtype=int32)\n",
      "[3 4]\n",
      "tf.Tensor([5 6], shape=(2,), dtype=int32)\n",
      "[5 6]\n"
     ]
    }
   ],
   "source": [
    "for ele in dataset:\n",
    "    print(ele)\n",
    "    print(ele.numpy())"
   ]
  },
  {
   "cell_type": "code",
   "execution_count": 9,
   "id": "attended-latter",
   "metadata": {
    "ExecuteTime": {
     "end_time": "2022-08-01T14:05:23.751893Z",
     "start_time": "2022-08-01T14:05:23.740787Z"
    }
   },
   "outputs": [],
   "source": [
    "dataset_dic = tf.data.Dataset.from_tensor_slices({'a':[1,2,3,4],\n",
    "                                                 'b':[6,7,8,9],\n",
    "                                                 'c':[12,13,14,15]})"
   ]
  },
  {
   "cell_type": "code",
   "execution_count": 10,
   "id": "portuguese-genre",
   "metadata": {
    "ExecuteTime": {
     "end_time": "2022-08-01T14:05:23.767867Z",
     "start_time": "2022-08-01T14:05:23.754886Z"
    }
   },
   "outputs": [
    {
     "data": {
      "text/plain": [
       "<TensorSliceDataset shapes: {a: (), b: (), c: ()}, types: {a: tf.int32, b: tf.int32, c: tf.int32}>"
      ]
     },
     "execution_count": 10,
     "metadata": {},
     "output_type": "execute_result"
    }
   ],
   "source": [
    "dataset_dic"
   ]
  },
  {
   "cell_type": "code",
   "execution_count": 11,
   "id": "aggressive-detector",
   "metadata": {
    "ExecuteTime": {
     "end_time": "2022-08-01T14:05:23.783848Z",
     "start_time": "2022-08-01T14:05:23.768864Z"
    }
   },
   "outputs": [
    {
     "name": "stdout",
     "output_type": "stream",
     "text": [
      "{'a': <tf.Tensor: shape=(), dtype=int32, numpy=1>, 'b': <tf.Tensor: shape=(), dtype=int32, numpy=6>, 'c': <tf.Tensor: shape=(), dtype=int32, numpy=12>}\n",
      "{'a': <tf.Tensor: shape=(), dtype=int32, numpy=2>, 'b': <tf.Tensor: shape=(), dtype=int32, numpy=7>, 'c': <tf.Tensor: shape=(), dtype=int32, numpy=13>}\n",
      "{'a': <tf.Tensor: shape=(), dtype=int32, numpy=3>, 'b': <tf.Tensor: shape=(), dtype=int32, numpy=8>, 'c': <tf.Tensor: shape=(), dtype=int32, numpy=14>}\n",
      "{'a': <tf.Tensor: shape=(), dtype=int32, numpy=4>, 'b': <tf.Tensor: shape=(), dtype=int32, numpy=9>, 'c': <tf.Tensor: shape=(), dtype=int32, numpy=15>}\n"
     ]
    }
   ],
   "source": [
    "for ele in dataset_dic:\n",
    "    print(ele)"
   ]
  },
  {
   "cell_type": "code",
   "execution_count": null,
   "id": "complex-jaguar",
   "metadata": {},
   "outputs": [],
   "source": []
  }
 ],
 "metadata": {
  "kernelspec": {
   "display_name": "Python 3",
   "language": "python",
   "name": "python3"
  },
  "language_info": {
   "codemirror_mode": {
    "name": "ipython",
    "version": 3
   },
   "file_extension": ".py",
   "mimetype": "text/x-python",
   "name": "python",
   "nbconvert_exporter": "python",
   "pygments_lexer": "ipython3",
   "version": "3.8.8"
  },
  "latex_envs": {
   "LaTeX_envs_menu_present": true,
   "autoclose": false,
   "autocomplete": true,
   "bibliofile": "biblio.bib",
   "cite_by": "apalike",
   "current_citInitial": 1,
   "eqLabelWithNumbers": true,
   "eqNumInitial": 1,
   "hotkeys": {
    "equation": "Ctrl-E",
    "itemize": "Ctrl-I"
   },
   "labels_anchors": false,
   "latex_user_defs": false,
   "report_style_numbering": false,
   "user_envs_cfg": false
  },
  "toc": {
   "base_numbering": 1,
   "nav_menu": {},
   "number_sections": true,
   "sideBar": true,
   "skip_h1_title": false,
   "title_cell": "Table of Contents",
   "title_sidebar": "Contents",
   "toc_cell": false,
   "toc_position": {},
   "toc_section_display": true,
   "toc_window_display": false
  },
  "varInspector": {
   "cols": {
    "lenName": 16,
    "lenType": 16,
    "lenVar": 40
   },
   "kernels_config": {
    "python": {
     "delete_cmd_postfix": "",
     "delete_cmd_prefix": "del ",
     "library": "var_list.py",
     "varRefreshCmd": "print(var_dic_list())"
    },
    "r": {
     "delete_cmd_postfix": ") ",
     "delete_cmd_prefix": "rm(",
     "library": "var_list.r",
     "varRefreshCmd": "cat(var_dic_list()) "
    }
   },
   "types_to_exclude": [
    "module",
    "function",
    "builtin_function_or_method",
    "instance",
    "_Feature"
   ],
   "window_display": false
  }
 },
 "nbformat": 4,
 "nbformat_minor": 5
}
