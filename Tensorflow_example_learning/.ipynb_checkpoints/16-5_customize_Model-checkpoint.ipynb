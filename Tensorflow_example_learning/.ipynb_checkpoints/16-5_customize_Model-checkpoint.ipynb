{
 "cells": [
  {
   "cell_type": "code",
   "execution_count": 1,
   "id": "mediterranean-constant",
   "metadata": {
    "ExecuteTime": {
     "end_time": "2022-08-26T13:38:06.474424Z",
     "start_time": "2022-08-26T13:38:03.857670Z"
    }
   },
   "outputs": [],
   "source": [
    "import tensorflow as tf \n",
    "from tensorflow import keras"
   ]
  },
  {
   "cell_type": "code",
   "execution_count": 2,
   "id": "rational-compiler",
   "metadata": {
    "ExecuteTime": {
     "end_time": "2022-08-26T13:38:06.489902Z",
     "start_time": "2022-08-26T13:38:06.475269Z"
    }
   },
   "outputs": [
    {
     "data": {
      "text/plain": [
       "'2.3.0'"
      ]
     },
     "execution_count": 2,
     "metadata": {},
     "output_type": "execute_result"
    }
   ],
   "source": [
    "tf.__version__"
   ]
  },
  {
   "cell_type": "markdown",
   "id": "impressed-crossing",
   "metadata": {},
   "source": [
    "# 自定义模型和组合层很类似"
   ]
  },
  {
   "cell_type": "code",
   "execution_count": 3,
   "id": "constant-elite",
   "metadata": {
    "ExecuteTime": {
     "end_time": "2022-08-26T13:38:06.505581Z",
     "start_time": "2022-08-26T13:38:06.490879Z"
    }
   },
   "outputs": [],
   "source": [
    "class MLP_Model(keras.Model):\n",
    "    def __init__(self):\n",
    "        super(MLP_Model, self).__init__()\n",
    "        self.layer1 = tf.keras.layers.Dense(32)\n",
    "        self.layer2 = tf.keras.layers.Dense(64)\n",
    "        self.layer3 = tf.keras.layers.Dense(32)\n",
    "    \n",
    "    def call(self, inputs):\n",
    "        x1 = self.layer1(inputs)\n",
    "        x1 = tf.nn.relu(x1)\n",
    "        x2 = self.layer2(x1)\n",
    "        x2 = tf.nn.relu(x2)\n",
    "        x3 = self.layer3(x2)\n",
    "        x = tf.concat([x1, x3])\n",
    "        return x"
   ]
  },
  {
   "cell_type": "code",
   "execution_count": 4,
   "id": "round-label",
   "metadata": {
    "ExecuteTime": {
     "end_time": "2022-08-26T13:38:06.521010Z",
     "start_time": "2022-08-26T13:38:06.507010Z"
    }
   },
   "outputs": [],
   "source": [
    "# 与自定义组合层相比，model 多了 fit() evaluate() predict() save() save_weights() 等方法"
   ]
  },
  {
   "cell_type": "code",
   "execution_count": 5,
   "id": "coordinated-walter",
   "metadata": {
    "ExecuteTime": {
     "end_time": "2022-08-26T13:38:14.684276Z",
     "start_time": "2022-08-26T13:38:14.634612Z"
    }
   },
   "outputs": [],
   "source": [
    "model = MLP_Model()"
   ]
  },
  {
   "cell_type": "code",
   "execution_count": 6,
   "id": "certain-pakistan",
   "metadata": {
    "ExecuteTime": {
     "end_time": "2022-08-26T13:38:17.347679Z",
     "start_time": "2022-08-26T13:38:17.337786Z"
    }
   },
   "outputs": [
    {
     "data": {
      "text/plain": [
       "<bound method Model.fit of <__main__.MLP_Model object at 0x00000204466CD730>>"
      ]
     },
     "execution_count": 6,
     "metadata": {},
     "output_type": "execute_result"
    }
   ],
   "source": [
    "model.fit"
   ]
  },
  {
   "cell_type": "code",
   "execution_count": 7,
   "id": "willing-opposition",
   "metadata": {
    "ExecuteTime": {
     "end_time": "2022-08-26T13:38:22.923639Z",
     "start_time": "2022-08-26T13:38:22.905097Z"
    }
   },
   "outputs": [
    {
     "data": {
      "text/plain": [
       "<bound method Model.save of <__main__.MLP_Model object at 0x00000204466CD730>>"
      ]
     },
     "execution_count": 7,
     "metadata": {},
     "output_type": "execute_result"
    }
   ],
   "source": [
    "model.save"
   ]
  },
  {
   "cell_type": "code",
   "execution_count": null,
   "id": "asian-cream",
   "metadata": {},
   "outputs": [],
   "source": []
  }
 ],
 "metadata": {
  "kernelspec": {
   "display_name": "Python 3",
   "language": "python",
   "name": "python3"
  },
  "language_info": {
   "codemirror_mode": {
    "name": "ipython",
    "version": 3
   },
   "file_extension": ".py",
   "mimetype": "text/x-python",
   "name": "python",
   "nbconvert_exporter": "python",
   "pygments_lexer": "ipython3",
   "version": "3.8.8"
  },
  "latex_envs": {
   "LaTeX_envs_menu_present": true,
   "autoclose": false,
   "autocomplete": true,
   "bibliofile": "biblio.bib",
   "cite_by": "apalike",
   "current_citInitial": 1,
   "eqLabelWithNumbers": true,
   "eqNumInitial": 1,
   "hotkeys": {
    "equation": "Ctrl-E",
    "itemize": "Ctrl-I"
   },
   "labels_anchors": false,
   "latex_user_defs": false,
   "report_style_numbering": false,
   "user_envs_cfg": false
  },
  "toc": {
   "base_numbering": 1,
   "nav_menu": {},
   "number_sections": true,
   "sideBar": true,
   "skip_h1_title": false,
   "title_cell": "Table of Contents",
   "title_sidebar": "Contents",
   "toc_cell": false,
   "toc_position": {},
   "toc_section_display": true,
   "toc_window_display": false
  },
  "varInspector": {
   "cols": {
    "lenName": 16,
    "lenType": 16,
    "lenVar": 40
   },
   "kernels_config": {
    "python": {
     "delete_cmd_postfix": "",
     "delete_cmd_prefix": "del ",
     "library": "var_list.py",
     "varRefreshCmd": "print(var_dic_list())"
    },
    "r": {
     "delete_cmd_postfix": ") ",
     "delete_cmd_prefix": "rm(",
     "library": "var_list.r",
     "varRefreshCmd": "cat(var_dic_list()) "
    }
   },
   "types_to_exclude": [
    "module",
    "function",
    "builtin_function_or_method",
    "instance",
    "_Feature"
   ],
   "window_display": false
  }
 },
 "nbformat": 4,
 "nbformat_minor": 5
}
