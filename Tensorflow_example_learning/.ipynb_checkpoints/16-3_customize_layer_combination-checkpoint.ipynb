{
 "cells": [
  {
   "cell_type": "code",
   "execution_count": 1,
   "id": "modular-privilege",
   "metadata": {
    "ExecuteTime": {
     "end_time": "2022-08-25T14:02:18.622790Z",
     "start_time": "2022-08-25T14:02:16.021817Z"
    }
   },
   "outputs": [],
   "source": [
    "import tensorflow as tf \n",
    "from tensorflow import keras"
   ]
  },
  {
   "cell_type": "code",
   "execution_count": 2,
   "id": "transsexual-honduras",
   "metadata": {
    "ExecuteTime": {
     "end_time": "2022-08-25T14:02:18.637524Z",
     "start_time": "2022-08-25T14:02:18.624517Z"
    }
   },
   "outputs": [
    {
     "data": {
      "text/plain": [
       "'2.3.0'"
      ]
     },
     "execution_count": 2,
     "metadata": {},
     "output_type": "execute_result"
    }
   ],
   "source": [
    "tf.__version__"
   ]
  },
  {
   "cell_type": "markdown",
   "id": "gothic-killer",
   "metadata": {},
   "source": [
    "# 使用add_weight()创建一个自定义的全连接层"
   ]
  },
  {
   "cell_type": "code",
   "execution_count": 3,
   "id": "engaged-chemical",
   "metadata": {
    "ExecuteTime": {
     "end_time": "2022-08-25T14:02:18.652460Z",
     "start_time": "2022-08-25T14:02:18.638506Z"
    }
   },
   "outputs": [],
   "source": [
    "class Old_Linear(keras.layers.Layer):\n",
    "    def __init__(self, units, input_dim):\n",
    "        super(Old_Linear, self).__init__()\n",
    "        self._weights = self.add_weight(shape=(input_dim, units), \n",
    "                                        initializer='random_normal',\n",
    "                                       trainable=True)\n",
    "        self._bias = self.add_weight(shape=(units,),\n",
    "                                    initializer='zeros',\n",
    "                                    trainable=True)\n",
    "    \n",
    "    def call(self, inputs):\n",
    "        return tf.matmul(inputs, self._weights) + self._bias"
   ]
  },
  {
   "cell_type": "markdown",
   "id": "unexpected-insurance",
   "metadata": {},
   "source": [
    "# 使用 build 推迟 weights 的初始化到获得输入数据的 shape 之后"
   ]
  },
  {
   "cell_type": "code",
   "execution_count": 4,
   "id": "danish-bunch",
   "metadata": {
    "ExecuteTime": {
     "end_time": "2022-08-25T14:02:18.667790Z",
     "start_time": "2022-08-25T14:02:18.653350Z"
    }
   },
   "outputs": [],
   "source": [
    "class Linear(keras.layers.Layer):\n",
    "    def __init__(self, units):\n",
    "        super(Linear, self).__init__()\n",
    "        self.units = units\n",
    "    \n",
    "    def build(self, input_shape):\n",
    "        self._weights = self.add_weight(shape=(input_shape[-1], self.units), \n",
    "                                        initializer='random_normal',\n",
    "                                       trainable=True)\n",
    "        self._bias = self.add_weight(shape=(self.units,),\n",
    "                                    initializer='zeros',\n",
    "                                    trainable=True)\n",
    "    \n",
    "    def call(self, inputs):\n",
    "        return tf.matmul(inputs, self._weights) + self._bias"
   ]
  },
  {
   "cell_type": "markdown",
   "id": "rural-boston",
   "metadata": {},
   "source": [
    "# 层的递归组合"
   ]
  },
  {
   "cell_type": "code",
   "execution_count": 5,
   "id": "bibliographic-victor",
   "metadata": {
    "ExecuteTime": {
     "end_time": "2022-08-25T14:02:18.683536Z",
     "start_time": "2022-08-25T14:02:18.668759Z"
    }
   },
   "outputs": [],
   "source": [
    "class MLP_Block(keras.layers.Layer):\n",
    "    def __init__(self):\n",
    "        super(MLP_Block, self).__init__()\n",
    "        self.layer1 = Linear(32)\n",
    "        self.layer2 = Linear(64)\n",
    "        self.layer3 = Linear(1)\n",
    "    \n",
    "    def call(self, inputs):\n",
    "        x = self.layer1(inputs)\n",
    "        x = tf.nn.relu(x)\n",
    "        x = self.layer2(x)\n",
    "        x = tf.nn.relu(x)\n",
    "        x = self.layer3(x)\n",
    "        return x"
   ]
  },
  {
   "cell_type": "code",
   "execution_count": 6,
   "id": "found-discharge",
   "metadata": {
    "ExecuteTime": {
     "end_time": "2022-08-25T14:02:18.699697Z",
     "start_time": "2022-08-25T14:02:18.684608Z"
    }
   },
   "outputs": [],
   "source": [
    "mlp = MLP_Block()"
   ]
  },
  {
   "cell_type": "code",
   "execution_count": 7,
   "id": "specialized-tuesday",
   "metadata": {
    "ExecuteTime": {
     "end_time": "2022-08-25T14:02:18.715635Z",
     "start_time": "2022-08-25T14:02:18.700604Z"
    }
   },
   "outputs": [],
   "source": [
    "# mlp(inputs)"
   ]
  },
  {
   "cell_type": "code",
   "execution_count": 8,
   "id": "coupled-passion",
   "metadata": {
    "ExecuteTime": {
     "end_time": "2022-08-25T14:03:22.438367Z",
     "start_time": "2022-08-25T14:03:22.423665Z"
    }
   },
   "outputs": [],
   "source": [
    "class MLP_Block_2(keras.layers.Layer):\n",
    "    def __init__(self):\n",
    "        super(MLP_Block_2, self).__init__()\n",
    "        self.layer1 = tf.keras.layers.Dense(32)\n",
    "        self.layer2 = tf.keras.layers.Dense(64)\n",
    "        self.layer3 = tf.keras.layers.Dense(32)\n",
    "    \n",
    "    def call(self, inputs):\n",
    "        x1 = self.layer1(inputs)\n",
    "        x1 = tf.nn.relu(x1)\n",
    "        x2 = self.layer2(x1)\n",
    "        x2 = tf.nn.relu(x2)\n",
    "        x3 = self.layer3(x2)\n",
    "        x = tf.concat([x1, x3])\n",
    "        return x"
   ]
  },
  {
   "cell_type": "code",
   "execution_count": 9,
   "id": "married-embassy",
   "metadata": {
    "ExecuteTime": {
     "end_time": "2022-08-25T14:03:32.587319Z",
     "start_time": "2022-08-25T14:03:32.566129Z"
    }
   },
   "outputs": [],
   "source": [
    "mlp_2 = MLP_Block_2()"
   ]
  },
  {
   "cell_type": "code",
   "execution_count": null,
   "id": "middle-trigger",
   "metadata": {},
   "outputs": [],
   "source": []
  }
 ],
 "metadata": {
  "kernelspec": {
   "display_name": "Python 3",
   "language": "python",
   "name": "python3"
  },
  "language_info": {
   "codemirror_mode": {
    "name": "ipython",
    "version": 3
   },
   "file_extension": ".py",
   "mimetype": "text/x-python",
   "name": "python",
   "nbconvert_exporter": "python",
   "pygments_lexer": "ipython3",
   "version": "3.8.8"
  },
  "latex_envs": {
   "LaTeX_envs_menu_present": true,
   "autoclose": false,
   "autocomplete": true,
   "bibliofile": "biblio.bib",
   "cite_by": "apalike",
   "current_citInitial": 1,
   "eqLabelWithNumbers": true,
   "eqNumInitial": 1,
   "hotkeys": {
    "equation": "Ctrl-E",
    "itemize": "Ctrl-I"
   },
   "labels_anchors": false,
   "latex_user_defs": false,
   "report_style_numbering": false,
   "user_envs_cfg": false
  },
  "toc": {
   "base_numbering": 1,
   "nav_menu": {},
   "number_sections": true,
   "sideBar": true,
   "skip_h1_title": false,
   "title_cell": "Table of Contents",
   "title_sidebar": "Contents",
   "toc_cell": false,
   "toc_position": {},
   "toc_section_display": true,
   "toc_window_display": false
  },
  "varInspector": {
   "cols": {
    "lenName": 16,
    "lenType": 16,
    "lenVar": 40
   },
   "kernels_config": {
    "python": {
     "delete_cmd_postfix": "",
     "delete_cmd_prefix": "del ",
     "library": "var_list.py",
     "varRefreshCmd": "print(var_dic_list())"
    },
    "r": {
     "delete_cmd_postfix": ") ",
     "delete_cmd_prefix": "rm(",
     "library": "var_list.r",
     "varRefreshCmd": "cat(var_dic_list()) "
    }
   },
   "types_to_exclude": [
    "module",
    "function",
    "builtin_function_or_method",
    "instance",
    "_Feature"
   ],
   "window_display": false
  }
 },
 "nbformat": 4,
 "nbformat_minor": 5
}
