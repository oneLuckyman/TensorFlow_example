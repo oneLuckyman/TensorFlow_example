{
 "cells": [
  {
   "cell_type": "code",
   "execution_count": 1,
   "id": "iraqi-nepal",
   "metadata": {
    "ExecuteTime": {
     "end_time": "2022-08-02T14:16:49.885522Z",
     "start_time": "2022-08-02T14:16:47.723765Z"
    }
   },
   "outputs": [],
   "source": [
    "import tensorflow as tf \n",
    "import numpy as np "
   ]
  },
  {
   "cell_type": "code",
   "execution_count": 2,
   "id": "divine-preliminary",
   "metadata": {
    "ExecuteTime": {
     "end_time": "2022-08-02T14:16:49.901457Z",
     "start_time": "2022-08-02T14:16:49.886383Z"
    }
   },
   "outputs": [
    {
     "data": {
      "text/plain": [
       "'2.3.0'"
      ]
     },
     "execution_count": 2,
     "metadata": {},
     "output_type": "execute_result"
    }
   ],
   "source": [
    "tf.__version__"
   ]
  },
  {
   "cell_type": "code",
   "execution_count": 3,
   "id": "usual-orbit",
   "metadata": {
    "ExecuteTime": {
     "end_time": "2022-08-02T14:16:49.917321Z",
     "start_time": "2022-08-02T14:16:49.903347Z"
    }
   },
   "outputs": [],
   "source": [
    "dataset = tf.data.Dataset.from_tensor_slices(np.array([1, 2, 3, 4, 5, 6, 7]))"
   ]
  },
  {
   "cell_type": "code",
   "execution_count": 4,
   "id": "theoretical-sellers",
   "metadata": {
    "ExecuteTime": {
     "end_time": "2022-08-02T14:16:49.932477Z",
     "start_time": "2022-08-02T14:16:49.918304Z"
    }
   },
   "outputs": [
    {
     "data": {
      "text/plain": [
       "<TakeDataset shapes: (), types: tf.int32>"
      ]
     },
     "execution_count": 4,
     "metadata": {},
     "output_type": "execute_result"
    }
   ],
   "source": [
    "dataset.take(4)"
   ]
  },
  {
   "cell_type": "code",
   "execution_count": 5,
   "id": "qualified-helmet",
   "metadata": {
    "ExecuteTime": {
     "end_time": "2022-08-02T14:16:49.948335Z",
     "start_time": "2022-08-02T14:16:49.933373Z"
    }
   },
   "outputs": [
    {
     "name": "stdout",
     "output_type": "stream",
     "text": [
      "tf.Tensor(1, shape=(), dtype=int32)\n",
      "1\n",
      "tf.Tensor(2, shape=(), dtype=int32)\n",
      "2\n",
      "tf.Tensor(3, shape=(), dtype=int32)\n",
      "3\n",
      "tf.Tensor(4, shape=(), dtype=int32)\n",
      "4\n"
     ]
    }
   ],
   "source": [
    "for ele in dataset.take(4):\n",
    "    print(ele)\n",
    "    print(ele.numpy())"
   ]
  },
  {
   "cell_type": "code",
   "execution_count": 6,
   "id": "complex-jaguar",
   "metadata": {
    "ExecuteTime": {
     "end_time": "2022-08-02T14:16:49.964162Z",
     "start_time": "2022-08-02T14:16:49.951325Z"
    }
   },
   "outputs": [],
   "source": [
    "# dataset 是一个 iterable 的\n",
    "iter_dataset = iter(dataset.take(4))"
   ]
  },
  {
   "cell_type": "code",
   "execution_count": 7,
   "id": "green-organic",
   "metadata": {
    "ExecuteTime": {
     "end_time": "2022-08-02T14:16:49.979313Z",
     "start_time": "2022-08-02T14:16:49.967153Z"
    }
   },
   "outputs": [
    {
     "data": {
      "text/plain": [
       "<tf.Tensor: shape=(), dtype=int32, numpy=1>"
      ]
     },
     "execution_count": 7,
     "metadata": {},
     "output_type": "execute_result"
    }
   ],
   "source": [
    "next(iter_dataset)"
   ]
  },
  {
   "cell_type": "code",
   "execution_count": 8,
   "id": "animal-energy",
   "metadata": {
    "ExecuteTime": {
     "end_time": "2022-08-02T14:16:49.995207Z",
     "start_time": "2022-08-02T14:16:49.982416Z"
    }
   },
   "outputs": [
    {
     "data": {
      "text/plain": [
       "<tf.Tensor: shape=(), dtype=int32, numpy=2>"
      ]
     },
     "execution_count": 8,
     "metadata": {},
     "output_type": "execute_result"
    }
   ],
   "source": [
    "next(iter_dataset)"
   ]
  },
  {
   "cell_type": "code",
   "execution_count": 9,
   "id": "brave-nature",
   "metadata": {
    "ExecuteTime": {
     "end_time": "2022-08-02T14:16:50.011163Z",
     "start_time": "2022-08-02T14:16:49.997192Z"
    }
   },
   "outputs": [],
   "source": [
    "# dataset 进行洗牌（乱序）\n",
    "dataset_shuffle = dataset.shuffle(7)"
   ]
  },
  {
   "cell_type": "code",
   "execution_count": 10,
   "id": "temporal-forum",
   "metadata": {
    "ExecuteTime": {
     "end_time": "2022-08-02T14:16:50.027121Z",
     "start_time": "2022-08-02T14:16:50.014149Z"
    }
   },
   "outputs": [
    {
     "name": "stdout",
     "output_type": "stream",
     "text": [
      "7\n",
      "4\n",
      "3\n",
      "5\n",
      "2\n",
      "1\n",
      "6\n"
     ]
    }
   ],
   "source": [
    "for ele in dataset_shuffle:\n",
    "    print(ele.numpy())"
   ]
  },
  {
   "cell_type": "code",
   "execution_count": 11,
   "id": "bottom-defense",
   "metadata": {
    "ExecuteTime": {
     "end_time": "2022-08-02T14:16:50.042073Z",
     "start_time": "2022-08-02T14:16:50.028110Z"
    }
   },
   "outputs": [],
   "source": [
    "# dataset 循环出现 count 次\n",
    "dataset_repeat = dataset_shuffle.repeat(count=3)"
   ]
  },
  {
   "cell_type": "code",
   "execution_count": 12,
   "id": "introductory-batch",
   "metadata": {
    "ExecuteTime": {
     "end_time": "2022-08-02T14:16:50.057036Z",
     "start_time": "2022-08-02T14:16:50.044067Z"
    }
   },
   "outputs": [
    {
     "name": "stdout",
     "output_type": "stream",
     "text": [
      "2\n",
      "7\n",
      "5\n",
      "4\n",
      "3\n",
      "6\n",
      "1\n",
      "1\n",
      "4\n",
      "7\n",
      "2\n",
      "3\n",
      "6\n",
      "5\n",
      "3\n",
      "7\n",
      "2\n",
      "1\n",
      "5\n",
      "6\n",
      "4\n"
     ]
    }
   ],
   "source": [
    "for ele in dataset_repeat:\n",
    "    print(ele.numpy())"
   ]
  },
  {
   "cell_type": "code",
   "execution_count": 13,
   "id": "assigned-origin",
   "metadata": {
    "ExecuteTime": {
     "end_time": "2022-08-02T14:16:50.072480Z",
     "start_time": "2022-08-02T14:16:50.058030Z"
    }
   },
   "outputs": [],
   "source": [
    "# 指定 dataset 没出释放的 batch 的大小\n",
    "dataset_batch = dataset_repeat.batch(3)"
   ]
  },
  {
   "cell_type": "code",
   "execution_count": 14,
   "id": "valid-chapel",
   "metadata": {
    "ExecuteTime": {
     "end_time": "2022-08-02T14:16:50.088550Z",
     "start_time": "2022-08-02T14:16:50.073477Z"
    }
   },
   "outputs": [
    {
     "name": "stdout",
     "output_type": "stream",
     "text": [
      "[5 2 7]\n",
      "[1 4 3]\n",
      "[6 7 4]\n",
      "[1 3 6]\n",
      "[5 2 4]\n",
      "[2 7 5]\n",
      "[6 3 1]\n"
     ]
    }
   ],
   "source": [
    "for ele in dataset_batch:\n",
    "    print(ele.numpy())"
   ]
  },
  {
   "cell_type": "code",
   "execution_count": 15,
   "id": "superior-future",
   "metadata": {
    "ExecuteTime": {
     "end_time": "2022-08-02T14:16:50.104394Z",
     "start_time": "2022-08-02T14:16:50.090431Z"
    }
   },
   "outputs": [],
   "source": [
    "dataset = tf.data.Dataset.from_tensor_slices(np.array([1, 2, 3, 4, 5, 6, 7]))"
   ]
  },
  {
   "cell_type": "code",
   "execution_count": 16,
   "id": "suffering-mileage",
   "metadata": {
    "ExecuteTime": {
     "end_time": "2022-08-02T14:16:50.150799Z",
     "start_time": "2022-08-02T14:16:50.105391Z"
    }
   },
   "outputs": [],
   "source": [
    "# 在 dataset 上应用函数\n",
    "dataset_map = dataset.map(tf.square)"
   ]
  },
  {
   "cell_type": "code",
   "execution_count": 17,
   "id": "expected-personality",
   "metadata": {
    "ExecuteTime": {
     "end_time": "2022-08-02T14:16:50.166756Z",
     "start_time": "2022-08-02T14:16:50.152378Z"
    }
   },
   "outputs": [
    {
     "name": "stdout",
     "output_type": "stream",
     "text": [
      "1\n",
      "4\n",
      "9\n",
      "16\n",
      "25\n",
      "36\n",
      "49\n"
     ]
    }
   ],
   "source": [
    "for ele in dataset_map:\n",
    "    print(ele.numpy())"
   ]
  },
  {
   "cell_type": "code",
   "execution_count": null,
   "id": "closed-bedroom",
   "metadata": {},
   "outputs": [],
   "source": []
  }
 ],
 "metadata": {
  "kernelspec": {
   "display_name": "Python 3",
   "language": "python",
   "name": "python3"
  },
  "language_info": {
   "codemirror_mode": {
    "name": "ipython",
    "version": 3
   },
   "file_extension": ".py",
   "mimetype": "text/x-python",
   "name": "python",
   "nbconvert_exporter": "python",
   "pygments_lexer": "ipython3",
   "version": "3.8.8"
  },
  "latex_envs": {
   "LaTeX_envs_menu_present": true,
   "autoclose": false,
   "autocomplete": true,
   "bibliofile": "biblio.bib",
   "cite_by": "apalike",
   "current_citInitial": 1,
   "eqLabelWithNumbers": true,
   "eqNumInitial": 1,
   "hotkeys": {
    "equation": "Ctrl-E",
    "itemize": "Ctrl-I"
   },
   "labels_anchors": false,
   "latex_user_defs": false,
   "report_style_numbering": false,
   "user_envs_cfg": false
  },
  "toc": {
   "base_numbering": 1,
   "nav_menu": {},
   "number_sections": true,
   "sideBar": true,
   "skip_h1_title": false,
   "title_cell": "Table of Contents",
   "title_sidebar": "Contents",
   "toc_cell": false,
   "toc_position": {},
   "toc_section_display": true,
   "toc_window_display": false
  },
  "varInspector": {
   "cols": {
    "lenName": 16,
    "lenType": 16,
    "lenVar": 40
   },
   "kernels_config": {
    "python": {
     "delete_cmd_postfix": "",
     "delete_cmd_prefix": "del ",
     "library": "var_list.py",
     "varRefreshCmd": "print(var_dic_list())"
    },
    "r": {
     "delete_cmd_postfix": ") ",
     "delete_cmd_prefix": "rm(",
     "library": "var_list.r",
     "varRefreshCmd": "cat(var_dic_list()) "
    }
   },
   "types_to_exclude": [
    "module",
    "function",
    "builtin_function_or_method",
    "instance",
    "_Feature"
   ],
   "window_display": false
  }
 },
 "nbformat": 4,
 "nbformat_minor": 5
}
