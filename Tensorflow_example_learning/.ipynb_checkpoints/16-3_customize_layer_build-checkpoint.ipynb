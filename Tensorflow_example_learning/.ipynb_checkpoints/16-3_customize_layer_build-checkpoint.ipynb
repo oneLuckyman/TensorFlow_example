{
 "cells": [
  {
   "cell_type": "code",
   "execution_count": 1,
   "id": "modular-privilege",
   "metadata": {
    "ExecuteTime": {
     "end_time": "2022-08-24T13:48:34.783747Z",
     "start_time": "2022-08-24T13:48:12.398374Z"
    }
   },
   "outputs": [],
   "source": [
    "import tensorflow as tf \n",
    "from tensorflow import keras"
   ]
  },
  {
   "cell_type": "code",
   "execution_count": 2,
   "id": "transsexual-honduras",
   "metadata": {
    "ExecuteTime": {
     "end_time": "2022-08-24T13:48:34.877459Z",
     "start_time": "2022-08-24T13:48:34.796740Z"
    }
   },
   "outputs": [
    {
     "data": {
      "text/plain": [
       "'2.3.0'"
      ]
     },
     "execution_count": 2,
     "metadata": {},
     "output_type": "execute_result"
    }
   ],
   "source": [
    "tf.__version__"
   ]
  },
  {
   "cell_type": "markdown",
   "id": "gothic-killer",
   "metadata": {},
   "source": [
    "# 使用add_weight()创建一个自定义的全连接层"
   ]
  },
  {
   "cell_type": "code",
   "execution_count": 3,
   "id": "engaged-chemical",
   "metadata": {
    "ExecuteTime": {
     "end_time": "2022-08-24T13:48:34.925246Z",
     "start_time": "2022-08-24T13:48:34.890350Z"
    }
   },
   "outputs": [],
   "source": [
    "class Old_Linear(keras.layers.Layer):\n",
    "    def __init__(self, units, input_dim):\n",
    "        super(Old_Linear, self).__init__()\n",
    "        self._weights = self.add_weight(shape=(input_dim, units), \n",
    "                                        initializer='random_normal',\n",
    "                                       trainable=True)\n",
    "        self._bias = self.add_weight(shape=(units,),\n",
    "                                    initializer='zeros',\n",
    "                                    trainable=True)\n",
    "    \n",
    "    def call(self, inputs):\n",
    "        return tf.matmul(inputs, self._weights) + self._bias"
   ]
  },
  {
   "cell_type": "markdown",
   "id": "unexpected-insurance",
   "metadata": {},
   "source": [
    "# 使用 build 推迟 weights 的初始化到获得输入数据的 shape 之后"
   ]
  },
  {
   "cell_type": "code",
   "execution_count": 4,
   "id": "danish-bunch",
   "metadata": {
    "ExecuteTime": {
     "end_time": "2022-08-24T13:48:34.988599Z",
     "start_time": "2022-08-24T13:48:34.945262Z"
    }
   },
   "outputs": [],
   "source": [
    "class Linear(keras.layers.Layer):\n",
    "    def __init__(self, units):\n",
    "        super(Linear, self).__init__()\n",
    "        self.units = units\n",
    "    \n",
    "    def build(self, input_shape):\n",
    "        self._weights = self.add_weight(shape=(input_shape[-1], self.units), \n",
    "                                        initializer='random_normal',\n",
    "                                       trainable=True)\n",
    "        self._bias = self.add_weight(shape=(self.units,),\n",
    "                                    initializer='zeros',\n",
    "                                    trainable=True)\n",
    "    \n",
    "    def call(self, inputs):\n",
    "        return tf.matmul(inputs, self._weights) + self._bias"
   ]
  },
  {
   "cell_type": "code",
   "execution_count": 5,
   "id": "first-white",
   "metadata": {
    "ExecuteTime": {
     "end_time": "2022-08-24T13:48:35.065305Z",
     "start_time": "2022-08-24T13:48:35.004034Z"
    }
   },
   "outputs": [],
   "source": [
    "x = tf.keras.layers.Dense(64)"
   ]
  },
  {
   "cell_type": "code",
   "execution_count": 6,
   "id": "chief-strengthening",
   "metadata": {
    "ExecuteTime": {
     "end_time": "2022-08-24T13:48:35.112193Z",
     "start_time": "2022-08-24T13:48:35.078300Z"
    }
   },
   "outputs": [
    {
     "data": {
      "text/plain": [
       "[]"
      ]
     },
     "execution_count": 6,
     "metadata": {},
     "output_type": "execute_result"
    }
   ],
   "source": [
    "x.weights"
   ]
  },
  {
   "cell_type": "code",
   "execution_count": 7,
   "id": "imported-response",
   "metadata": {
    "ExecuteTime": {
     "end_time": "2022-08-24T13:48:35.158071Z",
     "start_time": "2022-08-24T13:48:35.128161Z"
    }
   },
   "outputs": [],
   "source": [
    "my_layer = Linear(4)"
   ]
  },
  {
   "cell_type": "code",
   "execution_count": 8,
   "id": "brutal-sunday",
   "metadata": {
    "ExecuteTime": {
     "end_time": "2022-08-24T13:48:35.204944Z",
     "start_time": "2022-08-24T13:48:35.173097Z"
    }
   },
   "outputs": [
    {
     "data": {
      "text/plain": [
       "[]"
      ]
     },
     "execution_count": 8,
     "metadata": {},
     "output_type": "execute_result"
    }
   ],
   "source": [
    "my_layer.weights"
   ]
  },
  {
   "cell_type": "code",
   "execution_count": 9,
   "id": "supreme-percentage",
   "metadata": {
    "ExecuteTime": {
     "end_time": "2022-08-24T13:48:35.284667Z",
     "start_time": "2022-08-24T13:48:35.218917Z"
    }
   },
   "outputs": [],
   "source": [
    "old_layer = Old_Linear(4, 2)"
   ]
  },
  {
   "cell_type": "code",
   "execution_count": 10,
   "id": "centered-mention",
   "metadata": {
    "ExecuteTime": {
     "end_time": "2022-08-24T13:48:35.347936Z",
     "start_time": "2022-08-24T13:48:35.296431Z"
    }
   },
   "outputs": [
    {
     "data": {
      "text/plain": [
       "[<tf.Variable 'Variable:0' shape=(2, 4) dtype=float32, numpy=\n",
       " array([[-0.00792074, -0.08016147,  0.04092264, -0.13348947],\n",
       "        [-0.04785513, -0.01442882,  0.01194126,  0.03810194]],\n",
       "       dtype=float32)>,\n",
       " <tf.Variable 'Variable:0' shape=(4,) dtype=float32, numpy=array([0., 0., 0., 0.], dtype=float32)>]"
      ]
     },
     "execution_count": 10,
     "metadata": {},
     "output_type": "execute_result"
    }
   ],
   "source": [
    "old_layer.weights"
   ]
  },
  {
   "cell_type": "code",
   "execution_count": 11,
   "id": "original-cisco",
   "metadata": {
    "ExecuteTime": {
     "end_time": "2022-08-24T13:48:35.379956Z",
     "start_time": "2022-08-24T13:48:35.360530Z"
    }
   },
   "outputs": [],
   "source": [
    "x = tf.ones((2, 2))"
   ]
  },
  {
   "cell_type": "code",
   "execution_count": 12,
   "id": "suitable-parameter",
   "metadata": {
    "ExecuteTime": {
     "end_time": "2022-08-24T13:48:35.585155Z",
     "start_time": "2022-08-24T13:48:35.405652Z"
    }
   },
   "outputs": [
    {
     "data": {
      "text/plain": [
       "<tf.Tensor: shape=(2, 4), dtype=float32, numpy=\n",
       "array([[ 0.01051704, -0.0623256 , -0.03352192, -0.03194342],\n",
       "       [ 0.01051704, -0.0623256 , -0.03352192, -0.03194342]],\n",
       "      dtype=float32)>"
      ]
     },
     "execution_count": 12,
     "metadata": {},
     "output_type": "execute_result"
    }
   ],
   "source": [
    "my_layer(x)"
   ]
  },
  {
   "cell_type": "code",
   "execution_count": null,
   "id": "heavy-harrison",
   "metadata": {},
   "outputs": [],
   "source": []
  }
 ],
 "metadata": {
  "kernelspec": {
   "display_name": "Python 3",
   "language": "python",
   "name": "python3"
  },
  "language_info": {
   "codemirror_mode": {
    "name": "ipython",
    "version": 3
   },
   "file_extension": ".py",
   "mimetype": "text/x-python",
   "name": "python",
   "nbconvert_exporter": "python",
   "pygments_lexer": "ipython3",
   "version": "3.8.8"
  },
  "latex_envs": {
   "LaTeX_envs_menu_present": true,
   "autoclose": false,
   "autocomplete": true,
   "bibliofile": "biblio.bib",
   "cite_by": "apalike",
   "current_citInitial": 1,
   "eqLabelWithNumbers": true,
   "eqNumInitial": 1,
   "hotkeys": {
    "equation": "Ctrl-E",
    "itemize": "Ctrl-I"
   },
   "labels_anchors": false,
   "latex_user_defs": false,
   "report_style_numbering": false,
   "user_envs_cfg": false
  },
  "toc": {
   "base_numbering": 1,
   "nav_menu": {},
   "number_sections": true,
   "sideBar": true,
   "skip_h1_title": false,
   "title_cell": "Table of Contents",
   "title_sidebar": "Contents",
   "toc_cell": false,
   "toc_position": {},
   "toc_section_display": true,
   "toc_window_display": false
  },
  "varInspector": {
   "cols": {
    "lenName": 16,
    "lenType": 16,
    "lenVar": 40
   },
   "kernels_config": {
    "python": {
     "delete_cmd_postfix": "",
     "delete_cmd_prefix": "del ",
     "library": "var_list.py",
     "varRefreshCmd": "print(var_dic_list())"
    },
    "r": {
     "delete_cmd_postfix": ") ",
     "delete_cmd_prefix": "rm(",
     "library": "var_list.r",
     "varRefreshCmd": "cat(var_dic_list()) "
    }
   },
   "types_to_exclude": [
    "module",
    "function",
    "builtin_function_or_method",
    "instance",
    "_Feature"
   ],
   "window_display": false
  }
 },
 "nbformat": 4,
 "nbformat_minor": 5
}
