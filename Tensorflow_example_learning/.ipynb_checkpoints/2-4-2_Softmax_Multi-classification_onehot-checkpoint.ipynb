{
 "cells": [
  {
   "cell_type": "code",
   "execution_count": 1,
   "id": "current-composition",
   "metadata": {
    "ExecuteTime": {
     "end_time": "2022-07-26T14:10:31.994542Z",
     "start_time": "2022-07-26T14:10:21.167249Z"
    }
   },
   "outputs": [],
   "source": [
    "import tensorflow as tf \n",
    "import pandas as pd \n",
    "import numpy as np \n",
    "import matplotlib.pyplot as plt \n",
    "%matplotlib inline"
   ]
  },
  {
   "cell_type": "code",
   "execution_count": 2,
   "id": "removed-vision",
   "metadata": {
    "ExecuteTime": {
     "end_time": "2022-07-26T14:10:32.010382Z",
     "start_time": "2022-07-26T14:10:31.995422Z"
    }
   },
   "outputs": [
    {
     "data": {
      "text/plain": [
       "'2.3.0'"
      ]
     },
     "execution_count": 2,
     "metadata": {},
     "output_type": "execute_result"
    }
   ],
   "source": [
    "tf.__version__ "
   ]
  },
  {
   "cell_type": "code",
   "execution_count": 3,
   "id": "metric-carter",
   "metadata": {
    "ExecuteTime": {
     "end_time": "2022-07-26T14:10:32.756885Z",
     "start_time": "2022-07-26T14:10:32.012847Z"
    }
   },
   "outputs": [],
   "source": [
    "(train_image, train_label), (test_image, test_label) = tf.keras.datasets.fashion_mnist.load_data()"
   ]
  },
  {
   "cell_type": "code",
   "execution_count": 4,
   "id": "meaningful-italy",
   "metadata": {
    "ExecuteTime": {
     "end_time": "2022-07-26T14:10:32.771946Z",
     "start_time": "2022-07-26T14:10:32.758881Z"
    }
   },
   "outputs": [
    {
     "data": {
      "text/plain": [
       "(60000, 28, 28)"
      ]
     },
     "execution_count": 4,
     "metadata": {},
     "output_type": "execute_result"
    }
   ],
   "source": [
    "train_image.shape"
   ]
  },
  {
   "cell_type": "code",
   "execution_count": 5,
   "id": "suited-heating",
   "metadata": {
    "ExecuteTime": {
     "end_time": "2022-07-26T14:10:32.787151Z",
     "start_time": "2022-07-26T14:10:32.773841Z"
    }
   },
   "outputs": [
    {
     "data": {
      "text/plain": [
       "((10000, 28, 28), (10000,))"
      ]
     },
     "execution_count": 5,
     "metadata": {},
     "output_type": "execute_result"
    }
   ],
   "source": [
    "test_image.shape, test_label.shape"
   ]
  },
  {
   "cell_type": "code",
   "execution_count": 6,
   "id": "commercial-freeze",
   "metadata": {
    "ExecuteTime": {
     "end_time": "2022-07-26T14:10:33.257255Z",
     "start_time": "2022-07-26T14:10:32.789429Z"
    }
   },
   "outputs": [
    {
     "data": {
      "text/plain": [
       "<matplotlib.image.AxesImage at 0x21e23a22730>"
      ]
     },
     "execution_count": 6,
     "metadata": {},
     "output_type": "execute_result"
    },
    {
     "data": {
      "image/png": "[encoded data removed]",
      "text/plain": [
       "<Figure size 432x288 with 1 Axes>"
      ]
     },
     "metadata": {
      "needs_background": "light"
     },
     "output_type": "display_data"
    }
   ],
   "source": [
    "plt.imshow(train_image[0])"
   ]
  },
  {
   "cell_type": "code",
   "execution_count": 7,
   "id": "frozen-papua",
   "metadata": {
    "ExecuteTime": {
     "end_time": "2022-07-26T14:10:33.272257Z",
     "start_time": "2022-07-26T14:10:33.260291Z"
    },
    "scrolled": true
   },
   "outputs": [
    {
     "data": {
      "text/plain": [
       "array([9, 0, 0, ..., 3, 0, 5], dtype=uint8)"
      ]
     },
     "execution_count": 7,
     "metadata": {},
     "output_type": "execute_result"
    }
   ],
   "source": [
    "train_label"
   ]
  },
  {
   "cell_type": "code",
   "execution_count": 8,
   "id": "athletic-bundle",
   "metadata": {
    "ExecuteTime": {
     "end_time": "2022-07-26T14:10:33.524632Z",
     "start_time": "2022-07-26T14:10:33.279202Z"
    }
   },
   "outputs": [],
   "source": [
    "train_image = train_image/255\n",
    "test_image = test_image/255 "
   ]
  },
  {
   "cell_type": "code",
   "execution_count": 9,
   "id": "civic-teaching",
   "metadata": {
    "ExecuteTime": {
     "end_time": "2022-07-26T14:10:33.540589Z",
     "start_time": "2022-07-26T14:10:33.528620Z"
    }
   },
   "outputs": [
    {
     "data": {
      "text/plain": [
       "array([9, 0, 0, ..., 3, 0, 5], dtype=uint8)"
      ]
     },
     "execution_count": 9,
     "metadata": {},
     "output_type": "execute_result"
    }
   ],
   "source": [
    "train_label"
   ]
  },
  {
   "cell_type": "code",
   "execution_count": 10,
   "id": "medical-drawing",
   "metadata": {
    "ExecuteTime": {
     "end_time": "2022-07-26T14:10:33.555799Z",
     "start_time": "2022-07-26T14:10:33.543642Z"
    }
   },
   "outputs": [],
   "source": [
    "train_label_onehot = tf.keras.utils.to_categorical(train_label)"
   ]
  },
  {
   "cell_type": "code",
   "execution_count": 11,
   "id": "listed-zealand",
   "metadata": {
    "ExecuteTime": {
     "end_time": "2022-07-26T14:10:33.571573Z",
     "start_time": "2022-07-26T14:10:33.558609Z"
    }
   },
   "outputs": [
    {
     "data": {
      "text/plain": [
       "array([0., 0., 0., 0., 0., 0., 0., 0., 0., 1.], dtype=float32)"
      ]
     },
     "execution_count": 11,
     "metadata": {},
     "output_type": "execute_result"
    }
   ],
   "source": [
    "train_label_onehot[0]"
   ]
  },
  {
   "cell_type": "code",
   "execution_count": 12,
   "id": "designed-tourist",
   "metadata": {
    "ExecuteTime": {
     "end_time": "2022-07-26T14:10:33.586854Z",
     "start_time": "2022-07-26T14:10:33.573568Z"
    }
   },
   "outputs": [],
   "source": [
    "test_label_onehot = tf.keras.utils.to_categorical(test_label)"
   ]
  },
  {
   "cell_type": "code",
   "execution_count": 13,
   "id": "aging-skating",
   "metadata": {
    "ExecuteTime": {
     "end_time": "2022-07-26T14:10:33.650621Z",
     "start_time": "2022-07-26T14:10:33.588786Z"
    }
   },
   "outputs": [],
   "source": [
    "model_onehot = tf.keras.Sequential()\n",
    "model_onehot.add(tf.keras.layers.Flatten(input_shape=(28,28)))\n",
    "model_onehot.add(tf.keras.layers.Dense(128, activation='relu'))\n",
    "model_onehot.add(tf.keras.layers.Dense(10,activation='softmax'))"
   ]
  },
  {
   "cell_type": "code",
   "execution_count": 14,
   "id": "introductory-trunk",
   "metadata": {
    "ExecuteTime": {
     "end_time": "2022-07-26T14:10:33.682473Z",
     "start_time": "2022-07-26T14:10:33.654321Z"
    }
   },
   "outputs": [],
   "source": [
    "model_onehot.compile(optimizer='adam',\n",
    "             loss='categorical_crossentropy',\n",
    "             metrics=['acc'])"
   ]
  },
  {
   "cell_type": "code",
   "execution_count": 15,
   "id": "common-bangkok",
   "metadata": {
    "ExecuteTime": {
     "end_time": "2022-07-26T14:11:14.842806Z",
     "start_time": "2022-07-26T14:10:33.686454Z"
    },
    "collapsed": true
   },
   "outputs": [
    {
     "name": "stdout",
     "output_type": "stream",
     "text": [
      "Epoch 1/10\n",
      "1875/1875 [==============================] - 4s 2ms/step - loss: 0.5020 - acc: 0.8248\n",
      "Epoch 2/10\n",
      "1875/1875 [==============================] - 4s 2ms/step - loss: 0.3779 - acc: 0.8633\n",
      "Epoch 3/10\n",
      "1875/1875 [==============================] - 4s 2ms/step - loss: 0.3378 - acc: 0.8770\n",
      "Epoch 4/10\n",
      "1875/1875 [==============================] - 4s 2ms/step - loss: 0.3163 - acc: 0.8837\n",
      "Epoch 5/10\n",
      "1875/1875 [==============================] - 4s 2ms/step - loss: 0.2966 - acc: 0.8901\n",
      "Epoch 6/10\n",
      "1875/1875 [==============================] - 4s 2ms/step - loss: 0.2820 - acc: 0.8955\n",
      "Epoch 7/10\n",
      "1875/1875 [==============================] - 4s 2ms/step - loss: 0.2701 - acc: 0.8994\n",
      "Epoch 8/10\n",
      "1875/1875 [==============================] - 4s 2ms/step - loss: 0.2582 - acc: 0.9029\n",
      "Epoch 9/10\n",
      "1875/1875 [==============================] - 4s 2ms/step - loss: 0.2499 - acc: 0.9071\n",
      "Epoch 10/10\n",
      "1875/1875 [==============================] - 4s 2ms/step - loss: 0.2402 - acc: 0.9093\n"
     ]
    },
    {
     "data": {
      "text/plain": [
       "<tensorflow.python.keras.callbacks.History at 0x21e209662b0>"
      ]
     },
     "execution_count": 15,
     "metadata": {},
     "output_type": "execute_result"
    }
   ],
   "source": [
    "model_onehot.fit(train_image, train_label_onehot, epochs=10)"
   ]
  },
  {
   "cell_type": "code",
   "execution_count": 16,
   "id": "protective-proportion",
   "metadata": {
    "ExecuteTime": {
     "end_time": "2022-07-26T14:11:15.439244Z",
     "start_time": "2022-07-26T14:11:14.845746Z"
    }
   },
   "outputs": [],
   "source": [
    "predict = model_onehot.predict(test_image)"
   ]
  },
  {
   "cell_type": "code",
   "execution_count": 17,
   "id": "muslim-paint",
   "metadata": {
    "ExecuteTime": {
     "end_time": "2022-07-26T14:11:15.455195Z",
     "start_time": "2022-07-26T14:11:15.442187Z"
    }
   },
   "outputs": [
    {
     "data": {
      "text/plain": [
       "(10000, 10)"
      ]
     },
     "execution_count": 17,
     "metadata": {},
     "output_type": "execute_result"
    }
   ],
   "source": [
    "predict.shape"
   ]
  },
  {
   "cell_type": "code",
   "execution_count": 18,
   "id": "educational-currency",
   "metadata": {
    "ExecuteTime": {
     "end_time": "2022-07-26T14:11:15.471302Z",
     "start_time": "2022-07-26T14:11:15.458145Z"
    }
   },
   "outputs": [
    {
     "data": {
      "text/plain": [
       "array([7.0764982e-06, 1.1396184e-09, 7.2521438e-08, 3.8834722e-09,\n",
       "       2.7543891e-08, 4.5184432e-05, 1.3860252e-07, 2.9249622e-03,\n",
       "       2.8515379e-07, 9.9702221e-01], dtype=float32)"
      ]
     },
     "execution_count": 18,
     "metadata": {},
     "output_type": "execute_result"
    }
   ],
   "source": [
    "predict[0]"
   ]
  },
  {
   "cell_type": "code",
   "execution_count": 19,
   "id": "graphic-vessel",
   "metadata": {
    "ExecuteTime": {
     "end_time": "2022-07-26T14:11:15.486728Z",
     "start_time": "2022-07-26T14:11:15.474101Z"
    }
   },
   "outputs": [
    {
     "data": {
      "text/plain": [
       "9"
      ]
     },
     "execution_count": 19,
     "metadata": {},
     "output_type": "execute_result"
    }
   ],
   "source": [
    "np.argmax(predict[0])"
   ]
  },
  {
   "cell_type": "code",
   "execution_count": 20,
   "id": "assumed-firewall",
   "metadata": {
    "ExecuteTime": {
     "end_time": "2022-07-26T14:11:15.502060Z",
     "start_time": "2022-07-26T14:11:15.488064Z"
    }
   },
   "outputs": [
    {
     "data": {
      "text/plain": [
       "9"
      ]
     },
     "execution_count": 20,
     "metadata": {},
     "output_type": "execute_result"
    }
   ],
   "source": [
    "test_label[0]"
   ]
  },
  {
   "cell_type": "code",
   "execution_count": 21,
   "id": "greek-settle",
   "metadata": {
    "ExecuteTime": {
     "end_time": "2022-07-26T14:11:16.402352Z",
     "start_time": "2022-07-26T14:11:15.505018Z"
    }
   },
   "outputs": [
    {
     "name": "stdout",
     "output_type": "stream",
     "text": [
      "313/313 [==============================] - 0s 2ms/step - loss: 0.3405 - acc: 0.8821\n"
     ]
    },
    {
     "data": {
      "text/plain": [
       "[0.34052222967147827, 0.882099986076355]"
      ]
     },
     "execution_count": 21,
     "metadata": {},
     "output_type": "execute_result"
    }
   ],
   "source": [
    "model_onehot.evaluate(test_image, test_label_onehot)"
   ]
  }
 ],
 "metadata": {
  "kernelspec": {
   "display_name": "Python 3",
   "language": "python",
   "name": "python3"
  },
  "language_info": {
   "codemirror_mode": {
    "name": "ipython",
    "version": 3
   },
   "file_extension": ".py",
   "mimetype": "text/x-python",
   "name": "python",
   "nbconvert_exporter": "python",
   "pygments_lexer": "ipython3",
   "version": "3.8.8"
  },
  "latex_envs": {
   "LaTeX_envs_menu_present": true,
   "autoclose": false,
   "autocomplete": true,
   "bibliofile": "biblio.bib",
   "cite_by": "apalike",
   "current_citInitial": 1,
   "eqLabelWithNumbers": true,
   "eqNumInitial": 1,
   "hotkeys": {
    "equation": "Ctrl-E",
    "itemize": "Ctrl-I"
   },
   "labels_anchors": false,
   "latex_user_defs": false,
   "report_style_numbering": false,
   "user_envs_cfg": false
  },
  "toc": {
   "base_numbering": 1,
   "nav_menu": {},
   "number_sections": true,
   "sideBar": true,
   "skip_h1_title": false,
   "title_cell": "Table of Contents",
   "title_sidebar": "Contents",
   "toc_cell": false,
   "toc_position": {},
   "toc_section_display": true,
   "toc_window_display": false
  },
  "varInspector": {
   "cols": {
    "lenName": 16,
    "lenType": 16,
    "lenVar": 40
   },
   "kernels_config": {
    "python": {
     "delete_cmd_postfix": "",
     "delete_cmd_prefix": "del ",
     "library": "var_list.py",
     "varRefreshCmd": "print(var_dic_list())"
    },
    "r": {
     "delete_cmd_postfix": ") ",
     "delete_cmd_prefix": "rm(",
     "library": "var_list.r",
     "varRefreshCmd": "cat(var_dic_list()) "
    }
   },
   "types_to_exclude": [
    "module",
    "function",
    "builtin_function_or_method",
    "instance",
    "_Feature"
   ],
   "window_display": false
  }
 },
 "nbformat": 4,
 "nbformat_minor": 5
}
