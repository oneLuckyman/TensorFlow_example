{
 "cells": [
  {
   "cell_type": "code",
   "execution_count": 1,
   "id": "changing-mechanism",
   "metadata": {
    "ExecuteTime": {
     "end_time": "2022-07-21T10:38:38.114809Z",
     "start_time": "2022-07-21T10:38:35.781643Z"
    }
   },
   "outputs": [],
   "source": [
    "import tensorflow as tf \n",
    "import pandas as pd \n",
    "import numpy as np \n",
    "import matplotlib.pyplot as plt \n",
    "%matplotlib inline "
   ]
  },
  {
   "cell_type": "code",
   "execution_count": 2,
   "id": "sufficient-ideal",
   "metadata": {
    "ExecuteTime": {
     "end_time": "2022-07-21T10:38:38.130578Z",
     "start_time": "2022-07-21T10:38:38.116492Z"
    }
   },
   "outputs": [
    {
     "data": {
      "text/plain": [
       "'2.3.0'"
      ]
     },
     "execution_count": 2,
     "metadata": {},
     "output_type": "execute_result"
    }
   ],
   "source": [
    "tf.__version__"
   ]
  },
  {
   "cell_type": "code",
   "execution_count": 3,
   "id": "auburn-female",
   "metadata": {
    "ExecuteTime": {
     "end_time": "2022-07-21T10:38:38.145481Z",
     "start_time": "2022-07-21T10:38:38.132448Z"
    }
   },
   "outputs": [],
   "source": [
    "data = pd.read_csv('../../Tensorflow_course/dataset/small_CSV/Advertising.csv')"
   ]
  },
  {
   "cell_type": "code",
   "execution_count": 4,
   "id": "separated-stereo",
   "metadata": {
    "ExecuteTime": {
     "end_time": "2022-07-21T10:38:38.175693Z",
     "start_time": "2022-07-21T10:38:38.147984Z"
    }
   },
   "outputs": [
    {
     "data": {
      "text/html": [
       "<div>\n",
       "<style scoped>\n",
       "    .dataframe tbody tr th:only-of-type {\n",
       "        vertical-align: middle;\n",
       "    }\n",
       "\n",
       "    .dataframe tbody tr th {\n",
       "        vertical-align: top;\n",
       "    }\n",
       "\n",
       "    .dataframe thead th {\n",
       "        text-align: right;\n",
       "    }\n",
       "</style>\n",
       "<table border=\"1\" class=\"dataframe\">\n",
       "  <thead>\n",
       "    <tr style=\"text-align: right;\">\n",
       "      <th></th>\n",
       "      <th>Unnamed: 0</th>\n",
       "      <th>TV</th>\n",
       "      <th>radio</th>\n",
       "      <th>newspaper</th>\n",
       "      <th>sales</th>\n",
       "    </tr>\n",
       "  </thead>\n",
       "  <tbody>\n",
       "    <tr>\n",
       "      <th>0</th>\n",
       "      <td>1</td>\n",
       "      <td>230.1</td>\n",
       "      <td>37.8</td>\n",
       "      <td>69.2</td>\n",
       "      <td>22.1</td>\n",
       "    </tr>\n",
       "    <tr>\n",
       "      <th>1</th>\n",
       "      <td>2</td>\n",
       "      <td>44.5</td>\n",
       "      <td>39.3</td>\n",
       "      <td>45.1</td>\n",
       "      <td>10.4</td>\n",
       "    </tr>\n",
       "    <tr>\n",
       "      <th>2</th>\n",
       "      <td>3</td>\n",
       "      <td>17.2</td>\n",
       "      <td>45.9</td>\n",
       "      <td>69.3</td>\n",
       "      <td>9.3</td>\n",
       "    </tr>\n",
       "    <tr>\n",
       "      <th>3</th>\n",
       "      <td>4</td>\n",
       "      <td>151.5</td>\n",
       "      <td>41.3</td>\n",
       "      <td>58.5</td>\n",
       "      <td>18.5</td>\n",
       "    </tr>\n",
       "    <tr>\n",
       "      <th>4</th>\n",
       "      <td>5</td>\n",
       "      <td>180.8</td>\n",
       "      <td>10.8</td>\n",
       "      <td>58.4</td>\n",
       "      <td>12.9</td>\n",
       "    </tr>\n",
       "  </tbody>\n",
       "</table>\n",
       "</div>"
      ],
      "text/plain": [
       "   Unnamed: 0     TV  radio  newspaper  sales\n",
       "0           1  230.1   37.8       69.2   22.1\n",
       "1           2   44.5   39.3       45.1   10.4\n",
       "2           3   17.2   45.9       69.3    9.3\n",
       "3           4  151.5   41.3       58.5   18.5\n",
       "4           5  180.8   10.8       58.4   12.9"
      ]
     },
     "execution_count": 4,
     "metadata": {},
     "output_type": "execute_result"
    }
   ],
   "source": [
    "data.head()"
   ]
  },
  {
   "cell_type": "code",
   "execution_count": 5,
   "id": "latter-passion",
   "metadata": {
    "ExecuteTime": {
     "end_time": "2022-07-21T10:38:38.314838Z",
     "start_time": "2022-07-21T10:38:38.178629Z"
    }
   },
   "outputs": [
    {
     "data": {
      "text/plain": [
       "<matplotlib.collections.PathCollection at 0x1faf82fc8e0>"
      ]
     },
     "execution_count": 5,
     "metadata": {},
     "output_type": "execute_result"
    },
    {
     "data": {
      "image/png": "[encoded data removed]",
      "text/plain": [
       "<Figure size 432x288 with 1 Axes>"
      ]
     },
     "metadata": {
      "needs_background": "light"
     },
     "output_type": "display_data"
    }
   ],
   "source": [
    "plt.scatter(data.TV, data.sales)"
   ]
  },
  {
   "cell_type": "code",
   "execution_count": 6,
   "id": "serial-pilot",
   "metadata": {
    "ExecuteTime": {
     "end_time": "2022-07-21T10:38:38.440270Z",
     "start_time": "2022-07-21T10:38:38.316541Z"
    }
   },
   "outputs": [
    {
     "data": {
      "text/plain": [
       "<matplotlib.collections.PathCollection at 0x1faf8a7cee0>"
      ]
     },
     "execution_count": 6,
     "metadata": {},
     "output_type": "execute_result"
    },
    {
     "data": {
      "image/png": "[encoded data removed]",
      "text/plain": [
       "<Figure size 432x288 with 1 Axes>"
      ]
     },
     "metadata": {
      "needs_background": "light"
     },
     "output_type": "display_data"
    }
   ],
   "source": [
    "plt.scatter(data.radio, data.sales)"
   ]
  },
  {
   "cell_type": "code",
   "execution_count": 7,
   "id": "ceramic-release",
   "metadata": {
    "ExecuteTime": {
     "end_time": "2022-07-21T10:38:38.550537Z",
     "start_time": "2022-07-21T10:38:38.442229Z"
    }
   },
   "outputs": [
    {
     "data": {
      "text/plain": [
       "<matplotlib.collections.PathCollection at 0x1faf8adba60>"
      ]
     },
     "execution_count": 7,
     "metadata": {},
     "output_type": "execute_result"
    },
    {
     "data": {
      "image/png": "[encoded data removed]",
      "text/plain": [
       "<Figure size 432x288 with 1 Axes>"
      ]
     },
     "metadata": {
      "needs_background": "light"
     },
     "output_type": "display_data"
    }
   ],
   "source": [
    "plt.scatter(data.newspaper, data.sales)"
   ]
  },
  {
   "cell_type": "code",
   "execution_count": 8,
   "id": "lasting-monitor",
   "metadata": {
    "ExecuteTime": {
     "end_time": "2022-07-21T10:38:38.565615Z",
     "start_time": "2022-07-21T10:38:38.551535Z"
    }
   },
   "outputs": [],
   "source": [
    "x = data.iloc[:,1:-1]\n",
    "y = data.iloc[:,-1]"
   ]
  },
  {
   "cell_type": "code",
   "execution_count": 9,
   "id": "black-turtle",
   "metadata": {
    "ExecuteTime": {
     "end_time": "2022-07-21T10:38:38.611306Z",
     "start_time": "2022-07-21T10:38:38.569114Z"
    }
   },
   "outputs": [],
   "source": [
    "model = tf.keras.Sequential([tf.keras.layers.Dense(10, input_shape=(3,), activation='relu'),\n",
    "                            tf.keras.layers.Dense(1)]\n",
    ")"
   ]
  },
  {
   "cell_type": "code",
   "execution_count": 10,
   "id": "sixth-future",
   "metadata": {
    "ExecuteTime": {
     "end_time": "2022-07-21T10:38:38.627208Z",
     "start_time": "2022-07-21T10:38:38.613130Z"
    }
   },
   "outputs": [
    {
     "name": "stdout",
     "output_type": "stream",
     "text": [
      "Model: \"sequential\"\n",
      "_________________________________________________________________\n",
      "Layer (type)                 Output Shape              Param #   \n",
      "=================================================================\n",
      "dense (Dense)                (None, 10)                40        \n",
      "_________________________________________________________________\n",
      "dense_1 (Dense)              (None, 1)                 11        \n",
      "=================================================================\n",
      "Total params: 51\n",
      "Trainable params: 51\n",
      "Non-trainable params: 0\n",
      "_________________________________________________________________\n"
     ]
    }
   ],
   "source": [
    "model.summary()"
   ]
  },
  {
   "cell_type": "code",
   "execution_count": 11,
   "id": "humanitarian-tribute",
   "metadata": {
    "ExecuteTime": {
     "end_time": "2022-07-21T10:38:38.642672Z",
     "start_time": "2022-07-21T10:38:38.628174Z"
    }
   },
   "outputs": [],
   "source": [
    "model.compile(optimizer='Adam',\n",
    "             loss='mse')"
   ]
  },
  {
   "cell_type": "code",
   "execution_count": 12,
   "id": "herbal-nepal",
   "metadata": {
    "ExecuteTime": {
     "end_time": "2022-07-21T10:38:40.556164Z",
     "start_time": "2022-07-21T10:38:38.646190Z"
    },
    "scrolled": true
   },
   "outputs": [
    {
     "name": "stdout",
     "output_type": "stream",
     "text": [
      "Epoch 1/200\n",
      "1/7 [===>..........................] - ETA: 0s - loss: 1114.0020WARNING:tensorflow:Callbacks method `on_train_batch_end` is slow compared to the batch time (batch time: 0.0000s vs `on_train_batch_end` time: 0.0010s). Check your callbacks.\n",
      "7/7 [==============================] - 0s 669us/step - loss: 890.4174\n",
      "Epoch 2/200\n",
      "7/7 [==============================] - 0s 997us/step - loss: 704.1340\n",
      "Epoch 3/200\n",
      "7/7 [==============================] - 0s 712us/step - loss: 542.2753\n",
      "Epoch 4/200\n",
      "7/7 [==============================] - 0s 1ms/step - loss: 408.9733\n",
      "Epoch 5/200\n",
      "7/7 [==============================] - 0s 781us/step - loss: 302.0318\n",
      "Epoch 6/200\n",
      "7/7 [==============================] - 0s 1ms/step - loss: 216.1850\n",
      "Epoch 7/200\n",
      "7/7 [==============================] - 0s 1ms/step - loss: 158.4670\n",
      "Epoch 8/200\n",
      "7/7 [==============================] - 0s 720us/step - loss: 113.7200\n",
      "Epoch 9/200\n",
      "7/7 [==============================] - 0s 1ms/step - loss: 84.3788\n",
      "Epoch 10/200\n",
      "7/7 [==============================] - 0s 998us/step - loss: 65.7579\n",
      "Epoch 11/200\n",
      "7/7 [==============================] - 0s 1ms/step - loss: 54.9092\n",
      "Epoch 12/200\n",
      "7/7 [==============================] - 0s 900us/step - loss: 47.5756\n",
      "Epoch 13/200\n",
      "7/7 [==============================] - 0s 868us/step - loss: 43.2372\n",
      "Epoch 14/200\n",
      "7/7 [==============================] - 0s 999us/step - loss: 39.5669\n",
      "Epoch 15/200\n",
      "7/7 [==============================] - 0s 717us/step - loss: 36.7790\n",
      "Epoch 16/200\n",
      "7/7 [==============================] - 0s 1ms/step - loss: 34.5119\n",
      "Epoch 17/200\n",
      "7/7 [==============================] - 0s 712us/step - loss: 32.3639\n",
      "Epoch 18/200\n",
      "7/7 [==============================] - 0s 1ms/step - loss: 30.7361\n",
      "Epoch 19/200\n",
      "7/7 [==============================] - 0s 712us/step - loss: 28.7784\n",
      "Epoch 20/200\n",
      "7/7 [==============================] - 0s 1ms/step - loss: 27.4053\n",
      "Epoch 21/200\n",
      "7/7 [==============================] - 0s 712us/step - loss: 26.1403\n",
      "Epoch 22/200\n",
      "7/7 [==============================] - 0s 853us/step - loss: 24.9938\n",
      "Epoch 23/200\n",
      "7/7 [==============================] - 0s 712us/step - loss: 23.7345\n",
      "Epoch 24/200\n",
      "7/7 [==============================] - 0s 1ms/step - loss: 22.8641\n",
      "Epoch 25/200\n",
      "7/7 [==============================] - 0s 712us/step - loss: 22.1367\n",
      "Epoch 26/200\n",
      "7/7 [==============================] - 0s 1ms/step - loss: 21.3846\n",
      "Epoch 27/200\n",
      "7/7 [==============================] - 0s 536us/step - loss: 20.7727\n",
      "Epoch 28/200\n",
      "7/7 [==============================] - 0s 855us/step - loss: 20.0919\n",
      "Epoch 29/200\n",
      "7/7 [==============================] - 0s 712us/step - loss: 19.4880\n",
      "Epoch 30/200\n",
      "7/7 [==============================] - 0s 856us/step - loss: 19.0150\n",
      "Epoch 31/200\n",
      "7/7 [==============================] - 0s 712us/step - loss: 18.4516\n",
      "Epoch 32/200\n",
      "7/7 [==============================] - 0s 570us/step - loss: 17.9721\n",
      "Epoch 33/200\n",
      "7/7 [==============================] - 0s 692us/step - loss: 17.6016\n",
      "Epoch 34/200\n",
      "7/7 [==============================] - 0s 712us/step - loss: 17.1942\n",
      "Epoch 35/200\n",
      "7/7 [==============================] - 0s 855us/step - loss: 16.8418\n",
      "Epoch 36/200\n",
      "7/7 [==============================] - 0s 713us/step - loss: 16.5487\n",
      "Epoch 37/200\n",
      "7/7 [==============================] - 0s 428us/step - loss: 16.2210\n",
      "Epoch 38/200\n",
      "7/7 [==============================] - 0s 855us/step - loss: 15.8666\n",
      "Epoch 39/200\n",
      "7/7 [==============================] - 0s 571us/step - loss: 15.5653\n",
      "Epoch 40/200\n",
      "7/7 [==============================] - 0s 786us/step - loss: 15.2189\n",
      "Epoch 41/200\n",
      "7/7 [==============================] - 0s 712us/step - loss: 14.9419\n",
      "Epoch 42/200\n",
      "7/7 [==============================] - 0s 570us/step - loss: 14.6094\n",
      "Epoch 43/200\n",
      "7/7 [==============================] - 0s 858us/step - loss: 14.1953\n",
      "Epoch 44/200\n",
      "7/7 [==============================] - 0s 574us/step - loss: 13.7399\n",
      "Epoch 45/200\n",
      "7/7 [==============================] - 0s 1ms/step - loss: 13.3019\n",
      "Epoch 46/200\n",
      "7/7 [==============================] - 0s 428us/step - loss: 12.9800\n",
      "Epoch 47/200\n",
      "7/7 [==============================] - 0s 713us/step - loss: 12.5085\n",
      "Epoch 48/200\n",
      "7/7 [==============================] - 0s 557us/step - loss: 12.0654\n",
      "Epoch 49/200\n",
      "7/7 [==============================] - 0s 418us/step - loss: 11.5871\n",
      "Epoch 50/200\n",
      "7/7 [==============================] - 0s 809us/step - loss: 11.0001\n",
      "Epoch 51/200\n",
      "7/7 [==============================] - 0s 569us/step - loss: 10.6469\n",
      "Epoch 52/200\n",
      "7/7 [==============================] - 0s 653us/step - loss: 10.1738\n",
      "Epoch 53/200\n",
      "7/7 [==============================] - 0s 855us/step - loss: 9.7734\n",
      "Epoch 54/200\n",
      "7/7 [==============================] - 0s 564us/step - loss: 9.3742\n",
      "Epoch 55/200\n",
      "7/7 [==============================] - 0s 1ms/step - loss: 9.0325\n",
      "Epoch 56/200\n",
      "7/7 [==============================] - 0s 533us/step - loss: 8.6787\n",
      "Epoch 57/200\n",
      "7/7 [==============================] - 0s 689us/step - loss: 8.3571\n",
      "Epoch 58/200\n",
      "7/7 [==============================] - 0s 2ms/step - loss: 7.9882\n",
      "Epoch 59/200\n",
      "7/7 [==============================] - 0s 689us/step - loss: 7.6293\n",
      "Epoch 60/200\n",
      "7/7 [==============================] - 0s 712us/step - loss: 7.3112\n",
      "Epoch 61/200\n",
      "7/7 [==============================] - 0s 712us/step - loss: 7.0540\n",
      "Epoch 62/200\n",
      "7/7 [==============================] - 0s 569us/step - loss: 6.7809\n",
      "Epoch 63/200\n",
      "7/7 [==============================] - 0s 1ms/step - loss: 6.5300\n",
      "Epoch 64/200\n",
      "7/7 [==============================] - 0s 712us/step - loss: 6.3141\n",
      "Epoch 65/200\n",
      "7/7 [==============================] - 0s 556us/step - loss: 6.1230\n",
      "Epoch 66/200\n",
      "7/7 [==============================] - 0s 854us/step - loss: 5.9171\n",
      "Epoch 67/200\n",
      "7/7 [==============================] - 0s 566us/step - loss: 5.7282\n",
      "Epoch 68/200\n",
      "7/7 [==============================] - 0s 571us/step - loss: 5.5711\n",
      "Epoch 69/200\n",
      "7/7 [==============================] - 0s 712us/step - loss: 5.4116\n",
      "Epoch 70/200\n",
      "7/7 [==============================] - 0s 570us/step - loss: 5.2664\n",
      "Epoch 71/200\n",
      "7/7 [==============================] - 0s 855us/step - loss: 5.1150\n",
      "Epoch 72/200\n",
      "7/7 [==============================] - 0s 712us/step - loss: 4.9832\n",
      "Epoch 73/200\n",
      "7/7 [==============================] - 0s 929us/step - loss: 4.8535\n",
      "Epoch 74/200\n",
      "7/7 [==============================] - 0s 713us/step - loss: 4.7286\n",
      "Epoch 75/200\n",
      "7/7 [==============================] - 0s 570us/step - loss: 4.6220\n",
      "Epoch 76/200\n",
      "7/7 [==============================] - 0s 570us/step - loss: 4.5184\n",
      "Epoch 77/200\n",
      "7/7 [==============================] - 0s 563us/step - loss: 4.3963\n",
      "Epoch 78/200\n",
      "7/7 [==============================] - 0s 715us/step - loss: 4.3118\n",
      "Epoch 79/200\n",
      "7/7 [==============================] - 0s 834us/step - loss: 4.2281\n",
      "Epoch 80/200\n",
      "7/7 [==============================] - 0s 570us/step - loss: 4.1545\n",
      "Epoch 81/200\n",
      "7/7 [==============================] - 0s 713us/step - loss: 4.0742\n",
      "Epoch 82/200\n",
      "7/7 [==============================] - 0s 712us/step - loss: 4.0055\n",
      "Epoch 83/200\n",
      "7/7 [==============================] - 0s 860us/step - loss: 3.9441\n",
      "Epoch 84/200\n",
      "7/7 [==============================] - 0s 698us/step - loss: 3.8893\n",
      "Epoch 85/200\n",
      "7/7 [==============================] - 0s 570us/step - loss: 3.8307\n",
      "Epoch 86/200\n",
      "7/7 [==============================] - 0s 855us/step - loss: 3.7836\n",
      "Epoch 87/200\n",
      "7/7 [==============================] - 0s 562us/step - loss: 3.7370\n",
      "Epoch 88/200\n",
      "7/7 [==============================] - 0s 889us/step - loss: 3.6922\n",
      "Epoch 89/200\n",
      "7/7 [==============================] - 0s 570us/step - loss: 3.6524\n",
      "Epoch 90/200\n",
      "7/7 [==============================] - 0s 702us/step - loss: 3.6053\n",
      "Epoch 91/200\n",
      "7/7 [==============================] - 0s 855us/step - loss: 3.5825\n",
      "Epoch 92/200\n",
      "7/7 [==============================] - 0s 714us/step - loss: 3.5399\n",
      "Epoch 93/200\n",
      "7/7 [==============================] - 0s 712us/step - loss: 3.5134\n",
      "Epoch 94/200\n",
      "7/7 [==============================] - 0s 711us/step - loss: 3.4886\n",
      "Epoch 95/200\n",
      "7/7 [==============================] - 0s 861us/step - loss: 3.4600\n",
      "Epoch 96/200\n",
      "7/7 [==============================] - 0s 427us/step - loss: 3.4311\n",
      "Epoch 97/200\n",
      "7/7 [==============================] - 0s 714us/step - loss: 3.4072\n",
      "Epoch 98/200\n"
     ]
    },
    {
     "name": "stdout",
     "output_type": "stream",
     "text": [
      "7/7 [==============================] - 0s 712us/step - loss: 3.3888\n",
      "Epoch 99/200\n",
      "7/7 [==============================] - 0s 570us/step - loss: 3.3682\n",
      "Epoch 100/200\n",
      "7/7 [==============================] - 0s 997us/step - loss: 3.3517\n",
      "Epoch 101/200\n",
      "7/7 [==============================] - 0s 570us/step - loss: 3.3354\n",
      "Epoch 102/200\n",
      "7/7 [==============================] - 0s 892us/step - loss: 3.3200\n",
      "Epoch 103/200\n",
      "7/7 [==============================] - 0s 712us/step - loss: 3.2986\n",
      "Epoch 104/200\n",
      "7/7 [==============================] - 0s 570us/step - loss: 3.2908\n",
      "Epoch 105/200\n",
      "7/7 [==============================] - 0s 1ms/step - loss: 3.2705\n",
      "Epoch 106/200\n",
      "7/7 [==============================] - 0s 570us/step - loss: 3.2542\n",
      "Epoch 107/200\n",
      "7/7 [==============================] - 0s 998us/step - loss: 3.2417\n",
      "Epoch 108/200\n",
      "7/7 [==============================] - 0s 561us/step - loss: 3.2299\n",
      "Epoch 109/200\n",
      "7/7 [==============================] - 0s 752us/step - loss: 3.2238\n",
      "Epoch 110/200\n",
      "7/7 [==============================] - 0s 570us/step - loss: 3.2073\n",
      "Epoch 111/200\n",
      "7/7 [==============================] - 0s 570us/step - loss: 3.1993\n",
      "Epoch 112/200\n",
      "7/7 [==============================] - 0s 986us/step - loss: 3.1925\n",
      "Epoch 113/200\n",
      "7/7 [==============================] - 0s 427us/step - loss: 3.1819\n",
      "Epoch 114/200\n",
      "7/7 [==============================] - 0s 428us/step - loss: 3.1718\n",
      "Epoch 115/200\n",
      "7/7 [==============================] - 0s 712us/step - loss: 3.1602\n",
      "Epoch 116/200\n",
      "7/7 [==============================] - 0s 570us/step - loss: 3.1561\n",
      "Epoch 117/200\n",
      "7/7 [==============================] - 0s 570us/step - loss: 3.1427\n",
      "Epoch 118/200\n",
      "7/7 [==============================] - 0s 570us/step - loss: 3.1404\n",
      "Epoch 119/200\n",
      "7/7 [==============================] - 0s 713us/step - loss: 3.1300\n",
      "Epoch 120/200\n",
      "7/7 [==============================] - 0s 962us/step - loss: 3.1208\n",
      "Epoch 121/200\n",
      "7/7 [==============================] - 0s 570us/step - loss: 3.1122\n",
      "Epoch 122/200\n",
      "7/7 [==============================] - 0s 423us/step - loss: 3.1043\n",
      "Epoch 123/200\n",
      "7/7 [==============================] - 0s 711us/step - loss: 3.0948\n",
      "Epoch 124/200\n",
      "7/7 [==============================] - 0s 427us/step - loss: 3.0920\n",
      "Epoch 125/200\n",
      "7/7 [==============================] - 0s 428us/step - loss: 3.0852\n",
      "Epoch 126/200\n",
      "7/7 [==============================] - 0s 712us/step - loss: 3.0842\n",
      "Epoch 127/200\n",
      "7/7 [==============================] - 0s 570us/step - loss: 3.0651\n",
      "Epoch 128/200\n",
      "7/7 [==============================] - 0s 858us/step - loss: 3.0610\n",
      "Epoch 129/200\n",
      "7/7 [==============================] - 0s 570us/step - loss: 3.0548\n",
      "Epoch 130/200\n",
      "7/7 [==============================] - 0s 427us/step - loss: 3.0460\n",
      "Epoch 131/200\n",
      "7/7 [==============================] - 0s 1000us/step - loss: 3.0391\n",
      "Epoch 132/200\n",
      "7/7 [==============================] - 0s 564us/step - loss: 3.0314\n",
      "Epoch 133/200\n",
      "7/7 [==============================] - 0s 709us/step - loss: 3.0228\n",
      "Epoch 134/200\n",
      "7/7 [==============================] - 0s 712us/step - loss: 3.0187\n",
      "Epoch 135/200\n",
      "7/7 [==============================] - 0s 426us/step - loss: 3.0116\n",
      "Epoch 136/200\n",
      "7/7 [==============================] - 0s 984us/step - loss: 3.0039\n",
      "Epoch 137/200\n",
      "7/7 [==============================] - 0s 570us/step - loss: 2.9986\n",
      "Epoch 138/200\n",
      "7/7 [==============================] - 0s 713us/step - loss: 2.9907\n",
      "Epoch 139/200\n",
      "7/7 [==============================] - 0s 666us/step - loss: 2.9856\n",
      "Epoch 140/200\n",
      "7/7 [==============================] - 0s 570us/step - loss: 2.9769\n",
      "Epoch 141/200\n",
      "7/7 [==============================] - 0s 1ms/step - loss: 2.9685\n",
      "Epoch 142/200\n",
      "7/7 [==============================] - 0s 558us/step - loss: 2.9650\n",
      "Epoch 143/200\n",
      "7/7 [==============================] - 0s 430us/step - loss: 2.9600\n",
      "Epoch 144/200\n",
      "7/7 [==============================] - 0s 712us/step - loss: 2.9552\n",
      "Epoch 145/200\n",
      "7/7 [==============================] - 0s 427us/step - loss: 2.9501\n",
      "Epoch 146/200\n",
      "7/7 [==============================] - 0s 570us/step - loss: 2.9474\n",
      "Epoch 147/200\n",
      "7/7 [==============================] - 0s 571us/step - loss: 2.9447\n",
      "Epoch 148/200\n",
      "7/7 [==============================] - 0s 570us/step - loss: 2.9459\n",
      "Epoch 149/200\n",
      "7/7 [==============================] - 0s 855us/step - loss: 2.9244\n",
      "Epoch 150/200\n",
      "7/7 [==============================] - 0s 712us/step - loss: 2.9233\n",
      "Epoch 151/200\n",
      "7/7 [==============================] - 0s 570us/step - loss: 2.9165\n",
      "Epoch 152/200\n",
      "7/7 [==============================] - 0s 855us/step - loss: 2.9078\n",
      "Epoch 153/200\n",
      "7/7 [==============================] - 0s 570us/step - loss: 2.9009\n",
      "Epoch 154/200\n",
      "7/7 [==============================] - 0s 557us/step - loss: 2.8942\n",
      "Epoch 155/200\n",
      "7/7 [==============================] - 0s 570us/step - loss: 2.8922\n",
      "Epoch 156/200\n",
      "7/7 [==============================] - 0s 569us/step - loss: 2.8846\n",
      "Epoch 157/200\n",
      "7/7 [==============================] - 0s 712us/step - loss: 2.8762\n",
      "Epoch 158/200\n",
      "7/7 [==============================] - 0s 570us/step - loss: 2.8827\n",
      "Epoch 159/200\n",
      "7/7 [==============================] - 0s 712us/step - loss: 2.8744\n",
      "Epoch 160/200\n",
      "7/7 [==============================] - 0s 698us/step - loss: 2.8611\n",
      "Epoch 161/200\n",
      "7/7 [==============================] - 0s 428us/step - loss: 2.8569\n",
      "Epoch 162/200\n",
      "7/7 [==============================] - 0s 704us/step - loss: 2.8468\n",
      "Epoch 163/200\n",
      "7/7 [==============================] - 0s 570us/step - loss: 2.8415\n",
      "Epoch 164/200\n",
      "7/7 [==============================] - 0s 427us/step - loss: 2.8421\n",
      "Epoch 165/200\n",
      "7/7 [==============================] - 0s 751us/step - loss: 2.8291\n",
      "Epoch 166/200\n",
      "7/7 [==============================] - 0s 570us/step - loss: 2.8209\n",
      "Epoch 167/200\n",
      "7/7 [==============================] - 0s 565us/step - loss: 2.8166\n",
      "Epoch 168/200\n",
      "7/7 [==============================] - 0s 710us/step - loss: 2.8004\n",
      "Epoch 169/200\n",
      "7/7 [==============================] - 0s 570us/step - loss: 2.7930\n",
      "Epoch 170/200\n",
      "7/7 [==============================] - 0s 757us/step - loss: 2.7863\n",
      "Epoch 171/200\n",
      "7/7 [==============================] - 0s 565us/step - loss: 2.7878\n",
      "Epoch 172/200\n",
      "7/7 [==============================] - 0s 428us/step - loss: 2.7870\n",
      "Epoch 173/200\n",
      "7/7 [==============================] - 0s 715us/step - loss: 2.7730\n",
      "Epoch 174/200\n",
      "7/7 [==============================] - 0s 570us/step - loss: 2.7641\n",
      "Epoch 175/200\n",
      "7/7 [==============================] - 0s 428us/step - loss: 2.7619\n",
      "Epoch 176/200\n",
      "7/7 [==============================] - 0s 712us/step - loss: 2.7533\n",
      "Epoch 177/200\n",
      "7/7 [==============================] - 0s 570us/step - loss: 2.7450\n",
      "Epoch 178/200\n",
      "7/7 [==============================] - 0s 570us/step - loss: 2.7501\n",
      "Epoch 179/200\n",
      "7/7 [==============================] - 0s 711us/step - loss: 2.7513\n",
      "Epoch 180/200\n",
      "7/7 [==============================] - 0s 561us/step - loss: 2.7434\n",
      "Epoch 181/200\n",
      "7/7 [==============================] - 0s 590us/step - loss: 2.7378\n",
      "Epoch 182/200\n",
      "7/7 [==============================] - 0s 712us/step - loss: 2.7315\n",
      "Epoch 183/200\n",
      "7/7 [==============================] - 0s 562us/step - loss: 2.7254\n",
      "Epoch 184/200\n",
      "7/7 [==============================] - 0s 712us/step - loss: 2.7217\n",
      "Epoch 185/200\n",
      "7/7 [==============================] - 0s 570us/step - loss: 2.7168\n",
      "Epoch 186/200\n",
      "7/7 [==============================] - 0s 419us/step - loss: 2.7079\n",
      "Epoch 187/200\n",
      "7/7 [==============================] - 0s 860us/step - loss: 2.7063\n",
      "Epoch 188/200\n",
      "7/7 [==============================] - 0s 570us/step - loss: 2.6934\n",
      "Epoch 189/200\n",
      "7/7 [==============================] - 0s 563us/step - loss: 2.6848\n",
      "Epoch 190/200\n",
      "7/7 [==============================] - 0s 713us/step - loss: 2.6775\n",
      "Epoch 191/200\n",
      "7/7 [==============================] - 0s 570us/step - loss: 2.6756\n",
      "Epoch 192/200\n",
      "7/7 [==============================] - 0s 855us/step - loss: 2.6717\n",
      "Epoch 193/200\n",
      "7/7 [==============================] - 0s 574us/step - loss: 2.6655\n",
      "Epoch 194/200\n",
      "7/7 [==============================] - 0s 428us/step - loss: 2.6597\n",
      "Epoch 195/200\n",
      "7/7 [==============================] - 0s 743us/step - loss: 2.6569\n",
      "Epoch 196/200\n",
      "7/7 [==============================] - 0s 571us/step - loss: 2.6465\n",
      "Epoch 197/200\n",
      "7/7 [==============================] - 0s 557us/step - loss: 2.6413\n",
      "Epoch 198/200\n"
     ]
    },
    {
     "name": "stdout",
     "output_type": "stream",
     "text": [
      "7/7 [==============================] - 0s 564us/step - loss: 2.6322\n",
      "Epoch 199/200\n",
      "7/7 [==============================] - 0s 572us/step - loss: 2.6268\n",
      "Epoch 200/200\n",
      "7/7 [==============================] - 0s 571us/step - loss: 2.6221\n"
     ]
    },
    {
     "data": {
      "text/plain": [
       "<tensorflow.python.keras.callbacks.History at 0x1faf8cdc2e0>"
      ]
     },
     "execution_count": 12,
     "metadata": {},
     "output_type": "execute_result"
    }
   ],
   "source": [
    "model.fit(x, y, epochs=200)"
   ]
  },
  {
   "cell_type": "code",
   "execution_count": 13,
   "id": "million-greeting",
   "metadata": {
    "ExecuteTime": {
     "end_time": "2022-07-21T10:38:40.571734Z",
     "start_time": "2022-07-21T10:38:40.557668Z"
    }
   },
   "outputs": [],
   "source": [
    "test = data.iloc[:10,1:-1]"
   ]
  },
  {
   "cell_type": "code",
   "execution_count": 14,
   "id": "analyzed-intermediate",
   "metadata": {
    "ExecuteTime": {
     "end_time": "2022-07-21T10:38:40.682397Z",
     "start_time": "2022-07-21T10:38:40.572628Z"
    }
   },
   "outputs": [
    {
     "data": {
      "text/plain": [
       "array([[21.89234  ],\n",
       "       [10.872414 ],\n",
       "       [ 8.698196 ],\n",
       "       [19.387877 ],\n",
       "       [13.951925 ],\n",
       "       [ 7.95114  ],\n",
       "       [10.383255 ],\n",
       "       [11.557184 ],\n",
       "       [ 1.5550157],\n",
       "       [10.787962 ]], dtype=float32)"
      ]
     },
     "execution_count": 14,
     "metadata": {},
     "output_type": "execute_result"
    }
   ],
   "source": [
    "model.predict(test) "
   ]
  },
  {
   "cell_type": "code",
   "execution_count": 15,
   "id": "opponent-yeast",
   "metadata": {
    "ExecuteTime": {
     "end_time": "2022-07-21T10:38:40.698385Z",
     "start_time": "2022-07-21T10:38:40.683285Z"
    }
   },
   "outputs": [],
   "source": [
    "test_label = data.iloc[:10,-1]"
   ]
  },
  {
   "cell_type": "code",
   "execution_count": 16,
   "id": "level-atlas",
   "metadata": {
    "ExecuteTime": {
     "end_time": "2022-07-21T10:38:45.641969Z",
     "start_time": "2022-07-21T10:38:45.626833Z"
    }
   },
   "outputs": [
    {
     "data": {
      "text/plain": [
       "0    22.1\n",
       "1    10.4\n",
       "2     9.3\n",
       "3    18.5\n",
       "4    12.9\n",
       "5     7.2\n",
       "6    11.8\n",
       "7    13.2\n",
       "8     4.8\n",
       "9    10.6\n",
       "Name: sales, dtype: float64"
      ]
     },
     "execution_count": 16,
     "metadata": {},
     "output_type": "execute_result"
    }
   ],
   "source": [
    "test_label"
   ]
  },
  {
   "cell_type": "code",
   "execution_count": null,
   "id": "demanding-armor",
   "metadata": {},
   "outputs": [],
   "source": []
  }
 ],
 "metadata": {
  "kernelspec": {
   "display_name": "Python 3",
   "language": "python",
   "name": "python3"
  },
  "language_info": {
   "codemirror_mode": {
    "name": "ipython",
    "version": 3
   },
   "file_extension": ".py",
   "mimetype": "text/x-python",
   "name": "python",
   "nbconvert_exporter": "python",
   "pygments_lexer": "ipython3",
   "version": "3.8.8"
  },
  "latex_envs": {
   "LaTeX_envs_menu_present": true,
   "autoclose": false,
   "autocomplete": true,
   "bibliofile": "biblio.bib",
   "cite_by": "apalike",
   "current_citInitial": 1,
   "eqLabelWithNumbers": true,
   "eqNumInitial": 1,
   "hotkeys": {
    "equation": "Ctrl-E",
    "itemize": "Ctrl-I"
   },
   "labels_anchors": false,
   "latex_user_defs": false,
   "report_style_numbering": false,
   "user_envs_cfg": false
  },
  "toc": {
   "base_numbering": 1,
   "nav_menu": {},
   "number_sections": true,
   "sideBar": true,
   "skip_h1_title": false,
   "title_cell": "Table of Contents",
   "title_sidebar": "Contents",
   "toc_cell": false,
   "toc_position": {},
   "toc_section_display": true,
   "toc_window_display": false
  },
  "varInspector": {
   "cols": {
    "lenName": 16,
    "lenType": 16,
    "lenVar": 40
   },
   "kernels_config": {
    "python": {
     "delete_cmd_postfix": "",
     "delete_cmd_prefix": "del ",
     "library": "var_list.py",
     "varRefreshCmd": "print(var_dic_list())"
    },
    "r": {
     "delete_cmd_postfix": ") ",
     "delete_cmd_prefix": "rm(",
     "library": "var_list.r",
     "varRefreshCmd": "cat(var_dic_list()) "
    }
   },
   "types_to_exclude": [
    "module",
    "function",
    "builtin_function_or_method",
    "instance",
    "_Feature"
   ],
   "window_display": false
  }
 },
 "nbformat": 4,
 "nbformat_minor": 5
}
