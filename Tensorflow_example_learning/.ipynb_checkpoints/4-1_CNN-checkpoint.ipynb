{
 "cells": [
  {
   "cell_type": "code",
   "execution_count": 1,
   "id": "regional-vault",
   "metadata": {
    "ExecuteTime": {
     "end_time": "2022-08-04T13:58:52.531208Z",
     "start_time": "2022-08-04T13:58:45.462594Z"
    }
   },
   "outputs": [],
   "source": [
    "import tensorflow as tf \n",
    "from tensorflow import keras \n",
    "import matplotlib.pyplot as plt \n",
    "%matplotlib inline \n",
    "import numpy as np"
   ]
  },
  {
   "cell_type": "code",
   "execution_count": 2,
   "id": "nasty-position",
   "metadata": {
    "ExecuteTime": {
     "end_time": "2022-08-04T13:58:52.546550Z",
     "start_time": "2022-08-04T13:58:52.532208Z"
    }
   },
   "outputs": [
    {
     "data": {
      "text/plain": [
       "'2.3.0'"
      ]
     },
     "execution_count": 2,
     "metadata": {},
     "output_type": "execute_result"
    }
   ],
   "source": [
    "tf.__version__"
   ]
  },
  {
   "cell_type": "code",
   "execution_count": 3,
   "id": "earned-basketball",
   "metadata": {
    "ExecuteTime": {
     "end_time": "2022-08-04T13:58:52.931383Z",
     "start_time": "2022-08-04T13:58:52.548309Z"
    }
   },
   "outputs": [],
   "source": [
    "fashion_mnist = keras.datasets.fashion_mnist\n",
    "(train_images, train_labels), (test_images, test_labels) = fashion_mnist.load_data()"
   ]
  },
  {
   "cell_type": "code",
   "execution_count": 4,
   "id": "underlying-family",
   "metadata": {
    "ExecuteTime": {
     "end_time": "2022-08-04T13:58:52.946714Z",
     "start_time": "2022-08-04T13:58:52.932484Z"
    }
   },
   "outputs": [
    {
     "data": {
      "text/plain": [
       "(60000, 28, 28)"
      ]
     },
     "execution_count": 4,
     "metadata": {},
     "output_type": "execute_result"
    }
   ],
   "source": [
    "train_images.shape"
   ]
  },
  {
   "cell_type": "code",
   "execution_count": 5,
   "id": "generic-colombia",
   "metadata": {
    "ExecuteTime": {
     "end_time": "2022-08-04T13:58:52.978037Z",
     "start_time": "2022-08-04T13:58:52.952494Z"
    }
   },
   "outputs": [
    {
     "data": {
      "text/plain": [
       "(60000,)"
      ]
     },
     "execution_count": 5,
     "metadata": {},
     "output_type": "execute_result"
    }
   ],
   "source": [
    "train_labels.shape"
   ]
  },
  {
   "cell_type": "code",
   "execution_count": 6,
   "id": "minute-biography",
   "metadata": {
    "ExecuteTime": {
     "end_time": "2022-08-04T13:58:52.993379Z",
     "start_time": "2022-08-04T13:58:52.980418Z"
    }
   },
   "outputs": [
    {
     "data": {
      "text/plain": [
       "(10000, 28, 28)"
      ]
     },
     "execution_count": 6,
     "metadata": {},
     "output_type": "execute_result"
    }
   ],
   "source": [
    "test_images.shape"
   ]
  },
  {
   "cell_type": "code",
   "execution_count": 7,
   "id": "alone-masters",
   "metadata": {
    "ExecuteTime": {
     "end_time": "2022-08-04T13:58:53.009271Z",
     "start_time": "2022-08-04T13:58:52.995376Z"
    }
   },
   "outputs": [
    {
     "data": {
      "text/plain": [
       "array([9, 2, 1, ..., 8, 1, 5], dtype=uint8)"
      ]
     },
     "execution_count": 7,
     "metadata": {},
     "output_type": "execute_result"
    }
   ],
   "source": [
    "test_labels"
   ]
  },
  {
   "cell_type": "code",
   "execution_count": 8,
   "id": "daily-regard",
   "metadata": {
    "ExecuteTime": {
     "end_time": "2022-08-04T13:58:53.055816Z",
     "start_time": "2022-08-04T13:58:53.012457Z"
    }
   },
   "outputs": [],
   "source": [
    "train_images = np.expand_dims(train_images, -1)\n",
    "test_images = tf.expand_dims(test_images, -1)"
   ]
  },
  {
   "cell_type": "code",
   "execution_count": 9,
   "id": "lucky-piece",
   "metadata": {
    "ExecuteTime": {
     "end_time": "2022-08-04T13:58:53.070912Z",
     "start_time": "2022-08-04T13:58:53.058610Z"
    }
   },
   "outputs": [
    {
     "data": {
      "text/plain": [
       "(60000, 28, 28, 1)"
      ]
     },
     "execution_count": 9,
     "metadata": {},
     "output_type": "execute_result"
    }
   ],
   "source": [
    "train_images.shape"
   ]
  },
  {
   "cell_type": "code",
   "execution_count": 10,
   "id": "juvenile-vertical",
   "metadata": {
    "ExecuteTime": {
     "end_time": "2022-08-04T13:58:53.086564Z",
     "start_time": "2022-08-04T13:58:53.072069Z"
    }
   },
   "outputs": [
    {
     "data": {
      "text/plain": [
       "TensorShape([10000, 28, 28, 1])"
      ]
     },
     "execution_count": 10,
     "metadata": {},
     "output_type": "execute_result"
    }
   ],
   "source": [
    "test_images.shape"
   ]
  },
  {
   "cell_type": "code",
   "execution_count": 11,
   "id": "suspended-slovak",
   "metadata": {
    "ExecuteTime": {
     "end_time": "2022-08-04T14:04:19.285013Z",
     "start_time": "2022-08-04T14:04:19.195001Z"
    }
   },
   "outputs": [],
   "source": [
    "model = tf.keras.Sequential()\n",
    "model.add(tf.keras.layers.Conv2D(32, (3, 3), input_shape=train_images.shape[1:], activation='relu'))\n",
    "model.add(tf.keras.layers.MaxPooling2D())\n",
    "model.add(tf.keras.layers.Conv2D(64, (3, 3), activation='relu'))\n",
    "model.add(tf.keras.layers.GlobalAveragePooling2D())\n",
    "model.add(tf.keras.layers.Dense(10, activation='softmax'))"
   ]
  },
  {
   "cell_type": "code",
   "execution_count": 12,
   "id": "widespread-administrator",
   "metadata": {
    "ExecuteTime": {
     "end_time": "2022-08-04T14:04:23.294825Z",
     "start_time": "2022-08-04T14:04:23.275877Z"
    }
   },
   "outputs": [
    {
     "name": "stdout",
     "output_type": "stream",
     "text": [
      "Model: \"sequential\"\n",
      "_________________________________________________________________\n",
      "Layer (type)                 Output Shape              Param #   \n",
      "=================================================================\n",
      "conv2d (Conv2D)              (None, 26, 26, 32)        320       \n",
      "_________________________________________________________________\n",
      "max_pooling2d (MaxPooling2D) (None, 13, 13, 32)        0         \n",
      "_________________________________________________________________\n",
      "conv2d_1 (Conv2D)            (None, 11, 11, 64)        18496     \n",
      "_________________________________________________________________\n",
      "global_average_pooling2d (Gl (None, 64)                0         \n",
      "_________________________________________________________________\n",
      "dense (Dense)                (None, 10)                650       \n",
      "=================================================================\n",
      "Total params: 19,466\n",
      "Trainable params: 19,466\n",
      "Non-trainable params: 0\n",
      "_________________________________________________________________\n"
     ]
    }
   ],
   "source": [
    "model.summary()"
   ]
  },
  {
   "cell_type": "code",
   "execution_count": 13,
   "id": "spatial-decimal",
   "metadata": {
    "ExecuteTime": {
     "end_time": "2022-08-04T14:06:00.946982Z",
     "start_time": "2022-08-04T14:06:00.916374Z"
    }
   },
   "outputs": [],
   "source": [
    "model.compile(optimizer='adam',\n",
    "             loss='sparse_categorical_crossentropy',\n",
    "             metrics=['acc'])"
   ]
  },
  {
   "cell_type": "code",
   "execution_count": 14,
   "id": "answering-birmingham",
   "metadata": {
    "ExecuteTime": {
     "end_time": "2022-08-04T14:08:49.738152Z",
     "start_time": "2022-08-04T14:06:52.181808Z"
    }
   },
   "outputs": [
    {
     "name": "stdout",
     "output_type": "stream",
     "text": [
      "Epoch 1/5\n",
      "1875/1875 [==============================] - 22s 12ms/step - loss: 0.8308 - acc: 0.7420 - val_loss: 0.5721 - val_acc: 0.8023\n",
      "Epoch 2/5\n",
      "1875/1875 [==============================] - 22s 12ms/step - loss: 0.4936 - acc: 0.8275 - val_loss: 0.4986 - val_acc: 0.8285\n",
      "Epoch 3/5\n",
      "1875/1875 [==============================] - 23s 12ms/step - loss: 0.4399 - acc: 0.8454 - val_loss: 0.4452 - val_acc: 0.8443\n",
      "Epoch 4/5\n",
      "1875/1875 [==============================] - 24s 13ms/step - loss: 0.4012 - acc: 0.8588 - val_loss: 0.4272 - val_acc: 0.8526\n",
      "Epoch 5/5\n",
      "1875/1875 [==============================] - 26s 14ms/step - loss: 0.3738 - acc: 0.8672 - val_loss: 0.4185 - val_acc: 0.8490\n"
     ]
    }
   ],
   "source": [
    "history = model.fit(train_images, train_labels, epochs=5, validation_data=(test_images, test_labels))"
   ]
  },
  {
   "cell_type": "code",
   "execution_count": 15,
   "id": "urban-bibliography",
   "metadata": {
    "ExecuteTime": {
     "end_time": "2022-08-04T14:08:49.829998Z",
     "start_time": "2022-08-04T14:08:49.816962Z"
    }
   },
   "outputs": [
    {
     "data": {
      "text/plain": [
       "dict_keys(['loss', 'acc', 'val_loss', 'val_acc'])"
      ]
     },
     "execution_count": 15,
     "metadata": {},
     "output_type": "execute_result"
    }
   ],
   "source": [
    "history.history.keys()"
   ]
  },
  {
   "cell_type": "code",
   "execution_count": 16,
   "id": "ranging-calculator",
   "metadata": {
    "ExecuteTime": {
     "end_time": "2022-08-04T14:10:20.810729Z",
     "start_time": "2022-08-04T14:10:20.546351Z"
    }
   },
   "outputs": [
    {
     "data": {
      "text/plain": [
       "[<matplotlib.lines.Line2D at 0x24965b182b0>]"
      ]
     },
     "execution_count": 16,
     "metadata": {},
     "output_type": "execute_result"
    },
    {
     "data": {
      "image/png": "[encoded data removed]",
      "text/plain": [
       "<Figure size 432x288 with 1 Axes>"
      ]
     },
     "metadata": {
      "needs_background": "light"
     },
     "output_type": "display_data"
    }
   ],
   "source": [
    "plt.plot(history.epoch, history.history.get('acc'), label='acc')\n",
    "plt.plot(history.epoch, history.history.get('val_acc'), label='val_acc')"
   ]
  },
  {
   "cell_type": "code",
   "execution_count": 17,
   "id": "egyptian-thunder",
   "metadata": {
    "ExecuteTime": {
     "end_time": "2022-08-04T14:10:47.532640Z",
     "start_time": "2022-08-04T14:10:47.404048Z"
    }
   },
   "outputs": [
    {
     "data": {
      "text/plain": [
       "[<matplotlib.lines.Line2D at 0x249657e24f0>]"
      ]
     },
     "execution_count": 17,
     "metadata": {},
     "output_type": "execute_result"
    },
    {
     "data": {
      "image/png": "[encoded data removed]",
      "text/plain": [
       "<Figure size 432x288 with 1 Axes>"
      ]
     },
     "metadata": {
      "needs_background": "light"
     },
     "output_type": "display_data"
    }
   ],
   "source": [
    "plt.plot(history.epoch, history.history.get('loss'), label='loss')\n",
    "plt.plot(history.epoch, history.history.get('val_loss'), label='val_loss')"
   ]
  },
  {
   "cell_type": "code",
   "execution_count": 18,
   "id": "basic-digest",
   "metadata": {
    "ExecuteTime": {
     "end_time": "2022-08-04T14:15:20.282754Z",
     "start_time": "2022-08-04T14:15:20.269648Z"
    }
   },
   "outputs": [],
   "source": [
    "# train 数据上拟合程度不够，test 数据上有过拟合\n",
    "# 可以增大网络规模同时增加 Dropout 层"
   ]
  },
  {
   "cell_type": "code",
   "execution_count": null,
   "id": "deadly-breed",
   "metadata": {},
   "outputs": [],
   "source": [
    "# model = tf.keras.Sequential()\n",
    "# model.add(tf.keras.layers.Conv2D(64, (3, 3), input_shape=train_images.shape[1:], activation='relu', padding='same')) # 卷积核数量不宜过少会造成信息瓶颈\n",
    "# model.add(tf.keras.layers.Conv2D(64, (3, 3), activation='relu', padding='same'))\n",
    "# model.add(tf.keras.layers.MaxPooling2D())\n",
    "# model.add(tf.keras.layers.Dropout(0.5))\n",
    "# model.add(tf.keras.layers.Conv2D(128, (3, 3), activation='relu', padding='same'))\n",
    "# model.add(tf.keras.layers.Conv2D(128, (3, 3), activation='relu', padding='same'))\n",
    "# model.add(tf.keras.layers.MaxPooling2D())\n",
    "# model.add(tf.keras.layers.Dropout(0.5))\n",
    "# model.add(tf.keras.layers.Conv2D(256, (3, 3), activation='relu', padding='same'))\n",
    "# model.add(tf.keras.layers.Conv2D(256, (3, 3), activation='relu', padding='same'))\n",
    "# model.add(tf.keras.layers.MaxPooling2D())\n",
    "# model.add(tf.keras.layers.Dropout(0.5))\n",
    "# model.add(tf.keras.layers.Conv2D(512, (3, 3), activation='relu', padding='same'))\n",
    "# model.add(tf.keras.layers.Conv2D(512, (3, 3), activation='relu', padding='same'))\n",
    "# model.add(tf.keras.layers.Dropout(0.5))\n",
    "# model.add(tf.keras.layers.GlobalAveragePooling2D())\n",
    "# model.add(tf.keras.layers.Dense(256, activation='relu'))\n",
    "# model.add(tf.keras.layers.Dense(10, activation='softmax'))"
   ]
  }
 ],
 "metadata": {
  "kernelspec": {
   "display_name": "Python 3",
   "language": "python",
   "name": "python3"
  },
  "language_info": {
   "codemirror_mode": {
    "name": "ipython",
    "version": 3
   },
   "file_extension": ".py",
   "mimetype": "text/x-python",
   "name": "python",
   "nbconvert_exporter": "python",
   "pygments_lexer": "ipython3",
   "version": "3.8.8"
  },
  "latex_envs": {
   "LaTeX_envs_menu_present": true,
   "autoclose": false,
   "autocomplete": true,
   "bibliofile": "biblio.bib",
   "cite_by": "apalike",
   "current_citInitial": 1,
   "eqLabelWithNumbers": true,
   "eqNumInitial": 1,
   "hotkeys": {
    "equation": "Ctrl-E",
    "itemize": "Ctrl-I"
   },
   "labels_anchors": false,
   "latex_user_defs": false,
   "report_style_numbering": false,
   "user_envs_cfg": false
  },
  "toc": {
   "base_numbering": 1,
   "nav_menu": {},
   "number_sections": true,
   "sideBar": true,
   "skip_h1_title": false,
   "title_cell": "Table of Contents",
   "title_sidebar": "Contents",
   "toc_cell": false,
   "toc_position": {},
   "toc_section_display": true,
   "toc_window_display": false
  },
  "varInspector": {
   "cols": {
    "lenName": 16,
    "lenType": 16,
    "lenVar": 40
   },
   "kernels_config": {
    "python": {
     "delete_cmd_postfix": "",
     "delete_cmd_prefix": "del ",
     "library": "var_list.py",
     "varRefreshCmd": "print(var_dic_list())"
    },
    "r": {
     "delete_cmd_postfix": ") ",
     "delete_cmd_prefix": "rm(",
     "library": "var_list.r",
     "varRefreshCmd": "cat(var_dic_list()) "
    }
   },
   "types_to_exclude": [
    "module",
    "function",
    "builtin_function_or_method",
    "instance",
    "_Feature"
   ],
   "window_display": false
  }
 },
 "nbformat": 4,
 "nbformat_minor": 5
}
