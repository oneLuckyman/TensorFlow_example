{
 "cells": [
  {
   "cell_type": "code",
   "execution_count": 1,
   "id": "described-breath",
   "metadata": {
    "ExecuteTime": {
     "end_time": "2022-08-06T11:16:16.748123Z",
     "start_time": "2022-08-06T11:16:10.771891Z"
    }
   },
   "outputs": [],
   "source": [
    "import tensorflow as tf \n",
    "import datetime\n",
    "import os "
   ]
  },
  {
   "cell_type": "code",
   "execution_count": 2,
   "id": "weird-knife",
   "metadata": {
    "ExecuteTime": {
     "end_time": "2022-08-06T11:16:16.763765Z",
     "start_time": "2022-08-06T11:16:16.748800Z"
    }
   },
   "outputs": [
    {
     "data": {
      "text/plain": [
       "'2.3.0'"
      ]
     },
     "execution_count": 2,
     "metadata": {},
     "output_type": "execute_result"
    }
   ],
   "source": [
    "tf.__version__"
   ]
  },
  {
   "cell_type": "code",
   "execution_count": 3,
   "id": "egyptian-birmingham",
   "metadata": {
    "ExecuteTime": {
     "end_time": "2022-08-06T11:16:17.045311Z",
     "start_time": "2022-08-06T11:16:16.766751Z"
    }
   },
   "outputs": [],
   "source": [
    "(train_images, train_labels), (test_images, test_labels) = tf.keras.datasets.mnist.load_data()"
   ]
  },
  {
   "cell_type": "code",
   "execution_count": 4,
   "id": "alone-chess",
   "metadata": {
    "ExecuteTime": {
     "end_time": "2022-08-06T11:16:17.076083Z",
     "start_time": "2022-08-06T11:16:17.046162Z"
    }
   },
   "outputs": [],
   "source": [
    "train_images = tf.expand_dims(train_images, -1)"
   ]
  },
  {
   "cell_type": "code",
   "execution_count": 5,
   "id": "sophisticated-memorabilia",
   "metadata": {
    "ExecuteTime": {
     "end_time": "2022-08-06T11:16:17.091197Z",
     "start_time": "2022-08-06T11:16:17.077200Z"
    }
   },
   "outputs": [],
   "source": [
    "test_images = tf.expand_dims(test_images, -1)"
   ]
  },
  {
   "cell_type": "code",
   "execution_count": 6,
   "id": "improving-intensity",
   "metadata": {
    "ExecuteTime": {
     "end_time": "2022-08-06T11:16:17.386236Z",
     "start_time": "2022-08-06T11:16:17.092196Z"
    }
   },
   "outputs": [],
   "source": [
    "train_images = tf.cast(train_images/255, tf.float32)\n",
    "test_images = tf.cast(test_images/255, tf.float32)"
   ]
  },
  {
   "cell_type": "code",
   "execution_count": 7,
   "id": "virgin-producer",
   "metadata": {
    "ExecuteTime": {
     "end_time": "2022-08-06T11:16:17.402195Z",
     "start_time": "2022-08-06T11:16:17.393219Z"
    }
   },
   "outputs": [],
   "source": [
    "train_labels = tf.cast(train_labels, tf.int64)\n",
    "test_labels = tf.cast(test_labels, tf.int64)"
   ]
  },
  {
   "cell_type": "code",
   "execution_count": 8,
   "id": "productive-comment",
   "metadata": {
    "ExecuteTime": {
     "end_time": "2022-08-06T11:16:17.417190Z",
     "start_time": "2022-08-06T11:16:17.407181Z"
    }
   },
   "outputs": [],
   "source": [
    "dataset = tf.data.Dataset.from_tensor_slices((train_images, train_labels))"
   ]
  },
  {
   "cell_type": "code",
   "execution_count": 9,
   "id": "industrial-eclipse",
   "metadata": {
    "ExecuteTime": {
     "end_time": "2022-08-06T11:16:17.432146Z",
     "start_time": "2022-08-06T11:16:17.419187Z"
    }
   },
   "outputs": [],
   "source": [
    "test_dataset = tf.data.Dataset.from_tensor_slices((test_images, test_labels))"
   ]
  },
  {
   "cell_type": "code",
   "execution_count": 10,
   "id": "sized-harrison",
   "metadata": {
    "ExecuteTime": {
     "end_time": "2022-08-06T11:16:17.448174Z",
     "start_time": "2022-08-06T11:16:17.433265Z"
    }
   },
   "outputs": [
    {
     "data": {
      "text/plain": [
       "<TensorSliceDataset shapes: ((28, 28, 1), ()), types: (tf.float32, tf.int64)>"
      ]
     },
     "execution_count": 10,
     "metadata": {},
     "output_type": "execute_result"
    }
   ],
   "source": [
    "dataset"
   ]
  },
  {
   "cell_type": "code",
   "execution_count": 11,
   "id": "statutory-tsunami",
   "metadata": {
    "ExecuteTime": {
     "end_time": "2022-08-06T11:16:17.463236Z",
     "start_time": "2022-08-06T11:16:17.450097Z"
    }
   },
   "outputs": [],
   "source": [
    "dataset = dataset.repeat().shuffle(60000).batch(128)"
   ]
  },
  {
   "cell_type": "code",
   "execution_count": 12,
   "id": "fleet-running",
   "metadata": {
    "ExecuteTime": {
     "end_time": "2022-08-06T11:16:17.479236Z",
     "start_time": "2022-08-06T11:16:17.464236Z"
    }
   },
   "outputs": [],
   "source": [
    "test_dataset = test_dataset.repeat().batch(128)"
   ]
  },
  {
   "cell_type": "code",
   "execution_count": 13,
   "id": "whole-persian",
   "metadata": {
    "ExecuteTime": {
     "end_time": "2022-08-06T11:16:17.495264Z",
     "start_time": "2022-08-06T11:16:17.481231Z"
    }
   },
   "outputs": [
    {
     "data": {
      "text/plain": [
       "<BatchDataset shapes: ((None, 28, 28, 1), (None,)), types: (tf.float32, tf.int64)>"
      ]
     },
     "execution_count": 13,
     "metadata": {},
     "output_type": "execute_result"
    }
   ],
   "source": [
    "dataset"
   ]
  },
  {
   "cell_type": "code",
   "execution_count": 14,
   "id": "impaired-benefit",
   "metadata": {
    "ExecuteTime": {
     "end_time": "2022-08-06T11:16:17.573054Z",
     "start_time": "2022-08-06T11:16:17.496191Z"
    }
   },
   "outputs": [],
   "source": [
    "model = tf.keras.Sequential([\n",
    "    tf.keras.layers.Conv2D(16, [3,3], activation='relu', input_shape=(None, None, 1)),\n",
    "    tf.keras.layers.Conv2D(32, [3,3], activation='relu'),\n",
    "    tf.keras.layers.GlobalMaxPooling2D(),\n",
    "    tf.keras.layers.Dense(10, activation='softmax')    \n",
    "])"
   ]
  },
  {
   "cell_type": "code",
   "execution_count": 15,
   "id": "promising-distinction",
   "metadata": {
    "ExecuteTime": {
     "end_time": "2022-08-06T11:16:17.588954Z",
     "start_time": "2022-08-06T11:16:17.575769Z"
    }
   },
   "outputs": [],
   "source": [
    "model.compile(optimizer='adam',\n",
    "             loss='sparse_categorical_crossentropy',\n",
    "             metrics=['acc'])"
   ]
  },
  {
   "cell_type": "code",
   "execution_count": 16,
   "id": "yellow-force",
   "metadata": {
    "ExecuteTime": {
     "end_time": "2022-08-06T11:16:17.604549Z",
     "start_time": "2022-08-06T11:16:17.592725Z"
    }
   },
   "outputs": [],
   "source": [
    "log_dir = os.path.join('logs', datetime.datetime.now().strftime(\"%Y%m%d-%H%M%S\"))"
   ]
  },
  {
   "cell_type": "code",
   "execution_count": 17,
   "id": "controversial-abraham",
   "metadata": {
    "ExecuteTime": {
     "end_time": "2022-08-06T11:16:17.619971Z",
     "start_time": "2022-08-06T11:16:17.609983Z"
    }
   },
   "outputs": [],
   "source": [
    "tensorboard_callback = tf.keras.callbacks.TensorBoard(log_dir, histogram_freq=1)"
   ]
  },
  {
   "cell_type": "code",
   "execution_count": 18,
   "id": "flexible-saint",
   "metadata": {
    "ExecuteTime": {
     "end_time": "2022-08-06T11:18:39.603778Z",
     "start_time": "2022-08-06T11:16:17.625956Z"
    }
   },
   "outputs": [
    {
     "name": "stdout",
     "output_type": "stream",
     "text": [
      "Epoch 1/5\n",
      "  1/468 [..............................] - ETA: 0s - loss: 2.3220 - acc: 0.1016WARNING:tensorflow:From D:\\anaconda3\\lib\\site-packages\\tensorflow\\python\\ops\\summary_ops_v2.py:1277: stop (from tensorflow.python.eager.profiler) is deprecated and will be removed after 2020-07-01.\n",
      "Instructions for updating:\n",
      "use `tf.profiler.experimental.stop` instead.\n",
      "468/468 [==============================] - 26s 56ms/step - loss: 1.3203 - acc: 0.6179 - val_loss: 0.5737 - val_acc: 0.8364\n",
      "Epoch 2/5\n",
      "468/468 [==============================] - 29s 63ms/step - loss: 0.4763 - acc: 0.8550 - val_loss: 0.3849 - val_acc: 0.8818\n",
      "Epoch 3/5\n",
      "468/468 [==============================] - 29s 62ms/step - loss: 0.3725 - acc: 0.8828 - val_loss: 0.3375 - val_acc: 0.8957\n",
      "Epoch 4/5\n",
      "468/468 [==============================] - 28s 59ms/step - loss: 0.3295 - acc: 0.8947 - val_loss: 0.2985 - val_acc: 0.9079\n",
      "Epoch 5/5\n",
      "468/468 [==============================] - 28s 60ms/step - loss: 0.2989 - acc: 0.9045 - val_loss: 0.2813 - val_acc: 0.9109\n"
     ]
    },
    {
     "data": {
      "text/plain": [
       "<tensorflow.python.keras.callbacks.History at 0x185221f15b0>"
      ]
     },
     "execution_count": 18,
     "metadata": {},
     "output_type": "execute_result"
    }
   ],
   "source": [
    "model.fit(dataset,\n",
    "         epochs=5,\n",
    "         steps_per_epoch=60000//128,\n",
    "         validation_data=test_dataset,\n",
    "         validation_steps=10000//128,\n",
    "         callbacks=[tensorboard_callback])"
   ]
  },
  {
   "cell_type": "code",
   "execution_count": 19,
   "id": "outer-personality",
   "metadata": {
    "ExecuteTime": {
     "end_time": "2022-08-06T11:41:17.736153Z",
     "start_time": "2022-08-06T11:41:17.092297Z"
    }
   },
   "outputs": [],
   "source": [
    "%load_ext tensorboard\n",
    "%matplotlib inline"
   ]
  },
  {
   "cell_type": "code",
   "execution_count": 22,
   "id": "pending-board",
   "metadata": {
    "ExecuteTime": {
     "end_time": "2022-08-06T11:43:41.251627Z",
     "start_time": "2022-08-06T11:42:40.815038Z"
    }
   },
   "outputs": [
    {
     "data": {
      "text/plain": [
       "ERROR: Timed out waiting for TensorBoard to start. It may still be running as pid 12076."
      ]
     },
     "metadata": {},
     "output_type": "display_data"
    }
   ],
   "source": [
    "%tensorboard --logdir logs\n",
    "# 或在终端中输入相同指令"
   ]
  },
  {
   "cell_type": "code",
   "execution_count": null,
   "id": "painful-astrology",
   "metadata": {},
   "outputs": [],
   "source": []
  }
 ],
 "metadata": {
  "kernelspec": {
   "display_name": "Python 3",
   "language": "python",
   "name": "python3"
  },
  "language_info": {
   "codemirror_mode": {
    "name": "ipython",
    "version": 3
   },
   "file_extension": ".py",
   "mimetype": "text/x-python",
   "name": "python",
   "nbconvert_exporter": "python",
   "pygments_lexer": "ipython3",
   "version": "3.8.8"
  },
  "latex_envs": {
   "LaTeX_envs_menu_present": true,
   "autoclose": false,
   "autocomplete": true,
   "bibliofile": "biblio.bib",
   "cite_by": "apalike",
   "current_citInitial": 1,
   "eqLabelWithNumbers": true,
   "eqNumInitial": 1,
   "hotkeys": {
    "equation": "Ctrl-E",
    "itemize": "Ctrl-I"
   },
   "labels_anchors": false,
   "latex_user_defs": false,
   "report_style_numbering": false,
   "user_envs_cfg": false
  },
  "toc": {
   "base_numbering": 1,
   "nav_menu": {},
   "number_sections": true,
   "sideBar": true,
   "skip_h1_title": false,
   "title_cell": "Table of Contents",
   "title_sidebar": "Contents",
   "toc_cell": false,
   "toc_position": {},
   "toc_section_display": true,
   "toc_window_display": false
  },
  "varInspector": {
   "cols": {
    "lenName": 16,
    "lenType": 16,
    "lenVar": 40
   },
   "kernels_config": {
    "python": {
     "delete_cmd_postfix": "",
     "delete_cmd_prefix": "del ",
     "library": "var_list.py",
     "varRefreshCmd": "print(var_dic_list())"
    },
    "r": {
     "delete_cmd_postfix": ") ",
     "delete_cmd_prefix": "rm(",
     "library": "var_list.r",
     "varRefreshCmd": "cat(var_dic_list()) "
    }
   },
   "types_to_exclude": [
    "module",
    "function",
    "builtin_function_or_method",
    "instance",
    "_Feature"
   ],
   "window_display": false
  }
 },
 "nbformat": 4,
 "nbformat_minor": 5
}
