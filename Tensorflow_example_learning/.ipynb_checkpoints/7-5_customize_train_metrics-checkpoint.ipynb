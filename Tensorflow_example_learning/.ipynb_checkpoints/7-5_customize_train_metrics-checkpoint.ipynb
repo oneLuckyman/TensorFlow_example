{
 "cells": [
  {
   "cell_type": "code",
   "execution_count": 1,
   "id": "thorough-theorem",
   "metadata": {
    "ExecuteTime": {
     "end_time": "2022-08-14T14:12:05.911088Z",
     "start_time": "2022-08-14T14:12:03.737799Z"
    }
   },
   "outputs": [],
   "source": [
    "import tensorflow as tf "
   ]
  },
  {
   "cell_type": "code",
   "execution_count": 2,
   "id": "statistical-response",
   "metadata": {
    "ExecuteTime": {
     "end_time": "2022-08-14T14:12:05.926175Z",
     "start_time": "2022-08-14T14:12:05.912130Z"
    }
   },
   "outputs": [
    {
     "data": {
      "text/plain": [
       "'2.3.0'"
      ]
     },
     "execution_count": 2,
     "metadata": {},
     "output_type": "execute_result"
    }
   ],
   "source": [
    "tf.__version__"
   ]
  },
  {
   "cell_type": "code",
   "execution_count": 3,
   "id": "extra-netherlands",
   "metadata": {
    "ExecuteTime": {
     "end_time": "2022-08-14T14:12:06.222714Z",
     "start_time": "2022-08-14T14:12:05.927070Z"
    }
   },
   "outputs": [],
   "source": [
    "(train_images, train_labels), _ = tf.keras.datasets.mnist.load_data()"
   ]
  },
  {
   "cell_type": "code",
   "execution_count": 4,
   "id": "bronze-politics",
   "metadata": {
    "ExecuteTime": {
     "end_time": "2022-08-14T14:12:06.237597Z",
     "start_time": "2022-08-14T14:12:06.223652Z"
    }
   },
   "outputs": [
    {
     "data": {
      "text/plain": [
       "(60000, 28, 28)"
      ]
     },
     "execution_count": 4,
     "metadata": {},
     "output_type": "execute_result"
    }
   ],
   "source": [
    "train_images.shape"
   ]
  },
  {
   "cell_type": "code",
   "execution_count": 5,
   "id": "fifty-benjamin",
   "metadata": {
    "ExecuteTime": {
     "end_time": "2022-08-14T14:12:06.253621Z",
     "start_time": "2022-08-14T14:12:06.238593Z"
    }
   },
   "outputs": [
    {
     "data": {
      "text/plain": [
       "array([5, 0, 4, ..., 5, 6, 8], dtype=uint8)"
      ]
     },
     "execution_count": 5,
     "metadata": {},
     "output_type": "execute_result"
    }
   ],
   "source": [
    "train_labels"
   ]
  },
  {
   "cell_type": "code",
   "execution_count": 6,
   "id": "verbal-transaction",
   "metadata": {
    "ExecuteTime": {
     "end_time": "2022-08-14T14:12:06.269666Z",
     "start_time": "2022-08-14T14:12:06.255548Z"
    }
   },
   "outputs": [],
   "source": [
    "train_images = tf.expand_dims(train_images, -1)"
   ]
  },
  {
   "cell_type": "code",
   "execution_count": 7,
   "id": "stretch-requirement",
   "metadata": {
    "ExecuteTime": {
     "end_time": "2022-08-14T14:12:06.285408Z",
     "start_time": "2022-08-14T14:12:06.271515Z"
    }
   },
   "outputs": [
    {
     "data": {
      "text/plain": [
       "TensorShape([60000, 28, 28, 1])"
      ]
     },
     "execution_count": 7,
     "metadata": {},
     "output_type": "execute_result"
    }
   ],
   "source": [
    "train_images.shape"
   ]
  },
  {
   "cell_type": "code",
   "execution_count": 8,
   "id": "opening-capture",
   "metadata": {
    "ExecuteTime": {
     "end_time": "2022-08-14T14:12:06.425004Z",
     "start_time": "2022-08-14T14:12:06.288400Z"
    }
   },
   "outputs": [],
   "source": [
    "train_images = tf.cast(train_images/255, tf.float32)"
   ]
  },
  {
   "cell_type": "code",
   "execution_count": 9,
   "id": "cardiac-martial",
   "metadata": {
    "ExecuteTime": {
     "end_time": "2022-08-14T14:12:06.440957Z",
     "start_time": "2022-08-14T14:12:06.427603Z"
    }
   },
   "outputs": [],
   "source": [
    "train_labels = tf.cast(train_labels, tf.int64)"
   ]
  },
  {
   "cell_type": "code",
   "execution_count": 10,
   "id": "supreme-contents",
   "metadata": {
    "ExecuteTime": {
     "end_time": "2022-08-14T14:12:06.456631Z",
     "start_time": "2022-08-14T14:12:06.442495Z"
    }
   },
   "outputs": [],
   "source": [
    "dataset = tf.data.Dataset.from_tensor_slices((train_images, train_labels))"
   ]
  },
  {
   "cell_type": "code",
   "execution_count": 11,
   "id": "finite-pursuit",
   "metadata": {
    "ExecuteTime": {
     "end_time": "2022-08-14T14:12:06.472619Z",
     "start_time": "2022-08-14T14:12:06.457624Z"
    }
   },
   "outputs": [
    {
     "data": {
      "text/plain": [
       "<TensorSliceDataset shapes: ((28, 28, 1), ()), types: (tf.float32, tf.int64)>"
      ]
     },
     "execution_count": 11,
     "metadata": {},
     "output_type": "execute_result"
    }
   ],
   "source": [
    "dataset"
   ]
  },
  {
   "cell_type": "code",
   "execution_count": 12,
   "id": "conservative-charger",
   "metadata": {
    "ExecuteTime": {
     "end_time": "2022-08-14T14:12:06.488614Z",
     "start_time": "2022-08-14T14:12:06.473683Z"
    }
   },
   "outputs": [],
   "source": [
    "dataset = dataset.shuffle(10000).batch(32)"
   ]
  },
  {
   "cell_type": "code",
   "execution_count": 13,
   "id": "republican-lover",
   "metadata": {
    "ExecuteTime": {
     "end_time": "2022-08-14T14:12:06.504119Z",
     "start_time": "2022-08-14T14:12:06.489623Z"
    }
   },
   "outputs": [
    {
     "data": {
      "text/plain": [
       "<BatchDataset shapes: ((None, 28, 28, 1), (None,)), types: (tf.float32, tf.int64)>"
      ]
     },
     "execution_count": 13,
     "metadata": {},
     "output_type": "execute_result"
    }
   ],
   "source": [
    "dataset"
   ]
  },
  {
   "cell_type": "code",
   "execution_count": 14,
   "id": "silver-loading",
   "metadata": {
    "ExecuteTime": {
     "end_time": "2022-08-14T14:12:06.566821Z",
     "start_time": "2022-08-14T14:12:06.506099Z"
    }
   },
   "outputs": [],
   "source": [
    "model = tf.keras.Sequential([\n",
    "    tf.keras.layers.Conv2D(16, [3, 3], activation='relu', input_shape=(None, None, 1)),\n",
    "    tf.keras.layers.Conv2D(32, [3, 3], activation='relu'),\n",
    "    tf.keras.layers.GlobalMaxPooling2D(),\n",
    "    tf.keras.layers.Dense(10)\n",
    "])"
   ]
  },
  {
   "cell_type": "code",
   "execution_count": 15,
   "id": "caring-omaha",
   "metadata": {
    "ExecuteTime": {
     "end_time": "2022-08-14T14:12:06.581876Z",
     "start_time": "2022-08-14T14:12:06.572348Z"
    }
   },
   "outputs": [],
   "source": [
    "optimizer = tf.keras.optimizers.Adam()"
   ]
  },
  {
   "cell_type": "code",
   "execution_count": 16,
   "id": "british-proposal",
   "metadata": {
    "ExecuteTime": {
     "end_time": "2022-08-14T14:12:06.596804Z",
     "start_time": "2022-08-14T14:12:06.587830Z"
    }
   },
   "outputs": [],
   "source": [
    "loss_func = tf.keras.losses.SparseCategoricalCrossentropy(from_logits=True)"
   ]
  },
  {
   "cell_type": "code",
   "execution_count": 17,
   "id": "attached-mortgage",
   "metadata": {
    "ExecuteTime": {
     "end_time": "2022-08-14T14:12:06.797826Z",
     "start_time": "2022-08-14T14:12:06.598798Z"
    }
   },
   "outputs": [],
   "source": [
    "features, labels = next(iter(dataset))"
   ]
  },
  {
   "cell_type": "code",
   "execution_count": 18,
   "id": "alert-ability",
   "metadata": {
    "ExecuteTime": {
     "end_time": "2022-08-14T14:12:06.813786Z",
     "start_time": "2022-08-14T14:12:06.798854Z"
    }
   },
   "outputs": [
    {
     "data": {
      "text/plain": [
       "TensorShape([32, 28, 28, 1])"
      ]
     },
     "execution_count": 18,
     "metadata": {},
     "output_type": "execute_result"
    }
   ],
   "source": [
    "features.shape"
   ]
  },
  {
   "cell_type": "code",
   "execution_count": 19,
   "id": "lonely-columbus",
   "metadata": {
    "ExecuteTime": {
     "end_time": "2022-08-14T14:12:06.829774Z",
     "start_time": "2022-08-14T14:12:06.814783Z"
    }
   },
   "outputs": [
    {
     "data": {
      "text/plain": [
       "TensorShape([32])"
      ]
     },
     "execution_count": 19,
     "metadata": {},
     "output_type": "execute_result"
    }
   ],
   "source": [
    "labels.shape"
   ]
  },
  {
   "cell_type": "code",
   "execution_count": 20,
   "id": "numeric-enhancement",
   "metadata": {
    "ExecuteTime": {
     "end_time": "2022-08-14T14:12:06.876686Z",
     "start_time": "2022-08-14T14:12:06.831769Z"
    }
   },
   "outputs": [],
   "source": [
    "predictions = model(features)"
   ]
  },
  {
   "cell_type": "code",
   "execution_count": 21,
   "id": "comparable-opposition",
   "metadata": {
    "ExecuteTime": {
     "end_time": "2022-08-14T14:12:06.892737Z",
     "start_time": "2022-08-14T14:12:06.877718Z"
    }
   },
   "outputs": [
    {
     "data": {
      "text/plain": [
       "TensorShape([32, 10])"
      ]
     },
     "execution_count": 21,
     "metadata": {},
     "output_type": "execute_result"
    }
   ],
   "source": [
    "predictions.shape"
   ]
  },
  {
   "cell_type": "code",
   "execution_count": 22,
   "id": "expressed-threshold",
   "metadata": {
    "ExecuteTime": {
     "end_time": "2022-08-14T14:12:06.908796Z",
     "start_time": "2022-08-14T14:12:06.894823Z"
    }
   },
   "outputs": [
    {
     "data": {
      "text/plain": [
       "<tf.Tensor: shape=(32,), dtype=int64, numpy=\n",
       "array([6, 6, 6, 6, 6, 6, 6, 6, 6, 6, 6, 6, 6, 6, 6, 6, 6, 6, 6, 6, 6, 6,\n",
       "       6, 6, 6, 6, 6, 6, 6, 6, 6, 6], dtype=int64)>"
      ]
     },
     "execution_count": 22,
     "metadata": {},
     "output_type": "execute_result"
    }
   ],
   "source": [
    "tf.argmax(predictions, axis=1)"
   ]
  },
  {
   "cell_type": "code",
   "execution_count": 23,
   "id": "judicial-stream",
   "metadata": {
    "ExecuteTime": {
     "end_time": "2022-08-14T14:12:06.924212Z",
     "start_time": "2022-08-14T14:12:06.910747Z"
    }
   },
   "outputs": [
    {
     "data": {
      "text/plain": [
       "<tf.Tensor: shape=(32,), dtype=int64, numpy=\n",
       "array([3, 1, 8, 8, 8, 9, 6, 8, 3, 6, 6, 8, 8, 4, 4, 7, 5, 9, 5, 8, 5, 0,\n",
       "       2, 1, 5, 5, 0, 4, 6, 1, 6, 0], dtype=int64)>"
      ]
     },
     "execution_count": 23,
     "metadata": {},
     "output_type": "execute_result"
    }
   ],
   "source": [
    "labels"
   ]
  },
  {
   "cell_type": "code",
   "execution_count": 24,
   "id": "minute-preparation",
   "metadata": {
    "ExecuteTime": {
     "end_time": "2022-08-14T14:12:06.940256Z",
     "start_time": "2022-08-14T14:12:06.925180Z"
    }
   },
   "outputs": [],
   "source": [
    "def cal_loss(model, x, y):\n",
    "    y_ = model(x)\n",
    "    return loss_func(y, y_)"
   ]
  },
  {
   "cell_type": "code",
   "execution_count": 25,
   "id": "rising-reality",
   "metadata": {
    "ExecuteTime": {
     "end_time": "2022-08-14T14:12:06.971534Z",
     "start_time": "2022-08-14T14:12:06.941150Z"
    }
   },
   "outputs": [],
   "source": [
    "train_loss = tf.keras.metrics.Mean('train_loss')\n",
    "train_accuracy = tf.keras.metrics.SparseCategoricalAccuracy('train_accuracy')"
   ]
  },
  {
   "cell_type": "code",
   "execution_count": 26,
   "id": "virgin-danger",
   "metadata": {
    "ExecuteTime": {
     "end_time": "2022-08-14T14:12:06.987043Z",
     "start_time": "2022-08-14T14:12:06.975327Z"
    }
   },
   "outputs": [],
   "source": [
    "def train_step(model, optimizer, images, labels):\n",
    "    with tf.GradientTape() as tape:\n",
    "        pred = model(images)\n",
    "        loss_step = loss_func(labels, pred)\n",
    "    grads = tape.gradient(loss_step, model.trainable_variables)\n",
    "    optimizer.apply_gradients(zip(grads, model.trainable_variables))\n",
    "    train_loss(loss_step)\n",
    "    train_accuracy(labels, pred)"
   ]
  },
  {
   "cell_type": "code",
   "execution_count": 27,
   "id": "tracked-blake",
   "metadata": {
    "ExecuteTime": {
     "end_time": "2022-08-14T14:12:07.002950Z",
     "start_time": "2022-08-14T14:12:06.993054Z"
    }
   },
   "outputs": [],
   "source": [
    "def train(epochs, model, optimizer, dataset):\n",
    "    for epoch in range(epochs):\n",
    "        for (batch_index, (images, labels)) in enumerate(dataset):\n",
    "            train_step(model, optimizer, images, labels)\n",
    "        print('Epoch{} loss is {}, accuracy is {}'.format(epoch, train_loss.result(), train_accuracy.result()))\n",
    "        train_loss.reset_states()\n",
    "        train_accuracy.reset_states()"
   ]
  },
  {
   "cell_type": "code",
   "execution_count": 28,
   "id": "incorporated-mathematics",
   "metadata": {
    "ExecuteTime": {
     "end_time": "2022-08-14T14:12:07.017981Z",
     "start_time": "2022-08-14T14:12:07.006947Z"
    }
   },
   "outputs": [],
   "source": [
    "# train(10, model, optimizer, dataset)"
   ]
  }
 ],
 "metadata": {
  "kernelspec": {
   "display_name": "Python 3",
   "language": "python",
   "name": "python3"
  },
  "language_info": {
   "codemirror_mode": {
    "name": "ipython",
    "version": 3
   },
   "file_extension": ".py",
   "mimetype": "text/x-python",
   "name": "python",
   "nbconvert_exporter": "python",
   "pygments_lexer": "ipython3",
   "version": "3.8.8"
  },
  "latex_envs": {
   "LaTeX_envs_menu_present": true,
   "autoclose": false,
   "autocomplete": true,
   "bibliofile": "biblio.bib",
   "cite_by": "apalike",
   "current_citInitial": 1,
   "eqLabelWithNumbers": true,
   "eqNumInitial": 1,
   "hotkeys": {
    "equation": "Ctrl-E",
    "itemize": "Ctrl-I"
   },
   "labels_anchors": false,
   "latex_user_defs": false,
   "report_style_numbering": false,
   "user_envs_cfg": false
  },
  "toc": {
   "base_numbering": 1,
   "nav_menu": {},
   "number_sections": true,
   "sideBar": true,
   "skip_h1_title": false,
   "title_cell": "Table of Contents",
   "title_sidebar": "Contents",
   "toc_cell": false,
   "toc_position": {},
   "toc_section_display": true,
   "toc_window_display": false
  },
  "varInspector": {
   "cols": {
    "lenName": 16,
    "lenType": 16,
    "lenVar": 40
   },
   "kernels_config": {
    "python": {
     "delete_cmd_postfix": "",
     "delete_cmd_prefix": "del ",
     "library": "var_list.py",
     "varRefreshCmd": "print(var_dic_list())"
    },
    "r": {
     "delete_cmd_postfix": ") ",
     "delete_cmd_prefix": "rm(",
     "library": "var_list.r",
     "varRefreshCmd": "cat(var_dic_list()) "
    }
   },
   "types_to_exclude": [
    "module",
    "function",
    "builtin_function_or_method",
    "instance",
    "_Feature"
   ],
   "window_display": false
  }
 },
 "nbformat": 4,
 "nbformat_minor": 5
}
