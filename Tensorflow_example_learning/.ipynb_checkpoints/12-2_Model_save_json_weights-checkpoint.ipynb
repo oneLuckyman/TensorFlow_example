{
 "cells": [
  {
   "cell_type": "code",
   "execution_count": 1,
   "id": "distinct-customs",
   "metadata": {
    "ExecuteTime": {
     "end_time": "2022-08-19T13:21:44.095840Z",
     "start_time": "2022-08-19T13:21:41.771975Z"
    }
   },
   "outputs": [],
   "source": [
    "import tensorflow as tf \n",
    "import pandas as pd \n",
    "import numpy as np \n",
    "import matplotlib.pyplot as plt\n",
    "%matplotlib inline "
   ]
  },
  {
   "cell_type": "code",
   "execution_count": 2,
   "id": "sensitive-event",
   "metadata": {
    "ExecuteTime": {
     "end_time": "2022-08-19T13:21:44.111845Z",
     "start_time": "2022-08-19T13:21:44.096781Z"
    }
   },
   "outputs": [
    {
     "data": {
      "text/plain": [
       "'2.3.0'"
      ]
     },
     "execution_count": 2,
     "metadata": {},
     "output_type": "execute_result"
    }
   ],
   "source": [
    "tf.__version__"
   ]
  },
  {
   "cell_type": "code",
   "execution_count": 3,
   "id": "grand-consolidation",
   "metadata": {
    "ExecuteTime": {
     "end_time": "2022-08-19T13:21:44.472829Z",
     "start_time": "2022-08-19T13:21:44.113726Z"
    }
   },
   "outputs": [],
   "source": [
    "(train_image, train_label), (test_image, test_label) = tf.keras.datasets.fashion_mnist.load_data()"
   ]
  },
  {
   "cell_type": "code",
   "execution_count": 4,
   "id": "conditional-henry",
   "metadata": {
    "ExecuteTime": {
     "end_time": "2022-08-19T13:21:44.611788Z",
     "start_time": "2022-08-19T13:21:44.473750Z"
    }
   },
   "outputs": [],
   "source": [
    "train_image = train_image/255\n",
    "test_image = test_image/255"
   ]
  },
  {
   "cell_type": "code",
   "execution_count": 5,
   "id": "dominant-bargain",
   "metadata": {
    "ExecuteTime": {
     "end_time": "2022-08-19T13:21:44.657800Z",
     "start_time": "2022-08-19T13:21:44.613608Z"
    }
   },
   "outputs": [],
   "source": [
    "model = tf.keras.Sequential()\n",
    "model.add(tf.keras.layers.Flatten(input_shape=(28,28)))\n",
    "model.add(tf.keras.layers.Dense(128, activation='relu'))\n",
    "model.add(tf.keras.layers.Dense(10, activation='softmax'))"
   ]
  },
  {
   "cell_type": "code",
   "execution_count": 6,
   "id": "grateful-swaziland",
   "metadata": {
    "ExecuteTime": {
     "end_time": "2022-08-19T13:21:44.673466Z",
     "start_time": "2022-08-19T13:21:44.659727Z"
    }
   },
   "outputs": [
    {
     "name": "stdout",
     "output_type": "stream",
     "text": [
      "Model: \"sequential\"\n",
      "_________________________________________________________________\n",
      "Layer (type)                 Output Shape              Param #   \n",
      "=================================================================\n",
      "flatten (Flatten)            (None, 784)               0         \n",
      "_________________________________________________________________\n",
      "dense (Dense)                (None, 128)               100480    \n",
      "_________________________________________________________________\n",
      "dense_1 (Dense)              (None, 10)                1290      \n",
      "=================================================================\n",
      "Total params: 101,770\n",
      "Trainable params: 101,770\n",
      "Non-trainable params: 0\n",
      "_________________________________________________________________\n"
     ]
    }
   ],
   "source": [
    "model.summary()"
   ]
  },
  {
   "cell_type": "code",
   "execution_count": 7,
   "id": "expressed-sword",
   "metadata": {
    "ExecuteTime": {
     "end_time": "2022-08-19T13:21:44.688925Z",
     "start_time": "2022-08-19T13:21:44.674317Z"
    }
   },
   "outputs": [],
   "source": [
    "model.compile(optimizer='Adam',\n",
    "             loss='sparse_categorical_crossentropy',\n",
    "             metrics=['sparse_categorical_accuracy'])"
   ]
  },
  {
   "cell_type": "code",
   "execution_count": 8,
   "id": "charged-saudi",
   "metadata": {
    "ExecuteTime": {
     "end_time": "2022-08-19T13:21:55.860195Z",
     "start_time": "2022-08-19T13:21:44.689984Z"
    }
   },
   "outputs": [
    {
     "name": "stdout",
     "output_type": "stream",
     "text": [
      "Epoch 1/5\n",
      "1875/1875 [==============================] - 1s 731us/step - loss: 0.5052 - sparse_categorical_accuracy: 0.8241 0s - loss: 0.5090 - sparse_categorical_accuracy: 0.82\n",
      "Epoch 2/5\n",
      "1875/1875 [==============================] - 2s 1ms/step - loss: 0.3792 - sparse_categorical_accuracy: 0.8629A: 1s - loss: 0.3898 - spa\n",
      "Epoch 3/5\n",
      "1875/1875 [==============================] - 3s 1ms/step - loss: 0.3423 - sparse_categorical_accuracy: 0.8752\n",
      "Epoch 4/5\n",
      "1875/1875 [==============================] - 3s 1ms/step - loss: 0.3163 - sparse_categorical_accuracy: 0.8846\n",
      "Epoch 5/5\n",
      "1875/1875 [==============================] - 2s 1ms/step - loss: 0.2996 - sparse_categorical_accuracy: 0.8902\n"
     ]
    },
    {
     "data": {
      "text/plain": [
       "<tensorflow.python.keras.callbacks.History at 0x26280168bb0>"
      ]
     },
     "execution_count": 8,
     "metadata": {},
     "output_type": "execute_result"
    }
   ],
   "source": [
    "model.fit(train_image, train_label, epochs=5)"
   ]
  },
  {
   "cell_type": "code",
   "execution_count": 9,
   "id": "corrected-longitude",
   "metadata": {
    "ExecuteTime": {
     "end_time": "2022-08-19T13:21:56.376831Z",
     "start_time": "2022-08-19T13:21:55.865264Z"
    }
   },
   "outputs": [
    {
     "name": "stdout",
     "output_type": "stream",
     "text": [
      "313/313 [==============================] - 0s 815us/step - loss: 0.3505 - sparse_categorical_accuracy: 0.8762\n"
     ]
    },
    {
     "data": {
      "text/plain": [
       "[0.3505373001098633, 0.8762000203132629]"
      ]
     },
     "execution_count": 9,
     "metadata": {},
     "output_type": "execute_result"
    }
   ],
   "source": [
    "model.evaluate(test_image, test_label)"
   ]
  },
  {
   "cell_type": "code",
   "execution_count": 10,
   "id": "referenced-frost",
   "metadata": {
    "ExecuteTime": {
     "end_time": "2022-08-19T13:21:56.392030Z",
     "start_time": "2022-08-19T13:21:56.379827Z"
    }
   },
   "outputs": [],
   "source": [
    "# 仅保存结构"
   ]
  },
  {
   "cell_type": "code",
   "execution_count": 11,
   "id": "accredited-thomas",
   "metadata": {
    "ExecuteTime": {
     "end_time": "2022-08-19T13:21:56.406821Z",
     "start_time": "2022-08-19T13:21:56.394032Z"
    }
   },
   "outputs": [],
   "source": [
    "json_config = model.to_json()"
   ]
  },
  {
   "cell_type": "code",
   "execution_count": 12,
   "id": "suitable-wonder",
   "metadata": {
    "ExecuteTime": {
     "end_time": "2022-08-19T13:21:56.421784Z",
     "start_time": "2022-08-19T13:21:56.408819Z"
    }
   },
   "outputs": [
    {
     "data": {
      "text/plain": [
       "'{\"class_name\": \"Sequential\", \"config\": {\"name\": \"sequential\", \"layers\": [{\"class_name\": \"InputLayer\", \"config\": {\"batch_input_shape\": [null, 28, 28], \"dtype\": \"float32\", \"sparse\": false, \"ragged\": false, \"name\": \"flatten_input\"}}, {\"class_name\": \"Flatten\", \"config\": {\"name\": \"flatten\", \"trainable\": true, \"batch_input_shape\": [null, 28, 28], \"dtype\": \"float32\", \"data_format\": \"channels_last\"}}, {\"class_name\": \"Dense\", \"config\": {\"name\": \"dense\", \"trainable\": true, \"dtype\": \"float32\", \"units\": 128, \"activation\": \"relu\", \"use_bias\": true, \"kernel_initializer\": {\"class_name\": \"GlorotUniform\", \"config\": {\"seed\": null}}, \"bias_initializer\": {\"class_name\": \"Zeros\", \"config\": {}}, \"kernel_regularizer\": null, \"bias_regularizer\": null, \"activity_regularizer\": null, \"kernel_constraint\": null, \"bias_constraint\": null}}, {\"class_name\": \"Dense\", \"config\": {\"name\": \"dense_1\", \"trainable\": true, \"dtype\": \"float32\", \"units\": 10, \"activation\": \"softmax\", \"use_bias\": true, \"kernel_initializer\": {\"class_name\": \"GlorotUniform\", \"config\": {\"seed\": null}}, \"bias_initializer\": {\"class_name\": \"Zeros\", \"config\": {}}, \"kernel_regularizer\": null, \"bias_regularizer\": null, \"activity_regularizer\": null, \"kernel_constraint\": null, \"bias_constraint\": null}}]}, \"keras_version\": \"2.4.0\", \"backend\": \"tensorflow\"}'"
      ]
     },
     "execution_count": 12,
     "metadata": {},
     "output_type": "execute_result"
    }
   ],
   "source": [
    "json_config"
   ]
  },
  {
   "cell_type": "code",
   "execution_count": 13,
   "id": "stuck-punishment",
   "metadata": {
    "ExecuteTime": {
     "end_time": "2022-08-19T13:21:56.469172Z",
     "start_time": "2022-08-19T13:21:56.423943Z"
    }
   },
   "outputs": [],
   "source": [
    "model_from_json = tf.keras.models.model_from_json(json_config)"
   ]
  },
  {
   "cell_type": "code",
   "execution_count": 14,
   "id": "synthetic-dispatch",
   "metadata": {
    "ExecuteTime": {
     "end_time": "2022-08-19T13:21:56.484750Z",
     "start_time": "2022-08-19T13:21:56.470121Z"
    }
   },
   "outputs": [
    {
     "name": "stdout",
     "output_type": "stream",
     "text": [
      "Model: \"sequential\"\n",
      "_________________________________________________________________\n",
      "Layer (type)                 Output Shape              Param #   \n",
      "=================================================================\n",
      "flatten (Flatten)            (None, 784)               0         \n",
      "_________________________________________________________________\n",
      "dense (Dense)                (None, 128)               100480    \n",
      "_________________________________________________________________\n",
      "dense_1 (Dense)              (None, 10)                1290      \n",
      "=================================================================\n",
      "Total params: 101,770\n",
      "Trainable params: 101,770\n",
      "Non-trainable params: 0\n",
      "_________________________________________________________________\n"
     ]
    }
   ],
   "source": [
    "model_from_json.summary()"
   ]
  },
  {
   "cell_type": "code",
   "execution_count": 15,
   "id": "indirect-bryan",
   "metadata": {
    "ExecuteTime": {
     "end_time": "2022-08-19T13:21:56.516892Z",
     "start_time": "2022-08-19T13:21:56.486743Z"
    }
   },
   "outputs": [],
   "source": [
    "model_from_json.compile(optimizer='Adam',\n",
    "             loss='sparse_categorical_crossentropy',\n",
    "             metrics=['sparse_categorical_accuracy'])"
   ]
  },
  {
   "cell_type": "code",
   "execution_count": 16,
   "id": "motivated-fellow",
   "metadata": {
    "ExecuteTime": {
     "end_time": "2022-08-19T13:21:57.048130Z",
     "start_time": "2022-08-19T13:21:56.518883Z"
    }
   },
   "outputs": [
    {
     "name": "stdout",
     "output_type": "stream",
     "text": [
      "313/313 [==============================] - 0s 790us/step - loss: 2.4494 - sparse_categorical_accuracy: 0.1021\n"
     ]
    },
    {
     "data": {
      "text/plain": [
       "[2.4493651390075684, 0.10209999978542328]"
      ]
     },
     "execution_count": 16,
     "metadata": {},
     "output_type": "execute_result"
    }
   ],
   "source": [
    "model_from_json.evaluate(test_image, test_label)"
   ]
  },
  {
   "cell_type": "code",
   "execution_count": 17,
   "id": "expensive-counter",
   "metadata": {
    "ExecuteTime": {
     "end_time": "2022-08-19T13:21:57.063022Z",
     "start_time": "2022-08-19T13:21:57.052110Z"
    }
   },
   "outputs": [],
   "source": [
    "# 仅保存权重"
   ]
  },
  {
   "cell_type": "code",
   "execution_count": 18,
   "id": "tested-center",
   "metadata": {
    "ExecuteTime": {
     "end_time": "2022-08-19T13:21:57.078018Z",
     "start_time": "2022-08-19T13:21:57.069008Z"
    }
   },
   "outputs": [],
   "source": [
    "model_weights = model.get_weights()"
   ]
  },
  {
   "cell_type": "code",
   "execution_count": 19,
   "id": "fixed-carbon",
   "metadata": {
    "ExecuteTime": {
     "end_time": "2022-08-19T13:21:57.093861Z",
     "start_time": "2022-08-19T13:21:57.082666Z"
    }
   },
   "outputs": [
    {
     "data": {
      "text/plain": [
       "[array([[ 0.03815217,  0.01007214, -0.19940886, ...,  0.13101089,\n",
       "         -0.0351303 , -0.02645566],\n",
       "        [-0.02761306, -0.10043129, -0.12344565, ...,  0.06735966,\n",
       "          0.08265246,  0.01213159],\n",
       "        [-0.01019398, -0.17189024, -0.20536236, ..., -0.12370459,\n",
       "          0.07214209, -0.15450923],\n",
       "        ...,\n",
       "        [ 0.02439708,  0.0365853 , -0.00434222, ...,  0.03361035,\n",
       "          0.02421531, -0.1312346 ],\n",
       "        [-0.114411  ,  0.10004132,  0.01097104, ...,  0.09484264,\n",
       "         -0.07163802, -0.01162721],\n",
       "        [ 0.07505812,  0.16122502, -0.27026784, ...,  0.12786491,\n",
       "         -0.0306386 , -0.0441625 ]], dtype=float32),\n",
       " array([ 0.2829689 , -0.2259021 , -0.23979735,  0.32868385,  0.26937217,\n",
       "         0.30842438, -0.02586981, -0.1241952 , -0.16333117,  0.0249427 ,\n",
       "         0.47637105, -0.00945022,  0.3398556 , -0.02870881,  0.07762528,\n",
       "        -0.01866175, -0.14221813, -0.04886126,  0.28792655,  0.18167308,\n",
       "         0.14575544,  0.26164025, -0.0498705 ,  0.0511325 ,  0.20714289,\n",
       "         0.20646738,  0.42754894, -0.02089948,  0.08607345,  0.02347125,\n",
       "         0.1261906 ,  0.2558195 ,  0.09913442, -0.24398454,  0.3137667 ,\n",
       "        -0.23267873, -0.12684657, -0.02034093,  0.52033067,  0.47278997,\n",
       "         0.18845811,  0.14224258, -0.01767923,  0.3590023 ,  0.13836072,\n",
       "        -0.00970526,  0.20426254, -0.04296787, -0.07340103,  0.31863478,\n",
       "         0.38810292,  0.39425072,  0.20432101, -0.00242859, -0.01000651,\n",
       "         0.23291741,  0.1207013 ,  0.02096861, -0.12269296, -0.00089613,\n",
       "        -0.00821824, -0.01139073,  0.38702336, -0.01194474,  0.32319203,\n",
       "        -0.2551762 , -0.0379769 ,  0.30750915,  0.4105463 ,  0.10775313,\n",
       "         0.22299953,  0.5638473 ,  0.62097824,  0.03289313,  0.31418929,\n",
       "         0.5907236 , -0.40575984, -0.04937424,  0.4357324 , -0.1078334 ,\n",
       "         0.24397421, -0.21027067, -0.02852443,  0.30438542,  0.04090124,\n",
       "        -0.01450301,  0.5493298 ,  0.1041361 ,  0.39365935, -0.01377884,\n",
       "        -0.02376299,  0.24393901, -0.01135887, -0.01676479, -0.01678301,\n",
       "         0.38630316,  0.3874678 , -0.10744286, -0.22794542,  0.37594825,\n",
       "        -0.01364546,  0.13695775, -0.05780316,  0.05439441,  0.40528393,\n",
       "         0.35810697,  0.3833666 ,  0.33418122, -0.23981221,  0.2826061 ,\n",
       "         0.31005165,  0.00833188,  0.14797288,  0.31030774, -0.4426902 ,\n",
       "         0.04902195,  0.43154258,  0.37623557, -0.02796782,  0.34427136,\n",
       "        -0.07919326, -0.11307288,  0.18026844, -0.05085432,  0.43230218,\n",
       "         0.32961994, -0.02298902, -0.09353212], dtype=float32),\n",
       " array([[-0.05849473,  0.26216123, -0.06863715, ..., -0.45822972,\n",
       "         -0.00764582, -0.35476434],\n",
       "        [-0.24067383,  0.11969204, -0.01679706, ...,  0.03795403,\n",
       "         -0.19982691,  0.01376732],\n",
       "        [-0.11930189,  0.4313858 ,  0.01724096, ...,  0.13988616,\n",
       "          0.19999509, -0.05696899],\n",
       "        ...,\n",
       "        [-0.10364886,  0.06765986,  0.10735164, ..., -0.41515127,\n",
       "         -0.52256846, -0.40249062],\n",
       "        [-0.12954715,  0.18315746,  0.15446232, ..., -0.17241506,\n",
       "          0.13364843, -0.02492918],\n",
       "        [-0.192148  , -0.35351396, -0.15840852, ...,  0.10919619,\n",
       "          0.23910306,  0.09027595]], dtype=float32),\n",
       " array([ 0.03003132, -0.243323  ,  0.1443711 ,  0.21508549, -0.34004453,\n",
       "         0.14927101,  0.14815612,  0.16193843, -0.16980162, -0.41401365],\n",
       "       dtype=float32)]"
      ]
     },
     "execution_count": 19,
     "metadata": {},
     "output_type": "execute_result"
    }
   ],
   "source": [
    "model_weights"
   ]
  },
  {
   "cell_type": "code",
   "execution_count": 20,
   "id": "featured-outline",
   "metadata": {
    "ExecuteTime": {
     "end_time": "2022-08-19T13:21:57.109933Z",
     "start_time": "2022-08-19T13:21:57.095851Z"
    }
   },
   "outputs": [],
   "source": [
    "model_from_json.set_weights(model_weights)"
   ]
  },
  {
   "cell_type": "code",
   "execution_count": 21,
   "id": "occupied-optics",
   "metadata": {
    "ExecuteTime": {
     "end_time": "2022-08-19T13:21:57.469733Z",
     "start_time": "2022-08-19T13:21:57.111961Z"
    }
   },
   "outputs": [
    {
     "name": "stdout",
     "output_type": "stream",
     "text": [
      "313/313 [==============================] - 0s 878us/step - loss: 0.3505 - sparse_categorical_accuracy: 0.8762\n"
     ]
    },
    {
     "data": {
      "text/plain": [
       "[0.3505373001098633, 0.8762000203132629]"
      ]
     },
     "execution_count": 21,
     "metadata": {},
     "output_type": "execute_result"
    }
   ],
   "source": [
    "model_from_json.evaluate(test_image, test_label)"
   ]
  },
  {
   "cell_type": "code",
   "execution_count": 22,
   "id": "realistic-notion",
   "metadata": {
    "ExecuteTime": {
     "end_time": "2022-08-19T13:21:57.485118Z",
     "start_time": "2022-08-19T13:21:57.470726Z"
    }
   },
   "outputs": [],
   "source": [
    "model.save_weights('12-2_Model_save_json_weights.h5')"
   ]
  },
  {
   "cell_type": "code",
   "execution_count": 23,
   "id": "close-reality",
   "metadata": {
    "ExecuteTime": {
     "end_time": "2022-08-19T13:21:57.514852Z",
     "start_time": "2022-08-19T13:21:57.485928Z"
    }
   },
   "outputs": [],
   "source": [
    "model_from_load_weights = tf.keras.Sequential()\n",
    "model_from_load_weights.add(tf.keras.layers.Flatten(input_shape=(28,28)))\n",
    "model_from_load_weights.add(tf.keras.layers.Dense(128, activation='relu'))\n",
    "model_from_load_weights.add(tf.keras.layers.Dense(10, activation='softmax'))"
   ]
  },
  {
   "cell_type": "code",
   "execution_count": 24,
   "id": "smart-cleveland",
   "metadata": {
    "ExecuteTime": {
     "end_time": "2022-08-19T13:21:57.530000Z",
     "start_time": "2022-08-19T13:21:57.516757Z"
    }
   },
   "outputs": [],
   "source": [
    "model_from_load_weights.compile(optimizer='Adam',\n",
    "             loss='sparse_categorical_crossentropy',\n",
    "             metrics=['sparse_categorical_accuracy'])"
   ]
  },
  {
   "cell_type": "code",
   "execution_count": 25,
   "id": "invisible-personality",
   "metadata": {
    "ExecuteTime": {
     "end_time": "2022-08-19T13:21:57.559919Z",
     "start_time": "2022-08-19T13:21:57.530996Z"
    }
   },
   "outputs": [],
   "source": [
    "model_from_load_weights.load_weights('12-2_Model_save_json_weights.h5')"
   ]
  },
  {
   "cell_type": "code",
   "execution_count": 26,
   "id": "metallic-justice",
   "metadata": {
    "ExecuteTime": {
     "end_time": "2022-08-19T13:21:58.149116Z",
     "start_time": "2022-08-19T13:21:57.561913Z"
    }
   },
   "outputs": [
    {
     "name": "stdout",
     "output_type": "stream",
     "text": [
      "313/313 [==============================] - 0s 882us/step - loss: 0.3505 - sparse_categorical_accuracy: 0.8762\n"
     ]
    },
    {
     "data": {
      "text/plain": [
       "[0.3505373001098633, 0.8762000203132629]"
      ]
     },
     "execution_count": 26,
     "metadata": {},
     "output_type": "execute_result"
    }
   ],
   "source": [
    "model_from_load_weights.evaluate(test_image, test_label)"
   ]
  },
  {
   "cell_type": "code",
   "execution_count": null,
   "id": "changed-rogers",
   "metadata": {},
   "outputs": [],
   "source": []
  }
 ],
 "metadata": {
  "kernelspec": {
   "display_name": "Python 3",
   "language": "python",
   "name": "python3"
  },
  "language_info": {
   "codemirror_mode": {
    "name": "ipython",
    "version": 3
   },
   "file_extension": ".py",
   "mimetype": "text/x-python",
   "name": "python",
   "nbconvert_exporter": "python",
   "pygments_lexer": "ipython3",
   "version": "3.8.8"
  },
  "latex_envs": {
   "LaTeX_envs_menu_present": true,
   "autoclose": false,
   "autocomplete": true,
   "bibliofile": "biblio.bib",
   "cite_by": "apalike",
   "current_citInitial": 1,
   "eqLabelWithNumbers": true,
   "eqNumInitial": 1,
   "hotkeys": {
    "equation": "Ctrl-E",
    "itemize": "Ctrl-I"
   },
   "labels_anchors": false,
   "latex_user_defs": false,
   "report_style_numbering": false,
   "user_envs_cfg": false
  },
  "toc": {
   "base_numbering": 1,
   "nav_menu": {},
   "number_sections": true,
   "sideBar": true,
   "skip_h1_title": false,
   "title_cell": "Table of Contents",
   "title_sidebar": "Contents",
   "toc_cell": false,
   "toc_position": {},
   "toc_section_display": true,
   "toc_window_display": false
  },
  "varInspector": {
   "cols": {
    "lenName": 16,
    "lenType": 16,
    "lenVar": 40
   },
   "kernels_config": {
    "python": {
     "delete_cmd_postfix": "",
     "delete_cmd_prefix": "del ",
     "library": "var_list.py",
     "varRefreshCmd": "print(var_dic_list())"
    },
    "r": {
     "delete_cmd_postfix": ") ",
     "delete_cmd_prefix": "rm(",
     "library": "var_list.r",
     "varRefreshCmd": "cat(var_dic_list()) "
    }
   },
   "types_to_exclude": [
    "module",
    "function",
    "builtin_function_or_method",
    "instance",
    "_Feature"
   ],
   "window_display": false
  }
 },
 "nbformat": 4,
 "nbformat_minor": 5
}
