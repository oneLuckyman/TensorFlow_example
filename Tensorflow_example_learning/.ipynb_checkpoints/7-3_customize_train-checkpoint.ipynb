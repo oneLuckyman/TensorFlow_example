{
 "cells": [
  {
   "cell_type": "code",
   "execution_count": 1,
   "id": "thorough-theorem",
   "metadata": {
    "ExecuteTime": {
     "end_time": "2022-08-12T13:46:12.286844Z",
     "start_time": "2022-08-12T13:46:10.285217Z"
    }
   },
   "outputs": [],
   "source": [
    "import tensorflow as tf "
   ]
  },
  {
   "cell_type": "code",
   "execution_count": 2,
   "id": "statistical-response",
   "metadata": {
    "ExecuteTime": {
     "end_time": "2022-08-12T13:46:12.318173Z",
     "start_time": "2022-08-12T13:46:12.291130Z"
    }
   },
   "outputs": [
    {
     "data": {
      "text/plain": [
       "'2.3.0'"
      ]
     },
     "execution_count": 2,
     "metadata": {},
     "output_type": "execute_result"
    }
   ],
   "source": [
    "tf.__version__"
   ]
  },
  {
   "cell_type": "code",
   "execution_count": 3,
   "id": "extra-netherlands",
   "metadata": {
    "ExecuteTime": {
     "end_time": "2022-08-12T13:46:12.572131Z",
     "start_time": "2022-08-12T13:46:12.320173Z"
    }
   },
   "outputs": [],
   "source": [
    "(train_images, train_labels), _ = tf.keras.datasets.mnist.load_data()"
   ]
  },
  {
   "cell_type": "code",
   "execution_count": 4,
   "id": "bronze-politics",
   "metadata": {
    "ExecuteTime": {
     "end_time": "2022-08-12T13:46:12.587100Z",
     "start_time": "2022-08-12T13:46:12.572894Z"
    }
   },
   "outputs": [
    {
     "data": {
      "text/plain": [
       "(60000, 28, 28)"
      ]
     },
     "execution_count": 4,
     "metadata": {},
     "output_type": "execute_result"
    }
   ],
   "source": [
    "train_images.shape"
   ]
  },
  {
   "cell_type": "code",
   "execution_count": 5,
   "id": "fifty-benjamin",
   "metadata": {
    "ExecuteTime": {
     "end_time": "2022-08-12T13:46:12.602716Z",
     "start_time": "2022-08-12T13:46:12.587821Z"
    }
   },
   "outputs": [
    {
     "data": {
      "text/plain": [
       "array([5, 0, 4, ..., 5, 6, 8], dtype=uint8)"
      ]
     },
     "execution_count": 5,
     "metadata": {},
     "output_type": "execute_result"
    }
   ],
   "source": [
    "train_labels"
   ]
  },
  {
   "cell_type": "code",
   "execution_count": 6,
   "id": "verbal-transaction",
   "metadata": {
    "ExecuteTime": {
     "end_time": "2022-08-12T13:46:12.618800Z",
     "start_time": "2022-08-12T13:46:12.603752Z"
    }
   },
   "outputs": [],
   "source": [
    "train_images = tf.expand_dims(train_images, -1)"
   ]
  },
  {
   "cell_type": "code",
   "execution_count": 7,
   "id": "stretch-requirement",
   "metadata": {
    "ExecuteTime": {
     "end_time": "2022-08-12T13:46:12.639336Z",
     "start_time": "2022-08-12T13:46:12.620670Z"
    }
   },
   "outputs": [
    {
     "data": {
      "text/plain": [
       "TensorShape([60000, 28, 28, 1])"
      ]
     },
     "execution_count": 7,
     "metadata": {},
     "output_type": "execute_result"
    }
   ],
   "source": [
    "train_images.shape"
   ]
  },
  {
   "cell_type": "code",
   "execution_count": 8,
   "id": "opening-capture",
   "metadata": {
    "ExecuteTime": {
     "end_time": "2022-08-12T13:46:12.760614Z",
     "start_time": "2022-08-12T13:46:12.640674Z"
    }
   },
   "outputs": [],
   "source": [
    "train_images = tf.cast(train_images/255, tf.float32)"
   ]
  },
  {
   "cell_type": "code",
   "execution_count": 9,
   "id": "cardiac-martial",
   "metadata": {
    "ExecuteTime": {
     "end_time": "2022-08-12T13:46:12.776568Z",
     "start_time": "2022-08-12T13:46:12.769657Z"
    }
   },
   "outputs": [],
   "source": [
    "train_labels = tf.cast(train_labels, tf.int64)"
   ]
  },
  {
   "cell_type": "code",
   "execution_count": 10,
   "id": "supreme-contents",
   "metadata": {
    "ExecuteTime": {
     "end_time": "2022-08-12T13:46:12.792175Z",
     "start_time": "2022-08-12T13:46:12.778842Z"
    }
   },
   "outputs": [],
   "source": [
    "dataset = tf.data.Dataset.from_tensor_slices((train_images, train_labels))"
   ]
  },
  {
   "cell_type": "code",
   "execution_count": 11,
   "id": "finite-pursuit",
   "metadata": {
    "ExecuteTime": {
     "end_time": "2022-08-12T13:46:12.808364Z",
     "start_time": "2022-08-12T13:46:12.794199Z"
    }
   },
   "outputs": [
    {
     "data": {
      "text/plain": [
       "<TensorSliceDataset shapes: ((28, 28, 1), ()), types: (tf.float32, tf.int64)>"
      ]
     },
     "execution_count": 11,
     "metadata": {},
     "output_type": "execute_result"
    }
   ],
   "source": [
    "dataset"
   ]
  },
  {
   "cell_type": "code",
   "execution_count": 12,
   "id": "conservative-charger",
   "metadata": {
    "ExecuteTime": {
     "end_time": "2022-08-12T13:46:12.823470Z",
     "start_time": "2022-08-12T13:46:12.810237Z"
    }
   },
   "outputs": [],
   "source": [
    "dataset = dataset.shuffle(10000).batch(32)"
   ]
  },
  {
   "cell_type": "code",
   "execution_count": 13,
   "id": "republican-lover",
   "metadata": {
    "ExecuteTime": {
     "end_time": "2022-08-12T13:46:12.838833Z",
     "start_time": "2022-08-12T13:46:12.824397Z"
    }
   },
   "outputs": [
    {
     "data": {
      "text/plain": [
       "<BatchDataset shapes: ((None, 28, 28, 1), (None,)), types: (tf.float32, tf.int64)>"
      ]
     },
     "execution_count": 13,
     "metadata": {},
     "output_type": "execute_result"
    }
   ],
   "source": [
    "dataset"
   ]
  },
  {
   "cell_type": "code",
   "execution_count": 14,
   "id": "silver-loading",
   "metadata": {
    "ExecuteTime": {
     "end_time": "2022-08-12T13:46:12.901196Z",
     "start_time": "2022-08-12T13:46:12.839853Z"
    }
   },
   "outputs": [],
   "source": [
    "model = tf.keras.Sequential([\n",
    "    tf.keras.layers.Conv2D(16, [3, 3], activation='relu', input_shape=(None, None, 1)),\n",
    "    tf.keras.layers.Conv2D(32, [3, 3], activation='relu'),\n",
    "    tf.keras.layers.GlobalMaxPooling2D(),\n",
    "    tf.keras.layers.Dense(10)\n",
    "])"
   ]
  },
  {
   "cell_type": "code",
   "execution_count": 15,
   "id": "caring-omaha",
   "metadata": {
    "ExecuteTime": {
     "end_time": "2022-08-12T13:46:12.917093Z",
     "start_time": "2022-08-12T13:46:12.903123Z"
    }
   },
   "outputs": [],
   "source": [
    "optimizer = tf.keras.optimizers.Adam()"
   ]
  },
  {
   "cell_type": "code",
   "execution_count": 16,
   "id": "british-proposal",
   "metadata": {
    "ExecuteTime": {
     "end_time": "2022-08-12T13:46:12.933018Z",
     "start_time": "2022-08-12T13:46:12.918099Z"
    }
   },
   "outputs": [],
   "source": [
    "loss_func = tf.keras.losses.SparseCategoricalCrossentropy(from_logits=True)"
   ]
  },
  {
   "cell_type": "code",
   "execution_count": 17,
   "id": "attached-mortgage",
   "metadata": {
    "ExecuteTime": {
     "end_time": "2022-08-12T13:46:13.073574Z",
     "start_time": "2022-08-12T13:46:12.933920Z"
    }
   },
   "outputs": [],
   "source": [
    "features, labels = next(iter(dataset))"
   ]
  },
  {
   "cell_type": "code",
   "execution_count": 18,
   "id": "alert-ability",
   "metadata": {
    "ExecuteTime": {
     "end_time": "2022-08-12T13:46:13.089122Z",
     "start_time": "2022-08-12T13:46:13.074561Z"
    }
   },
   "outputs": [
    {
     "data": {
      "text/plain": [
       "TensorShape([32, 28, 28, 1])"
      ]
     },
     "execution_count": 18,
     "metadata": {},
     "output_type": "execute_result"
    }
   ],
   "source": [
    "features.shape"
   ]
  },
  {
   "cell_type": "code",
   "execution_count": 19,
   "id": "lonely-columbus",
   "metadata": {
    "ExecuteTime": {
     "end_time": "2022-08-12T13:46:13.105035Z",
     "start_time": "2022-08-12T13:46:13.090124Z"
    }
   },
   "outputs": [
    {
     "data": {
      "text/plain": [
       "TensorShape([32])"
      ]
     },
     "execution_count": 19,
     "metadata": {},
     "output_type": "execute_result"
    }
   ],
   "source": [
    "labels.shape"
   ]
  },
  {
   "cell_type": "code",
   "execution_count": 20,
   "id": "numeric-enhancement",
   "metadata": {
    "ExecuteTime": {
     "end_time": "2022-08-12T13:46:13.135042Z",
     "start_time": "2022-08-12T13:46:13.106036Z"
    }
   },
   "outputs": [],
   "source": [
    "predictions = model(features)"
   ]
  },
  {
   "cell_type": "code",
   "execution_count": 21,
   "id": "comparable-opposition",
   "metadata": {
    "ExecuteTime": {
     "end_time": "2022-08-12T13:46:13.150296Z",
     "start_time": "2022-08-12T13:46:13.136302Z"
    }
   },
   "outputs": [
    {
     "data": {
      "text/plain": [
       "TensorShape([32, 10])"
      ]
     },
     "execution_count": 21,
     "metadata": {},
     "output_type": "execute_result"
    }
   ],
   "source": [
    "predictions.shape"
   ]
  },
  {
   "cell_type": "code",
   "execution_count": 22,
   "id": "expressed-threshold",
   "metadata": {
    "ExecuteTime": {
     "end_time": "2022-08-12T13:46:13.165999Z",
     "start_time": "2022-08-12T13:46:13.151910Z"
    }
   },
   "outputs": [
    {
     "data": {
      "text/plain": [
       "<tf.Tensor: shape=(32,), dtype=int64, numpy=\n",
       "array([9, 0, 6, 0, 0, 0, 0, 0, 0, 6, 6, 9, 0, 9, 0, 0, 9, 0, 6, 0, 9, 0,\n",
       "       0, 0, 6, 0, 9, 6, 6, 0, 9, 9], dtype=int64)>"
      ]
     },
     "execution_count": 22,
     "metadata": {},
     "output_type": "execute_result"
    }
   ],
   "source": [
    "tf.argmax(predictions, axis=1)"
   ]
  },
  {
   "cell_type": "code",
   "execution_count": 23,
   "id": "judicial-stream",
   "metadata": {
    "ExecuteTime": {
     "end_time": "2022-08-12T13:46:13.181578Z",
     "start_time": "2022-08-12T13:46:13.167865Z"
    }
   },
   "outputs": [
    {
     "data": {
      "text/plain": [
       "<tf.Tensor: shape=(32,), dtype=int64, numpy=\n",
       "array([3, 3, 3, 6, 9, 2, 8, 4, 6, 7, 9, 2, 1, 7, 8, 9, 3, 4, 2, 1, 7, 2,\n",
       "       3, 6, 9, 4, 5, 2, 4, 9, 7, 0], dtype=int64)>"
      ]
     },
     "execution_count": 23,
     "metadata": {},
     "output_type": "execute_result"
    }
   ],
   "source": [
    "labels"
   ]
  },
  {
   "cell_type": "code",
   "execution_count": 24,
   "id": "minute-preparation",
   "metadata": {
    "ExecuteTime": {
     "end_time": "2022-08-12T13:46:13.197332Z",
     "start_time": "2022-08-12T13:46:13.182825Z"
    }
   },
   "outputs": [],
   "source": [
    "def cal_loss(model, x, y):\n",
    "    y_ = model(x)\n",
    "    return loss_func(y, y_)"
   ]
  },
  {
   "cell_type": "code",
   "execution_count": 25,
   "id": "virgin-danger",
   "metadata": {
    "ExecuteTime": {
     "end_time": "2022-08-12T13:46:13.212614Z",
     "start_time": "2022-08-12T13:46:13.199017Z"
    }
   },
   "outputs": [],
   "source": [
    "def train_step(model, optimizer, images, labels):\n",
    "    with tf.GradientTape() as tape:\n",
    "        loss_step = cal_loss(model, images, labels)\n",
    "    grads = tape.gradient(loss_step, model.trainable_variables)\n",
    "    optimizer.apply_gradients(zip(grads, model.trainable_variables))"
   ]
  },
  {
   "cell_type": "code",
   "execution_count": 26,
   "id": "tracked-blake",
   "metadata": {
    "ExecuteTime": {
     "end_time": "2022-08-12T13:46:13.228208Z",
     "start_time": "2022-08-12T13:46:13.215125Z"
    }
   },
   "outputs": [],
   "source": [
    "def train(epochs, model, optimizer, dataset):\n",
    "    for epoch in range(epochs):\n",
    "        for (batch_index, (images, labels)) in enumerate(dataset):\n",
    "            train_step(model, optimizer, images, labels)\n",
    "        print('Epoch{} is finshed'.format(epoch))"
   ]
  },
  {
   "cell_type": "code",
   "execution_count": null,
   "id": "incorporated-mathematics",
   "metadata": {},
   "outputs": [],
   "source": [
    "train(10, model, optimizer, dataset)"
   ]
  }
 ],
 "metadata": {
  "kernelspec": {
   "display_name": "Python 3",
   "language": "python",
   "name": "python3"
  },
  "language_info": {
   "codemirror_mode": {
    "name": "ipython",
    "version": 3
   },
   "file_extension": ".py",
   "mimetype": "text/x-python",
   "name": "python",
   "nbconvert_exporter": "python",
   "pygments_lexer": "ipython3",
   "version": "3.8.8"
  },
  "latex_envs": {
   "LaTeX_envs_menu_present": true,
   "autoclose": false,
   "autocomplete": true,
   "bibliofile": "biblio.bib",
   "cite_by": "apalike",
   "current_citInitial": 1,
   "eqLabelWithNumbers": true,
   "eqNumInitial": 1,
   "hotkeys": {
    "equation": "Ctrl-E",
    "itemize": "Ctrl-I"
   },
   "labels_anchors": false,
   "latex_user_defs": false,
   "report_style_numbering": false,
   "user_envs_cfg": false
  },
  "toc": {
   "base_numbering": 1,
   "nav_menu": {},
   "number_sections": true,
   "sideBar": true,
   "skip_h1_title": false,
   "title_cell": "Table of Contents",
   "title_sidebar": "Contents",
   "toc_cell": false,
   "toc_position": {},
   "toc_section_display": true,
   "toc_window_display": false
  },
  "varInspector": {
   "cols": {
    "lenName": 16,
    "lenType": 16,
    "lenVar": 40
   },
   "kernels_config": {
    "python": {
     "delete_cmd_postfix": "",
     "delete_cmd_prefix": "del ",
     "library": "var_list.py",
     "varRefreshCmd": "print(var_dic_list())"
    },
    "r": {
     "delete_cmd_postfix": ") ",
     "delete_cmd_prefix": "rm(",
     "library": "var_list.r",
     "varRefreshCmd": "cat(var_dic_list()) "
    }
   },
   "types_to_exclude": [
    "module",
    "function",
    "builtin_function_or_method",
    "instance",
    "_Feature"
   ],
   "window_display": false
  }
 },
 "nbformat": 4,
 "nbformat_minor": 5
}
