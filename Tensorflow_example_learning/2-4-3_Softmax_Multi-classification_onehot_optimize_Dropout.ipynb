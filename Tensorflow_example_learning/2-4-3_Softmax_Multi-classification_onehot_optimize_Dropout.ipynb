{
 "cells": [
  {
   "cell_type": "code",
   "execution_count": 1,
   "id": "current-composition",
   "metadata": {
    "ExecuteTime": {
     "end_time": "2022-07-28T13:12:59.128216Z",
     "start_time": "2022-07-28T13:12:51.907918Z"
    }
   },
   "outputs": [],
   "source": [
    "import tensorflow as tf \n",
    "import pandas as pd \n",
    "import numpy as np \n",
    "import matplotlib.pyplot as plt \n",
    "%matplotlib inline\n",
    "# 抑制过拟合最好的方法是增大数据集或者缩小网络规模，dropout和正则化等其他方法都是辅助方法"
   ]
  },
  {
   "cell_type": "code",
   "execution_count": 2,
   "id": "removed-vision",
   "metadata": {
    "ExecuteTime": {
     "end_time": "2022-07-28T13:13:41.343488Z",
     "start_time": "2022-07-28T13:13:41.334823Z"
    }
   },
   "outputs": [
    {
     "data": {
      "text/plain": [
       "'2.3.0'"
      ]
     },
     "execution_count": 2,
     "metadata": {},
     "output_type": "execute_result"
    }
   ],
   "source": [
    "tf.__version__ "
   ]
  },
  {
   "cell_type": "code",
   "execution_count": 3,
   "id": "metric-carter",
   "metadata": {
    "ExecuteTime": {
     "end_time": "2022-07-28T13:13:42.244351Z",
     "start_time": "2022-07-28T13:13:41.741804Z"
    }
   },
   "outputs": [],
   "source": [
    "(train_image, train_label), (test_image, test_label) = tf.keras.datasets.fashion_mnist.load_data()"
   ]
  },
  {
   "cell_type": "code",
   "execution_count": 4,
   "id": "meaningful-italy",
   "metadata": {
    "ExecuteTime": {
     "end_time": "2022-07-28T13:13:42.460668Z",
     "start_time": "2022-07-28T13:13:42.454415Z"
    }
   },
   "outputs": [
    {
     "data": {
      "text/plain": [
       "(60000, 28, 28)"
      ]
     },
     "execution_count": 4,
     "metadata": {},
     "output_type": "execute_result"
    }
   ],
   "source": [
    "train_image.shape"
   ]
  },
  {
   "cell_type": "code",
   "execution_count": 5,
   "id": "suited-heating",
   "metadata": {
    "ExecuteTime": {
     "end_time": "2022-07-28T13:13:43.048336Z",
     "start_time": "2022-07-28T13:13:43.040359Z"
    }
   },
   "outputs": [
    {
     "data": {
      "text/plain": [
       "((10000, 28, 28), (10000,))"
      ]
     },
     "execution_count": 5,
     "metadata": {},
     "output_type": "execute_result"
    }
   ],
   "source": [
    "test_image.shape, test_label.shape"
   ]
  },
  {
   "cell_type": "code",
   "execution_count": 6,
   "id": "commercial-freeze",
   "metadata": {
    "ExecuteTime": {
     "end_time": "2022-07-28T13:13:43.884057Z",
     "start_time": "2022-07-28T13:13:43.573965Z"
    }
   },
   "outputs": [
    {
     "data": {
      "text/plain": [
       "<matplotlib.image.AxesImage at 0x23148a031f0>"
      ]
     },
     "execution_count": 6,
     "metadata": {},
     "output_type": "execute_result"
    },
    {
     "data": {
      "image/png": "[encoded data removed]",
      "text/plain": [
       "<Figure size 432x288 with 1 Axes>"
      ]
     },
     "metadata": {
      "needs_background": "light"
     },
     "output_type": "display_data"
    }
   ],
   "source": [
    "plt.imshow(train_image[0])"
   ]
  },
  {
   "cell_type": "code",
   "execution_count": 7,
   "id": "frozen-papua",
   "metadata": {
    "ExecuteTime": {
     "end_time": "2022-07-28T13:13:44.224971Z",
     "start_time": "2022-07-28T13:13:44.214945Z"
    },
    "scrolled": true
   },
   "outputs": [
    {
     "data": {
      "text/plain": [
       "array([9, 0, 0, ..., 3, 0, 5], dtype=uint8)"
      ]
     },
     "execution_count": 7,
     "metadata": {},
     "output_type": "execute_result"
    }
   ],
   "source": [
    "train_label"
   ]
  },
  {
   "cell_type": "code",
   "execution_count": 8,
   "id": "athletic-bundle",
   "metadata": {
    "ExecuteTime": {
     "end_time": "2022-07-28T13:13:44.857417Z",
     "start_time": "2022-07-28T13:13:44.654679Z"
    }
   },
   "outputs": [],
   "source": [
    "train_image = train_image/255\n",
    "test_image = test_image/255 "
   ]
  },
  {
   "cell_type": "code",
   "execution_count": 9,
   "id": "civic-teaching",
   "metadata": {
    "ExecuteTime": {
     "end_time": "2022-07-28T13:13:45.258560Z",
     "start_time": "2022-07-28T13:13:45.239849Z"
    }
   },
   "outputs": [
    {
     "data": {
      "text/plain": [
       "array([9, 0, 0, ..., 3, 0, 5], dtype=uint8)"
      ]
     },
     "execution_count": 9,
     "metadata": {},
     "output_type": "execute_result"
    }
   ],
   "source": [
    "train_label"
   ]
  },
  {
   "cell_type": "code",
   "execution_count": 10,
   "id": "medical-drawing",
   "metadata": {
    "ExecuteTime": {
     "end_time": "2022-07-28T13:13:45.752565Z",
     "start_time": "2022-07-28T13:13:45.733861Z"
    }
   },
   "outputs": [],
   "source": [
    "train_label_onehot = tf.keras.utils.to_categorical(train_label)"
   ]
  },
  {
   "cell_type": "code",
   "execution_count": 11,
   "id": "listed-zealand",
   "metadata": {
    "ExecuteTime": {
     "end_time": "2022-07-28T13:13:46.297745Z",
     "start_time": "2022-07-28T13:13:46.286843Z"
    }
   },
   "outputs": [
    {
     "data": {
      "text/plain": [
       "array([0., 0., 0., 0., 0., 0., 0., 0., 0., 1.], dtype=float32)"
      ]
     },
     "execution_count": 11,
     "metadata": {},
     "output_type": "execute_result"
    }
   ],
   "source": [
    "train_label_onehot[0]"
   ]
  },
  {
   "cell_type": "code",
   "execution_count": 12,
   "id": "designed-tourist",
   "metadata": {
    "ExecuteTime": {
     "end_time": "2022-07-28T13:13:46.808479Z",
     "start_time": "2022-07-28T13:13:46.791201Z"
    }
   },
   "outputs": [],
   "source": [
    "test_label_onehot = tf.keras.utils.to_categorical(test_label)"
   ]
  },
  {
   "cell_type": "code",
   "execution_count": 13,
   "id": "aging-skating",
   "metadata": {
    "ExecuteTime": {
     "end_time": "2022-07-28T13:13:47.582782Z",
     "start_time": "2022-07-28T13:13:47.390950Z"
    }
   },
   "outputs": [],
   "source": [
    "model_onehot = tf.keras.Sequential()\n",
    "model_onehot.add(tf.keras.layers.Flatten(input_shape=(28,28)))\n",
    "model_onehot.add(tf.keras.layers.Dense(128, activation='relu'))\n",
    "model_onehot.add(tf.keras.layers.Dropout(0.5))\n",
    "model_onehot.add(tf.keras.layers.Dense(128, activation='relu'))\n",
    "model_onehot.add(tf.keras.layers.Dropout(0.5))\n",
    "model_onehot.add(tf.keras.layers.Dense(128, activation='relu'))\n",
    "model_onehot.add(tf.keras.layers.Dropout(0.5))\n",
    "model_onehot.add(tf.keras.layers.Dense(10,activation='softmax'))"
   ]
  },
  {
   "cell_type": "code",
   "execution_count": 14,
   "id": "fallen-lincoln",
   "metadata": {
    "ExecuteTime": {
     "end_time": "2022-07-28T13:13:48.624174Z",
     "start_time": "2022-07-28T13:13:48.606845Z"
    }
   },
   "outputs": [
    {
     "name": "stdout",
     "output_type": "stream",
     "text": [
      "Model: \"sequential\"\n",
      "_________________________________________________________________\n",
      "Layer (type)                 Output Shape              Param #   \n",
      "=================================================================\n",
      "flatten (Flatten)            (None, 784)               0         \n",
      "_________________________________________________________________\n",
      "dense (Dense)                (None, 128)               100480    \n",
      "_________________________________________________________________\n",
      "dropout (Dropout)            (None, 128)               0         \n",
      "_________________________________________________________________\n",
      "dense_1 (Dense)              (None, 128)               16512     \n",
      "_________________________________________________________________\n",
      "dropout_1 (Dropout)          (None, 128)               0         \n",
      "_________________________________________________________________\n",
      "dense_2 (Dense)              (None, 128)               16512     \n",
      "_________________________________________________________________\n",
      "dropout_2 (Dropout)          (None, 128)               0         \n",
      "_________________________________________________________________\n",
      "dense_3 (Dense)              (None, 10)                1290      \n",
      "=================================================================\n",
      "Total params: 134,794\n",
      "Trainable params: 134,794\n",
      "Non-trainable params: 0\n",
      "_________________________________________________________________\n"
     ]
    }
   ],
   "source": [
    "model_onehot.summary()"
   ]
  },
  {
   "cell_type": "code",
   "execution_count": 15,
   "id": "introductory-trunk",
   "metadata": {
    "ExecuteTime": {
     "end_time": "2022-07-28T13:14:01.412735Z",
     "start_time": "2022-07-28T13:14:01.385414Z"
    }
   },
   "outputs": [],
   "source": [
    "model_onehot.compile(optimizer=tf.keras.optimizers.Adam(learning_rate=0.001),\n",
    "             loss='categorical_crossentropy',\n",
    "             metrics=['acc'])"
   ]
  },
  {
   "cell_type": "code",
   "execution_count": 16,
   "id": "common-bangkok",
   "metadata": {
    "ExecuteTime": {
     "end_time": "2022-07-28T13:14:41.116749Z",
     "start_time": "2022-07-28T13:14:03.415755Z"
    }
   },
   "outputs": [
    {
     "name": "stdout",
     "output_type": "stream",
     "text": [
      "Epoch 1/10\n",
      "1875/1875 [==============================] - 4s 2ms/step - loss: 0.8704 - acc: 0.6761 - val_loss: 0.5343 - val_acc: 0.8191\n",
      "Epoch 2/10\n",
      "1875/1875 [==============================] - 4s 2ms/step - loss: 0.6149 - acc: 0.7818 - val_loss: 0.4644 - val_acc: 0.8335\n",
      "Epoch 3/10\n",
      "1875/1875 [==============================] - 3s 2ms/step - loss: 0.5740 - acc: 0.7992 - val_loss: 0.4387 - val_acc: 0.8415\n",
      "Epoch 4/10\n",
      "1875/1875 [==============================] - 4s 2ms/step - loss: 0.5497 - acc: 0.8070 - val_loss: 0.4479 - val_acc: 0.8428\n",
      "Epoch 5/10\n",
      "1875/1875 [==============================] - 4s 2ms/step - loss: 0.5318 - acc: 0.8113 - val_loss: 0.4375 - val_acc: 0.8433\n",
      "Epoch 6/10\n",
      "1875/1875 [==============================] - 4s 2ms/step - loss: 0.5177 - acc: 0.8172 - val_loss: 0.4315 - val_acc: 0.8471\n",
      "Epoch 7/10\n",
      "1875/1875 [==============================] - 4s 2ms/step - loss: 0.5102 - acc: 0.8226 - val_loss: 0.4219 - val_acc: 0.8492\n",
      "Epoch 8/10\n",
      "1875/1875 [==============================] - 3s 2ms/step - loss: 0.5017 - acc: 0.8250 - val_loss: 0.4084 - val_acc: 0.8508\n",
      "Epoch 9/10\n",
      "1875/1875 [==============================] - 4s 2ms/step - loss: 0.4903 - acc: 0.8289 - val_loss: 0.4140 - val_acc: 0.8440\n",
      "Epoch 10/10\n",
      "1875/1875 [==============================] - 3s 2ms/step - loss: 0.4905 - acc: 0.8287 - val_loss: 0.4187 - val_acc: 0.8486\n"
     ]
    }
   ],
   "source": [
    "history = model_onehot.fit(train_image, train_label_onehot, \n",
    "                           epochs=10,\n",
    "                          validation_data=(test_image, test_label_onehot))"
   ]
  },
  {
   "cell_type": "code",
   "execution_count": 17,
   "id": "cordless-wells",
   "metadata": {
    "ExecuteTime": {
     "end_time": "2022-07-28T13:15:10.900437Z",
     "start_time": "2022-07-28T13:15:10.881124Z"
    }
   },
   "outputs": [
    {
     "data": {
      "text/plain": [
       "dict_keys(['loss', 'acc', 'val_loss', 'val_acc'])"
      ]
     },
     "execution_count": 17,
     "metadata": {},
     "output_type": "execute_result"
    }
   ],
   "source": [
    "history.history.keys()"
   ]
  },
  {
   "cell_type": "code",
   "execution_count": 18,
   "id": "saving-coach",
   "metadata": {
    "ExecuteTime": {
     "end_time": "2022-07-27T13:35:24.206372Z",
     "start_time": "2022-07-27T13:35:24.009217Z"
    }
   },
   "outputs": [
    {
     "data": {
      "text/plain": [
       "<matplotlib.legend.Legend at 0x2d28c00cfa0>"
      ]
     },
     "execution_count": 18,
     "metadata": {},
     "output_type": "execute_result"
    },
    {
     "data": {
      "image/png": "[encoded data removed]",
      "text/plain": [
       "<Figure size 432x288 with 1 Axes>"
      ]
     },
     "metadata": {
      "needs_background": "light"
     },
     "output_type": "display_data"
    }
   ],
   "source": [
    "plt.plot(history.epoch, history.history.get('loss'), label = 'loss')\n",
    "plt.plot(history.epoch, history.history.get('val_loss'), label = 'val_loss')\n",
    "plt.legend()"
   ]
  },
  {
   "cell_type": "code",
   "execution_count": 18,
   "id": "opened-while",
   "metadata": {
    "ExecuteTime": {
     "end_time": "2022-07-28T13:15:17.217492Z",
     "start_time": "2022-07-28T13:15:17.015643Z"
    }
   },
   "outputs": [
    {
     "data": {
      "text/plain": [
       "<matplotlib.legend.Legend at 0x2314e289820>"
      ]
     },
     "execution_count": 18,
     "metadata": {},
     "output_type": "execute_result"
    },
    {
     "data": {
      "image/png": "[encoded data removed]",
      "text/plain": [
       "<Figure size 432x288 with 1 Axes>"
      ]
     },
     "metadata": {
      "needs_background": "light"
     },
     "output_type": "display_data"
    }
   ],
   "source": [
    "plt.plot(history.epoch, history.history.get('loss'), label = 'loss')\n",
    "plt.plot(history.epoch, history.history.get('val_loss'), label = 'val_loss')\n",
    "plt.legend()"
   ]
  },
  {
   "cell_type": "code",
   "execution_count": 19,
   "id": "elementary-pottery",
   "metadata": {
    "ExecuteTime": {
     "end_time": "2022-07-27T13:36:28.418630Z",
     "start_time": "2022-07-27T13:36:28.231874Z"
    }
   },
   "outputs": [
    {
     "data": {
      "text/plain": [
       "<matplotlib.legend.Legend at 0x2d28c414610>"
      ]
     },
     "execution_count": 19,
     "metadata": {},
     "output_type": "execute_result"
    },
    {
     "data": {
      "image/png": "[encoded data removed]",
      "text/plain": [
       "<Figure size 432x288 with 1 Axes>"
      ]
     },
     "metadata": {
      "needs_background": "light"
     },
     "output_type": "display_data"
    }
   ],
   "source": [
    "plt.plot(history.epoch, history.history.get('acc'), label = 'acc')\n",
    "plt.plot(history.epoch, history.history.get('val_acc'), label = 'val_acc')\n",
    "plt.legend()"
   ]
  },
  {
   "cell_type": "code",
   "execution_count": 19,
   "id": "noted-linux",
   "metadata": {
    "ExecuteTime": {
     "end_time": "2022-07-28T13:15:21.783469Z",
     "start_time": "2022-07-28T13:15:21.583886Z"
    }
   },
   "outputs": [
    {
     "data": {
      "text/plain": [
       "<matplotlib.legend.Legend at 0x2314e2e6d30>"
      ]
     },
     "execution_count": 19,
     "metadata": {},
     "output_type": "execute_result"
    },
    {
     "data": {
      "image/png": "[encoded data removed]",
      "text/plain": [
       "<Figure size 432x288 with 1 Axes>"
      ]
     },
     "metadata": {
      "needs_background": "light"
     },
     "output_type": "display_data"
    }
   ],
   "source": [
    "plt.plot(history.epoch, history.history.get('acc'), label = 'acc')\n",
    "plt.plot(history.epoch, history.history.get('val_acc'), label = 'val_acc')\n",
    "plt.legend()"
   ]
  },
  {
   "cell_type": "code",
   "execution_count": null,
   "id": "further-stream",
   "metadata": {},
   "outputs": [],
   "source": []
  }
 ],
 "metadata": {
  "kernelspec": {
   "display_name": "Python 3",
   "language": "python",
   "name": "python3"
  },
  "language_info": {
   "codemirror_mode": {
    "name": "ipython",
    "version": 3
   },
   "file_extension": ".py",
   "mimetype": "text/x-python",
   "name": "python",
   "nbconvert_exporter": "python",
   "pygments_lexer": "ipython3",
   "version": "3.8.8"
  },
  "latex_envs": {
   "LaTeX_envs_menu_present": true,
   "autoclose": false,
   "autocomplete": true,
   "bibliofile": "biblio.bib",
   "cite_by": "apalike",
   "current_citInitial": 1,
   "eqLabelWithNumbers": true,
   "eqNumInitial": 1,
   "hotkeys": {
    "equation": "Ctrl-E",
    "itemize": "Ctrl-I"
   },
   "labels_anchors": false,
   "latex_user_defs": false,
   "report_style_numbering": false,
   "user_envs_cfg": false
  },
  "toc": {
   "base_numbering": 1,
   "nav_menu": {},
   "number_sections": true,
   "sideBar": true,
   "skip_h1_title": false,
   "title_cell": "Table of Contents",
   "title_sidebar": "Contents",
   "toc_cell": false,
   "toc_position": {},
   "toc_section_display": true,
   "toc_window_display": false
  },
  "varInspector": {
   "cols": {
    "lenName": 16,
    "lenType": 16,
    "lenVar": 40
   },
   "kernels_config": {
    "python": {
     "delete_cmd_postfix": "",
     "delete_cmd_prefix": "del ",
     "library": "var_list.py",
     "varRefreshCmd": "print(var_dic_list())"
    },
    "r": {
     "delete_cmd_postfix": ") ",
     "delete_cmd_prefix": "rm(",
     "library": "var_list.r",
     "varRefreshCmd": "cat(var_dic_list()) "
    }
   },
   "types_to_exclude": [
    "module",
    "function",
    "builtin_function_or_method",
    "instance",
    "_Feature"
   ],
   "window_display": false
  }
 },
 "nbformat": 4,
 "nbformat_minor": 5
}
