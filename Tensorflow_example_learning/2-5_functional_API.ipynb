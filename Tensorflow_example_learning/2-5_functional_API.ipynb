{
 "cells": [
  {
   "cell_type": "code",
   "execution_count": 1,
   "id": "extended-synthesis",
   "metadata": {
    "ExecuteTime": {
     "end_time": "2022-07-31T13:22:58.291867Z",
     "start_time": "2022-07-31T13:22:55.176087Z"
    }
   },
   "outputs": [],
   "source": [
    "import tensorflow as tf \n",
    "from tensorflow import keras \n",
    "import matplotlib.pyplot as plt\n",
    "%matplotlib inline "
   ]
  },
  {
   "cell_type": "code",
   "execution_count": 2,
   "id": "military-gibraltar",
   "metadata": {
    "ExecuteTime": {
     "end_time": "2022-07-31T13:22:58.307393Z",
     "start_time": "2022-07-31T13:22:58.293861Z"
    }
   },
   "outputs": [
    {
     "data": {
      "text/plain": [
       "'2.3.0'"
      ]
     },
     "execution_count": 2,
     "metadata": {},
     "output_type": "execute_result"
    }
   ],
   "source": [
    "tf.__version__"
   ]
  },
  {
   "cell_type": "code",
   "execution_count": 3,
   "id": "instrumental-stationery",
   "metadata": {
    "ExecuteTime": {
     "end_time": "2022-07-31T13:22:58.698097Z",
     "start_time": "2022-07-31T13:22:58.309391Z"
    }
   },
   "outputs": [],
   "source": [
    "fashion_mnist = keras.datasets.fashion_mnist\n",
    "(train_images, train_labels), (test_images, test_labels) = fashion_mnist.load_data()"
   ]
  },
  {
   "cell_type": "code",
   "execution_count": 4,
   "id": "grave-chemical",
   "metadata": {
    "ExecuteTime": {
     "end_time": "2022-07-31T13:22:59.117316Z",
     "start_time": "2022-07-31T13:22:58.699093Z"
    }
   },
   "outputs": [],
   "source": [
    "train_images = train_images / 255.0\n",
    "\n",
    "test_images = test_images / 255.0"
   ]
  },
  {
   "cell_type": "code",
   "execution_count": 5,
   "id": "naval-reading",
   "metadata": {
    "ExecuteTime": {
     "end_time": "2022-07-31T13:22:59.133290Z",
     "start_time": "2022-07-31T13:22:59.118285Z"
    }
   },
   "outputs": [
    {
     "data": {
      "text/plain": [
       "(60000, 28, 28)"
      ]
     },
     "execution_count": 5,
     "metadata": {},
     "output_type": "execute_result"
    }
   ],
   "source": [
    "train_images.shape"
   ]
  },
  {
   "cell_type": "code",
   "execution_count": 6,
   "id": "destroyed-effect",
   "metadata": {
    "ExecuteTime": {
     "end_time": "2022-07-31T13:22:59.149237Z",
     "start_time": "2022-07-31T13:22:59.134242Z"
    }
   },
   "outputs": [],
   "source": [
    "inputs = keras.Input(shape = (28, 28))"
   ]
  },
  {
   "cell_type": "code",
   "execution_count": 7,
   "id": "dimensional-uzbekistan",
   "metadata": {
    "ExecuteTime": {
     "end_time": "2022-07-31T13:22:59.165002Z",
     "start_time": "2022-07-31T13:22:59.150200Z"
    }
   },
   "outputs": [],
   "source": [
    "x = keras.layers.Flatten()(inputs)"
   ]
  },
  {
   "cell_type": "code",
   "execution_count": 8,
   "id": "documentary-graph",
   "metadata": {
    "ExecuteTime": {
     "end_time": "2022-07-31T13:22:59.195500Z",
     "start_time": "2022-07-31T13:22:59.167996Z"
    }
   },
   "outputs": [],
   "source": [
    "x = keras.layers.Dense(32, activation = 'relu')(x)"
   ]
  },
  {
   "cell_type": "code",
   "execution_count": 9,
   "id": "electoral-ebony",
   "metadata": {
    "ExecuteTime": {
     "end_time": "2022-07-31T13:22:59.242389Z",
     "start_time": "2022-07-31T13:22:59.200253Z"
    }
   },
   "outputs": [],
   "source": [
    "x = keras.layers.Dropout(0.5)(x)"
   ]
  },
  {
   "cell_type": "code",
   "execution_count": 10,
   "id": "living-classic",
   "metadata": {
    "ExecuteTime": {
     "end_time": "2022-07-31T13:22:59.258381Z",
     "start_time": "2022-07-31T13:22:59.243382Z"
    }
   },
   "outputs": [],
   "source": [
    "x = keras.layers.Dense(64, activation = 'relu')(x)"
   ]
  },
  {
   "cell_type": "code",
   "execution_count": 11,
   "id": "developmental-garlic",
   "metadata": {
    "ExecuteTime": {
     "end_time": "2022-07-31T13:22:59.273513Z",
     "start_time": "2022-07-31T13:22:59.259187Z"
    }
   },
   "outputs": [],
   "source": [
    "outputs = keras.layers.Dense(10, activation = 'softmax')(x)"
   ]
  },
  {
   "cell_type": "code",
   "execution_count": 12,
   "id": "automated-turning",
   "metadata": {
    "ExecuteTime": {
     "end_time": "2022-07-31T13:22:59.289404Z",
     "start_time": "2022-07-31T13:22:59.275441Z"
    }
   },
   "outputs": [],
   "source": [
    "model = keras.Model(inputs=inputs, outputs=outputs)"
   ]
  },
  {
   "cell_type": "code",
   "execution_count": 13,
   "id": "alpine-owner",
   "metadata": {
    "ExecuteTime": {
     "end_time": "2022-07-31T13:22:59.304364Z",
     "start_time": "2022-07-31T13:22:59.291398Z"
    }
   },
   "outputs": [
    {
     "name": "stdout",
     "output_type": "stream",
     "text": [
      "Model: \"functional_1\"\n",
      "_________________________________________________________________\n",
      "Layer (type)                 Output Shape              Param #   \n",
      "=================================================================\n",
      "input_1 (InputLayer)         [(None, 28, 28)]          0         \n",
      "_________________________________________________________________\n",
      "flatten (Flatten)            (None, 784)               0         \n",
      "_________________________________________________________________\n",
      "dense (Dense)                (None, 32)                25120     \n",
      "_________________________________________________________________\n",
      "dropout (Dropout)            (None, 32)                0         \n",
      "_________________________________________________________________\n",
      "dense_1 (Dense)              (None, 64)                2112      \n",
      "_________________________________________________________________\n",
      "dense_2 (Dense)              (None, 10)                650       \n",
      "=================================================================\n",
      "Total params: 27,882\n",
      "Trainable params: 27,882\n",
      "Non-trainable params: 0\n",
      "_________________________________________________________________\n"
     ]
    }
   ],
   "source": [
    "model.summary()"
   ]
  },
  {
   "cell_type": "code",
   "execution_count": 14,
   "id": "victorian-lawsuit",
   "metadata": {
    "ExecuteTime": {
     "end_time": "2022-07-31T13:22:59.319298Z",
     "start_time": "2022-07-31T13:22:59.306357Z"
    }
   },
   "outputs": [],
   "source": [
    "model.compile(optimizer='adam',\n",
    "             loss='sparse_categorical_crossentropy',\n",
    "             metrics=['accuracy'])"
   ]
  },
  {
   "cell_type": "code",
   "execution_count": 15,
   "id": "endless-mouse",
   "metadata": {
    "ExecuteTime": {
     "end_time": "2022-07-31T13:24:10.051719Z",
     "start_time": "2022-07-31T13:22:59.320264Z"
    },
    "scrolled": true
   },
   "outputs": [
    {
     "name": "stdout",
     "output_type": "stream",
     "text": [
      "Epoch 1/30\n",
      "1875/1875 [==============================] - 2s 982us/step - loss: 0.8557 - accuracy: 0.6719 - val_loss: 0.5346 - val_accuracy: 0.8163\n",
      "Epoch 2/30\n",
      "1875/1875 [==============================] - 2s 1ms/step - loss: 0.6465 - accuracy: 0.7586 - val_loss: 0.5210 - val_accuracy: 0.8134\n",
      "Epoch 3/30\n",
      "1875/1875 [==============================] - 3s 1ms/step - loss: 0.6057 - accuracy: 0.7746 - val_loss: 0.5208 - val_accuracy: 0.7977\n",
      "Epoch 4/30\n",
      "1875/1875 [==============================] - 3s 1ms/step - loss: 0.5843 - accuracy: 0.7835 - val_loss: 0.5368 - val_accuracy: 0.8100\n",
      "Epoch 5/30\n",
      "1875/1875 [==============================] - 2s 1ms/step - loss: 0.5619 - accuracy: 0.7887 - val_loss: 0.5388 - val_accuracy: 0.7905\n",
      "Epoch 6/30\n",
      "1875/1875 [==============================] - 2s 1ms/step - loss: 0.5521 - accuracy: 0.7962 - val_loss: 0.5169 - val_accuracy: 0.8035\n",
      "Epoch 7/30\n",
      "1875/1875 [==============================] - 3s 1ms/step - loss: 0.5425 - accuracy: 0.7980 - val_loss: 0.4889 - val_accuracy: 0.8192\n",
      "Epoch 8/30\n",
      "1875/1875 [==============================] - 3s 1ms/step - loss: 0.5389 - accuracy: 0.8009 - val_loss: 0.5405 - val_accuracy: 0.7992\n",
      "Epoch 9/30\n",
      "1875/1875 [==============================] - 2s 1ms/step - loss: 0.5320 - accuracy: 0.8029 - val_loss: 0.5492 - val_accuracy: 0.7931\n",
      "Epoch 10/30\n",
      "1875/1875 [==============================] - 2s 1ms/step - loss: 0.5212 - accuracy: 0.8057 - val_loss: 0.4743 - val_accuracy: 0.8371\n",
      "Epoch 11/30\n",
      "1875/1875 [==============================] - 2s 1ms/step - loss: 0.5200 - accuracy: 0.8080 - val_loss: 0.5943 - val_accuracy: 0.7544\n",
      "Epoch 12/30\n",
      "1875/1875 [==============================] - 3s 1ms/step - loss: 0.5094 - accuracy: 0.8109 - val_loss: 0.4935 - val_accuracy: 0.8188\n",
      "Epoch 13/30\n",
      "1875/1875 [==============================] - 2s 1ms/step - loss: 0.5091 - accuracy: 0.8114 - val_loss: 0.5295 - val_accuracy: 0.7939\n",
      "Epoch 14/30\n",
      "1875/1875 [==============================] - 2s 1ms/step - loss: 0.5069 - accuracy: 0.8129 - val_loss: 0.5533 - val_accuracy: 0.7793\n",
      "Epoch 15/30\n",
      "1875/1875 [==============================] - 2s 1ms/step - loss: 0.5075 - accuracy: 0.8134 - val_loss: 0.4931 - val_accuracy: 0.8297\n",
      "Epoch 16/30\n",
      "1875/1875 [==============================] - 3s 1ms/step - loss: 0.4985 - accuracy: 0.8152 - val_loss: 0.5397 - val_accuracy: 0.7984\n",
      "Epoch 17/30\n",
      "1875/1875 [==============================] - 2s 1ms/step - loss: 0.4986 - accuracy: 0.8160 - val_loss: 0.4938 - val_accuracy: 0.8270\n",
      "Epoch 18/30\n",
      "1875/1875 [==============================] - 2s 1ms/step - loss: 0.4942 - accuracy: 0.8173 - val_loss: 0.5295 - val_accuracy: 0.8046\n",
      "Epoch 19/30\n",
      "1875/1875 [==============================] - 2s 1ms/step - loss: 0.4948 - accuracy: 0.8178 - val_loss: 0.5172 - val_accuracy: 0.8120\n",
      "Epoch 20/30\n",
      "1875/1875 [==============================] - 3s 1ms/step - loss: 0.4878 - accuracy: 0.8196 - val_loss: 0.5354 - val_accuracy: 0.8001\n",
      "Epoch 21/30\n",
      "1875/1875 [==============================] - 3s 1ms/step - loss: 0.4902 - accuracy: 0.8182 - val_loss: 0.5532 - val_accuracy: 0.7909\n",
      "Epoch 22/30\n",
      "1875/1875 [==============================] - 2s 1ms/step - loss: 0.4869 - accuracy: 0.8224 - val_loss: 0.5363 - val_accuracy: 0.8072\n",
      "Epoch 23/30\n",
      "1875/1875 [==============================] - 2s 1ms/step - loss: 0.4898 - accuracy: 0.8199 - val_loss: 0.5101 - val_accuracy: 0.8237\n",
      "Epoch 24/30\n",
      "1875/1875 [==============================] - 3s 1ms/step - loss: 0.4831 - accuracy: 0.8214 - val_loss: 0.5455 - val_accuracy: 0.8014\n",
      "Epoch 25/30\n",
      "1875/1875 [==============================] - 3s 1ms/step - loss: 0.4784 - accuracy: 0.8223 - val_loss: 0.5086 - val_accuracy: 0.8137\n",
      "Epoch 26/30\n",
      "1875/1875 [==============================] - 2s 1ms/step - loss: 0.4806 - accuracy: 0.8219 - val_loss: 0.4979 - val_accuracy: 0.8215\n",
      "Epoch 27/30\n",
      "1875/1875 [==============================] - 2s 1ms/step - loss: 0.4755 - accuracy: 0.8251 - val_loss: 0.5285 - val_accuracy: 0.7976\n",
      "Epoch 28/30\n",
      "1875/1875 [==============================] - 2s 1ms/step - loss: 0.4766 - accuracy: 0.8235 - val_loss: 0.5144 - val_accuracy: 0.8129\n",
      "Epoch 29/30\n",
      "1875/1875 [==============================] - 3s 1ms/step - loss: 0.4780 - accuracy: 0.8236 - val_loss: 0.4954 - val_accuracy: 0.8216\n",
      "Epoch 30/30\n",
      "1875/1875 [==============================] - 2s 1ms/step - loss: 0.4707 - accuracy: 0.8252 - val_loss: 0.5116 - val_accuracy: 0.8240\n"
     ]
    }
   ],
   "source": [
    "history = model.fit(train_images,\n",
    "                   train_labels,\n",
    "                   epochs=30,\n",
    "                   validation_data=(test_images, test_labels))"
   ]
  },
  {
   "cell_type": "code",
   "execution_count": null,
   "id": "novel-retail",
   "metadata": {},
   "outputs": [],
   "source": []
  }
 ],
 "metadata": {
  "kernelspec": {
   "display_name": "Python 3",
   "language": "python",
   "name": "python3"
  },
  "language_info": {
   "codemirror_mode": {
    "name": "ipython",
    "version": 3
   },
   "file_extension": ".py",
   "mimetype": "text/x-python",
   "name": "python",
   "nbconvert_exporter": "python",
   "pygments_lexer": "ipython3",
   "version": "3.8.8"
  },
  "latex_envs": {
   "LaTeX_envs_menu_present": true,
   "autoclose": false,
   "autocomplete": true,
   "bibliofile": "biblio.bib",
   "cite_by": "apalike",
   "current_citInitial": 1,
   "eqLabelWithNumbers": true,
   "eqNumInitial": 1,
   "hotkeys": {
    "equation": "Ctrl-E",
    "itemize": "Ctrl-I"
   },
   "labels_anchors": false,
   "latex_user_defs": false,
   "report_style_numbering": false,
   "user_envs_cfg": false
  },
  "toc": {
   "base_numbering": 1,
   "nav_menu": {},
   "number_sections": true,
   "sideBar": true,
   "skip_h1_title": false,
   "title_cell": "Table of Contents",
   "title_sidebar": "Contents",
   "toc_cell": false,
   "toc_position": {},
   "toc_section_display": true,
   "toc_window_display": false
  },
  "varInspector": {
   "cols": {
    "lenName": 16,
    "lenType": 16,
    "lenVar": 40
   },
   "kernels_config": {
    "python": {
     "delete_cmd_postfix": "",
     "delete_cmd_prefix": "del ",
     "library": "var_list.py",
     "varRefreshCmd": "print(var_dic_list())"
    },
    "r": {
     "delete_cmd_postfix": ") ",
     "delete_cmd_prefix": "rm(",
     "library": "var_list.r",
     "varRefreshCmd": "cat(var_dic_list()) "
    }
   },
   "types_to_exclude": [
    "module",
    "function",
    "builtin_function_or_method",
    "instance",
    "_Feature"
   ],
   "window_display": false
  }
 },
 "nbformat": 4,
 "nbformat_minor": 5
}
