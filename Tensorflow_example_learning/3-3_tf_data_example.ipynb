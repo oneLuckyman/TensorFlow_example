{
 "cells": [
  {
   "cell_type": "code",
   "execution_count": 1,
   "id": "ambient-saudi",
   "metadata": {
    "ExecuteTime": {
     "end_time": "2022-08-03T13:12:07.018906Z",
     "start_time": "2022-08-03T13:12:03.894907Z"
    }
   },
   "outputs": [],
   "source": [
    "import tensorflow as tf "
   ]
  },
  {
   "cell_type": "code",
   "execution_count": 2,
   "id": "israeli-texture",
   "metadata": {
    "ExecuteTime": {
     "end_time": "2022-08-03T13:12:07.034866Z",
     "start_time": "2022-08-03T13:12:07.019904Z"
    }
   },
   "outputs": [
    {
     "data": {
      "text/plain": [
       "'2.3.0'"
      ]
     },
     "execution_count": 2,
     "metadata": {},
     "output_type": "execute_result"
    }
   ],
   "source": [
    "tf.__version__"
   ]
  },
  {
   "cell_type": "code",
   "execution_count": 3,
   "id": "sticky-upset",
   "metadata": {
    "ExecuteTime": {
     "end_time": "2022-08-03T13:12:07.343398Z",
     "start_time": "2022-08-03T13:12:07.036863Z"
    }
   },
   "outputs": [],
   "source": [
    "(train_images, train_labels), (test_images, test_labels) = tf.keras.datasets.mnist.load_data()"
   ]
  },
  {
   "cell_type": "code",
   "execution_count": 4,
   "id": "decimal-simon",
   "metadata": {
    "ExecuteTime": {
     "end_time": "2022-08-03T13:12:07.515134Z",
     "start_time": "2022-08-03T13:12:07.344362Z"
    }
   },
   "outputs": [],
   "source": [
    "train_images = train_images / 255\n",
    "test_images = test_images / 255"
   ]
  },
  {
   "cell_type": "code",
   "execution_count": 5,
   "id": "international-marine",
   "metadata": {
    "ExecuteTime": {
     "end_time": "2022-08-03T13:12:07.531090Z",
     "start_time": "2022-08-03T13:12:07.518124Z"
    }
   },
   "outputs": [],
   "source": [
    "ds_train_img = tf.data.Dataset.from_tensor_slices(train_images)"
   ]
  },
  {
   "cell_type": "code",
   "execution_count": 6,
   "id": "julian-somerset",
   "metadata": {
    "ExecuteTime": {
     "end_time": "2022-08-03T13:12:07.546499Z",
     "start_time": "2022-08-03T13:12:07.533083Z"
    }
   },
   "outputs": [
    {
     "data": {
      "text/plain": [
       "<TensorSliceDataset shapes: (28, 28), types: tf.float64>"
      ]
     },
     "execution_count": 6,
     "metadata": {},
     "output_type": "execute_result"
    }
   ],
   "source": [
    "ds_train_img"
   ]
  },
  {
   "cell_type": "code",
   "execution_count": 7,
   "id": "functional-display",
   "metadata": {
    "ExecuteTime": {
     "end_time": "2022-08-03T13:12:07.562115Z",
     "start_time": "2022-08-03T13:12:07.548360Z"
    }
   },
   "outputs": [],
   "source": [
    "ds_train_lab = tf.data.Dataset.from_tensor_slices(train_labels)"
   ]
  },
  {
   "cell_type": "code",
   "execution_count": 8,
   "id": "subjective-ecuador",
   "metadata": {
    "ExecuteTime": {
     "end_time": "2022-08-03T13:12:07.577099Z",
     "start_time": "2022-08-03T13:12:07.564043Z"
    }
   },
   "outputs": [
    {
     "data": {
      "text/plain": [
       "<TensorSliceDataset shapes: (), types: tf.uint8>"
      ]
     },
     "execution_count": 8,
     "metadata": {},
     "output_type": "execute_result"
    }
   ],
   "source": [
    "ds_train_lab"
   ]
  },
  {
   "cell_type": "code",
   "execution_count": 9,
   "id": "entire-depression",
   "metadata": {
    "ExecuteTime": {
     "end_time": "2022-08-03T13:12:07.592078Z",
     "start_time": "2022-08-03T13:12:07.579077Z"
    }
   },
   "outputs": [],
   "source": [
    "ds_train = tf.data.Dataset.zip((ds_train_img, ds_train_lab))"
   ]
  },
  {
   "cell_type": "code",
   "execution_count": 10,
   "id": "promising-jackson",
   "metadata": {
    "ExecuteTime": {
     "end_time": "2022-08-03T13:12:07.608095Z",
     "start_time": "2022-08-03T13:12:07.593060Z"
    }
   },
   "outputs": [
    {
     "data": {
      "text/plain": [
       "<ZipDataset shapes: ((28, 28), ()), types: (tf.float64, tf.uint8)>"
      ]
     },
     "execution_count": 10,
     "metadata": {},
     "output_type": "execute_result"
    }
   ],
   "source": [
    "ds_train"
   ]
  },
  {
   "cell_type": "code",
   "execution_count": 11,
   "id": "incoming-habitat",
   "metadata": {
    "ExecuteTime": {
     "end_time": "2022-08-03T13:12:07.623008Z",
     "start_time": "2022-08-03T13:12:07.609471Z"
    }
   },
   "outputs": [],
   "source": [
    "ds_train = ds_train.shuffle(10000).repeat().batch(64)"
   ]
  },
  {
   "cell_type": "code",
   "execution_count": 12,
   "id": "pressing-washer",
   "metadata": {
    "ExecuteTime": {
     "end_time": "2022-08-03T13:12:07.637967Z",
     "start_time": "2022-08-03T13:12:07.624005Z"
    }
   },
   "outputs": [],
   "source": [
    "ds_test = tf.data.Dataset.from_tensor_slices((test_images, test_labels))"
   ]
  },
  {
   "cell_type": "code",
   "execution_count": 13,
   "id": "collaborative-quest",
   "metadata": {
    "ExecuteTime": {
     "end_time": "2022-08-03T13:12:07.652928Z",
     "start_time": "2022-08-03T13:12:07.639962Z"
    }
   },
   "outputs": [
    {
     "data": {
      "text/plain": [
       "<TensorSliceDataset shapes: ((28, 28), ()), types: (tf.float64, tf.uint8)>"
      ]
     },
     "execution_count": 13,
     "metadata": {},
     "output_type": "execute_result"
    }
   ],
   "source": [
    "ds_test"
   ]
  },
  {
   "cell_type": "code",
   "execution_count": 14,
   "id": "piano-highland",
   "metadata": {
    "ExecuteTime": {
     "end_time": "2022-08-03T13:12:07.668569Z",
     "start_time": "2022-08-03T13:12:07.654922Z"
    }
   },
   "outputs": [],
   "source": [
    "ds_test = ds_test.batch(64)"
   ]
  },
  {
   "cell_type": "code",
   "execution_count": 15,
   "id": "whole-choice",
   "metadata": {
    "ExecuteTime": {
     "end_time": "2022-08-03T13:12:07.715135Z",
     "start_time": "2022-08-03T13:12:07.670539Z"
    }
   },
   "outputs": [],
   "source": [
    "model = tf.keras.Sequential([\n",
    "    tf.keras.layers.Flatten(input_shape=(28, 28)),\n",
    "    tf.keras.layers.Dense(128, activation='relu'),\n",
    "    tf.keras.layers.Dense(10, activation='softmax')\n",
    "])"
   ]
  },
  {
   "cell_type": "code",
   "execution_count": 16,
   "id": "material-brazil",
   "metadata": {
    "ExecuteTime": {
     "end_time": "2022-08-03T13:12:07.730124Z",
     "start_time": "2022-08-03T13:12:07.718146Z"
    }
   },
   "outputs": [],
   "source": [
    "model.compile(optimizer='adam',\n",
    "             loss='sparse_categorical_crossentropy',\n",
    "             metrics=['acc'])"
   ]
  },
  {
   "cell_type": "code",
   "execution_count": 17,
   "id": "baking-lemon",
   "metadata": {
    "ExecuteTime": {
     "end_time": "2022-08-03T13:12:07.746197Z",
     "start_time": "2022-08-03T13:12:07.732091Z"
    }
   },
   "outputs": [],
   "source": [
    "steps_per_epoch = train_images.shape[0]//64"
   ]
  },
  {
   "cell_type": "code",
   "execution_count": 18,
   "id": "norman-samoa",
   "metadata": {
    "ExecuteTime": {
     "end_time": "2022-08-03T13:12:20.057307Z",
     "start_time": "2022-08-03T13:12:07.748047Z"
    }
   },
   "outputs": [
    {
     "name": "stdout",
     "output_type": "stream",
     "text": [
      "Epoch 1/5\n",
      "937/937 [==============================] - 2s 2ms/step - loss: 0.2933 - acc: 0.9181 - val_loss: 0.1618 - val_acc: 0.9533\n",
      "Epoch 2/5\n",
      "937/937 [==============================] - 2s 2ms/step - loss: 0.1315 - acc: 0.9610 - val_loss: 0.1190 - val_acc: 0.9641\n",
      "Epoch 3/5\n",
      "937/937 [==============================] - 2s 2ms/step - loss: 0.0927 - acc: 0.9725 - val_loss: 0.1095 - val_acc: 0.9668\n",
      "Epoch 4/5\n",
      "937/937 [==============================] - 2s 3ms/step - loss: 0.0714 - acc: 0.9788 - val_loss: 0.0887 - val_acc: 0.9741\n",
      "Epoch 5/5\n",
      "937/937 [==============================] - 3s 3ms/step - loss: 0.0556 - acc: 0.9829 - val_loss: 0.0803 - val_acc: 0.9763\n"
     ]
    },
    {
     "data": {
      "text/plain": [
       "<tensorflow.python.keras.callbacks.History at 0x15bf250f8b0>"
      ]
     },
     "execution_count": 18,
     "metadata": {},
     "output_type": "execute_result"
    }
   ],
   "source": [
    "model.fit(ds_train, \n",
    "          epochs=5, \n",
    "          steps_per_epoch=steps_per_epoch, \n",
    "          validation_data=ds_test, \n",
    "          validation_steps=test_images.shape[0]//64)"
   ]
  },
  {
   "cell_type": "code",
   "execution_count": null,
   "id": "billion-correspondence",
   "metadata": {},
   "outputs": [],
   "source": []
  }
 ],
 "metadata": {
  "kernelspec": {
   "display_name": "Python 3",
   "language": "python",
   "name": "python3"
  },
  "language_info": {
   "codemirror_mode": {
    "name": "ipython",
    "version": 3
   },
   "file_extension": ".py",
   "mimetype": "text/x-python",
   "name": "python",
   "nbconvert_exporter": "python",
   "pygments_lexer": "ipython3",
   "version": "3.8.8"
  },
  "latex_envs": {
   "LaTeX_envs_menu_present": true,
   "autoclose": false,
   "autocomplete": true,
   "bibliofile": "biblio.bib",
   "cite_by": "apalike",
   "current_citInitial": 1,
   "eqLabelWithNumbers": true,
   "eqNumInitial": 1,
   "hotkeys": {
    "equation": "Ctrl-E",
    "itemize": "Ctrl-I"
   },
   "labels_anchors": false,
   "latex_user_defs": false,
   "report_style_numbering": false,
   "user_envs_cfg": false
  },
  "toc": {
   "base_numbering": 1,
   "nav_menu": {},
   "number_sections": true,
   "sideBar": true,
   "skip_h1_title": false,
   "title_cell": "Table of Contents",
   "title_sidebar": "Contents",
   "toc_cell": false,
   "toc_position": {},
   "toc_section_display": true,
   "toc_window_display": false
  },
  "varInspector": {
   "cols": {
    "lenName": 16,
    "lenType": 16,
    "lenVar": 40
   },
   "kernels_config": {
    "python": {
     "delete_cmd_postfix": "",
     "delete_cmd_prefix": "del ",
     "library": "var_list.py",
     "varRefreshCmd": "print(var_dic_list())"
    },
    "r": {
     "delete_cmd_postfix": ") ",
     "delete_cmd_prefix": "rm(",
     "library": "var_list.r",
     "varRefreshCmd": "cat(var_dic_list()) "
    }
   },
   "types_to_exclude": [
    "module",
    "function",
    "builtin_function_or_method",
    "instance",
    "_Feature"
   ],
   "window_display": false
  }
 },
 "nbformat": 4,
 "nbformat_minor": 5
}
