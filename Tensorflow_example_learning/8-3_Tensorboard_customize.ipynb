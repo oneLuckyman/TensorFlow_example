{
 "cells": [
  {
   "cell_type": "code",
   "execution_count": 1,
   "id": "described-breath",
   "metadata": {
    "ExecuteTime": {
     "end_time": "2022-08-07T13:20:13.698542Z",
     "start_time": "2022-08-07T13:20:10.052702Z"
    }
   },
   "outputs": [],
   "source": [
    "import tensorflow as tf \n",
    "import datetime\n",
    "import os "
   ]
  },
  {
   "cell_type": "code",
   "execution_count": 2,
   "id": "weird-knife",
   "metadata": {
    "ExecuteTime": {
     "end_time": "2022-08-07T13:20:13.729983Z",
     "start_time": "2022-08-07T13:20:13.703532Z"
    }
   },
   "outputs": [
    {
     "data": {
      "text/plain": [
       "'2.3.0'"
      ]
     },
     "execution_count": 2,
     "metadata": {},
     "output_type": "execute_result"
    }
   ],
   "source": [
    "tf.__version__"
   ]
  },
  {
   "cell_type": "code",
   "execution_count": 3,
   "id": "egyptian-birmingham",
   "metadata": {
    "ExecuteTime": {
     "end_time": "2022-08-07T13:20:14.058753Z",
     "start_time": "2022-08-07T13:20:13.732976Z"
    }
   },
   "outputs": [],
   "source": [
    "(train_images, train_labels), (test_images, test_labels) = tf.keras.datasets.mnist.load_data()"
   ]
  },
  {
   "cell_type": "code",
   "execution_count": 4,
   "id": "alone-chess",
   "metadata": {
    "ExecuteTime": {
     "end_time": "2022-08-07T13:20:14.073681Z",
     "start_time": "2022-08-07T13:20:14.060670Z"
    }
   },
   "outputs": [],
   "source": [
    "train_images = tf.expand_dims(train_images, -1)"
   ]
  },
  {
   "cell_type": "code",
   "execution_count": 5,
   "id": "sophisticated-memorabilia",
   "metadata": {
    "ExecuteTime": {
     "end_time": "2022-08-07T13:20:14.088596Z",
     "start_time": "2022-08-07T13:20:14.076629Z"
    }
   },
   "outputs": [],
   "source": [
    "test_images = tf.expand_dims(test_images, -1)"
   ]
  },
  {
   "cell_type": "code",
   "execution_count": 6,
   "id": "improving-intensity",
   "metadata": {
    "ExecuteTime": {
     "end_time": "2022-08-07T13:20:14.244670Z",
     "start_time": "2022-08-07T13:20:14.089594Z"
    }
   },
   "outputs": [],
   "source": [
    "train_images = tf.cast(train_images/255, tf.float32)\n",
    "test_images = tf.cast(test_images/255, tf.float32)"
   ]
  },
  {
   "cell_type": "code",
   "execution_count": 7,
   "id": "virgin-producer",
   "metadata": {
    "ExecuteTime": {
     "end_time": "2022-08-07T13:20:14.260724Z",
     "start_time": "2022-08-07T13:20:14.247646Z"
    }
   },
   "outputs": [],
   "source": [
    "train_labels = tf.cast(train_labels, tf.int64)\n",
    "test_labels = tf.cast(test_labels, tf.int64)"
   ]
  },
  {
   "cell_type": "code",
   "execution_count": 8,
   "id": "productive-comment",
   "metadata": {
    "ExecuteTime": {
     "end_time": "2022-08-07T13:20:14.275950Z",
     "start_time": "2022-08-07T13:20:14.262719Z"
    }
   },
   "outputs": [],
   "source": [
    "dataset = tf.data.Dataset.from_tensor_slices((train_images, train_labels))"
   ]
  },
  {
   "cell_type": "code",
   "execution_count": 9,
   "id": "industrial-eclipse",
   "metadata": {
    "ExecuteTime": {
     "end_time": "2022-08-07T13:20:14.291885Z",
     "start_time": "2022-08-07T13:20:14.278904Z"
    }
   },
   "outputs": [],
   "source": [
    "test_dataset = tf.data.Dataset.from_tensor_slices((test_images, test_labels))"
   ]
  },
  {
   "cell_type": "code",
   "execution_count": 10,
   "id": "sized-harrison",
   "metadata": {
    "ExecuteTime": {
     "end_time": "2022-08-07T13:20:14.307866Z",
     "start_time": "2022-08-07T13:20:14.293881Z"
    }
   },
   "outputs": [
    {
     "data": {
      "text/plain": [
       "<TensorSliceDataset shapes: ((28, 28, 1), ()), types: (tf.float32, tf.int64)>"
      ]
     },
     "execution_count": 10,
     "metadata": {},
     "output_type": "execute_result"
    }
   ],
   "source": [
    "dataset"
   ]
  },
  {
   "cell_type": "code",
   "execution_count": 11,
   "id": "statutory-tsunami",
   "metadata": {
    "ExecuteTime": {
     "end_time": "2022-08-07T13:20:14.323822Z",
     "start_time": "2022-08-07T13:20:14.308862Z"
    }
   },
   "outputs": [],
   "source": [
    "dataset = dataset.repeat().shuffle(60000).batch(128)"
   ]
  },
  {
   "cell_type": "code",
   "execution_count": 12,
   "id": "fleet-running",
   "metadata": {
    "ExecuteTime": {
     "end_time": "2022-08-07T13:20:14.339268Z",
     "start_time": "2022-08-07T13:20:14.325823Z"
    }
   },
   "outputs": [],
   "source": [
    "test_dataset = test_dataset.repeat().batch(128)"
   ]
  },
  {
   "cell_type": "code",
   "execution_count": 13,
   "id": "whole-persian",
   "metadata": {
    "ExecuteTime": {
     "end_time": "2022-08-07T13:20:14.355183Z",
     "start_time": "2022-08-07T13:20:14.341223Z"
    }
   },
   "outputs": [
    {
     "data": {
      "text/plain": [
       "<BatchDataset shapes: ((None, 28, 28, 1), (None,)), types: (tf.float32, tf.int64)>"
      ]
     },
     "execution_count": 13,
     "metadata": {},
     "output_type": "execute_result"
    }
   ],
   "source": [
    "dataset"
   ]
  },
  {
   "cell_type": "code",
   "execution_count": 14,
   "id": "impaired-benefit",
   "metadata": {
    "ExecuteTime": {
     "end_time": "2022-08-07T13:20:14.402547Z",
     "start_time": "2022-08-07T13:20:14.357179Z"
    }
   },
   "outputs": [],
   "source": [
    "model = tf.keras.Sequential([\n",
    "    tf.keras.layers.Conv2D(16, [3,3], activation='relu', input_shape=(None, None, 1)),\n",
    "    tf.keras.layers.Conv2D(32, [3,3], activation='relu'),\n",
    "    tf.keras.layers.GlobalMaxPooling2D(),\n",
    "    tf.keras.layers.Dense(10, activation='softmax')    \n",
    "])"
   ]
  },
  {
   "cell_type": "code",
   "execution_count": 15,
   "id": "promising-distinction",
   "metadata": {
    "ExecuteTime": {
     "end_time": "2022-08-07T13:20:14.418041Z",
     "start_time": "2022-08-07T13:20:14.403505Z"
    }
   },
   "outputs": [],
   "source": [
    "model.compile(optimizer='adam',\n",
    "             loss='sparse_categorical_crossentropy',\n",
    "             metrics=['acc'])"
   ]
  },
  {
   "cell_type": "code",
   "execution_count": 16,
   "id": "yellow-force",
   "metadata": {
    "ExecuteTime": {
     "end_time": "2022-08-07T13:20:14.434040Z",
     "start_time": "2022-08-07T13:20:14.419042Z"
    }
   },
   "outputs": [],
   "source": [
    "log_dir = os.path.join('logs', datetime.datetime.now().strftime(\"%Y%m%d-%H%M%S\"))"
   ]
  },
  {
   "cell_type": "code",
   "execution_count": 17,
   "id": "undefined-clause",
   "metadata": {
    "ExecuteTime": {
     "end_time": "2022-08-07T13:20:14.448962Z",
     "start_time": "2022-08-07T13:20:14.435998Z"
    }
   },
   "outputs": [],
   "source": [
    "file_writer = tf.summary.create_file_writer(os.path.join(log_dir, 'lr'))"
   ]
  },
  {
   "cell_type": "code",
   "execution_count": 18,
   "id": "improved-democrat",
   "metadata": {
    "ExecuteTime": {
     "end_time": "2022-08-07T13:20:14.464154Z",
     "start_time": "2022-08-07T13:20:14.450956Z"
    }
   },
   "outputs": [],
   "source": [
    "file_writer.set_as_default()"
   ]
  },
  {
   "cell_type": "code",
   "execution_count": 19,
   "id": "controversial-abraham",
   "metadata": {
    "ExecuteTime": {
     "end_time": "2022-08-07T13:20:14.479670Z",
     "start_time": "2022-08-07T13:20:14.466131Z"
    }
   },
   "outputs": [],
   "source": [
    "tensorboard_callback = tf.keras.callbacks.TensorBoard(log_dir, histogram_freq=1)"
   ]
  },
  {
   "cell_type": "code",
   "execution_count": 20,
   "id": "noble-nickel",
   "metadata": {
    "ExecuteTime": {
     "end_time": "2022-08-07T13:20:14.495691Z",
     "start_time": "2022-08-07T13:20:14.481634Z"
    }
   },
   "outputs": [],
   "source": [
    "def lr_scheduler(epoch):\n",
    "    learning_rate = 0.2\n",
    "    if epoch > 5:\n",
    "        learning_rate = 0.02\n",
    "    if epoch > 10:\n",
    "        learning_rate = 0.01\n",
    "    if epoch > 20:\n",
    "        learning_rate = 0.005\n",
    "    tf.summary.scalar('learning_rate', data=learning_rate, step=epoch)\n",
    "    return learning_rate"
   ]
  },
  {
   "cell_type": "code",
   "execution_count": 21,
   "id": "uniform-attitude",
   "metadata": {
    "ExecuteTime": {
     "end_time": "2022-08-07T13:20:14.511133Z",
     "start_time": "2022-08-07T13:20:14.497591Z"
    }
   },
   "outputs": [],
   "source": [
    "lr_callback = tf.keras.callbacks.LearningRateScheduler(lr_scheduler)"
   ]
  },
  {
   "cell_type": "code",
   "execution_count": 22,
   "id": "flexible-saint",
   "metadata": {
    "ExecuteTime": {
     "end_time": "2022-08-07T13:32:31.292367Z",
     "start_time": "2022-08-07T13:20:14.512036Z"
    }
   },
   "outputs": [
    {
     "name": "stdout",
     "output_type": "stream",
     "text": [
      "Epoch 1/25\n",
      "  1/468 [..............................] - ETA: 0s - loss: 2.3478 - acc: 0.0781WARNING:tensorflow:From D:\\anaconda3\\lib\\site-packages\\tensorflow\\python\\ops\\summary_ops_v2.py:1277: stop (from tensorflow.python.eager.profiler) is deprecated and will be removed after 2020-07-01.\n",
      "Instructions for updating:\n",
      "use `tf.profiler.experimental.stop` instead.\n",
      "468/468 [==============================] - 30s 64ms/step - loss: 2.3283 - acc: 0.1052 - val_loss: 2.3110 - val_acc: 0.0975\n",
      "Epoch 2/25\n",
      "468/468 [==============================] - 27s 59ms/step - loss: 2.3113 - acc: 0.1023 - val_loss: 2.3080 - val_acc: 0.1135\n",
      "Epoch 3/25\n",
      "468/468 [==============================] - 29s 62ms/step - loss: 2.3131 - acc: 0.1010 - val_loss: 2.3117 - val_acc: 0.0958\n",
      "Epoch 4/25\n",
      "468/468 [==============================] - 29s 61ms/step - loss: 2.3142 - acc: 0.1030 - val_loss: 2.3110 - val_acc: 0.1029\n",
      "Epoch 5/25\n",
      "468/468 [==============================] - 28s 60ms/step - loss: 2.3141 - acc: 0.0995 - val_loss: 2.3040 - val_acc: 0.1135\n",
      "Epoch 6/25\n",
      "468/468 [==============================] - 31s 67ms/step - loss: 2.3132 - acc: 0.1026 - val_loss: 2.3100 - val_acc: 0.0982\n",
      "Epoch 7/25\n",
      "468/468 [==============================] - 31s 67ms/step - loss: 2.3023 - acc: 0.1082 - val_loss: 2.3036 - val_acc: 0.1029\n",
      "Epoch 8/25\n",
      "468/468 [==============================] - 34s 73ms/step - loss: 2.3023 - acc: 0.1113 - val_loss: 2.3023 - val_acc: 0.1135\n",
      "Epoch 9/25\n",
      "468/468 [==============================] - 33s 70ms/step - loss: 2.3025 - acc: 0.1079 - val_loss: 2.3021 - val_acc: 0.1135\n",
      "Epoch 10/25\n",
      "468/468 [==============================] - 28s 59ms/step - loss: 2.3023 - acc: 0.1126 - val_loss: 2.3029 - val_acc: 0.1135\n",
      "Epoch 11/25\n",
      "468/468 [==============================] - 27s 59ms/step - loss: 2.3025 - acc: 0.1112 - val_loss: 2.3014 - val_acc: 0.1135\n",
      "Epoch 12/25\n",
      "468/468 [==============================] - 32s 68ms/step - loss: 2.3016 - acc: 0.1116 - val_loss: 2.3017 - val_acc: 0.1135\n",
      "Epoch 13/25\n",
      "468/468 [==============================] - 32s 68ms/step - loss: 2.3023 - acc: 0.1093 - val_loss: 2.3011 - val_acc: 0.1135\n",
      "Epoch 14/25\n",
      "468/468 [==============================] - 28s 61ms/step - loss: 2.3021 - acc: 0.1121 - val_loss: 2.3010 - val_acc: 0.1135\n",
      "Epoch 15/25\n",
      "468/468 [==============================] - 29s 62ms/step - loss: 2.3020 - acc: 0.1091 - val_loss: 2.3010 - val_acc: 0.1135\n",
      "Epoch 16/25\n",
      "468/468 [==============================] - 28s 61ms/step - loss: 2.3018 - acc: 0.1106 - val_loss: 2.3016 - val_acc: 0.1135\n",
      "Epoch 17/25\n",
      "468/468 [==============================] - 29s 61ms/step - loss: 2.3015 - acc: 0.1137 - val_loss: 2.3013 - val_acc: 0.1135\n",
      "Epoch 18/25\n",
      "468/468 [==============================] - 28s 60ms/step - loss: 2.3020 - acc: 0.1102 - val_loss: 2.3015 - val_acc: 0.1135\n",
      "Epoch 19/25\n",
      "468/468 [==============================] - 28s 60ms/step - loss: 2.3017 - acc: 0.1127 - val_loss: 2.3016 - val_acc: 0.1135\n",
      "Epoch 20/25\n",
      "468/468 [==============================] - 28s 60ms/step - loss: 2.3022 - acc: 0.1092 - val_loss: 2.3013 - val_acc: 0.1135\n",
      "Epoch 21/25\n",
      "468/468 [==============================] - 28s 61ms/step - loss: 2.3015 - acc: 0.1129 - val_loss: 2.3012 - val_acc: 0.1135\n",
      "Epoch 22/25\n",
      "468/468 [==============================] - 28s 61ms/step - loss: 2.3018 - acc: 0.1107 - val_loss: 2.3012 - val_acc: 0.1135\n",
      "Epoch 23/25\n",
      "468/468 [==============================] - 29s 61ms/step - loss: 2.3011 - acc: 0.1134 - val_loss: 2.3012 - val_acc: 0.1135\n",
      "Epoch 24/25\n",
      "468/468 [==============================] - 29s 63ms/step - loss: 2.3015 - acc: 0.1122 - val_loss: 2.3012 - val_acc: 0.1135\n",
      "Epoch 25/25\n",
      "468/468 [==============================] - 29s 62ms/step - loss: 2.3016 - acc: 0.1107 - val_loss: 2.3013 - val_acc: 0.1135\n"
     ]
    },
    {
     "data": {
      "text/plain": [
       "<tensorflow.python.keras.callbacks.History at 0x236d852bbe0>"
      ]
     },
     "execution_count": 22,
     "metadata": {},
     "output_type": "execute_result"
    }
   ],
   "source": [
    "model.fit(dataset,\n",
    "         epochs=25,\n",
    "         steps_per_epoch=60000//128,\n",
    "         validation_data=test_dataset,\n",
    "         validation_steps=10000//128,\n",
    "         callbacks=[tensorboard_callback, lr_callback])"
   ]
  },
  {
   "cell_type": "code",
   "execution_count": 23,
   "id": "outer-personality",
   "metadata": {
    "ExecuteTime": {
     "end_time": "2022-08-07T13:32:32.058739Z",
     "start_time": "2022-08-07T13:32:31.294362Z"
    }
   },
   "outputs": [],
   "source": [
    "%load_ext tensorboard\n",
    "%matplotlib inline"
   ]
  },
  {
   "cell_type": "code",
   "execution_count": 24,
   "id": "pending-board",
   "metadata": {
    "ExecuteTime": {
     "end_time": "2022-08-07T13:32:32.089971Z",
     "start_time": "2022-08-07T13:32:32.060050Z"
    }
   },
   "outputs": [
    {
     "data": {
      "text/plain": [
       "Reusing TensorBoard on port 6006 (pid 19356), started 1 day, 1:49:47 ago. (Use '!kill 19356' to kill it.)"
      ]
     },
     "metadata": {},
     "output_type": "display_data"
    },
    {
     "data": {
      "text/html": [
       "\n",
       "      <iframe id=\"tensorboard-frame-a25061e6df5a26ba\" width=\"100%\" height=\"800\" frameborder=\"0\">\n",
       "      </iframe>\n",
       "      <script>\n",
       "        (function() {\n",
       "          const frame = document.getElementById(\"tensorboard-frame-a25061e6df5a26ba\");\n",
       "          const url = new URL(\"/\", window.location);\n",
       "          const port = 6006;\n",
       "          if (port) {\n",
       "            url.port = port;\n",
       "          }\n",
       "          frame.src = url;\n",
       "        })();\n",
       "      </script>\n",
       "    "
      ],
      "text/plain": [
       "<IPython.core.display.HTML object>"
      ]
     },
     "metadata": {},
     "output_type": "display_data"
    }
   ],
   "source": [
    "%tensorboard --logdir logs\n",
    "# 或在终端中输入相同指令"
   ]
  },
  {
   "cell_type": "code",
   "execution_count": null,
   "id": "painful-astrology",
   "metadata": {},
   "outputs": [],
   "source": []
  }
 ],
 "metadata": {
  "kernelspec": {
   "display_name": "Python 3",
   "language": "python",
   "name": "python3"
  },
  "language_info": {
   "codemirror_mode": {
    "name": "ipython",
    "version": 3
   },
   "file_extension": ".py",
   "mimetype": "text/x-python",
   "name": "python",
   "nbconvert_exporter": "python",
   "pygments_lexer": "ipython3",
   "version": "3.8.8"
  },
  "latex_envs": {
   "LaTeX_envs_menu_present": true,
   "autoclose": false,
   "autocomplete": true,
   "bibliofile": "biblio.bib",
   "cite_by": "apalike",
   "current_citInitial": 1,
   "eqLabelWithNumbers": true,
   "eqNumInitial": 1,
   "hotkeys": {
    "equation": "Ctrl-E",
    "itemize": "Ctrl-I"
   },
   "labels_anchors": false,
   "latex_user_defs": false,
   "report_style_numbering": false,
   "user_envs_cfg": false
  },
  "toc": {
   "base_numbering": 1,
   "nav_menu": {},
   "number_sections": true,
   "sideBar": true,
   "skip_h1_title": false,
   "title_cell": "Table of Contents",
   "title_sidebar": "Contents",
   "toc_cell": false,
   "toc_position": {},
   "toc_section_display": true,
   "toc_window_display": false
  },
  "varInspector": {
   "cols": {
    "lenName": 16,
    "lenType": 16,
    "lenVar": 40
   },
   "kernels_config": {
    "python": {
     "delete_cmd_postfix": "",
     "delete_cmd_prefix": "del ",
     "library": "var_list.py",
     "varRefreshCmd": "print(var_dic_list())"
    },
    "r": {
     "delete_cmd_postfix": ") ",
     "delete_cmd_prefix": "rm(",
     "library": "var_list.r",
     "varRefreshCmd": "cat(var_dic_list()) "
    }
   },
   "types_to_exclude": [
    "module",
    "function",
    "builtin_function_or_method",
    "instance",
    "_Feature"
   ],
   "window_display": false
  }
 },
 "nbformat": 4,
 "nbformat_minor": 5
}
