{
 "cells": [
  {
   "cell_type": "code",
   "execution_count": 1,
   "id": "realistic-swift",
   "metadata": {
    "ExecuteTime": {
     "end_time": "2022-08-20T13:39:21.122825Z",
     "start_time": "2022-08-20T13:39:17.874024Z"
    }
   },
   "outputs": [],
   "source": [
    "import tensorflow as tf \n",
    "import pandas as pd \n",
    "import numpy as np \n",
    "import matplotlib.pyplot as plt\n",
    "%matplotlib inline "
   ]
  },
  {
   "cell_type": "code",
   "execution_count": 2,
   "id": "residential-communication",
   "metadata": {
    "ExecuteTime": {
     "end_time": "2022-08-20T13:39:21.138320Z",
     "start_time": "2022-08-20T13:39:21.126805Z"
    }
   },
   "outputs": [
    {
     "data": {
      "text/plain": [
       "'2.3.0'"
      ]
     },
     "execution_count": 2,
     "metadata": {},
     "output_type": "execute_result"
    }
   ],
   "source": [
    "tf.__version__"
   ]
  },
  {
   "cell_type": "code",
   "execution_count": 3,
   "id": "vocational-moderator",
   "metadata": {
    "ExecuteTime": {
     "end_time": "2022-08-20T13:39:21.563186Z",
     "start_time": "2022-08-20T13:39:21.143308Z"
    }
   },
   "outputs": [],
   "source": [
    "(train_image, train_label), (test_image, test_label) = tf.keras.datasets.fashion_mnist.load_data()"
   ]
  },
  {
   "cell_type": "code",
   "execution_count": 4,
   "id": "together-comparison",
   "metadata": {
    "ExecuteTime": {
     "end_time": "2022-08-20T13:39:21.731060Z",
     "start_time": "2022-08-20T13:39:21.564179Z"
    }
   },
   "outputs": [],
   "source": [
    "train_image = train_image/255\n",
    "test_image = test_image/255"
   ]
  },
  {
   "cell_type": "code",
   "execution_count": 5,
   "id": "difficult-thailand",
   "metadata": {
    "ExecuteTime": {
     "end_time": "2022-08-20T13:39:21.777599Z",
     "start_time": "2022-08-20T13:39:21.732225Z"
    }
   },
   "outputs": [],
   "source": [
    "model = tf.keras.Sequential()\n",
    "model.add(tf.keras.layers.Flatten(input_shape=(28,28)))\n",
    "model.add(tf.keras.layers.Dense(128, activation='relu'))\n",
    "model.add(tf.keras.layers.Dense(10, activation='softmax'))"
   ]
  },
  {
   "cell_type": "code",
   "execution_count": 6,
   "id": "virgin-northwest",
   "metadata": {
    "ExecuteTime": {
     "end_time": "2022-08-20T13:39:21.793603Z",
     "start_time": "2022-08-20T13:39:21.778631Z"
    }
   },
   "outputs": [
    {
     "name": "stdout",
     "output_type": "stream",
     "text": [
      "Model: \"sequential\"\n",
      "_________________________________________________________________\n",
      "Layer (type)                 Output Shape              Param #   \n",
      "=================================================================\n",
      "flatten (Flatten)            (None, 784)               0         \n",
      "_________________________________________________________________\n",
      "dense (Dense)                (None, 128)               100480    \n",
      "_________________________________________________________________\n",
      "dense_1 (Dense)              (None, 10)                1290      \n",
      "=================================================================\n",
      "Total params: 101,770\n",
      "Trainable params: 101,770\n",
      "Non-trainable params: 0\n",
      "_________________________________________________________________\n"
     ]
    }
   ],
   "source": [
    "model.summary()"
   ]
  },
  {
   "cell_type": "code",
   "execution_count": 7,
   "id": "norwegian-brain",
   "metadata": {
    "ExecuteTime": {
     "end_time": "2022-08-20T13:39:21.809103Z",
     "start_time": "2022-08-20T13:39:21.794606Z"
    }
   },
   "outputs": [],
   "source": [
    "model.compile(optimizer='Adam',\n",
    "             loss='sparse_categorical_crossentropy',\n",
    "             metrics=['sparse_categorical_accuracy'])"
   ]
  },
  {
   "cell_type": "code",
   "execution_count": 8,
   "id": "undefined-battlefield",
   "metadata": {
    "ExecuteTime": {
     "end_time": "2022-08-20T13:39:21.824617Z",
     "start_time": "2022-08-20T13:39:21.810019Z"
    }
   },
   "outputs": [],
   "source": [
    "checkpoint_path = 'train_checkpoint/12-3_Model_save_checkpoint.ckpt'"
   ]
  },
  {
   "cell_type": "code",
   "execution_count": 9,
   "id": "collectible-clearance",
   "metadata": {
    "ExecuteTime": {
     "end_time": "2022-08-20T13:39:21.840503Z",
     "start_time": "2022-08-20T13:39:21.826749Z"
    }
   },
   "outputs": [],
   "source": [
    "cp_callback = tf.keras.callbacks.ModelCheckpoint(checkpoint_path,\n",
    "                                                save_weights_only=True)"
   ]
  },
  {
   "cell_type": "code",
   "execution_count": 10,
   "id": "dried-emerald",
   "metadata": {
    "ExecuteTime": {
     "end_time": "2022-08-20T13:39:33.239501Z",
     "start_time": "2022-08-20T13:39:21.842497Z"
    }
   },
   "outputs": [
    {
     "name": "stdout",
     "output_type": "stream",
     "text": [
      "Epoch 1/5\n",
      "1875/1875 [==============================] - 1s 768us/step - loss: 0.4986 - sparse_categorical_accuracy: 0.8242\n",
      "Epoch 2/5\n",
      "1875/1875 [==============================] - 2s 901us/step - loss: 0.3733 - sparse_categorical_accuracy: 0.8665\n",
      "Epoch 3/5\n",
      "1875/1875 [==============================] - 3s 1ms/step - loss: 0.3400 - sparse_categorical_accuracy: 0.8756\n",
      "Epoch 4/5\n",
      "1875/1875 [==============================] - 3s 1ms/step - loss: 0.3134 - sparse_categorical_accuracy: 0.8857\n",
      "Epoch 5/5\n",
      "1875/1875 [==============================] - 2s 1ms/step - loss: 0.2950 - sparse_categorical_accuracy: 0.8915A: 0s - loss: 0.2919 - sparse_categor\n"
     ]
    },
    {
     "data": {
      "text/plain": [
       "<tensorflow.python.keras.callbacks.History at 0x1be27413970>"
      ]
     },
     "execution_count": 10,
     "metadata": {},
     "output_type": "execute_result"
    }
   ],
   "source": [
    "model.fit(train_image, train_label, epochs=5, callbacks=[cp_callback])"
   ]
  },
  {
   "cell_type": "code",
   "execution_count": 11,
   "id": "premier-apple",
   "metadata": {
    "ExecuteTime": {
     "end_time": "2022-08-20T13:39:33.756531Z",
     "start_time": "2022-08-20T13:39:33.242470Z"
    }
   },
   "outputs": [
    {
     "name": "stdout",
     "output_type": "stream",
     "text": [
      "313/313 [==============================] - 0s 871us/step - loss: 0.3396 - sparse_categorical_accuracy: 0.8786\n"
     ]
    },
    {
     "data": {
      "text/plain": [
       "[0.33963608741760254, 0.878600001335144]"
      ]
     },
     "execution_count": 11,
     "metadata": {},
     "output_type": "execute_result"
    }
   ],
   "source": [
    "model.evaluate(test_image, test_label)"
   ]
  },
  {
   "cell_type": "code",
   "execution_count": 12,
   "id": "boolean-roads",
   "metadata": {
    "ExecuteTime": {
     "end_time": "2022-08-20T13:39:33.802608Z",
     "start_time": "2022-08-20T13:39:33.759569Z"
    }
   },
   "outputs": [],
   "source": [
    "cp_model = tf.keras.Sequential()\n",
    "cp_model.add(tf.keras.layers.Flatten(input_shape=(28,28)))\n",
    "cp_model.add(tf.keras.layers.Dense(128, activation='relu'))\n",
    "cp_model.add(tf.keras.layers.Dense(10, activation='softmax'))"
   ]
  },
  {
   "cell_type": "code",
   "execution_count": 13,
   "id": "provincial-failure",
   "metadata": {
    "ExecuteTime": {
     "end_time": "2022-08-20T13:39:33.865584Z",
     "start_time": "2022-08-20T13:39:33.804520Z"
    }
   },
   "outputs": [
    {
     "data": {
      "text/plain": [
       "<tensorflow.python.training.tracking.util.CheckpointLoadStatus at 0x1be2776fca0>"
      ]
     },
     "execution_count": 13,
     "metadata": {},
     "output_type": "execute_result"
    }
   ],
   "source": [
    "cp_model.load_weights(checkpoint_path)"
   ]
  },
  {
   "cell_type": "code",
   "execution_count": 14,
   "id": "previous-cherry",
   "metadata": {
    "ExecuteTime": {
     "end_time": "2022-08-20T13:39:33.881427Z",
     "start_time": "2022-08-20T13:39:33.867481Z"
    }
   },
   "outputs": [],
   "source": [
    "cp_model.compile(optimizer='Adam',\n",
    "             loss='sparse_categorical_crossentropy',\n",
    "             metrics=['sparse_categorical_accuracy'])"
   ]
  },
  {
   "cell_type": "code",
   "execution_count": 15,
   "id": "neural-leave",
   "metadata": {
    "ExecuteTime": {
     "end_time": "2022-08-20T13:39:34.458596Z",
     "start_time": "2022-08-20T13:39:33.882391Z"
    }
   },
   "outputs": [
    {
     "name": "stdout",
     "output_type": "stream",
     "text": [
      "313/313 [==============================] - 0s 846us/step - loss: 0.3396 - sparse_categorical_accuracy: 0.8786\n"
     ]
    },
    {
     "data": {
      "text/plain": [
       "[0.33963608741760254, 0.878600001335144]"
      ]
     },
     "execution_count": 15,
     "metadata": {},
     "output_type": "execute_result"
    }
   ],
   "source": [
    "cp_model.evaluate(test_image, test_label)"
   ]
  },
  {
   "cell_type": "code",
   "execution_count": null,
   "id": "worldwide-hypothetical",
   "metadata": {},
   "outputs": [],
   "source": []
  }
 ],
 "metadata": {
  "kernelspec": {
   "display_name": "Python 3",
   "language": "python",
   "name": "python3"
  },
  "language_info": {
   "codemirror_mode": {
    "name": "ipython",
    "version": 3
   },
   "file_extension": ".py",
   "mimetype": "text/x-python",
   "name": "python",
   "nbconvert_exporter": "python",
   "pygments_lexer": "ipython3",
   "version": "3.8.8"
  },
  "latex_envs": {
   "LaTeX_envs_menu_present": true,
   "autoclose": false,
   "autocomplete": true,
   "bibliofile": "biblio.bib",
   "cite_by": "apalike",
   "current_citInitial": 1,
   "eqLabelWithNumbers": true,
   "eqNumInitial": 1,
   "hotkeys": {
    "equation": "Ctrl-E",
    "itemize": "Ctrl-I"
   },
   "labels_anchors": false,
   "latex_user_defs": false,
   "report_style_numbering": false,
   "user_envs_cfg": false
  },
  "toc": {
   "base_numbering": 1,
   "nav_menu": {},
   "number_sections": true,
   "sideBar": true,
   "skip_h1_title": false,
   "title_cell": "Table of Contents",
   "title_sidebar": "Contents",
   "toc_cell": false,
   "toc_position": {},
   "toc_section_display": true,
   "toc_window_display": false
  },
  "varInspector": {
   "cols": {
    "lenName": 16,
    "lenType": 16,
    "lenVar": 40
   },
   "kernels_config": {
    "python": {
     "delete_cmd_postfix": "",
     "delete_cmd_prefix": "del ",
     "library": "var_list.py",
     "varRefreshCmd": "print(var_dic_list())"
    },
    "r": {
     "delete_cmd_postfix": ") ",
     "delete_cmd_prefix": "rm(",
     "library": "var_list.r",
     "varRefreshCmd": "cat(var_dic_list()) "
    }
   },
   "types_to_exclude": [
    "module",
    "function",
    "builtin_function_or_method",
    "instance",
    "_Feature"
   ],
   "window_display": false
  }
 },
 "nbformat": 4,
 "nbformat_minor": 5
}
