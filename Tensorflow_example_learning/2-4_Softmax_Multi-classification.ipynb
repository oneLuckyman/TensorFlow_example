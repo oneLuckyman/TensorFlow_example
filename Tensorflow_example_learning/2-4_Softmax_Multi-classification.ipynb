{
 "cells": [
  {
   "cell_type": "code",
   "execution_count": 1,
   "id": "current-composition",
   "metadata": {
    "ExecuteTime": {
     "end_time": "2022-07-24T11:11:18.411897Z",
     "start_time": "2022-07-24T11:11:15.246212Z"
    }
   },
   "outputs": [],
   "source": [
    "import tensorflow as tf \n",
    "import pandas as pd \n",
    "import numpy as np \n",
    "import matplotlib.pyplot as plt \n",
    "%matplotlib inline"
   ]
  },
  {
   "cell_type": "code",
   "execution_count": 2,
   "id": "removed-vision",
   "metadata": {
    "ExecuteTime": {
     "end_time": "2022-07-24T11:11:18.426862Z",
     "start_time": "2022-07-24T11:11:18.413894Z"
    }
   },
   "outputs": [
    {
     "data": {
      "text/plain": [
       "'2.3.0'"
      ]
     },
     "execution_count": 2,
     "metadata": {},
     "output_type": "execute_result"
    }
   ],
   "source": [
    "tf.__version__ "
   ]
  },
  {
   "cell_type": "code",
   "execution_count": 3,
   "id": "metric-carter",
   "metadata": {
    "ExecuteTime": {
     "end_time": "2022-07-24T11:11:18.815309Z",
     "start_time": "2022-07-24T11:11:18.428852Z"
    }
   },
   "outputs": [],
   "source": [
    "(train_image, train_label), (test_image, test_label) = tf.keras.datasets.fashion_mnist.load_data()"
   ]
  },
  {
   "cell_type": "code",
   "execution_count": 4,
   "id": "meaningful-italy",
   "metadata": {
    "ExecuteTime": {
     "end_time": "2022-07-24T11:11:18.831259Z",
     "start_time": "2022-07-24T11:11:18.817302Z"
    }
   },
   "outputs": [
    {
     "data": {
      "text/plain": [
       "(60000, 28, 28)"
      ]
     },
     "execution_count": 4,
     "metadata": {},
     "output_type": "execute_result"
    }
   ],
   "source": [
    "train_image.shape"
   ]
  },
  {
   "cell_type": "code",
   "execution_count": 5,
   "id": "suited-heating",
   "metadata": {
    "ExecuteTime": {
     "end_time": "2022-07-24T11:11:18.847216Z",
     "start_time": "2022-07-24T11:11:18.833255Z"
    }
   },
   "outputs": [
    {
     "data": {
      "text/plain": [
       "((10000, 28, 28), (10000,))"
      ]
     },
     "execution_count": 5,
     "metadata": {},
     "output_type": "execute_result"
    }
   ],
   "source": [
    "test_image.shape, test_label.shape"
   ]
  },
  {
   "cell_type": "code",
   "execution_count": 6,
   "id": "commercial-freeze",
   "metadata": {
    "ExecuteTime": {
     "end_time": "2022-07-24T11:11:19.003932Z",
     "start_time": "2022-07-24T11:11:18.851205Z"
    }
   },
   "outputs": [
    {
     "data": {
      "text/plain": [
       "<matplotlib.image.AxesImage at 0x224bfee2970>"
      ]
     },
     "execution_count": 6,
     "metadata": {},
     "output_type": "execute_result"
    },
    {
     "data": {
      "image/png": "[encoded data removed]",
      "text/plain": [
       "<Figure size 432x288 with 1 Axes>"
      ]
     },
     "metadata": {
      "needs_background": "light"
     },
     "output_type": "display_data"
    }
   ],
   "source": [
    "plt.imshow(train_image[0])"
   ]
  },
  {
   "cell_type": "code",
   "execution_count": 7,
   "id": "frozen-papua",
   "metadata": {
    "ExecuteTime": {
     "end_time": "2022-07-24T11:11:19.019678Z",
     "start_time": "2022-07-24T11:11:19.005715Z"
    },
    "scrolled": true
   },
   "outputs": [
    {
     "data": {
      "text/plain": [
       "array([9, 0, 0, ..., 3, 0, 5], dtype=uint8)"
      ]
     },
     "execution_count": 7,
     "metadata": {},
     "output_type": "execute_result"
    }
   ],
   "source": [
    "train_label"
   ]
  },
  {
   "cell_type": "code",
   "execution_count": 8,
   "id": "athletic-bundle",
   "metadata": {
    "ExecuteTime": {
     "end_time": "2022-07-24T11:11:19.190482Z",
     "start_time": "2022-07-24T11:11:19.021722Z"
    }
   },
   "outputs": [],
   "source": [
    "train_image = train_image/255\n",
    "test_image = test_image/255 "
   ]
  },
  {
   "cell_type": "code",
   "execution_count": 9,
   "id": "scheduled-cabinet",
   "metadata": {
    "ExecuteTime": {
     "end_time": "2022-07-24T11:11:19.237826Z",
     "start_time": "2022-07-24T11:11:19.193019Z"
    }
   },
   "outputs": [],
   "source": [
    "model = tf.keras.Sequential()\n",
    "model.add(tf.keras.layers.Flatten(input_shape=(28,28)))\n",
    "model.add(tf.keras.layers.Dense(128, activation='relu'))\n",
    "model.add(tf.keras.layers.Dense(10,activation='softmax'))"
   ]
  },
  {
   "cell_type": "code",
   "execution_count": 10,
   "id": "compliant-collar",
   "metadata": {
    "ExecuteTime": {
     "end_time": "2022-07-24T11:11:19.253226Z",
     "start_time": "2022-07-24T11:11:19.239690Z"
    }
   },
   "outputs": [],
   "source": [
    "model.compile(optimizer='adam',\n",
    "             loss='sparse_categorical_crossentropy',\n",
    "             metrics=['acc'])"
   ]
  },
  {
   "cell_type": "code",
   "execution_count": 12,
   "id": "authorized-sheriff",
   "metadata": {
    "ExecuteTime": {
     "end_time": "2022-07-24T11:15:09.348511Z",
     "start_time": "2022-07-24T11:11:24.980929Z"
    },
    "scrolled": true
   },
   "outputs": [
    {
     "name": "stdout",
     "output_type": "stream",
     "text": [
      "Epoch 1/100\n",
      "1875/1875 [==============================] - 2s 1ms/step - loss: 0.4965 - acc: 0.8269\n",
      "Epoch 2/100\n",
      "1875/1875 [==============================] - 2s 1ms/step - loss: 0.3767 - acc: 0.8647\n",
      "Epoch 3/100\n",
      "1875/1875 [==============================] - 3s 1ms/step - loss: 0.3400 - acc: 0.8759\n",
      "Epoch 4/100\n",
      "1875/1875 [==============================] - 3s 2ms/step - loss: 0.3156 - acc: 0.8841\n",
      "Epoch 5/100\n",
      "1875/1875 [==============================] - 3s 1ms/step - loss: 0.2963 - acc: 0.8906\n",
      "Epoch 6/100\n",
      "1875/1875 [==============================] - 2s 1ms/step - loss: 0.2822 - acc: 0.8948\n",
      "Epoch 7/100\n",
      "1875/1875 [==============================] - 3s 1ms/step - loss: 0.2710 - acc: 0.9001\n",
      "Epoch 8/100\n",
      "1875/1875 [==============================] - 2s 1ms/step - loss: 0.2574 - acc: 0.9053\n",
      "Epoch 9/100\n",
      "1875/1875 [==============================] - 3s 1ms/step - loss: 0.2485 - acc: 0.9068\n",
      "Epoch 10/100\n",
      "1875/1875 [==============================] - 2s 1ms/step - loss: 0.2396 - acc: 0.9110\n",
      "Epoch 11/100\n",
      "1875/1875 [==============================] - 2s 1ms/step - loss: 0.2335 - acc: 0.9130A: 1s\n",
      "Epoch 12/100\n",
      "1875/1875 [==============================] - 2s 1ms/step - loss: 0.2244 - acc: 0.9165\n",
      "Epoch 13/100\n",
      "1875/1875 [==============================] - 2s 1ms/step - loss: 0.2177 - acc: 0.9187\n",
      "Epoch 14/100\n",
      "1875/1875 [==============================] - 2s 1ms/step - loss: 0.2093 - acc: 0.9218\n",
      "Epoch 15/100\n",
      "1875/1875 [==============================] - 2s 1ms/step - loss: 0.2037 - acc: 0.9243\n",
      "Epoch 16/100\n",
      "1875/1875 [==============================] - 2s 1ms/step - loss: 0.1989 - acc: 0.9255\n",
      "Epoch 17/100\n",
      "1875/1875 [==============================] - 2s 1ms/step - loss: 0.1950 - acc: 0.9270\n",
      "Epoch 18/100\n",
      "1875/1875 [==============================] - 2s 1ms/step - loss: 0.1898 - acc: 0.9296\n",
      "Epoch 19/100\n",
      "1875/1875 [==============================] - 2s 1ms/step - loss: 0.1818 - acc: 0.9318\n",
      "Epoch 20/100\n",
      "1875/1875 [==============================] - 2s 1ms/step - loss: 0.1772 - acc: 0.9341\n",
      "Epoch 21/100\n",
      "1875/1875 [==============================] - 2s 1ms/step - loss: 0.1740 - acc: 0.9355\n",
      "Epoch 22/100\n",
      "1875/1875 [==============================] - 2s 1ms/step - loss: 0.1683 - acc: 0.9358\n",
      "Epoch 23/100\n",
      "1875/1875 [==============================] - 2s 1ms/step - loss: 0.1675 - acc: 0.9373\n",
      "Epoch 24/100\n",
      "1875/1875 [==============================] - 2s 1ms/step - loss: 0.1608 - acc: 0.9388\n",
      "Epoch 25/100\n",
      "1875/1875 [==============================] - 2s 1ms/step - loss: 0.1566 - acc: 0.9411\n",
      "Epoch 26/100\n",
      "1875/1875 [==============================] - 2s 1ms/step - loss: 0.1549 - acc: 0.9420\n",
      "Epoch 27/100\n",
      "1875/1875 [==============================] - 2s 1ms/step - loss: 0.1501 - acc: 0.9442\n",
      "Epoch 28/100\n",
      "1875/1875 [==============================] - 2s 1ms/step - loss: 0.1494 - acc: 0.9438\n",
      "Epoch 29/100\n",
      "1875/1875 [==============================] - 2s 1ms/step - loss: 0.1443 - acc: 0.9452\n",
      "Epoch 30/100\n",
      "1875/1875 [==============================] - 2s 1ms/step - loss: 0.1430 - acc: 0.9457A: 0s - loss: 0.141\n",
      "Epoch 31/100\n",
      "1875/1875 [==============================] - 2s 1ms/step - loss: 0.1402 - acc: 0.9471\n",
      "Epoch 32/100\n",
      "1875/1875 [==============================] - 2s 1ms/step - loss: 0.1344 - acc: 0.9498\n",
      "Epoch 33/100\n",
      "1875/1875 [==============================] - 2s 1ms/step - loss: 0.1353 - acc: 0.9494\n",
      "Epoch 34/100\n",
      "1875/1875 [==============================] - 2s 1ms/step - loss: 0.1291 - acc: 0.9516\n",
      "Epoch 35/100\n",
      "1875/1875 [==============================] - 2s 1ms/step - loss: 0.1296 - acc: 0.9517\n",
      "Epoch 36/100\n",
      "1875/1875 [==============================] - 2s 1ms/step - loss: 0.1256 - acc: 0.9528\n",
      "Epoch 37/100\n",
      "1875/1875 [==============================] - 2s 1ms/step - loss: 0.1232 - acc: 0.9531\n",
      "Epoch 38/100\n",
      "1875/1875 [==============================] - 2s 1ms/step - loss: 0.1206 - acc: 0.9548\n",
      "Epoch 39/100\n",
      "1875/1875 [==============================] - 3s 2ms/step - loss: 0.1181 - acc: 0.9558\n",
      "Epoch 40/100\n",
      "1875/1875 [==============================] - 2s 1ms/step - loss: 0.1155 - acc: 0.9567\n",
      "Epoch 41/100\n",
      "1875/1875 [==============================] - 2s 1ms/step - loss: 0.1151 - acc: 0.9573\n",
      "Epoch 42/100\n",
      "1875/1875 [==============================] - 2s 1ms/step - loss: 0.1140 - acc: 0.9575\n",
      "Epoch 43/100\n",
      "1875/1875 [==============================] - 2s 1ms/step - loss: 0.1098 - acc: 0.9584\n",
      "Epoch 44/100\n",
      "1875/1875 [==============================] - 3s 1ms/step - loss: 0.1106 - acc: 0.9596\n",
      "Epoch 45/100\n",
      "1875/1875 [==============================] - 2s 1ms/step - loss: 0.1081 - acc: 0.9593\n",
      "Epoch 46/100\n",
      "1875/1875 [==============================] - 2s 1ms/step - loss: 0.1045 - acc: 0.9604\n",
      "Epoch 47/100\n",
      "1875/1875 [==============================] - 3s 1ms/step - loss: 0.1033 - acc: 0.9607\n",
      "Epoch 48/100\n",
      "1875/1875 [==============================] - 3s 2ms/step - loss: 0.1012 - acc: 0.9620\n",
      "Epoch 49/100\n",
      "1875/1875 [==============================] - 3s 2ms/step - loss: 0.1014 - acc: 0.9624\n",
      "Epoch 50/100\n",
      "1875/1875 [==============================] - 3s 1ms/step - loss: 0.0964 - acc: 0.9641\n",
      "Epoch 51/100\n",
      "1875/1875 [==============================] - 3s 1ms/step - loss: 0.0953 - acc: 0.9640\n",
      "Epoch 52/100\n",
      "1875/1875 [==============================] - 2s 1ms/step - loss: 0.0948 - acc: 0.9641\n",
      "Epoch 53/100\n",
      "1875/1875 [==============================] - 2s 1ms/step - loss: 0.0922 - acc: 0.9663\n",
      "Epoch 54/100\n",
      "1875/1875 [==============================] - 2s 1ms/step - loss: 0.0929 - acc: 0.9659\n",
      "Epoch 55/100\n",
      "1875/1875 [==============================] - 3s 1ms/step - loss: 0.0915 - acc: 0.9657A: 2\n",
      "Epoch 56/100\n",
      "1875/1875 [==============================] - 2s 1ms/step - loss: 0.0886 - acc: 0.9674\n",
      "Epoch 57/100\n",
      "1875/1875 [==============================] - 2s 1ms/step - loss: 0.0901 - acc: 0.9669\n",
      "Epoch 58/100\n",
      "1875/1875 [==============================] - 2s 1ms/step - loss: 0.0872 - acc: 0.9671\n",
      "Epoch 59/100\n",
      "1875/1875 [==============================] - 2s 1ms/step - loss: 0.0850 - acc: 0.9683\n",
      "Epoch 60/100\n",
      "1875/1875 [==============================] - 2s 1ms/step - loss: 0.0834 - acc: 0.9684\n",
      "Epoch 61/100\n",
      "1875/1875 [==============================] - 2s 1ms/step - loss: 0.0816 - acc: 0.9693\n",
      "Epoch 62/100\n",
      "1875/1875 [==============================] - 2s 1ms/step - loss: 0.0840 - acc: 0.9687\n",
      "Epoch 63/100\n",
      "1875/1875 [==============================] - 2s 1ms/step - loss: 0.0801 - acc: 0.9704\n",
      "Epoch 64/100\n",
      "1875/1875 [==============================] - 2s 1ms/step - loss: 0.0816 - acc: 0.9690\n",
      "Epoch 65/100\n",
      "1875/1875 [==============================] - 3s 1ms/step - loss: 0.0796 - acc: 0.9702\n",
      "Epoch 66/100\n",
      "1875/1875 [==============================] - 2s 1ms/step - loss: 0.0765 - acc: 0.9713\n",
      "Epoch 67/100\n",
      "1875/1875 [==============================] - 2s 1ms/step - loss: 0.0780 - acc: 0.9706\n",
      "Epoch 68/100\n",
      "1875/1875 [==============================] - 2s 1ms/step - loss: 0.0746 - acc: 0.9725\n",
      "Epoch 69/100\n",
      "1875/1875 [==============================] - 2s 1ms/step - loss: 0.0770 - acc: 0.9717\n",
      "Epoch 70/100\n",
      "1875/1875 [==============================] - 2s 1ms/step - loss: 0.0733 - acc: 0.9719\n",
      "Epoch 71/100\n",
      "1875/1875 [==============================] - 2s 1ms/step - loss: 0.0729 - acc: 0.9726\n",
      "Epoch 72/100\n",
      "1875/1875 [==============================] - 2s 1ms/step - loss: 0.0716 - acc: 0.9740\n",
      "Epoch 73/100\n",
      "1875/1875 [==============================] - 2s 1ms/step - loss: 0.0690 - acc: 0.9743\n",
      "Epoch 74/100\n",
      "1875/1875 [==============================] - 2s 1ms/step - loss: 0.0707 - acc: 0.9739\n",
      "Epoch 75/100\n",
      "1875/1875 [==============================] - 2s 1ms/step - loss: 0.0686 - acc: 0.9745\n",
      "Epoch 76/100\n",
      "1875/1875 [==============================] - 2s 1ms/step - loss: 0.0679 - acc: 0.9748\n",
      "Epoch 77/100\n",
      "1875/1875 [==============================] - 2s 1ms/step - loss: 0.0691 - acc: 0.9747\n",
      "Epoch 78/100\n",
      "1875/1875 [==============================] - 2s 1ms/step - loss: 0.0650 - acc: 0.9760\n",
      "Epoch 79/100\n",
      "1875/1875 [==============================] - 2s 1ms/step - loss: 0.0654 - acc: 0.9755\n",
      "Epoch 80/100\n",
      "1875/1875 [==============================] - 2s 1ms/step - loss: 0.0665 - acc: 0.9756\n",
      "Epoch 81/100\n",
      "1875/1875 [==============================] - 2s 1ms/step - loss: 0.0618 - acc: 0.9772\n",
      "Epoch 82/100\n",
      "1875/1875 [==============================] - 2s 1ms/step - loss: 0.0614 - acc: 0.9775A: 1\n",
      "Epoch 83/100\n"
     ]
    },
    {
     "name": "stdout",
     "output_type": "stream",
     "text": [
      "1875/1875 [==============================] - 2s 1ms/step - loss: 0.0641 - acc: 0.9767\n",
      "Epoch 84/100\n",
      "1875/1875 [==============================] - 2s 1ms/step - loss: 0.0631 - acc: 0.9761\n",
      "Epoch 85/100\n",
      "1875/1875 [==============================] - 2s 1ms/step - loss: 0.0618 - acc: 0.9770\n",
      "Epoch 86/100\n",
      "1875/1875 [==============================] - 3s 1ms/step - loss: 0.0641 - acc: 0.9761A:\n",
      "Epoch 87/100\n",
      "1875/1875 [==============================] - 3s 1ms/step - loss: 0.0562 - acc: 0.9784\n",
      "Epoch 88/100\n",
      "1875/1875 [==============================] - 2s 1ms/step - loss: 0.0622 - acc: 0.9768\n",
      "Epoch 89/100\n",
      "1875/1875 [==============================] - 2s 1ms/step - loss: 0.0567 - acc: 0.9790\n",
      "Epoch 90/100\n",
      "1875/1875 [==============================] - 2s 1ms/step - loss: 0.0593 - acc: 0.9775\n",
      "Epoch 91/100\n",
      "1875/1875 [==============================] - 3s 2ms/step - loss: 0.0571 - acc: 0.9788\n",
      "Epoch 92/100\n",
      "1875/1875 [==============================] - 2s 1ms/step - loss: 0.0588 - acc: 0.9778\n",
      "Epoch 93/100\n",
      "1875/1875 [==============================] - 2s 1ms/step - loss: 0.0582 - acc: 0.9782\n",
      "Epoch 94/100\n",
      "1875/1875 [==============================] - 2s 1ms/step - loss: 0.0555 - acc: 0.9797\n",
      "Epoch 95/100\n",
      "1875/1875 [==============================] - 2s 1ms/step - loss: 0.0560 - acc: 0.9790\n",
      "Epoch 96/100\n",
      "1875/1875 [==============================] - 2s 1ms/step - loss: 0.0557 - acc: 0.9795\n",
      "Epoch 97/100\n",
      "1875/1875 [==============================] - 2s 1ms/step - loss: 0.0548 - acc: 0.9790\n",
      "Epoch 98/100\n",
      "1875/1875 [==============================] - 2s 1ms/step - loss: 0.0548 - acc: 0.9797\n",
      "Epoch 99/100\n",
      "1875/1875 [==============================] - 3s 1ms/step - loss: 0.0557 - acc: 0.9802\n",
      "Epoch 100/100\n",
      "1875/1875 [==============================] - 2s 1ms/step - loss: 0.0523 - acc: 0.9805\n"
     ]
    },
    {
     "data": {
      "text/plain": [
       "<tensorflow.python.keras.callbacks.History at 0x224bcd19dc0>"
      ]
     },
     "execution_count": 12,
     "metadata": {},
     "output_type": "execute_result"
    }
   ],
   "source": [
    "model.fit(train_image, train_label, epochs=100)"
   ]
  },
  {
   "cell_type": "code",
   "execution_count": 13,
   "id": "respective-brooks",
   "metadata": {
    "ExecuteTime": {
     "end_time": "2022-07-24T11:18:00.711075Z",
     "start_time": "2022-07-24T11:18:00.208092Z"
    }
   },
   "outputs": [
    {
     "name": "stdout",
     "output_type": "stream",
     "text": [
      "313/313 [==============================] - 0s 823us/step - loss: 0.7808 - acc: 0.8868\n"
     ]
    },
    {
     "data": {
      "text/plain": [
       "[0.7807635068893433, 0.8867999911308289]"
      ]
     },
     "execution_count": 13,
     "metadata": {},
     "output_type": "execute_result"
    }
   ],
   "source": [
    "model.evaluate(test_image, test_label)"
   ]
  },
  {
   "cell_type": "code",
   "execution_count": null,
   "id": "civic-teaching",
   "metadata": {},
   "outputs": [],
   "source": []
  }
 ],
 "metadata": {
  "kernelspec": {
   "display_name": "Python 3",
   "language": "python",
   "name": "python3"
  },
  "language_info": {
   "codemirror_mode": {
    "name": "ipython",
    "version": 3
   },
   "file_extension": ".py",
   "mimetype": "text/x-python",
   "name": "python",
   "nbconvert_exporter": "python",
   "pygments_lexer": "ipython3",
   "version": "3.8.8"
  },
  "latex_envs": {
   "LaTeX_envs_menu_present": true,
   "autoclose": false,
   "autocomplete": true,
   "bibliofile": "biblio.bib",
   "cite_by": "apalike",
   "current_citInitial": 1,
   "eqLabelWithNumbers": true,
   "eqNumInitial": 1,
   "hotkeys": {
    "equation": "Ctrl-E",
    "itemize": "Ctrl-I"
   },
   "labels_anchors": false,
   "latex_user_defs": false,
   "report_style_numbering": false,
   "user_envs_cfg": false
  },
  "toc": {
   "base_numbering": 1,
   "nav_menu": {},
   "number_sections": true,
   "sideBar": true,
   "skip_h1_title": false,
   "title_cell": "Table of Contents",
   "title_sidebar": "Contents",
   "toc_cell": false,
   "toc_position": {},
   "toc_section_display": true,
   "toc_window_display": false
  },
  "varInspector": {
   "cols": {
    "lenName": 16,
    "lenType": 16,
    "lenVar": 40
   },
   "kernels_config": {
    "python": {
     "delete_cmd_postfix": "",
     "delete_cmd_prefix": "del ",
     "library": "var_list.py",
     "varRefreshCmd": "print(var_dic_list())"
    },
    "r": {
     "delete_cmd_postfix": ") ",
     "delete_cmd_prefix": "rm(",
     "library": "var_list.r",
     "varRefreshCmd": "cat(var_dic_list()) "
    }
   },
   "types_to_exclude": [
    "module",
    "function",
    "builtin_function_or_method",
    "instance",
    "_Feature"
   ],
   "window_display": false
  }
 },
 "nbformat": 4,
 "nbformat_minor": 5
}
