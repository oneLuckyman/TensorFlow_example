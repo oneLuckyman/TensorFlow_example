{
 "cells": [
  {
   "cell_type": "code",
   "execution_count": 1,
   "id": "current-composition",
   "metadata": {
    "ExecuteTime": {
     "end_time": "2022-07-27T13:33:17.448869Z",
     "start_time": "2022-07-27T13:33:14.869665Z"
    }
   },
   "outputs": [],
   "source": [
    "import tensorflow as tf \n",
    "import pandas as pd \n",
    "import numpy as np \n",
    "import matplotlib.pyplot as plt \n",
    "%matplotlib inline"
   ]
  },
  {
   "cell_type": "code",
   "execution_count": 2,
   "id": "removed-vision",
   "metadata": {
    "ExecuteTime": {
     "end_time": "2022-07-27T13:33:26.225933Z",
     "start_time": "2022-07-27T13:33:26.210024Z"
    }
   },
   "outputs": [
    {
     "data": {
      "text/plain": [
       "'2.3.0'"
      ]
     },
     "execution_count": 2,
     "metadata": {},
     "output_type": "execute_result"
    }
   ],
   "source": [
    "tf.__version__ "
   ]
  },
  {
   "cell_type": "code",
   "execution_count": 3,
   "id": "metric-carter",
   "metadata": {
    "ExecuteTime": {
     "end_time": "2022-07-27T13:33:26.943994Z",
     "start_time": "2022-07-27T13:33:26.423969Z"
    }
   },
   "outputs": [],
   "source": [
    "(train_image, train_label), (test_image, test_label) = tf.keras.datasets.fashion_mnist.load_data()"
   ]
  },
  {
   "cell_type": "code",
   "execution_count": 4,
   "id": "meaningful-italy",
   "metadata": {
    "ExecuteTime": {
     "end_time": "2022-07-27T13:33:27.019795Z",
     "start_time": "2022-07-27T13:33:27.006772Z"
    }
   },
   "outputs": [
    {
     "data": {
      "text/plain": [
       "(60000, 28, 28)"
      ]
     },
     "execution_count": 4,
     "metadata": {},
     "output_type": "execute_result"
    }
   ],
   "source": [
    "train_image.shape"
   ]
  },
  {
   "cell_type": "code",
   "execution_count": 5,
   "id": "suited-heating",
   "metadata": {
    "ExecuteTime": {
     "end_time": "2022-07-27T13:33:27.098797Z",
     "start_time": "2022-07-27T13:33:27.084806Z"
    }
   },
   "outputs": [
    {
     "data": {
      "text/plain": [
       "((10000, 28, 28), (10000,))"
      ]
     },
     "execution_count": 5,
     "metadata": {},
     "output_type": "execute_result"
    }
   ],
   "source": [
    "test_image.shape, test_label.shape"
   ]
  },
  {
   "cell_type": "code",
   "execution_count": 6,
   "id": "commercial-freeze",
   "metadata": {
    "ExecuteTime": {
     "end_time": "2022-07-27T13:33:27.567638Z",
     "start_time": "2022-07-27T13:33:27.375098Z"
    }
   },
   "outputs": [
    {
     "data": {
      "text/plain": [
       "<matplotlib.image.AxesImage at 0x2d28ecea0a0>"
      ]
     },
     "execution_count": 6,
     "metadata": {},
     "output_type": "execute_result"
    },
    {
     "data": {
      "image/png": "[encoded data removed]",
      "text/plain": [
       "<Figure size 432x288 with 1 Axes>"
      ]
     },
     "metadata": {
      "needs_background": "light"
     },
     "output_type": "display_data"
    }
   ],
   "source": [
    "plt.imshow(train_image[0])"
   ]
  },
  {
   "cell_type": "code",
   "execution_count": 7,
   "id": "frozen-papua",
   "metadata": {
    "ExecuteTime": {
     "end_time": "2022-07-27T13:33:27.676061Z",
     "start_time": "2022-07-27T13:33:27.662055Z"
    },
    "scrolled": true
   },
   "outputs": [
    {
     "data": {
      "text/plain": [
       "array([9, 0, 0, ..., 3, 0, 5], dtype=uint8)"
      ]
     },
     "execution_count": 7,
     "metadata": {},
     "output_type": "execute_result"
    }
   ],
   "source": [
    "train_label"
   ]
  },
  {
   "cell_type": "code",
   "execution_count": 8,
   "id": "athletic-bundle",
   "metadata": {
    "ExecuteTime": {
     "end_time": "2022-07-27T13:33:28.315011Z",
     "start_time": "2022-07-27T13:33:28.111347Z"
    }
   },
   "outputs": [],
   "source": [
    "train_image = train_image/255\n",
    "test_image = test_image/255 "
   ]
  },
  {
   "cell_type": "code",
   "execution_count": 9,
   "id": "civic-teaching",
   "metadata": {
    "ExecuteTime": {
     "end_time": "2022-07-27T13:33:28.516333Z",
     "start_time": "2022-07-27T13:33:28.503722Z"
    }
   },
   "outputs": [
    {
     "data": {
      "text/plain": [
       "array([9, 0, 0, ..., 3, 0, 5], dtype=uint8)"
      ]
     },
     "execution_count": 9,
     "metadata": {},
     "output_type": "execute_result"
    }
   ],
   "source": [
    "train_label"
   ]
  },
  {
   "cell_type": "code",
   "execution_count": 10,
   "id": "medical-drawing",
   "metadata": {
    "ExecuteTime": {
     "end_time": "2022-07-27T13:33:28.983163Z",
     "start_time": "2022-07-27T13:33:28.969173Z"
    }
   },
   "outputs": [],
   "source": [
    "train_label_onehot = tf.keras.utils.to_categorical(train_label)"
   ]
  },
  {
   "cell_type": "code",
   "execution_count": 11,
   "id": "listed-zealand",
   "metadata": {
    "ExecuteTime": {
     "end_time": "2022-07-27T13:33:29.404011Z",
     "start_time": "2022-07-27T13:33:29.392970Z"
    }
   },
   "outputs": [
    {
     "data": {
      "text/plain": [
       "array([0., 0., 0., 0., 0., 0., 0., 0., 0., 1.], dtype=float32)"
      ]
     },
     "execution_count": 11,
     "metadata": {},
     "output_type": "execute_result"
    }
   ],
   "source": [
    "train_label_onehot[0]"
   ]
  },
  {
   "cell_type": "code",
   "execution_count": 12,
   "id": "designed-tourist",
   "metadata": {
    "ExecuteTime": {
     "end_time": "2022-07-27T13:33:29.789080Z",
     "start_time": "2022-07-27T13:33:29.776067Z"
    }
   },
   "outputs": [],
   "source": [
    "test_label_onehot = tf.keras.utils.to_categorical(test_label)"
   ]
  },
  {
   "cell_type": "code",
   "execution_count": 13,
   "id": "aging-skating",
   "metadata": {
    "ExecuteTime": {
     "end_time": "2022-07-27T13:33:30.414564Z",
     "start_time": "2022-07-27T13:33:30.351041Z"
    }
   },
   "outputs": [],
   "source": [
    "model_onehot = tf.keras.Sequential()\n",
    "model_onehot.add(tf.keras.layers.Flatten(input_shape=(28,28)))\n",
    "model_onehot.add(tf.keras.layers.Dense(128, activation='relu'))\n",
    "model_onehot.add(tf.keras.layers.Dense(128, activation='relu'))\n",
    "model_onehot.add(tf.keras.layers.Dense(128, activation='relu'))\n",
    "model_onehot.add(tf.keras.layers.Dense(10,activation='softmax'))"
   ]
  },
  {
   "cell_type": "code",
   "execution_count": 14,
   "id": "fallen-lincoln",
   "metadata": {
    "ExecuteTime": {
     "end_time": "2022-07-27T13:33:30.788779Z",
     "start_time": "2022-07-27T13:33:30.775568Z"
    }
   },
   "outputs": [
    {
     "name": "stdout",
     "output_type": "stream",
     "text": [
      "Model: \"sequential\"\n",
      "_________________________________________________________________\n",
      "Layer (type)                 Output Shape              Param #   \n",
      "=================================================================\n",
      "flatten (Flatten)            (None, 784)               0         \n",
      "_________________________________________________________________\n",
      "dense (Dense)                (None, 128)               100480    \n",
      "_________________________________________________________________\n",
      "dense_1 (Dense)              (None, 128)               16512     \n",
      "_________________________________________________________________\n",
      "dense_2 (Dense)              (None, 128)               16512     \n",
      "_________________________________________________________________\n",
      "dense_3 (Dense)              (None, 10)                1290      \n",
      "=================================================================\n",
      "Total params: 134,794\n",
      "Trainable params: 134,794\n",
      "Non-trainable params: 0\n",
      "_________________________________________________________________\n"
     ]
    }
   ],
   "source": [
    "model_onehot.summary()"
   ]
  },
  {
   "cell_type": "code",
   "execution_count": 15,
   "id": "introductory-trunk",
   "metadata": {
    "ExecuteTime": {
     "end_time": "2022-07-27T13:33:31.336775Z",
     "start_time": "2022-07-27T13:33:31.317825Z"
    }
   },
   "outputs": [],
   "source": [
    "model_onehot.compile(optimizer=tf.keras.optimizers.Adam(learning_rate=0.001),\n",
    "             loss='categorical_crossentropy',\n",
    "             metrics=['acc'])"
   ]
  },
  {
   "cell_type": "code",
   "execution_count": 16,
   "id": "common-bangkok",
   "metadata": {
    "ExecuteTime": {
     "end_time": "2022-07-27T13:34:05.262918Z",
     "start_time": "2022-07-27T13:33:32.397997Z"
    },
    "scrolled": true
   },
   "outputs": [
    {
     "name": "stdout",
     "output_type": "stream",
     "text": [
      "Epoch 1/10\n",
      "1867/1875 [============================>.] - ETA: 0s - loss: 0.4915 - acc: 0.8224- ETA: 0s - loss: 0.5186 -WARNING:tensorflow:Callbacks method `on_test_batch_end` is slow compared to the batch time (batch time: 0.0000s vs `on_test_batch_end` time: 0.0010s). Check your callbacks.\n",
      "1875/1875 [==============================] - 3s 2ms/step - loss: 0.4910 - acc: 0.8225 - val_loss: 0.4259 - val_acc: 0.8477\n",
      "Epoch 2/10\n",
      "1875/1875 [==============================] - 3s 1ms/step - loss: 0.3650 - acc: 0.8654 - val_loss: 0.3771 - val_acc: 0.8645\n",
      "Epoch 3/10\n",
      "1875/1875 [==============================] - 3s 2ms/step - loss: 0.3297 - acc: 0.8785 - val_loss: 0.3621 - val_acc: 0.8673\n",
      "Epoch 4/10\n",
      "1875/1875 [==============================] - 4s 2ms/step - loss: 0.3058 - acc: 0.8865 - val_loss: 0.3676 - val_acc: 0.8711\n",
      "Epoch 5/10\n",
      "1875/1875 [==============================] - 3s 2ms/step - loss: 0.2914 - acc: 0.8905 - val_loss: 0.3309 - val_acc: 0.8793\n",
      "Epoch 6/10\n",
      "1875/1875 [==============================] - 3s 2ms/step - loss: 0.2761 - acc: 0.8965 - val_loss: 0.3451 - val_acc: 0.8754\n",
      "Epoch 7/10\n",
      "1875/1875 [==============================] - 3s 2ms/step - loss: 0.2633 - acc: 0.9014 - val_loss: 0.3551 - val_acc: 0.8735\n",
      "Epoch 8/10\n",
      "1875/1875 [==============================] - 3s 2ms/step - loss: 0.2536 - acc: 0.9043 - val_loss: 0.3271 - val_acc: 0.8854\n",
      "Epoch 9/10\n",
      "1875/1875 [==============================] - 3s 2ms/step - loss: 0.2427 - acc: 0.9074 - val_loss: 0.3447 - val_acc: 0.8773\n",
      "Epoch 10/10\n",
      "1875/1875 [==============================] - 4s 2ms/step - loss: 0.2356 - acc: 0.9112 - val_loss: 0.3295 - val_acc: 0.8853\n"
     ]
    }
   ],
   "source": [
    "history = model_onehot.fit(train_image, train_label_onehot, \n",
    "                           epochs=10,\n",
    "                          validation_data=(test_image, test_label_onehot))"
   ]
  },
  {
   "cell_type": "code",
   "execution_count": 17,
   "id": "cordless-wells",
   "metadata": {
    "ExecuteTime": {
     "end_time": "2022-07-27T13:34:17.520742Z",
     "start_time": "2022-07-27T13:34:17.511687Z"
    }
   },
   "outputs": [
    {
     "data": {
      "text/plain": [
       "dict_keys(['loss', 'acc', 'val_loss', 'val_acc'])"
      ]
     },
     "execution_count": 17,
     "metadata": {},
     "output_type": "execute_result"
    }
   ],
   "source": [
    "history.history.keys()"
   ]
  },
  {
   "cell_type": "code",
   "execution_count": 18,
   "id": "saving-coach",
   "metadata": {
    "ExecuteTime": {
     "end_time": "2022-07-27T13:35:24.206372Z",
     "start_time": "2022-07-27T13:35:24.009217Z"
    }
   },
   "outputs": [
    {
     "data": {
      "text/plain": [
       "<matplotlib.legend.Legend at 0x2d28c00cfa0>"
      ]
     },
     "execution_count": 18,
     "metadata": {},
     "output_type": "execute_result"
    },
    {
     "data": {
      "image/png": "[encoded data removed]",
      "text/plain": [
       "<Figure size 432x288 with 1 Axes>"
      ]
     },
     "metadata": {
      "needs_background": "light"
     },
     "output_type": "display_data"
    }
   ],
   "source": [
    "plt.plot(history.epoch, history.history.get('loss'), label = 'loss')\n",
    "plt.plot(history.epoch, history.history.get('val_loss'), label = 'val_loss')\n",
    "plt.legend()"
   ]
  },
  {
   "cell_type": "code",
   "execution_count": 19,
   "id": "elementary-pottery",
   "metadata": {
    "ExecuteTime": {
     "end_time": "2022-07-27T13:36:28.418630Z",
     "start_time": "2022-07-27T13:36:28.231874Z"
    }
   },
   "outputs": [
    {
     "data": {
      "text/plain": [
       "<matplotlib.legend.Legend at 0x2d28c414610>"
      ]
     },
     "execution_count": 19,
     "metadata": {},
     "output_type": "execute_result"
    },
    {
     "data": {
      "image/png": "[encoded data removed]",
      "text/plain": [
       "<Figure size 432x288 with 1 Axes>"
      ]
     },
     "metadata": {
      "needs_background": "light"
     },
     "output_type": "display_data"
    }
   ],
   "source": [
    "plt.plot(history.epoch, history.history.get('acc'), label = 'acc')\n",
    "plt.plot(history.epoch, history.history.get('val_acc'), label = 'val_acc')\n",
    "plt.legend()"
   ]
  },
  {
   "cell_type": "code",
   "execution_count": null,
   "id": "opened-while",
   "metadata": {},
   "outputs": [],
   "source": []
  }
 ],
 "metadata": {
  "kernelspec": {
   "display_name": "Python 3",
   "language": "python",
   "name": "python3"
  },
  "language_info": {
   "codemirror_mode": {
    "name": "ipython",
    "version": 3
   },
   "file_extension": ".py",
   "mimetype": "text/x-python",
   "name": "python",
   "nbconvert_exporter": "python",
   "pygments_lexer": "ipython3",
   "version": "3.8.8"
  },
  "latex_envs": {
   "LaTeX_envs_menu_present": true,
   "autoclose": false,
   "autocomplete": true,
   "bibliofile": "biblio.bib",
   "cite_by": "apalike",
   "current_citInitial": 1,
   "eqLabelWithNumbers": true,
   "eqNumInitial": 1,
   "hotkeys": {
    "equation": "Ctrl-E",
    "itemize": "Ctrl-I"
   },
   "labels_anchors": false,
   "latex_user_defs": false,
   "report_style_numbering": false,
   "user_envs_cfg": false
  },
  "toc": {
   "base_numbering": 1,
   "nav_menu": {},
   "number_sections": true,
   "sideBar": true,
   "skip_h1_title": false,
   "title_cell": "Table of Contents",
   "title_sidebar": "Contents",
   "toc_cell": false,
   "toc_position": {},
   "toc_section_display": true,
   "toc_window_display": false
  },
  "varInspector": {
   "cols": {
    "lenName": 16,
    "lenType": 16,
    "lenVar": 40
   },
   "kernels_config": {
    "python": {
     "delete_cmd_postfix": "",
     "delete_cmd_prefix": "del ",
     "library": "var_list.py",
     "varRefreshCmd": "print(var_dic_list())"
    },
    "r": {
     "delete_cmd_postfix": ") ",
     "delete_cmd_prefix": "rm(",
     "library": "var_list.r",
     "varRefreshCmd": "cat(var_dic_list()) "
    }
   },
   "types_to_exclude": [
    "module",
    "function",
    "builtin_function_or_method",
    "instance",
    "_Feature"
   ],
   "window_display": false
  }
 },
 "nbformat": 4,
 "nbformat_minor": 5
}
