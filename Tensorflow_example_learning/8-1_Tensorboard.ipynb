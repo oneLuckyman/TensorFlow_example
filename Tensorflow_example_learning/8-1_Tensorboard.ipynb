{
 "cells": [
  {
   "cell_type": "code",
   "execution_count": 1,
   "id": "described-breath",
   "metadata": {
    "ExecuteTime": {
     "end_time": "2022-08-05T14:09:20.568926Z",
     "start_time": "2022-08-05T14:09:18.194440Z"
    }
   },
   "outputs": [],
   "source": [
    "import tensorflow as tf \n",
    "import datetime\n",
    "import os "
   ]
  },
  {
   "cell_type": "code",
   "execution_count": 2,
   "id": "weird-knife",
   "metadata": {
    "ExecuteTime": {
     "end_time": "2022-08-05T14:09:20.584139Z",
     "start_time": "2022-08-05T14:09:20.569799Z"
    }
   },
   "outputs": [
    {
     "data": {
      "text/plain": [
       "'2.3.0'"
      ]
     },
     "execution_count": 2,
     "metadata": {},
     "output_type": "execute_result"
    }
   ],
   "source": [
    "tf.__version__"
   ]
  },
  {
   "cell_type": "code",
   "execution_count": 3,
   "id": "egyptian-birmingham",
   "metadata": {
    "ExecuteTime": {
     "end_time": "2022-08-05T14:09:20.850103Z",
     "start_time": "2022-08-05T14:09:20.585686Z"
    }
   },
   "outputs": [],
   "source": [
    "(train_images, train_labels), (test_images, test_labels) = tf.keras.datasets.mnist.load_data()"
   ]
  },
  {
   "cell_type": "code",
   "execution_count": 4,
   "id": "alone-chess",
   "metadata": {
    "ExecuteTime": {
     "end_time": "2022-08-05T14:09:20.865727Z",
     "start_time": "2022-08-05T14:09:20.852036Z"
    }
   },
   "outputs": [],
   "source": [
    "train_images = tf.expand_dims(train_images, -1)"
   ]
  },
  {
   "cell_type": "code",
   "execution_count": 5,
   "id": "sophisticated-memorabilia",
   "metadata": {
    "ExecuteTime": {
     "end_time": "2022-08-05T14:09:20.880922Z",
     "start_time": "2022-08-05T14:09:20.866693Z"
    }
   },
   "outputs": [],
   "source": [
    "test_images = tf.expand_dims(test_images, -1)"
   ]
  },
  {
   "cell_type": "code",
   "execution_count": 6,
   "id": "improving-intensity",
   "metadata": {
    "ExecuteTime": {
     "end_time": "2022-08-05T14:09:21.004713Z",
     "start_time": "2022-08-05T14:09:20.882821Z"
    }
   },
   "outputs": [],
   "source": [
    "train_images = tf.cast(train_images/255, tf.float32)\n",
    "test_images = tf.cast(test_images/255, tf.float32)"
   ]
  },
  {
   "cell_type": "code",
   "execution_count": 7,
   "id": "virgin-producer",
   "metadata": {
    "ExecuteTime": {
     "end_time": "2022-08-05T14:09:21.019720Z",
     "start_time": "2022-08-05T14:09:21.006701Z"
    }
   },
   "outputs": [],
   "source": [
    "train_labels = tf.cast(train_labels, tf.int64)\n",
    "test_labels = tf.cast(test_labels, tf.int64)"
   ]
  },
  {
   "cell_type": "code",
   "execution_count": 8,
   "id": "productive-comment",
   "metadata": {
    "ExecuteTime": {
     "end_time": "2022-08-05T14:09:21.034843Z",
     "start_time": "2022-08-05T14:09:21.021711Z"
    }
   },
   "outputs": [],
   "source": [
    "dataset = tf.data.Dataset.from_tensor_slices((train_images, train_labels))"
   ]
  },
  {
   "cell_type": "code",
   "execution_count": 9,
   "id": "industrial-eclipse",
   "metadata": {
    "ExecuteTime": {
     "end_time": "2022-08-05T14:09:21.050838Z",
     "start_time": "2022-08-05T14:09:21.037802Z"
    }
   },
   "outputs": [],
   "source": [
    "test_dataset = tf.data.Dataset.from_tensor_slices((test_images, test_labels))"
   ]
  },
  {
   "cell_type": "code",
   "execution_count": 10,
   "id": "sized-harrison",
   "metadata": {
    "ExecuteTime": {
     "end_time": "2022-08-05T14:09:21.065720Z",
     "start_time": "2022-08-05T14:09:21.052864Z"
    }
   },
   "outputs": [
    {
     "data": {
      "text/plain": [
       "<TensorSliceDataset shapes: ((28, 28, 1), ()), types: (tf.float32, tf.int64)>"
      ]
     },
     "execution_count": 10,
     "metadata": {},
     "output_type": "execute_result"
    }
   ],
   "source": [
    "dataset"
   ]
  },
  {
   "cell_type": "code",
   "execution_count": 11,
   "id": "statutory-tsunami",
   "metadata": {
    "ExecuteTime": {
     "end_time": "2022-08-05T14:09:21.080488Z",
     "start_time": "2022-08-05T14:09:21.066749Z"
    }
   },
   "outputs": [],
   "source": [
    "dataset = dataset.repeat().shuffle(60000).batch(128)"
   ]
  },
  {
   "cell_type": "code",
   "execution_count": 12,
   "id": "fleet-running",
   "metadata": {
    "ExecuteTime": {
     "end_time": "2022-08-05T14:09:21.095747Z",
     "start_time": "2022-08-05T14:09:21.082493Z"
    }
   },
   "outputs": [],
   "source": [
    "test_dataset = test_dataset.repeat().batch(128)"
   ]
  },
  {
   "cell_type": "code",
   "execution_count": 13,
   "id": "whole-persian",
   "metadata": {
    "ExecuteTime": {
     "end_time": "2022-08-05T14:09:21.111449Z",
     "start_time": "2022-08-05T14:09:21.097473Z"
    }
   },
   "outputs": [
    {
     "data": {
      "text/plain": [
       "<BatchDataset shapes: ((None, 28, 28, 1), (None,)), types: (tf.float32, tf.int64)>"
      ]
     },
     "execution_count": 13,
     "metadata": {},
     "output_type": "execute_result"
    }
   ],
   "source": [
    "dataset"
   ]
  },
  {
   "cell_type": "code",
   "execution_count": 14,
   "id": "impaired-benefit",
   "metadata": {
    "ExecuteTime": {
     "end_time": "2022-08-05T14:09:21.158512Z",
     "start_time": "2022-08-05T14:09:21.112413Z"
    }
   },
   "outputs": [],
   "source": [
    "model = tf.keras.Sequential([\n",
    "    tf.keras.layers.Conv2D(16, [3,3], activation='relu', input_shape=(None, None, 1)),\n",
    "    tf.keras.layers.Conv2D(32, [3,3], activation='relu'),\n",
    "    tf.keras.layers.GlobalMaxPooling2D(),\n",
    "    tf.keras.layers.Dense(10, activation='softmax')    \n",
    "])"
   ]
  },
  {
   "cell_type": "code",
   "execution_count": 15,
   "id": "promising-distinction",
   "metadata": {
    "ExecuteTime": {
     "end_time": "2022-08-05T14:09:21.173746Z",
     "start_time": "2022-08-05T14:09:21.159431Z"
    }
   },
   "outputs": [],
   "source": [
    "model.compile(optimizer='adam',\n",
    "             loss='sparse_categorical_crossentropy',\n",
    "             metrics=['acc'])"
   ]
  },
  {
   "cell_type": "code",
   "execution_count": 16,
   "id": "yellow-force",
   "metadata": {
    "ExecuteTime": {
     "end_time": "2022-08-05T14:09:21.189461Z",
     "start_time": "2022-08-05T14:09:21.174887Z"
    }
   },
   "outputs": [],
   "source": [
    "log_dir = os.path.join('logs', datetime.datetime.now().strftime(\"%Y%m%d-%H%M%S\"))"
   ]
  },
  {
   "cell_type": "code",
   "execution_count": 17,
   "id": "controversial-abraham",
   "metadata": {
    "ExecuteTime": {
     "end_time": "2022-08-05T14:09:21.204970Z",
     "start_time": "2022-08-05T14:09:21.190544Z"
    }
   },
   "outputs": [],
   "source": [
    "tensorboard_callback = tf.keras.callbacks.TensorBoard(log_dir, histogram_freq=1)"
   ]
  },
  {
   "cell_type": "code",
   "execution_count": 18,
   "id": "flexible-saint",
   "metadata": {
    "ExecuteTime": {
     "end_time": "2022-08-05T14:11:37.958003Z",
     "start_time": "2022-08-05T14:09:21.205941Z"
    }
   },
   "outputs": [
    {
     "name": "stdout",
     "output_type": "stream",
     "text": [
      "Epoch 1/5\n",
      "  1/468 [..............................] - ETA: 0s - loss: 2.3047 - acc: 0.0938WARNING:tensorflow:From D:\\anaconda3\\lib\\site-packages\\tensorflow\\python\\ops\\summary_ops_v2.py:1277: stop (from tensorflow.python.eager.profiler) is deprecated and will be removed after 2020-07-01.\n",
      "Instructions for updating:\n",
      "use `tf.profiler.experimental.stop` instead.\n",
      "468/468 [==============================] - 28s 61ms/step - loss: 1.3457 - acc: 0.6078 - val_loss: 0.5968 - val_acc: 0.8293\n",
      "Epoch 2/5\n",
      "468/468 [==============================] - 24s 51ms/step - loss: 0.4901 - acc: 0.8514 - val_loss: 0.3888 - val_acc: 0.8851\n",
      "Epoch 3/5\n",
      "468/468 [==============================] - 25s 52ms/step - loss: 0.3717 - acc: 0.8855 - val_loss: 0.3239 - val_acc: 0.9014\n",
      "Epoch 4/5\n",
      "468/468 [==============================] - 28s 60ms/step - loss: 0.3242 - acc: 0.8998 - val_loss: 0.2958 - val_acc: 0.9075\n",
      "Epoch 5/5\n",
      "468/468 [==============================] - 31s 65ms/step - loss: 0.2902 - acc: 0.9077 - val_loss: 0.2621 - val_acc: 0.9171\n"
     ]
    },
    {
     "data": {
      "text/plain": [
       "<tensorflow.python.keras.callbacks.History at 0x1f8b0622ac0>"
      ]
     },
     "execution_count": 18,
     "metadata": {},
     "output_type": "execute_result"
    }
   ],
   "source": [
    "model.fit(dataset,\n",
    "         epochs=5,\n",
    "         steps_per_epoch=60000//128,\n",
    "         validation_data=test_dataset,\n",
    "         validation_steps=10000//128,\n",
    "         callbacks=[tensorboard_callback])"
   ]
  },
  {
   "cell_type": "code",
   "execution_count": null,
   "id": "outer-personality",
   "metadata": {},
   "outputs": [],
   "source": []
  }
 ],
 "metadata": {
  "kernelspec": {
   "display_name": "Python 3",
   "language": "python",
   "name": "python3"
  },
  "language_info": {
   "codemirror_mode": {
    "name": "ipython",
    "version": 3
   },
   "file_extension": ".py",
   "mimetype": "text/x-python",
   "name": "python",
   "nbconvert_exporter": "python",
   "pygments_lexer": "ipython3",
   "version": "3.8.8"
  },
  "latex_envs": {
   "LaTeX_envs_menu_present": true,
   "autoclose": false,
   "autocomplete": true,
   "bibliofile": "biblio.bib",
   "cite_by": "apalike",
   "current_citInitial": 1,
   "eqLabelWithNumbers": true,
   "eqNumInitial": 1,
   "hotkeys": {
    "equation": "Ctrl-E",
    "itemize": "Ctrl-I"
   },
   "labels_anchors": false,
   "latex_user_defs": false,
   "report_style_numbering": false,
   "user_envs_cfg": false
  },
  "toc": {
   "base_numbering": 1,
   "nav_menu": {},
   "number_sections": true,
   "sideBar": true,
   "skip_h1_title": false,
   "title_cell": "Table of Contents",
   "title_sidebar": "Contents",
   "toc_cell": false,
   "toc_position": {},
   "toc_section_display": true,
   "toc_window_display": false
  },
  "varInspector": {
   "cols": {
    "lenName": 16,
    "lenType": 16,
    "lenVar": 40
   },
   "kernels_config": {
    "python": {
     "delete_cmd_postfix": "",
     "delete_cmd_prefix": "del ",
     "library": "var_list.py",
     "varRefreshCmd": "print(var_dic_list())"
    },
    "r": {
     "delete_cmd_postfix": ") ",
     "delete_cmd_prefix": "rm(",
     "library": "var_list.r",
     "varRefreshCmd": "cat(var_dic_list()) "
    }
   },
   "types_to_exclude": [
    "module",
    "function",
    "builtin_function_or_method",
    "instance",
    "_Feature"
   ],
   "window_display": false
  }
 },
 "nbformat": 4,
 "nbformat_minor": 5
}
