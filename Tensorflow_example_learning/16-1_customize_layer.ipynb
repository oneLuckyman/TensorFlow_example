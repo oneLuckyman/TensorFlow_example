{
 "cells": [
  {
   "cell_type": "code",
   "execution_count": 1,
   "id": "modular-privilege",
   "metadata": {
    "ExecuteTime": {
     "end_time": "2022-08-22T14:18:13.925419Z",
     "start_time": "2022-08-22T14:18:11.826707Z"
    }
   },
   "outputs": [],
   "source": [
    "import tensorflow as tf \n",
    "from tensorflow import keras"
   ]
  },
  {
   "cell_type": "code",
   "execution_count": 2,
   "id": "transsexual-honduras",
   "metadata": {
    "ExecuteTime": {
     "end_time": "2022-08-22T14:18:13.941378Z",
     "start_time": "2022-08-22T14:18:13.927415Z"
    }
   },
   "outputs": [
    {
     "data": {
      "text/plain": [
       "'2.3.0'"
      ]
     },
     "execution_count": 2,
     "metadata": {},
     "output_type": "execute_result"
    }
   ],
   "source": [
    "tf.__version__"
   ]
  },
  {
   "cell_type": "markdown",
   "id": "happy-torture",
   "metadata": {},
   "source": [
    "# 创建一个自定义的全连接层"
   ]
  },
  {
   "cell_type": "code",
   "execution_count": 3,
   "id": "danish-bunch",
   "metadata": {
    "ExecuteTime": {
     "end_time": "2022-08-22T14:18:13.957335Z",
     "start_time": "2022-08-22T14:18:13.943371Z"
    }
   },
   "outputs": [],
   "source": [
    "class Linear(keras.layers.Layer):\n",
    "    def __init__(self, units, input_dim):\n",
    "        super(Linear, self).__init__()\n",
    "        weight_init = tf.random_normal_initializer()\n",
    "        self._weights = tf.Variable(weight_init(shape=(input_dim, units), dtype='float32'),\n",
    "                                  trainable=True)\n",
    "        bias_init = tf.zeros_initializer()\n",
    "        self._bias = tf.Variable(bias_init(shape=(units,), dtype='float32'),\n",
    "                               trainable=True)\n",
    "    \n",
    "    def call(self, inputs):\n",
    "        return tf.matmul(inputs, self._weights) + self._bias"
   ]
  },
  {
   "cell_type": "code",
   "execution_count": 4,
   "id": "imported-response",
   "metadata": {
    "ExecuteTime": {
     "end_time": "2022-08-22T14:18:13.988259Z",
     "start_time": "2022-08-22T14:18:13.959329Z"
    }
   },
   "outputs": [],
   "source": [
    "my_layer = Linear(4, 2)"
   ]
  },
  {
   "cell_type": "code",
   "execution_count": 5,
   "id": "reliable-graphics",
   "metadata": {
    "ExecuteTime": {
     "end_time": "2022-08-22T14:18:14.003211Z",
     "start_time": "2022-08-22T14:18:13.991243Z"
    }
   },
   "outputs": [],
   "source": [
    "x = tf.ones((2,2))"
   ]
  },
  {
   "cell_type": "code",
   "execution_count": 6,
   "id": "lovely-diabetes",
   "metadata": {
    "ExecuteTime": {
     "end_time": "2022-08-22T14:18:14.035127Z",
     "start_time": "2022-08-22T14:18:14.006205Z"
    }
   },
   "outputs": [],
   "source": [
    "y = my_layer(x)"
   ]
  },
  {
   "cell_type": "code",
   "execution_count": 7,
   "id": "flexible-poland",
   "metadata": {
    "ExecuteTime": {
     "end_time": "2022-08-22T14:18:14.050086Z",
     "start_time": "2022-08-22T14:18:14.036123Z"
    }
   },
   "outputs": [
    {
     "data": {
      "text/plain": [
       "<tf.Tensor: shape=(2, 4), dtype=float32, numpy=\n",
       "array([[-0.02197357, -0.04139298,  0.1298405 ,  0.04489131],\n",
       "       [-0.02197357, -0.04139298,  0.1298405 ,  0.04489131]],\n",
       "      dtype=float32)>"
      ]
     },
     "execution_count": 7,
     "metadata": {},
     "output_type": "execute_result"
    }
   ],
   "source": [
    "y"
   ]
  },
  {
   "cell_type": "code",
   "execution_count": null,
   "id": "brutal-sunday",
   "metadata": {},
   "outputs": [],
   "source": []
  }
 ],
 "metadata": {
  "kernelspec": {
   "display_name": "Python 3",
   "language": "python",
   "name": "python3"
  },
  "language_info": {
   "codemirror_mode": {
    "name": "ipython",
    "version": 3
   },
   "file_extension": ".py",
   "mimetype": "text/x-python",
   "name": "python",
   "nbconvert_exporter": "python",
   "pygments_lexer": "ipython3",
   "version": "3.8.8"
  },
  "latex_envs": {
   "LaTeX_envs_menu_present": true,
   "autoclose": false,
   "autocomplete": true,
   "bibliofile": "biblio.bib",
   "cite_by": "apalike",
   "current_citInitial": 1,
   "eqLabelWithNumbers": true,
   "eqNumInitial": 1,
   "hotkeys": {
    "equation": "Ctrl-E",
    "itemize": "Ctrl-I"
   },
   "labels_anchors": false,
   "latex_user_defs": false,
   "report_style_numbering": false,
   "user_envs_cfg": false
  },
  "toc": {
   "base_numbering": 1,
   "nav_menu": {},
   "number_sections": true,
   "sideBar": true,
   "skip_h1_title": false,
   "title_cell": "Table of Contents",
   "title_sidebar": "Contents",
   "toc_cell": false,
   "toc_position": {},
   "toc_section_display": true,
   "toc_window_display": false
  },
  "varInspector": {
   "cols": {
    "lenName": 16,
    "lenType": 16,
    "lenVar": 40
   },
   "kernels_config": {
    "python": {
     "delete_cmd_postfix": "",
     "delete_cmd_prefix": "del ",
     "library": "var_list.py",
     "varRefreshCmd": "print(var_dic_list())"
    },
    "r": {
     "delete_cmd_postfix": ") ",
     "delete_cmd_prefix": "rm(",
     "library": "var_list.r",
     "varRefreshCmd": "cat(var_dic_list()) "
    }
   },
   "types_to_exclude": [
    "module",
    "function",
    "builtin_function_or_method",
    "instance",
    "_Feature"
   ],
   "window_display": false
  }
 },
 "nbformat": 4,
 "nbformat_minor": 5
}
